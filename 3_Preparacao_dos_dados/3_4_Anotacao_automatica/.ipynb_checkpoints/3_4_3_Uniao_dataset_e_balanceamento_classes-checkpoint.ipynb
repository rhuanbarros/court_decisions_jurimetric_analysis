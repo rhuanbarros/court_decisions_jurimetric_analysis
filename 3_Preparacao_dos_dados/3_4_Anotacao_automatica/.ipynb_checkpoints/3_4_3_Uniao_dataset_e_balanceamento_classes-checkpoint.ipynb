{
 "cells": [
  {
   "cell_type": "markdown",
   "id": "caabdddd",
   "metadata": {},
   "source": [
    "## Uniao dos datasets criados nos experimentos 1 e 2"
   ]
  },
  {
   "cell_type": "code",
   "execution_count": null,
   "id": "b80f97dc",
   "metadata": {
    "scrolled": true
   },
   "outputs": [],
   "source": [
    "import pandas as pd\n",
    "\n",
    "arquivo = \".//3_4_1_Experimento_1//df_weak_supervision.csv\"\n",
    "df_exp_1 = pd.read_csv( arquivo, encoding='utf-8' )\n",
    "df_exp_1.info()"
   ]
  },
  {
   "cell_type": "code",
   "execution_count": null,
   "id": "feca7491",
   "metadata": {},
   "outputs": [],
   "source": [
    "df_exp_1[\"LABEL_WEAK\"].value_counts()"
   ]
  },
  {
   "cell_type": "code",
   "execution_count": null,
   "id": "1b642784",
   "metadata": {
    "scrolled": false
   },
   "outputs": [],
   "source": [
    "arquivo = \".//3_4_2_Experimento_2//df_weak_supervision_SEM_ANALISE_MERITO_apenas.csv\"\n",
    "df_exp_2 = pd.read_csv( arquivo, encoding='utf-8' )\n",
    "df_exp_2.info()"
   ]
  },
  {
   "cell_type": "code",
   "execution_count": null,
   "id": "e85bf1da",
   "metadata": {},
   "outputs": [],
   "source": [
    "df_exp_2[\"LABEL_WEAK\"].value_counts()"
   ]
  },
  {
   "cell_type": "markdown",
   "id": "4fea6ad4",
   "metadata": {},
   "source": [
    "## Balanceamento de classes por meio de under-sampling prototype selection"
   ]
  },
  {
   "cell_type": "code",
   "execution_count": null,
   "id": "bda45203",
   "metadata": {},
   "outputs": [],
   "source": [
    "INDEFERIMENTO = 0\n",
    "DEFERIMENTO = 1\n",
    "SEM_ANALISE_MERITO = 2"
   ]
  },
  {
   "cell_type": "code",
   "execution_count": null,
   "id": "8467a55b",
   "metadata": {
    "scrolled": true
   },
   "outputs": [],
   "source": [
    "df_tudo = df_exp_1.loc[ df_exp_1.LABEL_WEAK == INDEFERIMENTO, ].sample(512).copy()\n",
    "df_tudo = df_tudo.append(df_exp_1.loc[ df_exp_1.LABEL_WEAK == DEFERIMENTO, ].sample(512).copy())\n",
    "df_tudo = df_tudo.append(df_exp_2)\n",
    "df_tudo.info()"
   ]
  },
  {
   "cell_type": "code",
   "execution_count": null,
   "id": "3a607c68",
   "metadata": {},
   "outputs": [],
   "source": [
    "df_tudo[\"LABEL_WEAK\"].value_counts()"
   ]
  },
  {
   "cell_type": "code",
   "execution_count": null,
   "id": "19ba90b6",
   "metadata": {},
   "outputs": [],
   "source": [
    "df_tudo.to_csv( \"df_weak_supervision_balanceado_undersampling.csv\", encoding='utf-8', index=False )"
   ]
  }
 ],
 "metadata": {
  "kernelspec": {
   "display_name": "Python 3",
   "language": "python",
   "name": "python3"
  },
  "language_info": {
   "codemirror_mode": {
    "name": "ipython",
    "version": 3
   },
   "file_extension": ".py",
   "mimetype": "text/x-python",
   "name": "python",
   "nbconvert_exporter": "python",
   "pygments_lexer": "ipython3",
   "version": "3.6.13"
  }
 },
 "nbformat": 4,
 "nbformat_minor": 5
}
