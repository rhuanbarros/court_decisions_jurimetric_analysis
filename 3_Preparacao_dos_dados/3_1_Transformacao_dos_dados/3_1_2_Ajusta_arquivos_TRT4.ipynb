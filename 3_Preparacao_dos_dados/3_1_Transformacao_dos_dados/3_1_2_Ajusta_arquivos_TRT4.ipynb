{
 "metadata": {
  "language_info": {
   "codemirror_mode": {
    "name": "ipython",
    "version": 3
   },
   "file_extension": ".py",
   "mimetype": "text/x-python",
   "name": "python",
   "nbconvert_exporter": "python",
   "pygments_lexer": "ipython3",
   "version": "3.8.5"
  },
  "orig_nbformat": 2,
  "kernelspec": {
   "name": "python385jvsc74a57bd0e746eafcc9c3755c618fd70b7289e2c77c6dfaa86036ed9f41128bb78d1ac1c4",
   "display_name": "Python 3.8.5 64-bit (conda)"
  }
 },
 "nbformat": 4,
 "nbformat_minor": 2,
 "cells": [
  {
   "cell_type": "code",
   "execution_count": 1,
   "metadata": {},
   "outputs": [],
   "source": [
    "import pandas as pd\n",
    "import time"
   ]
  },
  {
   "cell_type": "code",
   "execution_count": 2,
   "metadata": {},
   "outputs": [
    {
     "output_type": "stream",
     "name": "stdout",
     "text": [
      "<class 'pandas.core.frame.DataFrame'>\nRangeIndex: 12071 entries, 0 to 12070\nData columns (total 8 columns):\n #   Column           Non-Null Count  Dtype  \n---  ------           --------------  -----  \n 0   LINK             12071 non-null  object \n 1   INTEIRO_TEOR     12071 non-null  object \n 2   DATA             12071 non-null  object \n 3   RELATOR          12071 non-null  object \n 4   ORGAO            12071 non-null  object \n 5   RECORRENTE       12071 non-null  object \n 6   DISPOSITIVO      12071 non-null  object \n 7   QTD_RECORRENTES  12071 non-null  float64\ndtypes: float64(1), object(7)\nmemory usage: 754.6+ KB\nNone\n"
     ]
    }
   ],
   "source": [
    "df1 = pd.read_csv( \".\\\\Datasets_transformados\\\\TRT4\\\\TRT4_inteiro_teor_2017_2018_2019_amostra_transf.csv\", encoding='utf-8' )\n",
    "print( df1.info() )"
   ]
  },
  {
   "cell_type": "code",
   "execution_count": 3,
   "metadata": {},
   "outputs": [
    {
     "output_type": "stream",
     "name": "stdout",
     "text": [
      "<class 'pandas.core.frame.DataFrame'>\nRangeIndex: 12071 entries, 0 to 12070\nData columns (total 8 columns):\n #   Column           Non-Null Count  Dtype  \n---  ------           --------------  -----  \n 0   LINK             12071 non-null  object \n 1   INTEIRO_TEOR     12071 non-null  object \n 2   DATA             12071 non-null  object \n 3   RELATOR          12071 non-null  object \n 4   ORGAO            12071 non-null  object \n 5   RECORRENTE       12071 non-null  object \n 6   DISPOSITIVO      12071 non-null  object \n 7   QTD_RECORRENTES  12071 non-null  float64\ndtypes: float64(1), object(7)\nmemory usage: 754.6+ KB\n"
     ]
    }
   ],
   "source": [
    "df_tudo = df1\n",
    "df_tudo.info()"
   ]
  },
  {
   "cell_type": "code",
   "execution_count": 4,
   "metadata": {},
   "outputs": [],
   "source": [
    "#salvei este arquivo apenas para ter uma versao consolidada COM O ÍNDICE. Assim durante a fase de anotação, se for necessário acessar a integra de uma decisão, isso é possível utilizando o índice.\n",
    "df_tudo.to_csv( \".\\\\Datasets_transformados_final\\\\TRT4\\\\TRT4_acordaos_amostra_2017_2018_2019_completo_com_indice.csv\", encoding='utf-8' )"
   ]
  },
  {
   "cell_type": "code",
   "execution_count": 5,
   "metadata": {},
   "outputs": [
    {
     "output_type": "stream",
     "name": "stdout",
     "text": [
      "<class 'pandas.core.frame.DataFrame'>\nRangeIndex: 12071 entries, 0 to 12070\nData columns (total 9 columns):\n #   Column           Non-Null Count  Dtype  \n---  ------           --------------  -----  \n 0   Unnamed: 0       12071 non-null  int64  \n 1   LINK             12071 non-null  object \n 2   INTEIRO_TEOR     12071 non-null  object \n 3   DATA             12071 non-null  object \n 4   RELATOR          12071 non-null  object \n 5   ORGAO            12071 non-null  object \n 6   RECORRENTE       12071 non-null  object \n 7   DISPOSITIVO      12071 non-null  object \n 8   QTD_RECORRENTES  12071 non-null  float64\ndtypes: float64(1), int64(1), object(7)\nmemory usage: 848.9+ KB\nNone\n"
     ]
    }
   ],
   "source": [
    "#eu reabro o arquivo com indice para eu poder salvar o arquivo para anotação com o indice, conforme explicado na celula anterior.\n",
    "df_com_indice = pd.read_csv( \".\\\\Datasets_transformados_final\\\\TRT4\\\\TRT4_acordaos_amostra_2017_2108_2019_completo_com_indice.csv\", encoding='utf-8' )\n",
    "print( df_com_indice.info() )"
   ]
  },
  {
   "cell_type": "code",
   "execution_count": 6,
   "metadata": {},
   "outputs": [
    {
     "output_type": "stream",
     "name": "stdout",
     "text": [
      "<class 'pandas.core.frame.DataFrame'>\nRangeIndex: 12071 entries, 0 to 12070\nData columns (total 9 columns):\n #   Column           Non-Null Count  Dtype  \n---  ------           --------------  -----  \n 0   INDICE           12071 non-null  int64  \n 1   LINK             12071 non-null  object \n 2   INTEIRO_TEOR     12071 non-null  object \n 3   DATA             12071 non-null  object \n 4   RELATOR          12071 non-null  object \n 5   ORGAO            12071 non-null  object \n 6   RECORRENTE       12071 non-null  object \n 7   DISPOSITIVO      12071 non-null  object \n 8   QTD_RECORRENTES  12071 non-null  float64\ndtypes: float64(1), int64(1), object(7)\nmemory usage: 848.9+ KB\n"
     ]
    }
   ],
   "source": [
    "df_com_indice = df_com_indice.rename(columns={'Unnamed: 0': 'INDICE'})\n",
    "df_com_indice.info()"
   ]
  },
  {
   "cell_type": "code",
   "execution_count": 7,
   "metadata": {},
   "outputs": [
    {
     "output_type": "stream",
     "name": "stdout",
     "text": [
      "<class 'pandas.core.frame.DataFrame'>\nRangeIndex: 12071 entries, 0 to 12070\nData columns (total 2 columns):\n #   Column       Non-Null Count  Dtype \n---  ------       --------------  ----- \n 0   INDICE       12071 non-null  int64 \n 1   DISPOSITIVO  12071 non-null  object\ndtypes: int64(1), object(1)\nmemory usage: 188.7+ KB\n"
     ]
    }
   ],
   "source": [
    "df_com_indice = df_com_indice.drop(['LINK', 'INTEIRO_TEOR', 'DATA', 'RELATOR', 'ORGAO', 'RECORRENTE', 'QTD_RECORRENTES' ], axis=1)\n",
    "df_com_indice.info()"
   ]
  },
  {
   "cell_type": "code",
   "execution_count": 8,
   "metadata": {},
   "outputs": [],
   "source": [
    "df_com_indice.to_csv( \".\\\\Datasets_transformados_final\\\\TRT4_acordaos_2017_2108_2019_com_indice_para_anotacao.csv\", encoding='utf-8', index=False )"
   ]
  },
  {
   "source": [
    "## Extração da amostra para anotação"
   ],
   "cell_type": "markdown",
   "metadata": {}
  },
  {
   "cell_type": "code",
   "execution_count": 9,
   "metadata": {},
   "outputs": [
    {
     "output_type": "stream",
     "name": "stdout",
     "text": [
      "<class 'pandas.core.frame.DataFrame'>\nRangeIndex: 12071 entries, 0 to 12070\nData columns (total 2 columns):\n #   Column       Non-Null Count  Dtype \n---  ------       --------------  ----- \n 0   INDICE       12071 non-null  int64 \n 1   DISPOSITIVO  12071 non-null  object\ndtypes: int64(1), object(1)\nmemory usage: 188.7+ KB\nNone\n"
     ]
    }
   ],
   "source": [
    "df = pd.read_csv( \".\\\\Datasets_transformados_final\\\\TRT4_acordaos_2017_2108_2019_com_indice_para_anotacao.csv\", encoding='utf-8' )\n",
    "print( df.info() )"
   ]
  },
  {
   "cell_type": "code",
   "execution_count": 10,
   "metadata": {},
   "outputs": [
    {
     "output_type": "stream",
     "name": "stdout",
     "text": [
      "<class 'pandas.core.frame.DataFrame'>\nInt64Index: 12071 entries, 10769 to 235\nData columns (total 2 columns):\n #   Column       Non-Null Count  Dtype \n---  ------       --------------  ----- \n 0   INDICE       12071 non-null  int64 \n 1   DISPOSITIVO  12071 non-null  object\ndtypes: int64(1), object(1)\nmemory usage: 282.9+ KB\n"
     ]
    }
   ],
   "source": [
    "df_anotacao = df.sample(frac=1, random_state=1)\n",
    "df_anotacao.info()"
   ]
  },
  {
   "cell_type": "code",
   "execution_count": 11,
   "metadata": {},
   "outputs": [
    {
     "output_type": "execute_result",
     "data": {
      "text/plain": [
       "       INDICE                                        DISPOSITIVO\n",
       "10769   10769  Vistos, relatados e discutidos os autos.  ACOR...\n",
       "7929     7929  Vistos, relatados e discutidos os autos.  ACOR...\n",
       "135       135  Vistos, relatados e discutidos os autos.  ACOR...\n",
       "7996     7996  Vistos, relatados e discutidos os autos.  ACOR...\n",
       "6691     6691  Vistos, relatados e discutidos os autos.  ACOR...\n",
       "...       ...                                                ...\n",
       "7813     7813  Vistos, relatados e discutidos os autos.  ACOR...\n",
       "10955   10955  Vistos, relatados e discutidos os autos.  ACOR...\n",
       "905       905  Vistos, relatados e discutidos os autos.  ACOR...\n",
       "5192     5192  Vistos, relatados e discutidos os autos.  ACOR...\n",
       "235       235  Vistos, relatados e discutidos os autos.  ACOR...\n",
       "\n",
       "[12071 rows x 2 columns]"
      ],
      "text/html": "<div>\n<style scoped>\n    .dataframe tbody tr th:only-of-type {\n        vertical-align: middle;\n    }\n\n    .dataframe tbody tr th {\n        vertical-align: top;\n    }\n\n    .dataframe thead th {\n        text-align: right;\n    }\n</style>\n<table border=\"1\" class=\"dataframe\">\n  <thead>\n    <tr style=\"text-align: right;\">\n      <th></th>\n      <th>INDICE</th>\n      <th>DISPOSITIVO</th>\n    </tr>\n  </thead>\n  <tbody>\n    <tr>\n      <th>10769</th>\n      <td>10769</td>\n      <td>Vistos, relatados e discutidos os autos.  ACOR...</td>\n    </tr>\n    <tr>\n      <th>7929</th>\n      <td>7929</td>\n      <td>Vistos, relatados e discutidos os autos.  ACOR...</td>\n    </tr>\n    <tr>\n      <th>135</th>\n      <td>135</td>\n      <td>Vistos, relatados e discutidos os autos.  ACOR...</td>\n    </tr>\n    <tr>\n      <th>7996</th>\n      <td>7996</td>\n      <td>Vistos, relatados e discutidos os autos.  ACOR...</td>\n    </tr>\n    <tr>\n      <th>6691</th>\n      <td>6691</td>\n      <td>Vistos, relatados e discutidos os autos.  ACOR...</td>\n    </tr>\n    <tr>\n      <th>...</th>\n      <td>...</td>\n      <td>...</td>\n    </tr>\n    <tr>\n      <th>7813</th>\n      <td>7813</td>\n      <td>Vistos, relatados e discutidos os autos.  ACOR...</td>\n    </tr>\n    <tr>\n      <th>10955</th>\n      <td>10955</td>\n      <td>Vistos, relatados e discutidos os autos.  ACOR...</td>\n    </tr>\n    <tr>\n      <th>905</th>\n      <td>905</td>\n      <td>Vistos, relatados e discutidos os autos.  ACOR...</td>\n    </tr>\n    <tr>\n      <th>5192</th>\n      <td>5192</td>\n      <td>Vistos, relatados e discutidos os autos.  ACOR...</td>\n    </tr>\n    <tr>\n      <th>235</th>\n      <td>235</td>\n      <td>Vistos, relatados e discutidos os autos.  ACOR...</td>\n    </tr>\n  </tbody>\n</table>\n<p>12071 rows × 2 columns</p>\n</div>"
     },
     "metadata": {},
     "execution_count": 11
    }
   ],
   "source": [
    "df_anotacao"
   ]
  },
  {
   "cell_type": "code",
   "execution_count": 12,
   "metadata": {},
   "outputs": [],
   "source": [
    "df_anotacao[0:500].to_csv( \".\\\\Datasets_transformados_final\\\\TRT4_amostra_500_ordem_aleatoria_para_anotacao.csv\", encoding='utf-8', index=False )"
   ]
  },
  {
   "cell_type": "code",
   "execution_count": null,
   "metadata": {},
   "outputs": [],
   "source": []
  }
 ]
}