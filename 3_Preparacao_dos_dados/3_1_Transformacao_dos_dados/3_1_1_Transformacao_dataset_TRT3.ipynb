{
 "cells": [
  {
   "cell_type": "markdown",
   "metadata": {},
   "source": [
    "# Realiza a transformação do dataset\n",
    "Extrai os seguintes dados 'data', 'relator', 'orgao', 'recorrente', 'dispositivo', 'qtd_recorrentes'"
   ]
  },
  {
   "cell_type": "markdown",
   "metadata": {
    "pycharm": {
     "name": "#%% md\n"
    }
   },
   "source": [
    "## Importação de bibliotecas básicas"
   ]
  },
  {
   "cell_type": "code",
   "execution_count": 14,
   "metadata": {
    "pycharm": {
     "is_executing": false,
     "name": "#%%\n"
    }
   },
   "outputs": [],
   "source": [
    "import pandas as pd\n",
    "import time"
   ]
  },
  {
   "cell_type": "markdown",
   "metadata": {},
   "source": [
    "## Carregamento do dataset"
   ]
  },
  {
   "cell_type": "code",
   "execution_count": 15,
   "metadata": {
    "pycharm": {
     "is_executing": false,
     "name": "#%%\n"
    },
    "scrolled": true
   },
   "outputs": [
    {
     "name": "stdout",
     "output_type": "stream",
     "text": [
      "<class 'pandas.core.frame.DataFrame'>\n",
      "RangeIndex: 8787 entries, 0 to 8786\n",
      "Data columns (total 1 columns):\n",
      "INTEIRO_TEOR    8786 non-null object\n",
      "dtypes: object(1)\n",
      "memory usage: 68.8+ KB\n",
      "None\n"
     ]
    }
   ],
   "source": [
    "pasta = \"E:\\\\OneDrive\\\\Documentos\\\\pesquisa_codigos_2020\\\\pesquisa_jurimetria_polaridade_final\\\\2_Compreensao_dos_dados\\\\2_1_coleta_de_dados\\\\Datasets_coletados\\\\TRT3\\\\\"\n",
    "arquivo = \"TRT3_inteiro_teor_2017_2018_2019_amostra_2.csv\"\n",
    "df = pd.read_csv( pasta+arquivo, encoding='utf-8' )\n",
    "print( df.info() )"
   ]
  },
  {
   "cell_type": "code",
   "execution_count": 16,
   "metadata": {
    "scrolled": true
   },
   "outputs": [],
   "source": [
    "#df = df.drop( \"_type\", 1)\n",
    "#df.columns = [ \"LINK\", \"INTEIRO_TEOR\" ]\n",
    "#df.info()"
   ]
  },
  {
   "cell_type": "code",
   "execution_count": 17,
   "metadata": {},
   "outputs": [
    {
     "data": {
      "text/html": [
       "<div>\n",
       "<style scoped>\n",
       "    .dataframe tbody tr th:only-of-type {\n",
       "        vertical-align: middle;\n",
       "    }\n",
       "\n",
       "    .dataframe tbody tr th {\n",
       "        vertical-align: top;\n",
       "    }\n",
       "\n",
       "    .dataframe thead th {\n",
       "        text-align: right;\n",
       "    }\n",
       "</style>\n",
       "<table border=\"1\" class=\"dataframe\">\n",
       "  <thead>\n",
       "    <tr style=\"text-align: right;\">\n",
       "      <th></th>\n",
       "      <th>INTEIRO_TEOR</th>\n",
       "    </tr>\n",
       "  </thead>\n",
       "  <tbody>\n",
       "    <tr>\n",
       "      <th>0</th>\n",
       "      <td>PJe:  0010502-26.2018.5.03.0012 (RO)    Dispon...</td>\n",
       "    </tr>\n",
       "    <tr>\n",
       "      <th>1</th>\n",
       "      <td>PJe:  0057800-17.2007.5.03.0071 (AP)    Dispon...</td>\n",
       "    </tr>\n",
       "    <tr>\n",
       "      <th>2</th>\n",
       "      <td>PJe:  0011246-83.2017.5.03.0035 (AP)    Dispon...</td>\n",
       "    </tr>\n",
       "    <tr>\n",
       "      <th>3</th>\n",
       "      <td>PJe:  0001927-54.2012.5.03.0104 (AP)    Dispon...</td>\n",
       "    </tr>\n",
       "    <tr>\n",
       "      <th>4</th>\n",
       "      <td>PJe:  0011536-13.2016.5.03.0010 (RO)    Dispon...</td>\n",
       "    </tr>\n",
       "  </tbody>\n",
       "</table>\n",
       "</div>"
      ],
      "text/plain": [
       "                                        INTEIRO_TEOR\n",
       "0  PJe:  0010502-26.2018.5.03.0012 (RO)    Dispon...\n",
       "1  PJe:  0057800-17.2007.5.03.0071 (AP)    Dispon...\n",
       "2  PJe:  0011246-83.2017.5.03.0035 (AP)    Dispon...\n",
       "3  PJe:  0001927-54.2012.5.03.0104 (AP)    Dispon...\n",
       "4  PJe:  0011536-13.2016.5.03.0010 (RO)    Dispon..."
      ]
     },
     "execution_count": 17,
     "metadata": {},
     "output_type": "execute_result"
    }
   ],
   "source": [
    "df.head()"
   ]
  },
  {
   "cell_type": "markdown",
   "metadata": {
    "pycharm": {
     "name": "#%% md\n"
    }
   },
   "source": [
    "## Definição de funções para extrair os dados"
   ]
  },
  {
   "cell_type": "code",
   "execution_count": 18,
   "metadata": {
    "pycharm": {
     "is_executing": false,
     "name": "#%%\n"
    }
   },
   "outputs": [],
   "source": [
    "import re\n",
    "\n",
    "def extrai_data( texto ):\n",
    "    try:\n",
    "        result = re.search( r\"(\\d{1,2}\\/\\d{1,2}\\/(\\d{4}|\\d{2}))\", str( texto ) )\n",
    "        return result[1]\n",
    "    except:\n",
    "        return pd.np.nan\n",
    "\n",
    "def extrai_relator( texto ):\n",
    "    try:\n",
    "        regex1 = r\"relator:|redator:\"\n",
    "        achou = re.search(regex1, texto.lower() )\n",
    "        inicio = achou.end()\n",
    "\n",
    "        regex2 = r\"ementa|órgão|poder\"\n",
    "        achou = re.search(regex2, texto[inicio:].lower())\n",
    "        fim = achou.start()\n",
    "        return texto[inicio:inicio+fim].strip()\n",
    "    except:\n",
    "        return pd.np.nan\n",
    "\n",
    "def extrai_orgao( texto ):\n",
    "    try:\n",
    "        regex1 = r\"órgão julgador:|órgão julgador:\"\n",
    "        achou = re.search( regex1, texto.lower() )\n",
    "        inicio = achou.end()\n",
    "\n",
    "        regex2 = r\"data:|relator|redator\"\n",
    "        achou = re.search( regex2, texto[inicio:].lower() )\n",
    "        fim = achou.start()\n",
    "\n",
    "        orgao = texto[inicio:inicio+fim].strip()\n",
    "        return orgao\n",
    "    except:\n",
    "        return pd.np.nan\n",
    "    \n",
    "def extrai_recorrente(texto):\n",
    "    try:\n",
    "        regex1 = r\"recorrentes:|recorrente:|agravante:|agravantes:|embargante:|embargantes:\"\n",
    "        achou = re.search( regex1, texto.lower() )\n",
    "        inicio = achou.end()\n",
    "\n",
    "        #regex2 = r\"recorridos:|recorrido:|agravado:|agravados:|agravada:|agravadas:|recorridas:|recorrida:|representante:|terceiro interessado:|relator:|redator:\"\n",
    "        regex2 = r\"recorridos|recorrido|agravado|agravados|agravada|agravadas|recorridas|recorrida|representante|terceiro interessado|relator|redator|embargado|embargados\"\n",
    "        achou = re.search( regex2, texto[inicio:].lower() )\n",
    "        fim = achou.start()\n",
    "\n",
    "        recorrente = texto[inicio:inicio+fim].strip()\n",
    "        return recorrente\n",
    "    except:\n",
    "        return pd.np.nan\n",
    "\n",
    "def extrai_dispositivo(texto):\n",
    "    try:\n",
    "        regex1 = r\"ACORDAM|ACÓRDÃO|ACORDAO\"\n",
    "        achou = re.search( regex1, texto ) #Sem o .lower() pq ta sempre em maiúsculo\n",
    "        \n",
    "        if achou == None: #se nao achar, maiúsculo, tenta minúsculo\n",
    "            regex1 = r\"acordam|acórdão|acordao|fundamentos pelos quais\"\n",
    "            achou = re.search( regex1, texto.lower() )        \n",
    "        \n",
    "        inicio = achou.end()\n",
    "\n",
    "        regex2 = r\"fundamentos pelos quais\"\n",
    "        achou = re.search( regex2, texto[inicio:].lower() )\n",
    "        if achou != None:  #se ja achou o inicio, e achou outra palavra fundamentos, vai ate o final\n",
    "            return texto[inicio:].strip()\n",
    "        \n",
    "        regex2 = r\"relatório|fundamentos\"\n",
    "        achou = re.search( regex2, texto[inicio:].lower() )\n",
    "        if achou != None:\n",
    "            fim = achou.start()\n",
    "            return texto[inicio:inicio+fim].strip()\n",
    "        else:\n",
    "            return texto[inicio:].strip()\n",
    "    except:\n",
    "        return pd.np.nan\n",
    "    \n",
    "def quantidade_recorrentes( texto ):\n",
    "    try:\n",
    "        s = texto.split(\",\")\n",
    "        if len( s ) == 1 and len( texto ) > 30: # tem nome q nao tem \",\", daí se for maior q 30 considero q sao 2 nomes\n",
    "            return 999\n",
    "        else:\n",
    "            return int( len( s ) )\n",
    "    except:\n",
    "        return pd.np.nan"
   ]
  },
  {
   "cell_type": "markdown",
   "metadata": {
    "pycharm": {
     "name": "#%% md\n"
    }
   },
   "source": [
    "## Extração das informações"
   ]
  },
  {
   "cell_type": "code",
   "execution_count": 19,
   "metadata": {
    "pycharm": {
     "is_executing": false,
     "name": "#%%\n"
    },
    "tags": [
     "outputPrepend",
     "outputPrepend",
     "outputPrepend",
     "outputPrepend",
     "outputPrepend",
     "outputPrepend",
     "outputPrepend",
     "outputPrepend",
     "outputPrepend",
     "outputPrepend",
     "outputPrepend",
     "outputPrepend"
    ]
   },
   "outputs": [
    {
     "name": "stdout",
     "output_type": "stream",
     "text": [
      "Wall time: 4.83 s\n"
     ]
    }
   ],
   "source": [
    "%%time\n",
    "df_tudo=df\n",
    "#df_tudo.reset_index()\n",
    "df_tudo[\"DATA\"] = df_tudo[\"INTEIRO_TEOR\"].map( extrai_data )\n",
    "df_tudo[\"RELATOR\"] = df_tudo[\"INTEIRO_TEOR\"].map( extrai_relator )\n",
    "df_tudo[\"ORGAO\"] = df_tudo[\"INTEIRO_TEOR\"].map( extrai_orgao )\n",
    "df_tudo[\"RECORRENTE\"] = df_tudo[\"INTEIRO_TEOR\"].map( extrai_recorrente )\n",
    "df_tudo[\"DISPOSITIVO\"] = df_tudo[\"INTEIRO_TEOR\"].map( extrai_dispositivo )\n",
    "df_tudo[\"QTD_RECORRENTES\"] = df_tudo[\"RECORRENTE\"].map( quantidade_recorrentes )"
   ]
  },
  {
   "cell_type": "code",
   "execution_count": 20,
   "metadata": {},
   "outputs": [
    {
     "name": "stdout",
     "output_type": "stream",
     "text": [
      "<class 'pandas.core.frame.DataFrame'>\n",
      "RangeIndex: 8787 entries, 0 to 8786\n",
      "Data columns (total 7 columns):\n",
      "INTEIRO_TEOR       8786 non-null object\n",
      "DATA               8779 non-null object\n",
      "RELATOR            8784 non-null object\n",
      "ORGAO              8784 non-null object\n",
      "RECORRENTE         8655 non-null object\n",
      "DISPOSITIVO        8784 non-null object\n",
      "QTD_RECORRENTES    8655 non-null float64\n",
      "dtypes: float64(1), object(6)\n",
      "memory usage: 480.7+ KB\n"
     ]
    }
   ],
   "source": [
    "df_tudo.info()"
   ]
  },
  {
   "cell_type": "markdown",
   "metadata": {
    "pycharm": {
     "name": "#%% md\n"
    }
   },
   "source": [
    "## Limpeza dos dados"
   ]
  },
  {
   "cell_type": "code",
   "execution_count": 21,
   "metadata": {
    "pycharm": {
     "is_executing": false,
     "name": "#%%\n"
    }
   },
   "outputs": [
    {
     "data": {
      "text/plain": [
       "array([  1., 999.,   2.,   3.,   5.,  38.,  27.,   4.,  19.,  59.,  12.,\n",
       "        55.,   7.,  13.,  39.,   6.,  21.,  16., 138.,  23.,   8.,  17.,\n",
       "        28.,  11.,  32.,  25.,  66.,  56.,  36.,  18.,  10.,  29.,  61.,\n",
       "        43.,  31.,  68.,  49.,  41.,  64.,  78.,  37., 141.,  33.,  34.,\n",
       "        50.,  30.,  35.,  47.,  57.,  22.,  44.,  80.,  51.,   9.,  94.,\n",
       "        40.,  26.,  74.,  69., 289.,  60., 108.,  54.,  15.,  65.])"
      ]
     },
     "execution_count": 21,
     "metadata": {},
     "output_type": "execute_result"
    }
   ],
   "source": [
    "#sem html e sem NAs\n",
    "#apenas 1 recorrente\n",
    "df_tudo = df_tudo.dropna()\n",
    "df_tudo[\"QTD_RECORRENTES\"].unique()"
   ]
  },
  {
   "cell_type": "code",
   "execution_count": 22,
   "metadata": {
    "pycharm": {
     "is_executing": false,
     "name": "#%%\n"
    },
    "scrolled": true
   },
   "outputs": [
    {
     "data": {
      "text/plain": [
       "1.0      3585\n",
       "999.0    3276\n",
       "2.0      1266\n",
       "3.0       219\n",
       "4.0        89\n",
       "         ... \n",
       "51.0        1\n",
       "31.0        1\n",
       "54.0        1\n",
       "33.0        1\n",
       "59.0        1\n",
       "Name: QTD_RECORRENTES, Length: 65, dtype: int64"
      ]
     },
     "execution_count": 22,
     "metadata": {},
     "output_type": "execute_result"
    }
   ],
   "source": [
    "df_tudo[\"QTD_RECORRENTES\"].value_counts() "
   ]
  },
  {
   "cell_type": "code",
   "execution_count": 23,
   "metadata": {},
   "outputs": [
    {
     "name": "stdout",
     "output_type": "stream",
     "text": [
      "<class 'pandas.core.frame.DataFrame'>\n",
      "Int64Index: 3585 entries, 0 to 8786\n",
      "Data columns (total 7 columns):\n",
      "INTEIRO_TEOR       3585 non-null object\n",
      "DATA               3585 non-null object\n",
      "RELATOR            3585 non-null object\n",
      "ORGAO              3585 non-null object\n",
      "RECORRENTE         3585 non-null object\n",
      "DISPOSITIVO        3585 non-null object\n",
      "QTD_RECORRENTES    3585 non-null float64\n",
      "dtypes: float64(1), object(6)\n",
      "memory usage: 224.1+ KB\n"
     ]
    }
   ],
   "source": [
    "df_tudo.loc[ df_tudo[\"QTD_RECORRENTES\"] == 1, : ].info()"
   ]
  },
  {
   "cell_type": "code",
   "execution_count": 24,
   "metadata": {},
   "outputs": [
    {
     "name": "stdout",
     "output_type": "stream",
     "text": [
      "<class 'pandas.core.frame.DataFrame'>\n",
      "Int64Index: 3585 entries, 0 to 8786\n",
      "Data columns (total 7 columns):\n",
      "INTEIRO_TEOR       3585 non-null object\n",
      "DATA               3585 non-null object\n",
      "RELATOR            3585 non-null object\n",
      "ORGAO              3585 non-null object\n",
      "RECORRENTE         3585 non-null object\n",
      "DISPOSITIVO        3585 non-null object\n",
      "QTD_RECORRENTES    3585 non-null float64\n",
      "dtypes: float64(1), object(6)\n",
      "memory usage: 224.1+ KB\n"
     ]
    }
   ],
   "source": [
    "df_filtrada = df_tudo.loc[ df_tudo[\"QTD_RECORRENTES\"] == 1, : ]\n",
    "df_filtrada.info()"
   ]
  },
  {
   "cell_type": "markdown",
   "metadata": {},
   "source": [
    "## Salvamento dos dados"
   ]
  },
  {
   "cell_type": "code",
   "execution_count": 25,
   "metadata": {
    "pycharm": {
     "name": "#%%\n"
    }
   },
   "outputs": [],
   "source": [
    "pasta = \".\\\\Datasets_transformados\\\\\"\n",
    "arquivo = arquivo[:-4]+\"_transf.csv\"\n",
    "df_filtrada.to_csv( pasta+arquivo, encoding='utf-8', index=False )"
   ]
  },
  {
   "cell_type": "code",
   "execution_count": null,
   "metadata": {},
   "outputs": [],
   "source": []
  }
 ],
 "metadata": {
  "kernelspec": {
   "display_name": "Python 3",
   "language": "python",
   "name": "python3"
  },
  "language_info": {
   "codemirror_mode": {
    "name": "ipython",
    "version": 3
   },
   "file_extension": ".py",
   "mimetype": "text/x-python",
   "name": "python",
   "nbconvert_exporter": "python",
   "pygments_lexer": "ipython3",
   "version": "3.6.10"
  },
  "pycharm": {
   "stem_cell": {
    "cell_type": "raw",
    "metadata": {
     "collapsed": false
    },
    "source": []
   }
  }
 },
 "nbformat": 4,
 "nbformat_minor": 1
}
