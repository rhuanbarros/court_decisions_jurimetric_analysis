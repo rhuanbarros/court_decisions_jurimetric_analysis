{
 "cells": [
  {
   "cell_type": "markdown",
   "metadata": {},
   "source": [
    "# Realiza a transformação do dataset\n",
    "Extrai os seguintes dados 'data', 'relator', 'orgao', 'recorrente', 'dispositivo', 'qtd_recorrentes'"
   ]
  },
  {
   "cell_type": "markdown",
   "metadata": {
    "pycharm": {
     "name": "#%% md\n"
    }
   },
   "source": [
    "## Importação de bibliotecas básicas"
   ]
  },
  {
   "cell_type": "code",
   "execution_count": 104,
   "metadata": {
    "pycharm": {
     "is_executing": false,
     "name": "#%%\n"
    }
   },
   "outputs": [],
   "source": [
    "import pandas as pd\n",
    "import time"
   ]
  },
  {
   "cell_type": "markdown",
   "metadata": {},
   "source": [
    "## Carregamento do dataset"
   ]
  },
  {
   "cell_type": "code",
   "execution_count": 105,
   "metadata": {
    "pycharm": {
     "is_executing": false,
     "name": "#%%\n"
    },
    "scrolled": true
   },
   "outputs": [
    {
     "name": "stdout",
     "output_type": "stream",
     "text": [
      "<class 'pandas.core.frame.DataFrame'>\n",
      "RangeIndex: 6112 entries, 0 to 6111\n",
      "Data columns (total 3 columns):\n",
      "_type           6112 non-null object\n",
      "link            6112 non-null object\n",
      "inteiro_teor    6112 non-null object\n",
      "dtypes: object(3)\n",
      "memory usage: 143.4+ KB\n",
      "None\n"
     ]
    }
   ],
   "source": [
    "pasta = \"E:\\\\OneDrive\\\\Documentos\\\\pesquisa_codigos_2020\\\\pesquisa_jurimetria_polaridade_final\\\\2_Compreensao_dos_dados\\\\2_1_coleta_de_dados\\\\Datasets_coletados\\\\TRT4\\\\\"\n",
    "arquivo = \"7_trt4_inteiro_teor_dezembro_janeiro_2019.csv\"\n",
    "df = pd.read_csv( pasta+arquivo, encoding='utf-8' )\n",
    "print( df.info() )\n",
    "df_tudo = df_tudo.append( df )"
   ]
  },
  {
   "cell_type": "code",
   "execution_count": 106,
   "metadata": {
    "scrolled": false
   },
   "outputs": [
    {
     "name": "stdout",
     "output_type": "stream",
     "text": [
      "<class 'pandas.core.frame.DataFrame'>\n",
      "RangeIndex: 6112 entries, 0 to 6111\n",
      "Data columns (total 2 columns):\n",
      "LINK            6112 non-null object\n",
      "INTEIRO_TEOR    6112 non-null object\n",
      "dtypes: object(2)\n",
      "memory usage: 95.6+ KB\n"
     ]
    }
   ],
   "source": [
    "df = df.drop( \"_type\", 1)\n",
    "df.columns = [ \"LINK\", \"INTEIRO_TEOR\" ]\n",
    "df.info()"
   ]
  },
  {
   "cell_type": "code",
   "execution_count": 107,
   "metadata": {},
   "outputs": [
    {
     "data": {
      "text/html": [
       "<div>\n",
       "<style scoped>\n",
       "    .dataframe tbody tr th:only-of-type {\n",
       "        vertical-align: middle;\n",
       "    }\n",
       "\n",
       "    .dataframe tbody tr th {\n",
       "        vertical-align: top;\n",
       "    }\n",
       "\n",
       "    .dataframe thead th {\n",
       "        text-align: right;\n",
       "    }\n",
       "</style>\n",
       "<table border=\"1\" class=\"dataframe\">\n",
       "  <thead>\n",
       "    <tr style=\"text-align: right;\">\n",
       "      <th></th>\n",
       "      <th>LINK</th>\n",
       "      <th>INTEIRO_TEOR</th>\n",
       "    </tr>\n",
       "  </thead>\n",
       "  <tbody>\n",
       "    <tr>\n",
       "      <th>0</th>\n",
       "      <td>rest/cache/acordao/pje/ALbd-wyGBBNVYftUwvBwcw?</td>\n",
       "      <td>Acórdão: 0020781-46.2019.5.04.0000 ( MSCiv...</td>\n",
       "    </tr>\n",
       "    <tr>\n",
       "      <th>1</th>\n",
       "      <td>rest/cache/acordao/pje/32ebwBuzzVT5pMw2CYFR2g?</td>\n",
       "      <td>Acórdão: 0021517-51.2016.5.04.0006 ( ROT )...</td>\n",
       "    </tr>\n",
       "    <tr>\n",
       "      <th>2</th>\n",
       "      <td>rest/cache/acordao/pje/jnRhaaCC6xmdnEeeSYbHkQ?</td>\n",
       "      <td>Acórdão: 0020650-14.2019.5.04.0019 ( RORSu...</td>\n",
       "    </tr>\n",
       "    <tr>\n",
       "      <th>3</th>\n",
       "      <td>rest/cache/acordao/pje/-_WxaAoIejtTWn768FZ0PQ?</td>\n",
       "      <td>Acórdão: 0020973-49.2019.5.04.0203 ( ROT )...</td>\n",
       "    </tr>\n",
       "    <tr>\n",
       "      <th>4</th>\n",
       "      <td>rest/cache/acordao/pje/091xN4ufMUCFxzROUU2PNA?</td>\n",
       "      <td>Acórdão: 0021360-11.2017.5.04.0211 ( ROT )...</td>\n",
       "    </tr>\n",
       "  </tbody>\n",
       "</table>\n",
       "</div>"
      ],
      "text/plain": [
       "                                             LINK  \\\n",
       "0  rest/cache/acordao/pje/ALbd-wyGBBNVYftUwvBwcw?   \n",
       "1  rest/cache/acordao/pje/32ebwBuzzVT5pMw2CYFR2g?   \n",
       "2  rest/cache/acordao/pje/jnRhaaCC6xmdnEeeSYbHkQ?   \n",
       "3  rest/cache/acordao/pje/-_WxaAoIejtTWn768FZ0PQ?   \n",
       "4  rest/cache/acordao/pje/091xN4ufMUCFxzROUU2PNA?   \n",
       "\n",
       "                                        INTEIRO_TEOR  \n",
       "0      Acórdão: 0020781-46.2019.5.04.0000 ( MSCiv...  \n",
       "1      Acórdão: 0021517-51.2016.5.04.0006 ( ROT )...  \n",
       "2      Acórdão: 0020650-14.2019.5.04.0019 ( RORSu...  \n",
       "3      Acórdão: 0020973-49.2019.5.04.0203 ( ROT )...  \n",
       "4      Acórdão: 0021360-11.2017.5.04.0211 ( ROT )...  "
      ]
     },
     "execution_count": 107,
     "metadata": {},
     "output_type": "execute_result"
    }
   ],
   "source": [
    "df.head()"
   ]
  },
  {
   "cell_type": "markdown",
   "metadata": {
    "pycharm": {
     "name": "#%% md\n"
    }
   },
   "source": [
    "## Definição de funções para extrair os dados"
   ]
  },
  {
   "cell_type": "code",
   "execution_count": 108,
   "metadata": {
    "pycharm": {
     "is_executing": false,
     "name": "#%%\n"
    }
   },
   "outputs": [],
   "source": [
    "import re\n",
    "\n",
    "def extrai_data( texto ):\n",
    "    try:\n",
    "        result = re.search( r\"(\\d{1,2}\\/\\d{1,2}\\/(\\d{4}|\\d{2}))\", str( texto ) )\n",
    "        return result[1]\n",
    "    except:\n",
    "        return pd.np.nan\n",
    "\n",
    "def extrai_relator( texto ):\n",
    "    try:\n",
    "        regex1 = r\"relator:|redator:\"\n",
    "        achou = re.search(regex1, texto.lower() )\n",
    "        inicio = achou.end()\n",
    "\n",
    "        regex2 = r\"ementa|órgão|poder\"\n",
    "        achou = re.search(regex2, texto[inicio:].lower())\n",
    "        fim = achou.start()\n",
    "        return texto[inicio:inicio+fim].strip()\n",
    "    except:\n",
    "        return pd.np.nan\n",
    "\n",
    "def extrai_orgao( texto ):\n",
    "    try:\n",
    "        regex1 = r\"órgão julgador:|órgão julgador:\"\n",
    "        achou = re.search( regex1, texto.lower() )\n",
    "        inicio = achou.end()\n",
    "\n",
    "        regex2 = r\"data:|relator|redator\"\n",
    "        achou = re.search( regex2, texto[inicio:].lower() )\n",
    "        fim = achou.start()\n",
    "\n",
    "        orgao = texto[inicio:inicio+fim].strip()\n",
    "        return orgao\n",
    "    except:\n",
    "        return pd.np.nan\n",
    "    \n",
    "def extrai_recorrente(texto):\n",
    "    try:\n",
    "        regex1 = r\"recorrentes:|recorrente:|agravante:|agravantes:|embargante:|embargantes:\"\n",
    "        achou = re.search( regex1, texto.lower() )\n",
    "        inicio = achou.end()\n",
    "\n",
    "        #regex2 = r\"recorridos:|recorrido:|agravado:|agravados:|agravada:|agravadas:|recorridas:|recorrida:|representante:|terceiro interessado:|relator:|redator:\"\n",
    "        regex2 = r\"recorridos|recorrido|agravado|agravados|agravada|agravadas|recorridas|recorrida|representante|terceiro interessado|relator|redator|embargado|embargados\"\n",
    "        achou = re.search( regex2, texto[inicio:].lower() )\n",
    "        fim = achou.start()\n",
    "\n",
    "        recorrente = texto[inicio:inicio+fim].strip()\n",
    "        return recorrente\n",
    "    except:\n",
    "        return pd.np.nan\n",
    "\n",
    "def extrai_dispositivo(texto):\n",
    "    try:\n",
    "        regex1 = r\"ACORDAM|ACÓRDÃO|ACORDAO\"\n",
    "        achou = re.search( regex1, texto ) #Sem o .lower() pq ta sempre em maiúsculo\n",
    "        \n",
    "        if achou == None: #se nao achar, maiúsculo, tenta minúsculo\n",
    "            regex1 = r\"acordam|acórdão|acordao|fundamentos pelos quais\"\n",
    "            achou = re.search( regex1, texto.lower() )        \n",
    "        \n",
    "        inicio = achou.end()\n",
    "\n",
    "        regex2 = r\"fundamentos pelos quais\"\n",
    "        achou = re.search( regex2, texto[inicio:].lower() )\n",
    "        if achou != None:  #se ja achou o inicio, e achou outra palavra fundamentos, vai ate o final\n",
    "            return texto[inicio:].strip()\n",
    "        \n",
    "        regex2 = r\"relatório|fundamentos\"\n",
    "        achou = re.search( regex2, texto[inicio:].lower() )\n",
    "        if achou != None:\n",
    "            fim = achou.start()\n",
    "            return texto[inicio:inicio+fim].strip()\n",
    "        else:\n",
    "            return texto[inicio:].strip()\n",
    "    except:\n",
    "        return pd.np.nan\n",
    "    \n",
    "def quantidade_recorrentes( texto ):\n",
    "    try:\n",
    "        s = texto.split(\",\")\n",
    "        if len( s ) == 1 and len( texto ) > 30: # tem nome q nao tem \",\", daí se for maior q 30 considero q sao 2 nomes\n",
    "            return 999\n",
    "        else:\n",
    "            return int( len( s ) )\n",
    "    except:\n",
    "        return pd.np.nan"
   ]
  },
  {
   "cell_type": "markdown",
   "metadata": {
    "pycharm": {
     "name": "#%% md\n"
    }
   },
   "source": [
    "## Extração das informações"
   ]
  },
  {
   "cell_type": "code",
   "execution_count": 109,
   "metadata": {
    "pycharm": {
     "is_executing": false,
     "name": "#%%\n"
    },
    "tags": [
     "outputPrepend",
     "outputPrepend",
     "outputPrepend",
     "outputPrepend",
     "outputPrepend",
     "outputPrepend",
     "outputPrepend",
     "outputPrepend",
     "outputPrepend",
     "outputPrepend",
     "outputPrepend",
     "outputPrepend"
    ]
   },
   "outputs": [
    {
     "name": "stdout",
     "output_type": "stream",
     "text": [
      "Wall time: 5.46 s\n"
     ]
    }
   ],
   "source": [
    "%%time\n",
    "df_tudo=df\n",
    "#df_tudo.reset_index()\n",
    "df_tudo[\"DATA\"] = df_tudo[\"INTEIRO_TEOR\"].map( extrai_data )\n",
    "df_tudo[\"RELATOR\"] = df_tudo[\"INTEIRO_TEOR\"].map( extrai_relator )\n",
    "df_tudo[\"ORGAO\"] = df_tudo[\"INTEIRO_TEOR\"].map( extrai_orgao )\n",
    "df_tudo[\"RECORRENTE\"] = df_tudo[\"INTEIRO_TEOR\"].map( extrai_recorrente )\n",
    "df_tudo[\"DISPOSITIVO\"] = df_tudo[\"INTEIRO_TEOR\"].map( extrai_dispositivo )\n",
    "df_tudo[\"QTD_RECORRENTES\"] = df_tudo[\"RECORRENTE\"].map( quantidade_recorrentes )"
   ]
  },
  {
   "cell_type": "code",
   "execution_count": 110,
   "metadata": {},
   "outputs": [
    {
     "name": "stdout",
     "output_type": "stream",
     "text": [
      "<class 'pandas.core.frame.DataFrame'>\n",
      "RangeIndex: 6112 entries, 0 to 6111\n",
      "Data columns (total 8 columns):\n",
      "LINK               6112 non-null object\n",
      "INTEIRO_TEOR       6112 non-null object\n",
      "DATA               6112 non-null object\n",
      "RELATOR            6112 non-null object\n",
      "ORGAO              6112 non-null object\n",
      "RECORRENTE         5925 non-null object\n",
      "DISPOSITIVO        6112 non-null object\n",
      "QTD_RECORRENTES    5925 non-null float64\n",
      "dtypes: float64(1), object(7)\n",
      "memory usage: 382.1+ KB\n"
     ]
    }
   ],
   "source": [
    "df_tudo.info()"
   ]
  },
  {
   "cell_type": "markdown",
   "metadata": {
    "pycharm": {
     "name": "#%% md\n"
    }
   },
   "source": [
    "## Limpeza dos dados"
   ]
  },
  {
   "cell_type": "code",
   "execution_count": 111,
   "metadata": {
    "pycharm": {
     "is_executing": false,
     "name": "#%%\n"
    }
   },
   "outputs": [
    {
     "data": {
      "text/plain": [
       "array([  2.,   1., 999.,  10.,   4.,   7.,   3.,   5.,   6.,  24.,   8.,\n",
       "        11.,   9.])"
      ]
     },
     "execution_count": 111,
     "metadata": {},
     "output_type": "execute_result"
    }
   ],
   "source": [
    "#sem html e sem NAs\n",
    "#apenas 1 recorrente\n",
    "df_tudo = df_tudo.dropna()\n",
    "df_tudo[\"QTD_RECORRENTES\"].unique()"
   ]
  },
  {
   "cell_type": "code",
   "execution_count": 112,
   "metadata": {
    "pycharm": {
     "is_executing": false,
     "name": "#%%\n"
    },
    "scrolled": true
   },
   "outputs": [
    {
     "data": {
      "text/plain": [
       "1.0      2509\n",
       "2.0      2098\n",
       "999.0     954\n",
       "3.0       228\n",
       "4.0        85\n",
       "5.0        26\n",
       "6.0        15\n",
       "7.0         3\n",
       "11.0        2\n",
       "8.0         2\n",
       "9.0         1\n",
       "24.0        1\n",
       "10.0        1\n",
       "Name: QTD_RECORRENTES, dtype: int64"
      ]
     },
     "execution_count": 112,
     "metadata": {},
     "output_type": "execute_result"
    }
   ],
   "source": [
    "df_tudo[\"QTD_RECORRENTES\"].value_counts() "
   ]
  },
  {
   "cell_type": "code",
   "execution_count": 113,
   "metadata": {},
   "outputs": [
    {
     "name": "stdout",
     "output_type": "stream",
     "text": [
      "<class 'pandas.core.frame.DataFrame'>\n",
      "Int64Index: 2509 entries, 3 to 6091\n",
      "Data columns (total 8 columns):\n",
      "LINK               2509 non-null object\n",
      "INTEIRO_TEOR       2509 non-null object\n",
      "DATA               2509 non-null object\n",
      "RELATOR            2509 non-null object\n",
      "ORGAO              2509 non-null object\n",
      "RECORRENTE         2509 non-null object\n",
      "DISPOSITIVO        2509 non-null object\n",
      "QTD_RECORRENTES    2509 non-null float64\n",
      "dtypes: float64(1), object(7)\n",
      "memory usage: 176.4+ KB\n"
     ]
    }
   ],
   "source": [
    "df_tudo.loc[ df_tudo[\"QTD_RECORRENTES\"] == 1, : ].info()"
   ]
  },
  {
   "cell_type": "code",
   "execution_count": 114,
   "metadata": {},
   "outputs": [
    {
     "name": "stdout",
     "output_type": "stream",
     "text": [
      "<class 'pandas.core.frame.DataFrame'>\n",
      "Int64Index: 2509 entries, 3 to 6091\n",
      "Data columns (total 8 columns):\n",
      "LINK               2509 non-null object\n",
      "INTEIRO_TEOR       2509 non-null object\n",
      "DATA               2509 non-null object\n",
      "RELATOR            2509 non-null object\n",
      "ORGAO              2509 non-null object\n",
      "RECORRENTE         2509 non-null object\n",
      "DISPOSITIVO        2509 non-null object\n",
      "QTD_RECORRENTES    2509 non-null float64\n",
      "dtypes: float64(1), object(7)\n",
      "memory usage: 176.4+ KB\n"
     ]
    }
   ],
   "source": [
    "df_filtrada = df_tudo.loc[ df_tudo[\"QTD_RECORRENTES\"] == 1, : ]\n",
    "df_filtrada.info()"
   ]
  },
  {
   "cell_type": "markdown",
   "metadata": {},
   "source": [
    "## Salvamento dos dados"
   ]
  },
  {
   "cell_type": "code",
   "execution_count": 115,
   "metadata": {
    "pycharm": {
     "name": "#%%\n"
    }
   },
   "outputs": [],
   "source": [
    "pasta = \".\\\\Datasets_transformados\\\\\"\n",
    "arquivo = arquivo[:-4]+\"_transf.csv\"\n",
    "df_filtrada.to_csv( pasta+arquivo, encoding='utf-8', index=False )"
   ]
  },
  {
   "cell_type": "code",
   "execution_count": null,
   "metadata": {},
   "outputs": [],
   "source": []
  }
 ],
 "metadata": {
  "kernelspec": {
   "display_name": "Python 3",
   "language": "python",
   "name": "python3"
  },
  "language_info": {
   "codemirror_mode": {
    "name": "ipython",
    "version": 3
   },
   "file_extension": ".py",
   "mimetype": "text/x-python",
   "name": "python",
   "nbconvert_exporter": "python",
   "pygments_lexer": "ipython3",
   "version": "3.6.10"
  },
  "pycharm": {
   "stem_cell": {
    "cell_type": "raw",
    "metadata": {
     "collapsed": false
    },
    "source": []
   }
  }
 },
 "nbformat": 4,
 "nbformat_minor": 1
}
