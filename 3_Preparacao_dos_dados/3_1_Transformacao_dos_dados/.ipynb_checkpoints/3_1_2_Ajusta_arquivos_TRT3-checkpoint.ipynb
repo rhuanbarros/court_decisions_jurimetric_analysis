{
 "metadata": {
  "language_info": {
   "codemirror_mode": {
    "name": "ipython",
    "version": 3
   },
   "file_extension": ".py",
   "mimetype": "text/x-python",
   "name": "python",
   "nbconvert_exporter": "python",
   "pygments_lexer": "ipython3",
   "version": "3.8.5"
  },
  "orig_nbformat": 2,
  "kernelspec": {
   "name": "python385jvsc74a57bd0e746eafcc9c3755c618fd70b7289e2c77c6dfaa86036ed9f41128bb78d1ac1c4",
   "display_name": "Python 3.8.5 64-bit (conda)"
  }
 },
 "nbformat": 4,
 "nbformat_minor": 2,
 "cells": [
  {
   "cell_type": "code",
   "execution_count": 1,
   "metadata": {},
   "outputs": [],
   "source": [
    "import pandas as pd\n",
    "import time"
   ]
  },
  {
   "cell_type": "code",
   "execution_count": 2,
   "metadata": {},
   "outputs": [
    {
     "output_type": "stream",
     "name": "stdout",
     "text": [
      "<class 'pandas.core.frame.DataFrame'>\nRangeIndex: 7290 entries, 0 to 7289\nData columns (total 7 columns):\n #   Column           Non-Null Count  Dtype  \n---  ------           --------------  -----  \n 0   INTEIRO_TEOR     7290 non-null   object \n 1   DATA             7290 non-null   object \n 2   RELATOR          7290 non-null   object \n 3   ORGAO            7290 non-null   object \n 4   RECORRENTE       7290 non-null   object \n 5   DISPOSITIVO      7290 non-null   object \n 6   QTD_RECORRENTES  7290 non-null   float64\ndtypes: float64(1), object(6)\nmemory usage: 398.8+ KB\nNone\n"
     ]
    }
   ],
   "source": [
    "df1 = pd.read_csv( \".\\\\Datasets_transformados\\\\TRT3\\\\TRT3_inteiro_teor_2017_2018_2019_amostra_1_transf.csv\", encoding='utf-8' )\n",
    "print( df1.info() )"
   ]
  },
  {
   "cell_type": "code",
   "execution_count": 3,
   "metadata": {},
   "outputs": [
    {
     "output_type": "stream",
     "name": "stdout",
     "text": [
      "<class 'pandas.core.frame.DataFrame'>\nRangeIndex: 3585 entries, 0 to 3584\nData columns (total 7 columns):\n #   Column           Non-Null Count  Dtype  \n---  ------           --------------  -----  \n 0   INTEIRO_TEOR     3585 non-null   object \n 1   DATA             3585 non-null   object \n 2   RELATOR          3585 non-null   object \n 3   ORGAO            3585 non-null   object \n 4   RECORRENTE       3585 non-null   object \n 5   DISPOSITIVO      3585 non-null   object \n 6   QTD_RECORRENTES  3585 non-null   float64\ndtypes: float64(1), object(6)\nmemory usage: 196.2+ KB\nNone\n"
     ]
    }
   ],
   "source": [
    "df2 = pd.read_csv( \".\\\\Datasets_transformados\\\\TRT3\\\\TRT3_inteiro_teor_2017_2018_2019_amostra_2_transf.csv\", encoding='utf-8' )\n",
    "print( df2.info() )"
   ]
  },
  {
   "cell_type": "code",
   "execution_count": 4,
   "metadata": {},
   "outputs": [
    {
     "output_type": "stream",
     "name": "stdout",
     "text": [
      "<class 'pandas.core.frame.DataFrame'>\nInt64Index: 10875 entries, 0 to 3584\nData columns (total 7 columns):\n #   Column           Non-Null Count  Dtype  \n---  ------           --------------  -----  \n 0   INTEIRO_TEOR     10875 non-null  object \n 1   DATA             10875 non-null  object \n 2   RELATOR          10875 non-null  object \n 3   ORGAO            10875 non-null  object \n 4   RECORRENTE       10875 non-null  object \n 5   DISPOSITIVO      10875 non-null  object \n 6   QTD_RECORRENTES  10875 non-null  float64\ndtypes: float64(1), object(6)\nmemory usage: 679.7+ KB\n"
     ]
    }
   ],
   "source": [
    "df_tudo = df1\n",
    "df_tudo = df_tudo.append(df2)\n",
    "df_tudo.info()"
   ]
  },
  {
   "cell_type": "code",
   "execution_count": 5,
   "metadata": {},
   "outputs": [],
   "source": [
    "#salvei este arquivo apenas para ter uma versao consolidada COM O ÍNDICE. Assim durante a fase de anotação, se for necessário acessar a integra de uma decisão, isso é possível utilizando o índice.\n",
    "df_tudo.to_csv( \".\\\\Datasets_transformados_final\\\\TRT3\\\\TRT3_acordaos_amostra_2017_2018_2019_completo_com_indice.csv\", encoding='utf-8' )"
   ]
  },
  {
   "cell_type": "code",
   "execution_count": 12,
   "metadata": {},
   "outputs": [
    {
     "output_type": "stream",
     "name": "stdout",
     "text": [
      "<class 'pandas.core.frame.DataFrame'>\nRangeIndex: 10875 entries, 0 to 10874\nData columns (total 8 columns):\n #   Column           Non-Null Count  Dtype  \n---  ------           --------------  -----  \n 0   Unnamed: 0       10875 non-null  int64  \n 1   INTEIRO_TEOR     10875 non-null  object \n 2   DATA             10875 non-null  object \n 3   RELATOR          10875 non-null  object \n 4   ORGAO            10875 non-null  object \n 5   RECORRENTE       10875 non-null  object \n 6   DISPOSITIVO      10875 non-null  object \n 7   QTD_RECORRENTES  10875 non-null  float64\ndtypes: float64(1), int64(1), object(6)\nmemory usage: 679.8+ KB\nNone\n"
     ]
    }
   ],
   "source": [
    "#eu reabro o arquivo com indice para eu poder salvar o arquivo para anotação com o indice, conforme explicado na celula anterior.\n",
    "df_com_indice = pd.read_csv( \".\\\\Datasets_transformados_final\\\\TRT3\\\\TRT3_acordaos_amostra_2017_2108_2019_completo_com_indice.csv\", encoding='utf-8' )\n",
    "print( df_com_indice.info() )"
   ]
  },
  {
   "cell_type": "code",
   "execution_count": 13,
   "metadata": {},
   "outputs": [
    {
     "output_type": "stream",
     "name": "stdout",
     "text": [
      "<class 'pandas.core.frame.DataFrame'>\nRangeIndex: 10875 entries, 0 to 10874\nData columns (total 8 columns):\n #   Column           Non-Null Count  Dtype  \n---  ------           --------------  -----  \n 0   INDICE           10875 non-null  int64  \n 1   INTEIRO_TEOR     10875 non-null  object \n 2   DATA             10875 non-null  object \n 3   RELATOR          10875 non-null  object \n 4   ORGAO            10875 non-null  object \n 5   RECORRENTE       10875 non-null  object \n 6   DISPOSITIVO      10875 non-null  object \n 7   QTD_RECORRENTES  10875 non-null  float64\ndtypes: float64(1), int64(1), object(6)\nmemory usage: 679.8+ KB\n"
     ]
    }
   ],
   "source": [
    "df_com_indice = df_com_indice.rename(columns={'Unnamed: 0': 'INDICE'})\n",
    "df_com_indice.info()"
   ]
  },
  {
   "cell_type": "code",
   "execution_count": 14,
   "metadata": {},
   "outputs": [
    {
     "output_type": "stream",
     "name": "stdout",
     "text": [
      "<class 'pandas.core.frame.DataFrame'>\nRangeIndex: 10875 entries, 0 to 10874\nData columns (total 2 columns):\n #   Column       Non-Null Count  Dtype \n---  ------       --------------  ----- \n 0   INDICE       10875 non-null  int64 \n 1   DISPOSITIVO  10875 non-null  object\ndtypes: int64(1), object(1)\nmemory usage: 170.0+ KB\n"
     ]
    }
   ],
   "source": [
    "df_com_indice = df_com_indice.drop(['INTEIRO_TEOR', 'DATA', 'RELATOR', 'ORGAO', 'RECORRENTE', 'QTD_RECORRENTES' ], axis=1)\n",
    "df_com_indice.info()"
   ]
  },
  {
   "cell_type": "code",
   "execution_count": 15,
   "metadata": {},
   "outputs": [],
   "source": [
    "df_com_indice.to_csv( \".\\\\Datasets_transformados_final\\\\TRT3_acordaos_2017_2108_2019_com_indice_para_anotacao.csv\", encoding='utf-8', index=False )"
   ]
  },
  {
   "source": [
    "## Extração da amostra para anotação"
   ],
   "cell_type": "markdown",
   "metadata": {}
  },
  {
   "cell_type": "code",
   "execution_count": 4,
   "metadata": {},
   "outputs": [
    {
     "output_type": "stream",
     "name": "stdout",
     "text": [
      "<class 'pandas.core.frame.DataFrame'>\nRangeIndex: 10875 entries, 0 to 10874\nData columns (total 2 columns):\n #   Column       Non-Null Count  Dtype \n---  ------       --------------  ----- \n 0   INDICE       10875 non-null  int64 \n 1   DISPOSITIVO  10875 non-null  object\ndtypes: int64(1), object(1)\nmemory usage: 170.0+ KB\nNone\n"
     ]
    }
   ],
   "source": [
    "df = pd.read_csv( \".\\\\Datasets_transformados_final\\\\TRT3_acordaos_2017_2108_2019_com_indice_para_anotacao.csv\", encoding='utf-8' )\n",
    "print( df.info() )"
   ]
  },
  {
   "cell_type": "code",
   "execution_count": 5,
   "metadata": {},
   "outputs": [
    {
     "output_type": "stream",
     "name": "stdout",
     "text": [
      "<class 'pandas.core.frame.DataFrame'>\nInt64Index: 10875 entries, 8283 to 235\nData columns (total 2 columns):\n #   Column       Non-Null Count  Dtype \n---  ------       --------------  ----- \n 0   INDICE       10875 non-null  int64 \n 1   DISPOSITIVO  10875 non-null  object\ndtypes: int64(1), object(1)\nmemory usage: 254.9+ KB\n"
     ]
    }
   ],
   "source": [
    "df_anotacao = df.sample(frac=1, random_state=1)\n",
    "df_anotacao.info()"
   ]
  },
  {
   "cell_type": "code",
   "execution_count": 6,
   "metadata": {},
   "outputs": [
    {
     "output_type": "execute_result",
     "data": {
      "text/plain": [
       "      INDICE                                        DISPOSITIVO\n",
       "8283     993  Cabeçalho do acórdão Acórdão FUNDAMENTOS PELOS...\n",
       "7092    7092  Cabeçalho do acórdão Acórdão FUNDAMENTOS PELOS...\n",
       "335      335  Cabeçalho do acórdão SÚMULA DO VOTO FUNDAMENTO...\n",
       "307      307  Cabeçalho do acórdão Acórdão O Tribunal Region...\n",
       "4945    4945  Cabeçalho do acórdão Acórdão Fundamentos pelos...\n",
       "...      ...                                                ...\n",
       "2895    2895  Cabeçalho do acórdão Acórdão FUNDAMENTOS PELOS...\n",
       "7813     523  Cabeçalho do acórdão CONCLUSÃO Fundamentos pel...\n",
       "905      905  Cabeçalho do acórdão Acórdão O Tribunal Region...\n",
       "5192    5192  Cabeçalho do acórdão Acórdão ACORDAM os Desemb...\n",
       "235      235  Cabeçalho do acórdão Conclusão Fundamentos pel...\n",
       "\n",
       "[10875 rows x 2 columns]"
      ],
      "text/html": "<div>\n<style scoped>\n    .dataframe tbody tr th:only-of-type {\n        vertical-align: middle;\n    }\n\n    .dataframe tbody tr th {\n        vertical-align: top;\n    }\n\n    .dataframe thead th {\n        text-align: right;\n    }\n</style>\n<table border=\"1\" class=\"dataframe\">\n  <thead>\n    <tr style=\"text-align: right;\">\n      <th></th>\n      <th>INDICE</th>\n      <th>DISPOSITIVO</th>\n    </tr>\n  </thead>\n  <tbody>\n    <tr>\n      <th>8283</th>\n      <td>993</td>\n      <td>Cabeçalho do acórdão Acórdão FUNDAMENTOS PELOS...</td>\n    </tr>\n    <tr>\n      <th>7092</th>\n      <td>7092</td>\n      <td>Cabeçalho do acórdão Acórdão FUNDAMENTOS PELOS...</td>\n    </tr>\n    <tr>\n      <th>335</th>\n      <td>335</td>\n      <td>Cabeçalho do acórdão SÚMULA DO VOTO FUNDAMENTO...</td>\n    </tr>\n    <tr>\n      <th>307</th>\n      <td>307</td>\n      <td>Cabeçalho do acórdão Acórdão O Tribunal Region...</td>\n    </tr>\n    <tr>\n      <th>4945</th>\n      <td>4945</td>\n      <td>Cabeçalho do acórdão Acórdão Fundamentos pelos...</td>\n    </tr>\n    <tr>\n      <th>...</th>\n      <td>...</td>\n      <td>...</td>\n    </tr>\n    <tr>\n      <th>2895</th>\n      <td>2895</td>\n      <td>Cabeçalho do acórdão Acórdão FUNDAMENTOS PELOS...</td>\n    </tr>\n    <tr>\n      <th>7813</th>\n      <td>523</td>\n      <td>Cabeçalho do acórdão CONCLUSÃO Fundamentos pel...</td>\n    </tr>\n    <tr>\n      <th>905</th>\n      <td>905</td>\n      <td>Cabeçalho do acórdão Acórdão O Tribunal Region...</td>\n    </tr>\n    <tr>\n      <th>5192</th>\n      <td>5192</td>\n      <td>Cabeçalho do acórdão Acórdão ACORDAM os Desemb...</td>\n    </tr>\n    <tr>\n      <th>235</th>\n      <td>235</td>\n      <td>Cabeçalho do acórdão Conclusão Fundamentos pel...</td>\n    </tr>\n  </tbody>\n</table>\n<p>10875 rows × 2 columns</p>\n</div>"
     },
     "metadata": {},
     "execution_count": 6
    }
   ],
   "source": [
    "df_anotacao"
   ]
  },
  {
   "cell_type": "code",
   "execution_count": 8,
   "metadata": {},
   "outputs": [],
   "source": [
    "df_anotacao[0:500].to_csv( \".\\\\Datasets_transformados_final\\\\TRT3_amostra_500_ordem_aleatoria_para_anotacao.csv\", encoding='utf-8', index=False )"
   ]
  },
  {
   "cell_type": "code",
   "execution_count": null,
   "metadata": {},
   "outputs": [],
   "source": []
  }
 ]
}