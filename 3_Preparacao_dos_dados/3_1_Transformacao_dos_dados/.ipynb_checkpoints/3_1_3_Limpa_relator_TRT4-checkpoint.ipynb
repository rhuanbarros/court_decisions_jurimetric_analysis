{
 "cells": [
  {
   "cell_type": "code",
   "execution_count": 1,
   "id": "b1902eb2-f8df-4b53-bb44-0e41bad38636",
   "metadata": {},
   "outputs": [
    {
     "name": "stdin",
     "output_type": "stream",
     "text": [
      "Once deleted, variables cannot be recovered. Proceed (y/[n])?  y\n"
     ]
    }
   ],
   "source": [
    "%reset"
   ]
  },
  {
   "cell_type": "code",
   "execution_count": 2,
   "id": "3566868c-9624-4685-80ce-ea7352a16902",
   "metadata": {},
   "outputs": [],
   "source": [
    "import pandas as pd\n",
    "import time"
   ]
  },
  {
   "cell_type": "code",
   "execution_count": 3,
   "id": "53cb540b-2a85-41c2-bc56-0e5b7bb34433",
   "metadata": {},
   "outputs": [
    {
     "name": "stdout",
     "output_type": "stream",
     "text": [
      "<class 'pandas.core.frame.DataFrame'>\n",
      "RangeIndex: 12071 entries, 0 to 12070\n",
      "Data columns (total 9 columns):\n",
      " #   Column           Non-Null Count  Dtype  \n",
      "---  ------           --------------  -----  \n",
      " 0   INDEX            12071 non-null  int64  \n",
      " 1   LINK             12071 non-null  object \n",
      " 2   INTEIRO_TEOR     12071 non-null  object \n",
      " 3   DATA             12071 non-null  object \n",
      " 4   RELATOR          12071 non-null  object \n",
      " 5   ORGAO            12071 non-null  object \n",
      " 6   RECORRENTE       12071 non-null  object \n",
      " 7   DISPOSITIVO      12071 non-null  object \n",
      " 8   QTD_RECORRENTES  12071 non-null  float64\n",
      "dtypes: float64(1), int64(1), object(7)\n",
      "memory usage: 848.9+ KB\n"
     ]
    }
   ],
   "source": [
    "df = pd.read_csv( \".//Datasets_transformados_final//TRT4//TRT4_acordaos_amostra_2017_2018_2019_completo_com_indice.csv\", encoding='utf-8' )\n",
    "df.info()"
   ]
  },
  {
   "cell_type": "code",
   "execution_count": 4,
   "id": "c2c14b2f-6811-4cd0-9a22-3cd2345a439b",
   "metadata": {},
   "outputs": [
    {
     "data": {
      "text/plain": [
       "array(['LUIS CARLOS PINTO GASTAL', 'ROSANE SERAFINI CASA NOVA',\n",
       "       'MARIA MADALENA TELESCA', 'SIMONE MARIA NUNES',\n",
       "       'MARIA CRISTINA SCHAAN FERREIRA', 'ROSIUL DE FREITAS AZAMBUJA',\n",
       "       'CARMEN IZABEL CENTENA GONZALEZ', 'FERNANDO LUIZ DE MOURA CASSAL',\n",
       "       'ALEXANDRE CORREA DA CRUZ', \"MARCELO JOSE FERLIN D'AMBROSO\",\n",
       "       'JOAO PAULO LUCENA', 'RAUL ZORATTO SANVICENTE',\n",
       "       'MANUEL CID JARDON', 'JANNEY CAMARGO BINA',\n",
       "       'MARIA DA GRACA RIBEIRO CENTENO', 'CLOVIS FERNANDO SCHUCH SANTOS',\n",
       "       'DENISE PACHECO', 'JOE ERNANDO DESZUTA',\n",
       "       'CLAUDIO ANTONIO CASSOU BARBOSA', 'ANDRE REVERBEL FERNANDES',\n",
       "       'EMILIO PAPALEO ZIN', 'JOSE FELIPE LEDUR', 'GEORGE ACHUTTI',\n",
       "       'WILSON CARVALHO DIAS', 'CARLOS HENRIQUE SELBACH',\n",
       "       'MARCELO GONCALVES DE OLIVEIRA', 'IRIS LIMA DE MORAES',\n",
       "       'MARIA SILVANA ROTTA TEDESCO', 'KARINA SARAIVA CUNHA',\n",
       "       'LAIS HELENA JAEGER NICOTTI', 'ANGELA ROSI ALMEIDA CHAPPER',\n",
       "       'FABIANO HOLZ BESERRA', 'TÂNIA REGINA SILVA RECKZIEGEL',\n",
       "       'BRÍGIDA JOAQUINA CHARÃO BARCELOS TOSCHI', 'BEATRIZ RENCK',\n",
       "       'MARCOS FAGUNDES SALOMAO', 'ANA LUIZA HEINECK KRUSE',\n",
       "       'CLEUSA REGINA HALFEN', 'LUCIA EHRENBRINK',\n",
       "       'RICARDO CARVALHO FRAGA', 'ANA ROSA PEREIRA ZAGO SAGRILO',\n",
       "       'JOAO BATISTA DE MATOS DANDA', 'MARIA HELENA LISOT',\n",
       "       'BRIGIDA JOAQUINA CHARAO BARCELOS',\n",
       "       'JOAO ALFREDO BORGES ANTUNES DE MIRANDA',\n",
       "       'TANIA ROSA MACIEL DE OLIVEIRA', 'GILBERTO SOUZA DOS SANTOS',\n",
       "       'VANIA MARIA CUNHA MATTOS', 'REJANE SOUZA PEDRA',\n",
       "       'FRANCISCO ROSSAL DE ARAUJO', 'JOAO PEDRO SILVESTRIN',\n",
       "       'ROBERTO ANTONIO CARVALHO ZONTA', 'HERBERT PAULO BECK',\n",
       "       'LUIZ ALBERTO DE VARGAS', 'FLAVIA LORENA PACHECO',\n",
       "       'ROGER BALLEJO VILLARINHO',\n",
       "       'RICARDO HOFMEISTER DE ALMEIDA MARTINS COSTA',\n",
       "       'SIMONE MARIA NUNES KUNRATH', 'EDSON PECIS LERRER',\n",
       "       'MARCAL HENRI DOS SANTOS FIGUEIREDO', 'FREDERICO RUSSOMANO'],\n",
       "      dtype=object)"
      ]
     },
     "execution_count": 4,
     "metadata": {},
     "output_type": "execute_result"
    }
   ],
   "source": [
    "df[\"RELATOR\"].unique()"
   ]
  },
  {
   "cell_type": "code",
   "execution_count": 5,
   "id": "6f8059de-5bb3-45fe-a0f7-298959bc88a3",
   "metadata": {},
   "outputs": [
    {
     "data": {
      "text/plain": [
       "ANDRE REVERBEL FERNANDES              523\n",
       "TÂNIA REGINA SILVA RECKZIEGEL         508\n",
       "MARIA MADALENA TELESCA                502\n",
       "GEORGE ACHUTTI                        495\n",
       "ROSANE SERAFINI CASA NOVA             441\n",
       "                                     ... \n",
       "JOE ERNANDO DESZUTA                    21\n",
       "VANIA MARIA CUNHA MATTOS               13\n",
       "HERBERT PAULO BECK                     10\n",
       "FREDERICO RUSSOMANO                     4\n",
       "MARCAL HENRI DOS SANTOS FIGUEIREDO      1\n",
       "Name: RELATOR, Length: 61, dtype: int64"
      ]
     },
     "execution_count": 5,
     "metadata": {},
     "output_type": "execute_result"
    }
   ],
   "source": [
    "df[\"RELATOR\"].value_counts()"
   ]
  },
  {
   "cell_type": "code",
   "execution_count": 6,
   "id": "ae323fe4-9e7d-4006-870b-353ff26cf9cc",
   "metadata": {},
   "outputs": [
    {
     "data": {
      "text/plain": [
       "61"
      ]
     },
     "execution_count": 6,
     "metadata": {},
     "output_type": "execute_result"
    }
   ],
   "source": [
    "len( df[\"RELATOR\"].unique() )"
   ]
  },
  {
   "cell_type": "markdown",
   "id": "0975feec-743a-4652-ad62-d2bca70d2fd3",
   "metadata": {},
   "source": [
    "<strong>Não há limpeza a ser realizada em relação a nomes de relatores.</strong>"
   ]
  },
  {
   "cell_type": "code",
   "execution_count": null,
   "id": "c057c6a3-ecd9-4b98-acb5-0ee83e00a855",
   "metadata": {},
   "outputs": [],
   "source": []
  }
 ],
 "metadata": {
  "kernelspec": {
   "display_name": "Python 3",
   "language": "python",
   "name": "python3"
  },
  "language_info": {
   "codemirror_mode": {
    "name": "ipython",
    "version": 3
   },
   "file_extension": ".py",
   "mimetype": "text/x-python",
   "name": "python",
   "nbconvert_exporter": "python",
   "pygments_lexer": "ipython3",
   "version": "3.6.14"
  }
 },
 "nbformat": 4,
 "nbformat_minor": 5
}
