{
 "nbformat": 4,
 "nbformat_minor": 2,
 "metadata": {
  "language_info": {
   "name": "python",
   "codemirror_mode": {
    "name": "ipython",
    "version": 3
   },
   "version": "3.7.4-final"
  },
  "orig_nbformat": 2,
  "file_extension": ".py",
  "mimetype": "text/x-python",
  "name": "python",
  "npconvert_exporter": "python",
  "pygments_lexer": "ipython3",
  "version": 3,
  "kernelspec": {
   "name": "python3",
   "display_name": "Python 3"
  }
 },
 "cells": [
  {
   "cell_type": "code",
   "execution_count": 2,
   "metadata": {},
   "outputs": [],
   "source": [
    "import pandas as pd\n",
    "import os\n",
    "from bs4 import BeautifulSoup\n",
    "from bs4.element import Comment"
   ]
  },
  {
   "cell_type": "code",
   "execution_count": 3,
   "metadata": {},
   "outputs": [],
   "source": [
    "def tag_visible(element):\n",
    "    if element.parent.name in ['style', 'script', 'head', 'title', 'meta', '[document]']:\n",
    "        return False\n",
    "    if isinstance(element, Comment):\n",
    "        return False\n",
    "    return True\n",
    "\n",
    "\n",
    "def text_from_html(body):\n",
    "    body = str( body )\n",
    "    soup = BeautifulSoup(body, 'html.parser')\n",
    "    texts = soup.findAll(text=True)\n",
    "    visible_texts = filter(tag_visible, texts)  \n",
    "    retorno = u\" \".join(t.strip() for t in visible_texts)\n",
    "    return retorno.strip()"
   ]
  },
  {
   "cell_type": "markdown",
   "metadata": {},
   "source": [
    "# Carregamento dos arquivos CSV com o inteiro teor"
   ]
  },
  {
   "cell_type": "code",
   "execution_count": 6,
   "metadata": {},
   "outputs": [
    {
     "output_type": "stream",
     "name": "stdout",
     "text": "TRT3_df_html_urls_inteiro_teor%5CTRT3_df_urls_inteiro_teor_10900.csv.csv\nTRT3_df_html_urls_inteiro_teor%5CTRT3_df_urls_inteiro_teor_11600.csv.csv\nTRT3_df_html_urls_inteiro_teor%5CTRT3_df_urls_inteiro_teor_12600.csv.csv\nTRT3_df_html_urls_inteiro_teor%5CTRT3_df_urls_inteiro_teor_12700.csv.csv\nTRT3_df_html_urls_inteiro_teor%5CTRT3_df_urls_inteiro_teor_1300.csv.csv\nTRT3_df_html_urls_inteiro_teor%5CTRT3_df_urls_inteiro_teor_13000.csv.csv\nTRT3_df_html_urls_inteiro_teor%5CTRT3_df_urls_inteiro_teor_13100.csv.csv\nTRT3_df_html_urls_inteiro_teor%5CTRT3_df_urls_inteiro_teor_13500.csv.csv\nTRT3_df_html_urls_inteiro_teor%5CTRT3_df_urls_inteiro_teor_1400.csv.csv\nTRT3_df_html_urls_inteiro_teor%5CTRT3_df_urls_inteiro_teor_14200.csv.csv\nTRT3_df_html_urls_inteiro_teor%5CTRT3_df_urls_inteiro_teor_1500.csv.csv\nTRT3_df_html_urls_inteiro_teor%5CTRT3_df_urls_inteiro_teor_15200.csv.csv\nTRT3_df_html_urls_inteiro_teor%5CTRT3_df_urls_inteiro_teor_15300.csv.csv\nTRT3_df_html_urls_inteiro_teor%5CTRT3_df_urls_inteiro_teor_15700.csv.csv\nTRT3_df_html_urls_inteiro_teor%5CTRT3_df_urls_inteiro_teor_15800.csv.csv\nTRT3_df_html_urls_inteiro_teor%5CTRT3_df_urls_inteiro_teor_1600.csv.csv\nTRT3_df_html_urls_inteiro_teor%5CTRT3_df_urls_inteiro_teor_16500.csv.csv\nTRT3_df_html_urls_inteiro_teor%5CTRT3_df_urls_inteiro_teor_1700.csv.csv\nTRT3_df_html_urls_inteiro_teor%5CTRT3_df_urls_inteiro_teor_17100.csv.csv\nTRT3_df_html_urls_inteiro_teor%5CTRT3_df_urls_inteiro_teor_17800.csv.csv\nTRT3_df_html_urls_inteiro_teor%5CTRT3_df_urls_inteiro_teor_18000.csv.csv\nTRT3_df_html_urls_inteiro_teor%5CTRT3_df_urls_inteiro_teor_18100.csv.csv\nTRT3_df_html_urls_inteiro_teor%5CTRT3_df_urls_inteiro_teor_18200.csv.csv\nTRT3_df_html_urls_inteiro_teor%5CTRT3_df_urls_inteiro_teor_19100.csv.csv\nTRT3_df_html_urls_inteiro_teor%5CTRT3_df_urls_inteiro_teor_19400.csv.csv\nTRT3_df_html_urls_inteiro_teor%5CTRT3_df_urls_inteiro_teor_19500.csv.csv\nTRT3_df_html_urls_inteiro_teor%5CTRT3_df_urls_inteiro_teor_20300.csv.csv\nTRT3_df_html_urls_inteiro_teor%5CTRT3_df_urls_inteiro_teor_20500.csv.csv\nTRT3_df_html_urls_inteiro_teor%5CTRT3_df_urls_inteiro_teor_20700.csv.csv\nTRT3_df_html_urls_inteiro_teor%5CTRT3_df_urls_inteiro_teor_21000.csv.csv\nTRT3_df_html_urls_inteiro_teor%5CTRT3_df_urls_inteiro_teor_21300.csv.csv\nTRT3_df_html_urls_inteiro_teor%5CTRT3_df_urls_inteiro_teor_22000.csv.csv\nTRT3_df_html_urls_inteiro_teor%5CTRT3_df_urls_inteiro_teor_22200.csv.csv\nTRT3_df_html_urls_inteiro_teor%5CTRT3_df_urls_inteiro_teor_22500.csv.csv\nTRT3_df_html_urls_inteiro_teor%5CTRT3_df_urls_inteiro_teor_22700.csv.csv\nTRT3_df_html_urls_inteiro_teor%5CTRT3_df_urls_inteiro_teor_22800.csv.csv\nTRT3_df_html_urls_inteiro_teor%5CTRT3_df_urls_inteiro_teor_23300.csv.csv\nTRT3_df_html_urls_inteiro_teor%5CTRT3_df_urls_inteiro_teor_2400.csv.csv\nTRT3_df_html_urls_inteiro_teor%5CTRT3_df_urls_inteiro_teor_24000.csv.csv\nTRT3_df_html_urls_inteiro_teor%5CTRT3_df_urls_inteiro_teor_24100.csv.csv\nTRT3_df_html_urls_inteiro_teor%5CTRT3_df_urls_inteiro_teor_24200.csv.csv\nTRT3_df_html_urls_inteiro_teor%5CTRT3_df_urls_inteiro_teor_24400.csv.csv\nTRT3_df_html_urls_inteiro_teor%5CTRT3_df_urls_inteiro_teor_2500.csv.csv\nTRT3_df_html_urls_inteiro_teor%5CTRT3_df_urls_inteiro_teor_25000.csv.csv\nTRT3_df_html_urls_inteiro_teor%5CTRT3_df_urls_inteiro_teor_25100.csv.csv\nTRT3_df_html_urls_inteiro_teor%5CTRT3_df_urls_inteiro_teor_25200.csv.csv\nTRT3_df_html_urls_inteiro_teor%5CTRT3_df_urls_inteiro_teor_26400.csv.csv\nTRT3_df_html_urls_inteiro_teor%5CTRT3_df_urls_inteiro_teor_26900.csv.csv\nTRT3_df_html_urls_inteiro_teor%5CTRT3_df_urls_inteiro_teor_27100.csv.csv\nTRT3_df_html_urls_inteiro_teor%5CTRT3_df_urls_inteiro_teor_27200.csv.csv\nTRT3_df_html_urls_inteiro_teor%5CTRT3_df_urls_inteiro_teor_27300.csv.csv\nTRT3_df_html_urls_inteiro_teor%5CTRT3_df_urls_inteiro_teor_27900.csv.csv\nTRT3_df_html_urls_inteiro_teor%5CTRT3_df_urls_inteiro_teor_2800.csv.csv\nTRT3_df_html_urls_inteiro_teor%5CTRT3_df_urls_inteiro_teor_28000.csv.csv\nTRT3_df_html_urls_inteiro_teor%5CTRT3_df_urls_inteiro_teor_28400.csv.csv\nTRT3_df_html_urls_inteiro_teor%5CTRT3_df_urls_inteiro_teor_29000.csv.csv\nTRT3_df_html_urls_inteiro_teor%5CTRT3_df_urls_inteiro_teor_29200.csv.csv\nTRT3_df_html_urls_inteiro_teor%5CTRT3_df_urls_inteiro_teor_29800.csv.csv\nTRT3_df_html_urls_inteiro_teor%5CTRT3_df_urls_inteiro_teor_29900.csv.csv\nTRT3_df_html_urls_inteiro_teor%5CTRT3_df_urls_inteiro_teor_3000.csv.csv\nTRT3_df_html_urls_inteiro_teor%5CTRT3_df_urls_inteiro_teor_3600.csv.csv\nTRT3_df_html_urls_inteiro_teor%5CTRT3_df_urls_inteiro_teor_3700.csv.csv\nTRT3_df_html_urls_inteiro_teor%5CTRT3_df_urls_inteiro_teor_3900.csv.csv\nTRT3_df_html_urls_inteiro_teor%5CTRT3_df_urls_inteiro_teor_4000.csv.csv\nTRT3_df_html_urls_inteiro_teor%5CTRT3_df_urls_inteiro_teor_4300.csv.csv\nTRT3_df_html_urls_inteiro_teor%5CTRT3_df_urls_inteiro_teor_4500.csv.csv\nTRT3_df_html_urls_inteiro_teor%5CTRT3_df_urls_inteiro_teor_4700.csv.csv\nTRT3_df_html_urls_inteiro_teor%5CTRT3_df_urls_inteiro_teor_5000.csv.csv\nTRT3_df_html_urls_inteiro_teor%5CTRT3_df_urls_inteiro_teor_5500.csv.csv\nTRT3_df_html_urls_inteiro_teor%5CTRT3_df_urls_inteiro_teor_6200.csv.csv\nTRT3_df_html_urls_inteiro_teor%5CTRT3_df_urls_inteiro_teor_6300.csv.csv\nTRT3_df_html_urls_inteiro_teor%5CTRT3_df_urls_inteiro_teor_6400.csv.csv\nTRT3_df_html_urls_inteiro_teor%5CTRT3_df_urls_inteiro_teor_6600.csv.csv\nTRT3_df_html_urls_inteiro_teor%5CTRT3_df_urls_inteiro_teor_6700.csv.csv\nTRT3_df_html_urls_inteiro_teor%5CTRT3_df_urls_inteiro_teor_6900.csv.csv\nTRT3_df_html_urls_inteiro_teor%5CTRT3_df_urls_inteiro_teor_700.csv.csv\nTRT3_df_html_urls_inteiro_teor%5CTRT3_df_urls_inteiro_teor_7400.csv.csv\nTRT3_df_html_urls_inteiro_teor%5CTRT3_df_urls_inteiro_teor_7600.csv.csv\nTRT3_df_html_urls_inteiro_teor%5CTRT3_df_urls_inteiro_teor_7800.csv.csv\nTRT3_df_html_urls_inteiro_teor%5CTRT3_df_urls_inteiro_teor_8000.csv.csv\nTRT3_df_html_urls_inteiro_teor%5CTRT3_df_urls_inteiro_teor_8300.csv.csv\nTRT3_df_html_urls_inteiro_teor%5CTRT3_df_urls_inteiro_teor_8600.csv.csv\nTRT3_df_html_urls_inteiro_teor%5CTRT3_df_urls_inteiro_teor_8900.csv.csv\nTRT3_df_html_urls_inteiro_teor%5CTRT3_df_urls_inteiro_teor_900.csv.csv\nTRT3_df_html_urls_inteiro_teor%5CTRT3_df_urls_inteiro_teor_9100.csv.csv\nTRT3_df_html_urls_inteiro_teor%5CTRT3_df_urls_inteiro_teor_9200.csv.csv\nTRT3_df_html_urls_inteiro_teor%5CTRT3_df_urls_inteiro_teor_9400.csv.csv\nTRT3_df_html_urls_inteiro_teor%5CTRT3_df_urls_inteiro_teor_9700.csv.csv\nTRT3_df_urls_inteiro_teor_500.csv.csv\n<class 'pandas.core.frame.DataFrame'>\nInt64Index: 8900 entries, 0 to 99\nData columns (total 1 columns):\nHTML    8900 non-null object\ndtypes: object(1)\nmemory usage: 139.1+ KB\n"
    }
   ],
   "source": [
    "trt3_df_inteiro_teor = pd.DataFrame(columns=[ 'HTML' ])\n",
    "\n",
    "pasta = \"html\\\\TRT3\"\n",
    "\n",
    "for nome_arquivo in os.listdir( pasta ):\n",
    "    print( nome_arquivo )\n",
    "    df = pd.read_csv( pasta+\"\\\\\"+nome_arquivo, encoding='utf-8' )\n",
    "    df[\"HTML\"] = df[\"HTML\"].map( text_from_html )\n",
    "    trt3_df_inteiro_teor = trt3_df_inteiro_teor.append( df )\n",
    "    #df.info()\n",
    "    #break\n",
    "\n",
    "trt3_df_inteiro_teor.info()"
   ]
  },
  {
   "cell_type": "code",
   "execution_count": 7,
   "metadata": {},
   "outputs": [
    {
     "output_type": "stream",
     "name": "stdout",
     "text": "<class 'pandas.core.frame.DataFrame'>\nInt64Index: 8787 entries, 0 to 99\nData columns (total 1 columns):\nHTML    8787 non-null object\ndtypes: object(1)\nmemory usage: 137.3+ KB\n"
    }
   ],
   "source": [
    "trt3_df_inteiro_teor = trt3_df_inteiro_teor.dropna()\n",
    "trt3_df_inteiro_teor = trt3_df_inteiro_teor.drop_duplicates()\n",
    "trt3_df_inteiro_teor.info()"
   ]
  },
  {
   "cell_type": "code",
   "execution_count": 8,
   "metadata": {},
   "outputs": [
    {
     "output_type": "stream",
     "name": "stdout",
     "text": "<class 'pandas.core.frame.DataFrame'>\nInt64Index: 8787 entries, 0 to 99\nData columns (total 1 columns):\nINTEIRO_TEOR    8787 non-null object\ndtypes: object(1)\nmemory usage: 137.3+ KB\n"
    }
   ],
   "source": [
    "trt3_df_inteiro_teor.columns = [\"INTEIRO_TEOR\"]\n",
    "trt3_df_inteiro_teor.info()"
   ]
  },
  {
   "cell_type": "code",
   "execution_count": 9,
   "metadata": {},
   "outputs": [],
   "source": [
    "trt3_df_inteiro_teor.to_csv( \"TRT3_df_inteiro_teor_2017_2018_2019_amostra.csv\", encoding='utf-8', index=False )"
   ]
  },
  {
   "cell_type": "code",
   "execution_count": null,
   "metadata": {},
   "outputs": [],
   "source": []
  }
 ]
}