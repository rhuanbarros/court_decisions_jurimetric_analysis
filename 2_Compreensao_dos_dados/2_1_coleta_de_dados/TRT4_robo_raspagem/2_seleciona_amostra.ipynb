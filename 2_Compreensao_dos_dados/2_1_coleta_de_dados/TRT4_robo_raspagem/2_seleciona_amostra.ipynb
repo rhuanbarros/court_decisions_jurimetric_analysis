{
 "nbformat": 4,
 "nbformat_minor": 2,
 "metadata": {
  "language_info": {
   "name": "python",
   "codemirror_mode": {
    "name": "ipython",
    "version": 3
   },
   "version": "3.7.4-final"
  },
  "orig_nbformat": 2,
  "file_extension": ".py",
  "mimetype": "text/x-python",
  "name": "python",
  "npconvert_exporter": "python",
  "pygments_lexer": "ipython3",
  "version": 3,
  "kernelspec": {
   "name": "python3",
   "display_name": "Python 3"
  }
 },
 "cells": [
  {
   "cell_type": "code",
   "execution_count": 1,
   "metadata": {},
   "outputs": [],
   "source": [
    "import pandas as pd\n",
    "import os"
   ]
  },
  {
   "cell_type": "markdown",
   "metadata": {},
   "source": [
    "# Carregamento dos arquivos CSV com as URLs"
   ]
  },
  {
   "cell_type": "code",
   "execution_count": 2,
   "metadata": {},
   "outputs": [
    {
     "output_type": "stream",
     "name": "stdout",
     "text": "TRT4_urls_2017-01-01_2017-05-01.csv\nTRT4_urls_2017-05-01_2017-12-14.csv\nTRT4_urls_2017-12-14_2018-10-08.csv\nTRT4_urls_2018-10-08_2019-05-08.csv\nTRT4_urls_2019-05-08_2019-11-19.csv\nTRT4_urls_2019-11-19_2019-12-31.csv\n<class 'pandas.core.frame.DataFrame'>\nInt64Index: 140554 entries, 0 to 6568\nData columns (total 1 columns):\nlink    140545 non-null object\ndtypes: object(1)\nmemory usage: 2.1+ MB\n"
    }
   ],
   "source": [
    "trt4_df_url = pd.DataFrame(columns=[ 'link' ])\n",
    "\n",
    "pasta = \"urls\"\n",
    "\n",
    "for nome_arquivo in os.listdir( pasta ):\n",
    "    print( nome_arquivo )\n",
    "    df = pd.read_csv( pasta+\"\\\\\"+nome_arquivo, encoding='utf-8' )\n",
    "    df=df.drop('_type',1)\n",
    "    trt4_df_url = trt4_df_url.append( df )\n",
    "\n",
    "trt4_df_url.info()"
   ]
  },
  {
   "cell_type": "markdown",
   "metadata": {},
   "source": [
    "### Cálculo do tamanho da amostra\n",
    "<br> Para estar certo da representatividade de decisões judiciais publicadas em 99% das vezes e que a amostra estatística extraída esteja no máximo 1% abaixo ou 1% acima da média da população, a quantidade deve ser de no mínimo 14.880. Optou-se por extrair quantidade maior para haver observações sobressalente no caso de algumas serem necessárias ser excluídas em fases posteriores de processamento."
   ]
  },
  {
   "cell_type": "markdown",
   "metadata": {},
   "source": [
    "### Tamanho da população: 140554\n",
    "### Tamanho da amostra: 14.880 + 20% = 17.856"
   ]
  },
  {
   "cell_type": "code",
   "execution_count": 3,
   "metadata": {},
   "outputs": [],
   "source": [
    "trt4_df_url.sample( 30000, random_state=1 ).to_csv( \"TRT4_df_url_2017_2018_2019_amostra_rndstate_1.csv\", encoding='utf-8', index=False )"
   ]
  },
  {
   "cell_type": "code",
   "execution_count": null,
   "metadata": {},
   "outputs": [],
   "source": []
  }
 ]
}