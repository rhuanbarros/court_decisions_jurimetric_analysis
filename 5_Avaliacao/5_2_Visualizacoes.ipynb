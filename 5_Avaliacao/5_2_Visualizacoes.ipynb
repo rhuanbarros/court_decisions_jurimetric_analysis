{
 "cells": [
  {
   "cell_type": "markdown",
   "metadata": {},
   "source": [
    "# TODO\n",
    "- verificar se as porcentagens estao ok"
   ]
  },
  {
   "cell_type": "code",
   "execution_count": 63,
   "metadata": {},
   "outputs": [
    {
     "name": "stdin",
     "output_type": "stream",
     "text": [
      "Once deleted, variables cannot be recovered. Proceed (y/[n])?  y\n"
     ]
    }
   ],
   "source": [
    "%reset"
   ]
  },
  {
   "cell_type": "markdown",
   "metadata": {},
   "source": [
    "# Resumo da Pesquisa de Mestrado"
   ]
  },
  {
   "cell_type": "markdown",
   "metadata": {},
   "source": [
    "<strong>Inspiração</strong>: o que inspirou o desenvolvimento dessa pesquisa foi o conhecimento prático deste pesquisador no dia-a-dia trabalhando na Justiça do Trabalho do Rio Grande do Sul em Porto Alegre no Brasil de que existem magistrados e Turmas Recursais que decidem majoritariamente para empregado ou para empresa, dependendo do seu viés. Tal fato é reconhecido na área de domínio por colegas de tribunal e advogados tendo até um palavra específica para representar esses magistrados. \"Magistrado Reclamante\" para magistrado que tem viés para empregado, e \"Magistrado Reclamada\" para magistrado que tem viés para empresa."
   ]
  },
  {
   "cell_type": "markdown",
   "metadata": {},
   "source": [
    "<strong>Problemática</strong>: advogados iniciantes ou de outra região do país, ou até mesmo as partes envolvidas, não detém este conhecimento empírico. No caso de processos que envolva milhões de Reais, a parte do processo que estiver melhor embasada pode tomar a melhor decisão e negociar mais efetivamente se souber qual a tendência de opinião do magistrado designado a julgar o caso."
   ]
  },
  {
   "cell_type": "markdown",
   "metadata": {},
   "source": [
    "<strong>Hipótese</strong>: \"Seria possível que os tribunais avaliados e suas turmas recursais julguem favoravelmente proporção significativamente maior de recursos para uma das partes do que para outra?\""
   ]
  },
  {
   "cell_type": "markdown",
   "metadata": {},
   "source": [
    "<strong>Solução proposta</strong>: \n",
    "<ol>\n",
    "<li>Realizar Processo de Descoberta de Conhecimento em Bases de Dados por meio de técnicas de Mineração de Texto a fim de classificar automaticamente decisões judiciais.</li>\n",
    "    Objetivos de mineração de dados:\n",
    "    <ol>\n",
    "    <li>Classificar automaticamente os acórdãos judiciais em relação ao deferimento ou não.\n",
    "    <li>Classificar automaticamente o requerente do recurso em relação a ser empresa ou a ser empregado.\n",
    "    <li>Classificar com os modelos desenvolvidos quantidade significante de decisões judiciais.\n",
    "    </ol>\n",
    "<li>Aplicar teste estatístico à base de decisões classificadas criada nos passos anteriores para verificar se existe diferença significativa entre a proporção de julgados favoravelmente a uma das partes.</li>\n",
    "<li>Calcular o efeito estatístico entre as duas proporções de modo a prover um indicador simples do tamanho da diferença, se houver diferença estatística.</li>\n",
    "</ol>"
   ]
  },
  {
   "cell_type": "markdown",
   "metadata": {},
   "source": [
    "#### Este notebook trata dos itens 2 e 3."
   ]
  },
  {
   "cell_type": "markdown",
   "metadata": {},
   "source": [
    "### Teste de hipótese\n",
    "<ul>\n",
    "    <li>Hipótese nula (H0): Pa = Pb</li>\n",
    "    <li>Hipótese alternativa (Ha): Pa &ne; Pb</li>\n",
    "    <li>Pa = Proporção de processos julgados positivamente para EMPREGADOS.</li>\n",
    "    <li>Pb = Proporção de processos julgados positivamente para EMPRESAS.</li>\n",
    "</ul>"
   ]
  },
  {
   "cell_type": "markdown",
   "metadata": {},
   "source": [
    "### Teste estatístico: Two proportion z-test.\n",
    "\n",
    "A seguir serão realizados testes para verificar se as duas proporções são iguais (hipótese nula) ou diferentes (hipótese alternativa) de acordo com teste estatístico implementado pela biblioteca Statsmodels utilizando o método proposto por Agresti and Caffo*.\n",
    "<ul>\n",
    "<li><strong>Type 1 error</strong>: Quando a hipótese nula (H0) é verdadeira, mas a amostra leva a crer que não é. Pode ser medido utilizando o p-value do teste estatístico.</li>\n",
    "<strong>P-value:</strong> indica a probabilidade de a hipótese nula ser verdadeira (intuitivamente falando).<br>\n",
    "<strong>Nível de confiança:</strong> foi definido como 95% (valor habitualmente usado na estatística) o nível de confiança para rejeitar a hipotese nula.<br>\n",
    "<strong>Nível de significancia:</strong> 1 - 0,95 = 0,05, ou seja, 5%.<br>\n",
    "<strong>Análise:</strong> Se o P-value for menor que 5%, considera-se rejeitada a H0, ou seja, as duas proporções são diferentes.\n",
    "\n",
    "<li><strong>Type 2 error</strong>: Quando a hipótese alternativa (Ha) é verdadeira, mas a amostra leva a crer que não é. Pode ser medido utilizando o \"Power\" do teste estatístico.</li>\n",
    "<strong>Power:</strong> indica a probabilidade de encontrar uma diferença estatística quando ela existe (intuitivamente falando).<br>\n",
    "<strong>Análise:</strong> Se o Power for maior que 80% (valor habitualmente usado na estatística), considera-se baixo o risco de ocorrer Type 2 error, ou seja, considera-se baixo o risco de considerar as duas proporções iguais, quando na verdade não são. O Power é altamente influenciado pelo tamanho da amostra.\n",
    "</ul>\n",
    "*Agresti and Caffo (2000), \"Simple and Effective Confidence Intervals for Proportions and Differences of Proportions Result From Adding Two Successes and Two Failures\"\n"
   ]
  },
  {
   "cell_type": "markdown",
   "metadata": {},
   "source": [
    "### Teste de efeito estatístico: Cohen's H\n",
    "Esse teste permite medir o tamanho da diferença estatística entre duas proporções, quando existente. O autor, chamado Jacob Cohen, indica a sua interpretação por meio da tabela abaixo.\n",
    "\n",
    "|abs( Cohen h )| Interpretação|\n",
    "|-------|---------------|\n",
    "|0 < .50| Insignificante|\n",
    "|0.20 < 0.50 |Pequeno|\n",
    "|0.50 < 0.80| Médio|\n",
    "|0.80 or more| Grande|"
   ]
  },
  {
   "cell_type": "code",
   "execution_count": 64,
   "metadata": {},
   "outputs": [],
   "source": [
    "import plotly.offline as pyo\n",
    "import plotly.graph_objs as go\n",
    "from plotly.offline import iplot\n",
    "import pandas as pd\n",
    "import numpy as np\n",
    "from statsmodels.stats import proportion\n",
    "from statsmodels.stats.proportion import proportion_effectsize\n",
    "from statsmodels.stats.power import NormalIndPower\n",
    "from statsmodels.stats.proportion import samplesize_proportions_2indep_onetail"
   ]
  },
  {
   "cell_type": "markdown",
   "metadata": {},
   "source": [
    "# Limpeza e preparação dos dados"
   ]
  },
  {
   "cell_type": "code",
   "execution_count": 65,
   "metadata": {},
   "outputs": [
    {
     "name": "stdout",
     "output_type": "stream",
     "text": [
      "<class 'pandas.core.frame.DataFrame'>\n",
      "RangeIndex: 22946 entries, 0 to 22945\n",
      "Data columns (total 12 columns):\n",
      " #   Column                    Non-Null Count  Dtype  \n",
      "---  ------                    --------------  -----  \n",
      " 0   INDEX                     22946 non-null  int64  \n",
      " 1   LINK                      12071 non-null  object \n",
      " 2   INTEIRO_TEOR              22946 non-null  object \n",
      " 3   DATA                      22946 non-null  object \n",
      " 4   RELATOR                   22946 non-null  object \n",
      " 5   ORGAO                     22946 non-null  object \n",
      " 6   RECORRENTE                22946 non-null  object \n",
      " 7   DISPOSITIVO               22946 non-null  object \n",
      " 8   QTD_RECORRENTES           22946 non-null  float64\n",
      " 9   TRIBUNAL                  22946 non-null  object \n",
      " 10  tipo_requerente_previsto  22946 non-null  int64  \n",
      " 11  deferimento_previsto      22946 non-null  int64  \n",
      "dtypes: float64(1), int64(3), object(8)\n",
      "memory usage: 2.1+ MB\n"
     ]
    }
   ],
   "source": [
    "df = pd.read_csv( \"df_classificado.csv\" )\n",
    "df.info()"
   ]
  },
  {
   "cell_type": "code",
   "execution_count": 66,
   "metadata": {},
   "outputs": [
    {
     "data": {
      "text/plain": [
       "1    17525\n",
       "0     5421\n",
       "Name: tipo_requerente_previsto, dtype: int64"
      ]
     },
     "execution_count": 66,
     "metadata": {},
     "output_type": "execute_result"
    }
   ],
   "source": [
    "df[\"tipo_requerente_previsto\"].value_counts()"
   ]
  },
  {
   "cell_type": "markdown",
   "metadata": {},
   "source": [
    "### Ajuste campo tipo requerente"
   ]
  },
  {
   "cell_type": "code",
   "execution_count": 67,
   "metadata": {},
   "outputs": [],
   "source": [
    "EMPRESA = 0\n",
    "EMPREGADO = 1"
   ]
  },
  {
   "cell_type": "code",
   "execution_count": 68,
   "metadata": {},
   "outputs": [
    {
     "data": {
      "text/plain": [
       "EMPREGADO    17525\n",
       "EMPRESA       5421\n",
       "Name: tipo_requerente_previsto, dtype: int64"
      ]
     },
     "execution_count": 68,
     "metadata": {},
     "output_type": "execute_result"
    }
   ],
   "source": [
    "df[\"tipo_requerente_previsto\"] = df[\"tipo_requerente_previsto\"].replace(EMPREGADO, \"EMPREGADO\")\n",
    "df[\"tipo_requerente_previsto\"] = df[\"tipo_requerente_previsto\"].replace(EMPRESA, \"EMPRESA\")\n",
    "df[\"tipo_requerente_previsto\"].value_counts()"
   ]
  },
  {
   "cell_type": "markdown",
   "metadata": {},
   "source": [
    "### Ajuste campo deferimento"
   ]
  },
  {
   "cell_type": "code",
   "execution_count": 69,
   "metadata": {},
   "outputs": [
    {
     "data": {
      "text/plain": [
       "0    12354\n",
       "1     9970\n",
       "2      622\n",
       "Name: deferimento_previsto, dtype: int64"
      ]
     },
     "execution_count": 69,
     "metadata": {},
     "output_type": "execute_result"
    }
   ],
   "source": [
    "df[\"deferimento_previsto\"].value_counts()"
   ]
  },
  {
   "cell_type": "code",
   "execution_count": 70,
   "metadata": {},
   "outputs": [],
   "source": [
    "INDEFERIMENTO = 0\n",
    "DEFERIMENTO = 1"
   ]
  },
  {
   "cell_type": "code",
   "execution_count": 71,
   "metadata": {},
   "outputs": [
    {
     "data": {
      "text/plain": [
       "INDEFERIMENTO    12354\n",
       "DEFERIMENTO       9970\n",
       "2                  622\n",
       "Name: deferimento_previsto, dtype: int64"
      ]
     },
     "execution_count": 71,
     "metadata": {},
     "output_type": "execute_result"
    }
   ],
   "source": [
    "df[\"deferimento_previsto\"] = df[\"deferimento_previsto\"].replace(INDEFERIMENTO, \"INDEFERIMENTO\")\n",
    "df[\"deferimento_previsto\"] = df[\"deferimento_previsto\"].replace(DEFERIMENTO, \"DEFERIMENTO\")\n",
    "df[\"deferimento_previsto\"].value_counts()"
   ]
  },
  {
   "cell_type": "markdown",
   "metadata": {},
   "source": [
    "#### Remoção de observações desnecessárias\n",
    "Remoção das observações do tipo 2, a saber, são as observações que não tiveram julgamento final devido a algum problema processual.\n",
    "<br>Manutenção apenas das linhas com a palavra \"Turma\", pois existem órgão que também julgam no Tribunal, mas são tipos diferentes de julgamentos, não interessantes para a pesquisa.\n",
    "<br>São mantidos apenas as colunas necessárias para realizar a análise propostas. Assim, os textos das decisões em si são removidos, o que diminui o tamanho do dataset em memória."
   ]
  },
  {
   "cell_type": "code",
   "execution_count": 72,
   "metadata": {},
   "outputs": [],
   "source": [
    "deferimento = df[\"deferimento_previsto\"] != 2\n",
    "orgao = df[\"ORGAO\"].str.contains(\"Turma\")\n",
    "df_limpo = df.loc[ deferimento & orgao, ['DATA', 'RELATOR', 'ORGAO', 'QTD_RECORRENTES', 'TRIBUNAL', 'tipo_requerente_previsto', 'deferimento_previsto'] ]\n",
    "#df_limpo.to_csv(\"df_limpo.csv\", encoding='utf-8', index=False )"
   ]
  },
  {
   "cell_type": "code",
   "execution_count": 73,
   "metadata": {},
   "outputs": [
    {
     "name": "stdout",
     "output_type": "stream",
     "text": [
      "<class 'pandas.core.frame.DataFrame'>\n",
      "Int64Index: 21828 entries, 0 to 22945\n",
      "Data columns (total 7 columns):\n",
      " #   Column                    Non-Null Count  Dtype  \n",
      "---  ------                    --------------  -----  \n",
      " 0   DATA                      21828 non-null  object \n",
      " 1   RELATOR                   21828 non-null  object \n",
      " 2   ORGAO                     21828 non-null  object \n",
      " 3   QTD_RECORRENTES           21828 non-null  float64\n",
      " 4   TRIBUNAL                  21828 non-null  object \n",
      " 5   tipo_requerente_previsto  21828 non-null  object \n",
      " 6   deferimento_previsto      21828 non-null  object \n",
      "dtypes: float64(1), object(6)\n",
      "memory usage: 1.3+ MB\n"
     ]
    }
   ],
   "source": [
    "df_limpo.info()"
   ]
  },
  {
   "cell_type": "markdown",
   "metadata": {},
   "source": [
    "### Ajuste dos nomes das turmas recursais"
   ]
  },
  {
   "cell_type": "code",
   "execution_count": 74,
   "metadata": {},
   "outputs": [
    {
     "data": {
      "text/plain": [
       "array(['3ª Turma', '1ª Turma', '6ª Turma', '5ª Turma', '7ª Turma',\n",
       "       '2ª Turma', '8ª Turma', '4ª Turma', '10ª Turma', '9ª Turma',\n",
       "       '11ª Turma', 'Segunda Turma', 'Terceira Turma', 'Setima Turma',\n",
       "       'Quarta Turma', 'Nona Turma', 'Decima Primeira Turma',\n",
       "       'Oitava Turma', 'Primeira Turma', 'Quinta Turma', 'Sexta Turma',\n",
       "       'Decima Turma'], dtype=object)"
      ]
     },
     "execution_count": 74,
     "metadata": {},
     "output_type": "execute_result"
    }
   ],
   "source": [
    "df_limpo[\"ORGAO\"].unique()"
   ]
  },
  {
   "cell_type": "code",
   "execution_count": 75,
   "metadata": {},
   "outputs": [
    {
     "data": {
      "text/plain": [
       "array(['3ª Turma', '1ª Turma', '6ª Turma', '5ª Turma', '7ª Turma',\n",
       "       '2ª Turma', '8ª Turma', '4ª Turma', '10ª Turma', '9ª Turma',\n",
       "       '11ª Turma'], dtype=object)"
      ]
     },
     "execution_count": 75,
     "metadata": {},
     "output_type": "execute_result"
    }
   ],
   "source": [
    "df_limpo[\"ORGAO\"] = df_limpo[\"ORGAO\"].replace('Segunda Turma', '2ª Turma')\n",
    "df_limpo[\"ORGAO\"] = df_limpo[\"ORGAO\"].replace('Terceira Turma', '3ª Turma')\n",
    "df_limpo[\"ORGAO\"] = df_limpo[\"ORGAO\"].replace('Setima Turma', '7ª Turma')\n",
    "df_limpo[\"ORGAO\"] = df_limpo[\"ORGAO\"].replace('Quarta Turma', '4ª Turma')\n",
    "df_limpo[\"ORGAO\"] = df_limpo[\"ORGAO\"].replace('Nona Turma', '9ª Turma')\n",
    "df_limpo[\"ORGAO\"] = df_limpo[\"ORGAO\"].replace('Decima Primeira Turma', '11ª Turma')\n",
    "df_limpo[\"ORGAO\"] = df_limpo[\"ORGAO\"].replace('Oitava Turma', '8ª Turma')\n",
    "df_limpo[\"ORGAO\"] = df_limpo[\"ORGAO\"].replace('Primeira Turma', '1ª Turma')\n",
    "df_limpo[\"ORGAO\"] = df_limpo[\"ORGAO\"].replace('Quinta Turma', '5ª Turma')\n",
    "df_limpo[\"ORGAO\"] = df_limpo[\"ORGAO\"].replace('Sexta Turma', '6ª Turma')\n",
    "df_limpo[\"ORGAO\"] = df_limpo[\"ORGAO\"].replace('Decima Turma', '10ª Turma')\n",
    "df_limpo[\"ORGAO\"].unique()"
   ]
  },
  {
   "cell_type": "markdown",
   "metadata": {},
   "source": [
    "### Construção de dataframes auxiliares"
   ]
  },
  {
   "cell_type": "code",
   "execution_count": 76,
   "metadata": {},
   "outputs": [],
   "source": [
    "#utilizado para construção de gráficos e testes estatísticos\n",
    "\n",
    "#precisa fazer todo este processo abaixo, pq o agrupamento pode gerar grupos que tenham pouca quantidade de processos julgados e nao tendo nenhum julgado para um dos tipos faz dar erro no cálculo de porcentagem nas células porsteriores.\n",
    "#por isso, completamos com 0 para as células posteriores poderem ter um valor pra somar.\n",
    "\n",
    "_tribunal_TRT4 = df_limpo[\"TRIBUNAL\"] == \"TRT4\"\n",
    "df_quantidades_TRT4 = df_limpo.loc[ _tribunal_TRT4, : ].groupby( [ \"TRIBUNAL\", \"ORGAO\", \"tipo_requerente_previsto\", \"deferimento_previsto\" ])[\"deferimento_previsto\"].count().unstack(fill_value=0).stack().to_frame().rename(columns={0:'QUANTIDADE'}).unstack(level=-2, fill_value=0).stack()\n",
    "df_quantidades_TRT4.reset_index( inplace=True)\n",
    "\n",
    "_tribunal_TRT3 = df_limpo[\"TRIBUNAL\"] == \"TRT3\"\n",
    "df_quantidades_TRT3 = df_limpo.loc[ _tribunal_TRT3, : ].groupby( [ \"TRIBUNAL\", \"ORGAO\", \"tipo_requerente_previsto\", \"deferimento_previsto\" ])[\"deferimento_previsto\"].count().unstack(fill_value=0).stack().to_frame().rename(columns={0:'QUANTIDADE'}).unstack(level=-2, fill_value=0).stack()\n",
    "df_quantidades_TRT3.reset_index( inplace=True)"
   ]
  },
  {
   "cell_type": "code",
   "execution_count": 77,
   "metadata": {},
   "outputs": [],
   "source": [
    "#utilizado para testes estatísticos\n",
    "\n",
    "#define função para criar tabela de frequencia normalizada em percentuais em relação a cada turma recursal.\n",
    "#Quem sabe poderia ter usado o pd.crosstab, mas acabei fazendo na mão mesmo....\n",
    "\n",
    "def cria_df_quantidades_percentuais( nome_tribunal, df_quantidades ):\n",
    "    df_temp = pd.DataFrame()\n",
    "    \n",
    "    _tribunal = df_quantidades[\"TRIBUNAL\"] == nome_tribunal\n",
    "    \n",
    "    _deferimento = df_quantidades[\"deferimento_previsto\"] == \"DEFERIMENTO\"\n",
    "    _indeferimento = df_quantidades[\"deferimento_previsto\"] == \"INDEFERIMENTO\"\n",
    "    _tipo_requerente_EMPREGADO = df_quantidades[\"tipo_requerente_previsto\"] == \"EMPREGADO\"\n",
    "    _tipo_requerente_EMPRESA = df_quantidades[\"tipo_requerente_previsto\"] == \"EMPRESA\"\n",
    "    \n",
    "    for nome_orgao in df_quantidades.loc[ _tribunal, \"ORGAO\" ].unique():\n",
    "        #print(nome_orgao)\n",
    "        _orgao = df_quantidades.loc[ _tribunal, \"ORGAO\" ] == nome_orgao\n",
    "\n",
    "        #porcentagem EMPREGADO DEFERIMENTO\n",
    "        qtd_deferimento_empregado = df_quantidades.loc[ _tribunal & _orgao & _deferimento &  _tipo_requerente_EMPREGADO, \"QUANTIDADE\" ].iloc[0]\n",
    "        qtd_indeferimento_empregado = df_quantidades.loc[ _tribunal & _orgao & _indeferimento &  _tipo_requerente_EMPREGADO, \"QUANTIDADE\" ].iloc[0]\n",
    "\n",
    "        total = qtd_deferimento_empregado + qtd_indeferimento_empregado\n",
    "        percentual_deferimento = ( qtd_deferimento_empregado / total ) * 100\n",
    "\n",
    "        nova_linha = {\"TRIBUNAL\": nome_tribunal, \"ORGAO\": nome_orgao, \"tipo_requerente_previsto\": \"EMPREGADO\", \"percentual_deferido\": percentual_deferimento}\n",
    "        #print(nova_linha)\n",
    "        df_temp = df_temp.append(nova_linha, ignore_index=True)\n",
    "\n",
    "        #porcentagem EMPRESA DEFERIMENTO\n",
    "        qtd_deferimento_empresa = df_quantidades.loc[ _tribunal & _orgao & _deferimento &  _tipo_requerente_EMPRESA, \"QUANTIDADE\" ].iloc[0]\n",
    "        qtd_indeferimento_empresa = df_quantidades.loc[ _tribunal & _orgao & _indeferimento &  _tipo_requerente_EMPRESA, \"QUANTIDADE\" ].iloc[0]\n",
    "\n",
    "        total = qtd_deferimento_empresa + qtd_indeferimento_empresa\n",
    "        percentual_deferimento = ( qtd_deferimento_empresa / total ) * 100\n",
    "\n",
    "        nova_linha = {\"TRIBUNAL\": nome_tribunal, \"ORGAO\": nome_orgao, \"tipo_requerente_previsto\": \"EMPRESA\", \"percentual_deferido\": percentual_deferimento}\n",
    "        #print(nova_linha)\n",
    "        df_temp = df_temp.append(nova_linha, ignore_index=True)\n",
    "    return df_temp"
   ]
  },
  {
   "cell_type": "code",
   "execution_count": 78,
   "metadata": {},
   "outputs": [],
   "source": [
    "df_quantidades_percentuais_TRT4 = pd.DataFrame()\n",
    "df_quantidades_percentuais_TRT3 = pd.DataFrame()\n",
    "\n",
    "df_quantidades_percentuais_TRT4 = cria_df_quantidades_percentuais( \"TRT4\", df_quantidades_TRT4 )\n",
    "df_quantidades_percentuais_TRT3 = cria_df_quantidades_percentuais( \"TRT3\", df_quantidades_TRT3 )"
   ]
  },
  {
   "cell_type": "markdown",
   "metadata": {},
   "source": [
    "### Ordenação dos dataframes\n",
    "Serve para que os gráficos fiquem na ordem do número das turmas recursais.\n",
    "<br>**Importante: os nomes das turmas recursais tem que estar escritos na forma de números em vez de por extenso. Exemplo: 11ª Turma Recursal."
   ]
  },
  {
   "cell_type": "code",
   "execution_count": 79,
   "metadata": {},
   "outputs": [],
   "source": [
    "#precisa ordenar na ordem inversa, pq os gráficos são inseridos no plotly nessa ordem, e daí são exibidos na ordem inversa, o que faz com que eles fiquem na ordem desejada.\n",
    "df_quantidades_TRT4[\"NUMERO_ORDEM\"] = df_quantidades_TRT4[\"ORGAO\"].str.extract('(\\d+)')\n",
    "df_quantidades_TRT4[\"NUMERO_ORDEM\"] = df_quantidades_TRT4[\"NUMERO_ORDEM\"].astype(int)\n",
    "df_quantidades_TRT4 = df_quantidades_TRT4.sort_values([ \"NUMERO_ORDEM\", \"tipo_requerente_previsto\", \"deferimento_previsto\" ], ascending=[ False, True, False ])\n",
    "\n",
    "df_quantidades_TRT3[\"NUMERO_ORDEM\"] = df_quantidades_TRT3[\"ORGAO\"].str.extract('(\\d+)')\n",
    "df_quantidades_TRT3[\"NUMERO_ORDEM\"] = df_quantidades_TRT3[\"NUMERO_ORDEM\"].astype(int)\n",
    "df_quantidades_TRT3 = df_quantidades_TRT3.sort_values([ \"NUMERO_ORDEM\", \"tipo_requerente_previsto\", \"deferimento_previsto\" ], ascending=[ False, True, False ])"
   ]
  },
  {
   "cell_type": "code",
   "execution_count": 80,
   "metadata": {},
   "outputs": [],
   "source": [
    "#precisa ordenar na ordem inversa, pq os gráficos são inseridos no plotly nessa ordem, e daí são exibidos na ordem inversa, o que faz com que eles fiquem na ordem desejada.\n",
    "df_quantidades_percentuais_TRT4[\"NUMERO_ORDEM\"] = df_quantidades_percentuais_TRT4[\"ORGAO\"].str.extract('(\\d+)')\n",
    "df_quantidades_percentuais_TRT4[\"NUMERO_ORDEM\"] = df_quantidades_percentuais_TRT4[\"NUMERO_ORDEM\"].astype(int)\n",
    "df_quantidades_percentuais_TRT4 = df_quantidades_percentuais_TRT4.sort_values([ \"NUMERO_ORDEM\", \"tipo_requerente_previsto\" ], ascending=[ False, True ])\n",
    "\n",
    "df_quantidades_percentuais_TRT3[\"NUMERO_ORDEM\"] = df_quantidades_percentuais_TRT3[\"ORGAO\"].str.extract('(\\d+)')\n",
    "df_quantidades_percentuais_TRT3[\"NUMERO_ORDEM\"] = df_quantidades_percentuais_TRT3[\"NUMERO_ORDEM\"].astype(int)\n",
    "df_quantidades_percentuais_TRT3 = df_quantidades_percentuais_TRT3.sort_values([ \"NUMERO_ORDEM\", \"tipo_requerente_previsto\" ], ascending=[ False, True ])"
   ]
  },
  {
   "cell_type": "code",
   "execution_count": null,
   "metadata": {},
   "outputs": [],
   "source": []
  },
  {
   "cell_type": "code",
   "execution_count": null,
   "metadata": {},
   "outputs": [],
   "source": []
  },
  {
   "cell_type": "code",
   "execution_count": null,
   "metadata": {},
   "outputs": [],
   "source": []
  },
  {
   "cell_type": "code",
   "execution_count": null,
   "metadata": {},
   "outputs": [],
   "source": []
  },
  {
   "cell_type": "code",
   "execution_count": null,
   "metadata": {},
   "outputs": [],
   "source": []
  },
  {
   "cell_type": "code",
   "execution_count": null,
   "metadata": {},
   "outputs": [],
   "source": []
  },
  {
   "cell_type": "markdown",
   "metadata": {},
   "source": [
    "# Análise de Dados Gráfica"
   ]
  },
  {
   "cell_type": "markdown",
   "metadata": {},
   "source": [
    "# TRT 4 - Análise do tribunal de modo geral\n",
    "## Proporção de deferimentos e indeferimentos para ambas as partes"
   ]
  },
  {
   "cell_type": "code",
   "execution_count": 81,
   "metadata": {},
   "outputs": [],
   "source": [
    "_tribunal_TRT4 = df_limpo[\"TRIBUNAL\"] == \"TRT4\"\n",
    "X_def = pd.crosstab( df_limpo.loc[ _tribunal_TRT4 ].tipo_requerente_previsto, df_limpo.loc[ _tribunal_TRT4 ].deferimento_previsto ).loc[ :, \"DEFERIMENTO\" ]\n",
    "X_indef = pd.crosstab( df_limpo.loc[ _tribunal_TRT4 ].tipo_requerente_previsto, df_limpo.loc[ _tribunal_TRT4 ].deferimento_previsto ).loc[ :, \"INDEFERIMENTO\" ]\n",
    "rotulos = [ \"EMPREGADO\", \"EMPRESA\" ]"
   ]
  },
  {
   "cell_type": "code",
   "execution_count": 82,
   "metadata": {},
   "outputs": [],
   "source": [
    "porporcao_empregado, porporcao_empresa  = pd.crosstab( df_limpo.loc[ _tribunal_TRT4 ].tipo_requerente_previsto, df_limpo.loc[ _tribunal_TRT4 ].deferimento_previsto ).apply(lambda r:r/r.sum(),axis=1).loc[ :,  \"DEFERIMENTO\" ].to_numpy().flatten()"
   ]
  },
  {
   "cell_type": "code",
   "execution_count": 83,
   "metadata": {},
   "outputs": [
    {
     "data": {
      "application/vnd.plotly.v1+json": {
       "config": {
        "plotlyServerURL": "https://plot.ly"
       },
       "data": [
        {
         "name": "DEFERIMENTO",
         "orientation": "h",
         "textfont": {
          "color": "black",
          "family": "sans serif",
          "size": 18
         },
         "textposition": "auto",
         "type": "bar",
         "x": [
          4722,
          767
         ],
         "y": [
          "EMPREGADO",
          "EMPRESA"
         ]
        },
        {
         "name": "INDEFERIMENTO",
         "orientation": "h",
         "textposition": "auto",
         "type": "bar",
         "x": [
          4676,
          1186
         ],
         "y": [
          "EMPREGADO",
          "EMPRESA"
         ]
        }
       ],
       "layout": {
        "annotations": [
         {
          "font": {
           "color": "#ffffff",
           "size": 16
          },
          "showarrow": false,
          "text": "50.24%",
          "x": 47.24473292189827,
          "y": "EMPREGADO"
         },
         {
          "font": {
           "color": "#ffffff",
           "size": 16
          },
          "showarrow": false,
          "text": "39.27%",
          "x": 36.27291346646186,
          "y": "EMPRESA"
         }
        ],
        "autosize": true,
        "barmode": "stack",
        "barnorm": "percent",
        "template": {
         "data": {
          "bar": [
           {
            "error_x": {
             "color": "#2a3f5f"
            },
            "error_y": {
             "color": "#2a3f5f"
            },
            "marker": {
             "line": {
              "color": "#E5ECF6",
              "width": 0.5
             }
            },
            "type": "bar"
           }
          ],
          "barpolar": [
           {
            "marker": {
             "line": {
              "color": "#E5ECF6",
              "width": 0.5
             }
            },
            "type": "barpolar"
           }
          ],
          "carpet": [
           {
            "aaxis": {
             "endlinecolor": "#2a3f5f",
             "gridcolor": "white",
             "linecolor": "white",
             "minorgridcolor": "white",
             "startlinecolor": "#2a3f5f"
            },
            "baxis": {
             "endlinecolor": "#2a3f5f",
             "gridcolor": "white",
             "linecolor": "white",
             "minorgridcolor": "white",
             "startlinecolor": "#2a3f5f"
            },
            "type": "carpet"
           }
          ],
          "choropleth": [
           {
            "colorbar": {
             "outlinewidth": 0,
             "ticks": ""
            },
            "type": "choropleth"
           }
          ],
          "contour": [
           {
            "colorbar": {
             "outlinewidth": 0,
             "ticks": ""
            },
            "colorscale": [
             [
              0,
              "#0d0887"
             ],
             [
              0.1111111111111111,
              "#46039f"
             ],
             [
              0.2222222222222222,
              "#7201a8"
             ],
             [
              0.3333333333333333,
              "#9c179e"
             ],
             [
              0.4444444444444444,
              "#bd3786"
             ],
             [
              0.5555555555555556,
              "#d8576b"
             ],
             [
              0.6666666666666666,
              "#ed7953"
             ],
             [
              0.7777777777777778,
              "#fb9f3a"
             ],
             [
              0.8888888888888888,
              "#fdca26"
             ],
             [
              1,
              "#f0f921"
             ]
            ],
            "type": "contour"
           }
          ],
          "contourcarpet": [
           {
            "colorbar": {
             "outlinewidth": 0,
             "ticks": ""
            },
            "type": "contourcarpet"
           }
          ],
          "heatmap": [
           {
            "colorbar": {
             "outlinewidth": 0,
             "ticks": ""
            },
            "colorscale": [
             [
              0,
              "#0d0887"
             ],
             [
              0.1111111111111111,
              "#46039f"
             ],
             [
              0.2222222222222222,
              "#7201a8"
             ],
             [
              0.3333333333333333,
              "#9c179e"
             ],
             [
              0.4444444444444444,
              "#bd3786"
             ],
             [
              0.5555555555555556,
              "#d8576b"
             ],
             [
              0.6666666666666666,
              "#ed7953"
             ],
             [
              0.7777777777777778,
              "#fb9f3a"
             ],
             [
              0.8888888888888888,
              "#fdca26"
             ],
             [
              1,
              "#f0f921"
             ]
            ],
            "type": "heatmap"
           }
          ],
          "heatmapgl": [
           {
            "colorbar": {
             "outlinewidth": 0,
             "ticks": ""
            },
            "colorscale": [
             [
              0,
              "#0d0887"
             ],
             [
              0.1111111111111111,
              "#46039f"
             ],
             [
              0.2222222222222222,
              "#7201a8"
             ],
             [
              0.3333333333333333,
              "#9c179e"
             ],
             [
              0.4444444444444444,
              "#bd3786"
             ],
             [
              0.5555555555555556,
              "#d8576b"
             ],
             [
              0.6666666666666666,
              "#ed7953"
             ],
             [
              0.7777777777777778,
              "#fb9f3a"
             ],
             [
              0.8888888888888888,
              "#fdca26"
             ],
             [
              1,
              "#f0f921"
             ]
            ],
            "type": "heatmapgl"
           }
          ],
          "histogram": [
           {
            "marker": {
             "colorbar": {
              "outlinewidth": 0,
              "ticks": ""
             }
            },
            "type": "histogram"
           }
          ],
          "histogram2d": [
           {
            "colorbar": {
             "outlinewidth": 0,
             "ticks": ""
            },
            "colorscale": [
             [
              0,
              "#0d0887"
             ],
             [
              0.1111111111111111,
              "#46039f"
             ],
             [
              0.2222222222222222,
              "#7201a8"
             ],
             [
              0.3333333333333333,
              "#9c179e"
             ],
             [
              0.4444444444444444,
              "#bd3786"
             ],
             [
              0.5555555555555556,
              "#d8576b"
             ],
             [
              0.6666666666666666,
              "#ed7953"
             ],
             [
              0.7777777777777778,
              "#fb9f3a"
             ],
             [
              0.8888888888888888,
              "#fdca26"
             ],
             [
              1,
              "#f0f921"
             ]
            ],
            "type": "histogram2d"
           }
          ],
          "histogram2dcontour": [
           {
            "colorbar": {
             "outlinewidth": 0,
             "ticks": ""
            },
            "colorscale": [
             [
              0,
              "#0d0887"
             ],
             [
              0.1111111111111111,
              "#46039f"
             ],
             [
              0.2222222222222222,
              "#7201a8"
             ],
             [
              0.3333333333333333,
              "#9c179e"
             ],
             [
              0.4444444444444444,
              "#bd3786"
             ],
             [
              0.5555555555555556,
              "#d8576b"
             ],
             [
              0.6666666666666666,
              "#ed7953"
             ],
             [
              0.7777777777777778,
              "#fb9f3a"
             ],
             [
              0.8888888888888888,
              "#fdca26"
             ],
             [
              1,
              "#f0f921"
             ]
            ],
            "type": "histogram2dcontour"
           }
          ],
          "mesh3d": [
           {
            "colorbar": {
             "outlinewidth": 0,
             "ticks": ""
            },
            "type": "mesh3d"
           }
          ],
          "parcoords": [
           {
            "line": {
             "colorbar": {
              "outlinewidth": 0,
              "ticks": ""
             }
            },
            "type": "parcoords"
           }
          ],
          "pie": [
           {
            "automargin": true,
            "type": "pie"
           }
          ],
          "scatter": [
           {
            "marker": {
             "colorbar": {
              "outlinewidth": 0,
              "ticks": ""
             }
            },
            "type": "scatter"
           }
          ],
          "scatter3d": [
           {
            "line": {
             "colorbar": {
              "outlinewidth": 0,
              "ticks": ""
             }
            },
            "marker": {
             "colorbar": {
              "outlinewidth": 0,
              "ticks": ""
             }
            },
            "type": "scatter3d"
           }
          ],
          "scattercarpet": [
           {
            "marker": {
             "colorbar": {
              "outlinewidth": 0,
              "ticks": ""
             }
            },
            "type": "scattercarpet"
           }
          ],
          "scattergeo": [
           {
            "marker": {
             "colorbar": {
              "outlinewidth": 0,
              "ticks": ""
             }
            },
            "type": "scattergeo"
           }
          ],
          "scattergl": [
           {
            "marker": {
             "colorbar": {
              "outlinewidth": 0,
              "ticks": ""
             }
            },
            "type": "scattergl"
           }
          ],
          "scattermapbox": [
           {
            "marker": {
             "colorbar": {
              "outlinewidth": 0,
              "ticks": ""
             }
            },
            "type": "scattermapbox"
           }
          ],
          "scatterpolar": [
           {
            "marker": {
             "colorbar": {
              "outlinewidth": 0,
              "ticks": ""
             }
            },
            "type": "scatterpolar"
           }
          ],
          "scatterpolargl": [
           {
            "marker": {
             "colorbar": {
              "outlinewidth": 0,
              "ticks": ""
             }
            },
            "type": "scatterpolargl"
           }
          ],
          "scatterternary": [
           {
            "marker": {
             "colorbar": {
              "outlinewidth": 0,
              "ticks": ""
             }
            },
            "type": "scatterternary"
           }
          ],
          "surface": [
           {
            "colorbar": {
             "outlinewidth": 0,
             "ticks": ""
            },
            "colorscale": [
             [
              0,
              "#0d0887"
             ],
             [
              0.1111111111111111,
              "#46039f"
             ],
             [
              0.2222222222222222,
              "#7201a8"
             ],
             [
              0.3333333333333333,
              "#9c179e"
             ],
             [
              0.4444444444444444,
              "#bd3786"
             ],
             [
              0.5555555555555556,
              "#d8576b"
             ],
             [
              0.6666666666666666,
              "#ed7953"
             ],
             [
              0.7777777777777778,
              "#fb9f3a"
             ],
             [
              0.8888888888888888,
              "#fdca26"
             ],
             [
              1,
              "#f0f921"
             ]
            ],
            "type": "surface"
           }
          ],
          "table": [
           {
            "cells": {
             "fill": {
              "color": "#EBF0F8"
             },
             "line": {
              "color": "white"
             }
            },
            "header": {
             "fill": {
              "color": "#C8D4E3"
             },
             "line": {
              "color": "white"
             }
            },
            "type": "table"
           }
          ]
         },
         "layout": {
          "annotationdefaults": {
           "arrowcolor": "#2a3f5f",
           "arrowhead": 0,
           "arrowwidth": 1
          },
          "autotypenumbers": "strict",
          "coloraxis": {
           "colorbar": {
            "outlinewidth": 0,
            "ticks": ""
           }
          },
          "colorscale": {
           "diverging": [
            [
             0,
             "#8e0152"
            ],
            [
             0.1,
             "#c51b7d"
            ],
            [
             0.2,
             "#de77ae"
            ],
            [
             0.3,
             "#f1b6da"
            ],
            [
             0.4,
             "#fde0ef"
            ],
            [
             0.5,
             "#f7f7f7"
            ],
            [
             0.6,
             "#e6f5d0"
            ],
            [
             0.7,
             "#b8e186"
            ],
            [
             0.8,
             "#7fbc41"
            ],
            [
             0.9,
             "#4d9221"
            ],
            [
             1,
             "#276419"
            ]
           ],
           "sequential": [
            [
             0,
             "#0d0887"
            ],
            [
             0.1111111111111111,
             "#46039f"
            ],
            [
             0.2222222222222222,
             "#7201a8"
            ],
            [
             0.3333333333333333,
             "#9c179e"
            ],
            [
             0.4444444444444444,
             "#bd3786"
            ],
            [
             0.5555555555555556,
             "#d8576b"
            ],
            [
             0.6666666666666666,
             "#ed7953"
            ],
            [
             0.7777777777777778,
             "#fb9f3a"
            ],
            [
             0.8888888888888888,
             "#fdca26"
            ],
            [
             1,
             "#f0f921"
            ]
           ],
           "sequentialminus": [
            [
             0,
             "#0d0887"
            ],
            [
             0.1111111111111111,
             "#46039f"
            ],
            [
             0.2222222222222222,
             "#7201a8"
            ],
            [
             0.3333333333333333,
             "#9c179e"
            ],
            [
             0.4444444444444444,
             "#bd3786"
            ],
            [
             0.5555555555555556,
             "#d8576b"
            ],
            [
             0.6666666666666666,
             "#ed7953"
            ],
            [
             0.7777777777777778,
             "#fb9f3a"
            ],
            [
             0.8888888888888888,
             "#fdca26"
            ],
            [
             1,
             "#f0f921"
            ]
           ]
          },
          "colorway": [
           "#636efa",
           "#EF553B",
           "#00cc96",
           "#ab63fa",
           "#FFA15A",
           "#19d3f3",
           "#FF6692",
           "#B6E880",
           "#FF97FF",
           "#FECB52"
          ],
          "font": {
           "color": "#2a3f5f"
          },
          "geo": {
           "bgcolor": "white",
           "lakecolor": "white",
           "landcolor": "#E5ECF6",
           "showlakes": true,
           "showland": true,
           "subunitcolor": "white"
          },
          "hoverlabel": {
           "align": "left"
          },
          "hovermode": "closest",
          "mapbox": {
           "style": "light"
          },
          "paper_bgcolor": "white",
          "plot_bgcolor": "#E5ECF6",
          "polar": {
           "angularaxis": {
            "gridcolor": "white",
            "linecolor": "white",
            "ticks": ""
           },
           "bgcolor": "#E5ECF6",
           "radialaxis": {
            "gridcolor": "white",
            "linecolor": "white",
            "ticks": ""
           }
          },
          "scene": {
           "xaxis": {
            "backgroundcolor": "#E5ECF6",
            "gridcolor": "white",
            "gridwidth": 2,
            "linecolor": "white",
            "showbackground": true,
            "ticks": "",
            "zerolinecolor": "white"
           },
           "yaxis": {
            "backgroundcolor": "#E5ECF6",
            "gridcolor": "white",
            "gridwidth": 2,
            "linecolor": "white",
            "showbackground": true,
            "ticks": "",
            "zerolinecolor": "white"
           },
           "zaxis": {
            "backgroundcolor": "#E5ECF6",
            "gridcolor": "white",
            "gridwidth": 2,
            "linecolor": "white",
            "showbackground": true,
            "ticks": "",
            "zerolinecolor": "white"
           }
          },
          "shapedefaults": {
           "line": {
            "color": "#2a3f5f"
           }
          },
          "ternary": {
           "aaxis": {
            "gridcolor": "white",
            "linecolor": "white",
            "ticks": ""
           },
           "baxis": {
            "gridcolor": "white",
            "linecolor": "white",
            "ticks": ""
           },
           "bgcolor": "#E5ECF6",
           "caxis": {
            "gridcolor": "white",
            "linecolor": "white",
            "ticks": ""
           }
          },
          "title": {
           "x": 0.05
          },
          "xaxis": {
           "automargin": true,
           "gridcolor": "white",
           "linecolor": "white",
           "ticks": "",
           "title": {
            "standoff": 15
           },
           "zerolinecolor": "white",
           "zerolinewidth": 2
          },
          "yaxis": {
           "automargin": true,
           "gridcolor": "white",
           "linecolor": "white",
           "ticks": "",
           "title": {
            "standoff": 15
           },
           "zerolinecolor": "white",
           "zerolinewidth": 2
          }
         }
        },
        "title": {
         "text": "TRT da 4ª Região. Porcentagem de julgamentos favoráveis para cada uma das partes."
        },
        "xaxis": {
         "autorange": true,
         "range": [
          0,
          100
         ],
         "type": "linear"
        },
        "yaxis": {
         "autorange": true,
         "range": [
          -0.5,
          1.5
         ],
         "type": "category"
        }
       }
      },
      "image/png": "[encoded data removed]",
      "text/html": [
       "<div>                            <div id=\"12035209-8fd6-4a52-8d2b-27063212f7e7\" class=\"plotly-graph-div\" style=\"height:525px; width:100%;\"></div>            <script type=\"text/javascript\">                require([\"plotly\"], function(Plotly) {                    window.PLOTLYENV=window.PLOTLYENV || {};                                    if (document.getElementById(\"12035209-8fd6-4a52-8d2b-27063212f7e7\")) {                    Plotly.newPlot(                        \"12035209-8fd6-4a52-8d2b-27063212f7e7\",                        [{\"name\": \"DEFERIMENTO\", \"orientation\": \"h\", \"textfont\": {\"color\": \"black\", \"family\": \"sans serif\", \"size\": 18}, \"textposition\": \"auto\", \"type\": \"bar\", \"x\": [4722, 767], \"y\": [\"EMPREGADO\", \"EMPRESA\"]}, {\"name\": \"INDEFERIMENTO\", \"orientation\": \"h\", \"textposition\": \"auto\", \"type\": \"bar\", \"x\": [4676, 1186], \"y\": [\"EMPREGADO\", \"EMPRESA\"]}],                        {\"annotations\": [{\"font\": {\"color\": \"#ffffff\", \"size\": 16}, \"showarrow\": false, \"text\": \"50.24%\", \"x\": 47.24473292189827, \"y\": \"EMPREGADO\"}, {\"font\": {\"color\": \"#ffffff\", \"size\": 16}, \"showarrow\": false, \"text\": \"39.27%\", \"x\": 36.27291346646186, \"y\": \"EMPRESA\"}], \"barmode\": \"stack\", \"barnorm\": \"percent\", \"template\": {\"data\": {\"bar\": [{\"error_x\": {\"color\": \"#2a3f5f\"}, \"error_y\": {\"color\": \"#2a3f5f\"}, \"marker\": {\"line\": {\"color\": \"#E5ECF6\", \"width\": 0.5}}, \"type\": \"bar\"}], \"barpolar\": [{\"marker\": {\"line\": {\"color\": \"#E5ECF6\", \"width\": 0.5}}, \"type\": \"barpolar\"}], \"carpet\": [{\"aaxis\": {\"endlinecolor\": \"#2a3f5f\", \"gridcolor\": \"white\", \"linecolor\": \"white\", \"minorgridcolor\": \"white\", \"startlinecolor\": \"#2a3f5f\"}, \"baxis\": {\"endlinecolor\": \"#2a3f5f\", \"gridcolor\": \"white\", \"linecolor\": \"white\", \"minorgridcolor\": \"white\", \"startlinecolor\": \"#2a3f5f\"}, \"type\": \"carpet\"}], \"choropleth\": [{\"colorbar\": {\"outlinewidth\": 0, \"ticks\": \"\"}, \"type\": \"choropleth\"}], \"contour\": [{\"colorbar\": {\"outlinewidth\": 0, \"ticks\": \"\"}, \"colorscale\": [[0.0, \"#0d0887\"], [0.1111111111111111, \"#46039f\"], [0.2222222222222222, \"#7201a8\"], [0.3333333333333333, \"#9c179e\"], [0.4444444444444444, \"#bd3786\"], [0.5555555555555556, \"#d8576b\"], [0.6666666666666666, \"#ed7953\"], [0.7777777777777778, \"#fb9f3a\"], [0.8888888888888888, \"#fdca26\"], [1.0, \"#f0f921\"]], \"type\": \"contour\"}], \"contourcarpet\": [{\"colorbar\": {\"outlinewidth\": 0, \"ticks\": \"\"}, \"type\": \"contourcarpet\"}], \"heatmap\": [{\"colorbar\": {\"outlinewidth\": 0, \"ticks\": \"\"}, \"colorscale\": [[0.0, \"#0d0887\"], [0.1111111111111111, \"#46039f\"], [0.2222222222222222, \"#7201a8\"], [0.3333333333333333, \"#9c179e\"], [0.4444444444444444, \"#bd3786\"], [0.5555555555555556, \"#d8576b\"], [0.6666666666666666, \"#ed7953\"], [0.7777777777777778, \"#fb9f3a\"], [0.8888888888888888, \"#fdca26\"], [1.0, \"#f0f921\"]], \"type\": \"heatmap\"}], \"heatmapgl\": [{\"colorbar\": {\"outlinewidth\": 0, \"ticks\": \"\"}, \"colorscale\": [[0.0, \"#0d0887\"], [0.1111111111111111, \"#46039f\"], [0.2222222222222222, \"#7201a8\"], [0.3333333333333333, \"#9c179e\"], [0.4444444444444444, \"#bd3786\"], [0.5555555555555556, \"#d8576b\"], [0.6666666666666666, \"#ed7953\"], [0.7777777777777778, \"#fb9f3a\"], [0.8888888888888888, \"#fdca26\"], [1.0, \"#f0f921\"]], \"type\": \"heatmapgl\"}], \"histogram\": [{\"marker\": {\"colorbar\": {\"outlinewidth\": 0, \"ticks\": \"\"}}, \"type\": \"histogram\"}], \"histogram2d\": [{\"colorbar\": {\"outlinewidth\": 0, \"ticks\": \"\"}, \"colorscale\": [[0.0, \"#0d0887\"], [0.1111111111111111, \"#46039f\"], [0.2222222222222222, \"#7201a8\"], [0.3333333333333333, \"#9c179e\"], [0.4444444444444444, \"#bd3786\"], [0.5555555555555556, \"#d8576b\"], [0.6666666666666666, \"#ed7953\"], [0.7777777777777778, \"#fb9f3a\"], [0.8888888888888888, \"#fdca26\"], [1.0, \"#f0f921\"]], \"type\": \"histogram2d\"}], \"histogram2dcontour\": [{\"colorbar\": {\"outlinewidth\": 0, \"ticks\": \"\"}, \"colorscale\": [[0.0, \"#0d0887\"], [0.1111111111111111, \"#46039f\"], [0.2222222222222222, \"#7201a8\"], [0.3333333333333333, \"#9c179e\"], [0.4444444444444444, \"#bd3786\"], [0.5555555555555556, \"#d8576b\"], [0.6666666666666666, \"#ed7953\"], [0.7777777777777778, \"#fb9f3a\"], [0.8888888888888888, \"#fdca26\"], [1.0, \"#f0f921\"]], \"type\": \"histogram2dcontour\"}], \"mesh3d\": [{\"colorbar\": {\"outlinewidth\": 0, \"ticks\": \"\"}, \"type\": \"mesh3d\"}], \"parcoords\": [{\"line\": {\"colorbar\": {\"outlinewidth\": 0, \"ticks\": \"\"}}, \"type\": \"parcoords\"}], \"pie\": [{\"automargin\": true, \"type\": \"pie\"}], \"scatter\": [{\"marker\": {\"colorbar\": {\"outlinewidth\": 0, \"ticks\": \"\"}}, \"type\": \"scatter\"}], \"scatter3d\": [{\"line\": {\"colorbar\": {\"outlinewidth\": 0, \"ticks\": \"\"}}, \"marker\": {\"colorbar\": {\"outlinewidth\": 0, \"ticks\": \"\"}}, \"type\": \"scatter3d\"}], \"scattercarpet\": [{\"marker\": {\"colorbar\": {\"outlinewidth\": 0, \"ticks\": \"\"}}, \"type\": \"scattercarpet\"}], \"scattergeo\": [{\"marker\": {\"colorbar\": {\"outlinewidth\": 0, \"ticks\": \"\"}}, \"type\": \"scattergeo\"}], \"scattergl\": [{\"marker\": {\"colorbar\": {\"outlinewidth\": 0, \"ticks\": \"\"}}, \"type\": \"scattergl\"}], \"scattermapbox\": [{\"marker\": {\"colorbar\": {\"outlinewidth\": 0, \"ticks\": \"\"}}, \"type\": \"scattermapbox\"}], \"scatterpolar\": [{\"marker\": {\"colorbar\": {\"outlinewidth\": 0, \"ticks\": \"\"}}, \"type\": \"scatterpolar\"}], \"scatterpolargl\": [{\"marker\": {\"colorbar\": {\"outlinewidth\": 0, \"ticks\": \"\"}}, \"type\": \"scatterpolargl\"}], \"scatterternary\": [{\"marker\": {\"colorbar\": {\"outlinewidth\": 0, \"ticks\": \"\"}}, \"type\": \"scatterternary\"}], \"surface\": [{\"colorbar\": {\"outlinewidth\": 0, \"ticks\": \"\"}, \"colorscale\": [[0.0, \"#0d0887\"], [0.1111111111111111, \"#46039f\"], [0.2222222222222222, \"#7201a8\"], [0.3333333333333333, \"#9c179e\"], [0.4444444444444444, \"#bd3786\"], [0.5555555555555556, \"#d8576b\"], [0.6666666666666666, \"#ed7953\"], [0.7777777777777778, \"#fb9f3a\"], [0.8888888888888888, \"#fdca26\"], [1.0, \"#f0f921\"]], \"type\": \"surface\"}], \"table\": [{\"cells\": {\"fill\": {\"color\": \"#EBF0F8\"}, \"line\": {\"color\": \"white\"}}, \"header\": {\"fill\": {\"color\": \"#C8D4E3\"}, \"line\": {\"color\": \"white\"}}, \"type\": \"table\"}]}, \"layout\": {\"annotationdefaults\": {\"arrowcolor\": \"#2a3f5f\", \"arrowhead\": 0, \"arrowwidth\": 1}, \"autotypenumbers\": \"strict\", \"coloraxis\": {\"colorbar\": {\"outlinewidth\": 0, \"ticks\": \"\"}}, \"colorscale\": {\"diverging\": [[0, \"#8e0152\"], [0.1, \"#c51b7d\"], [0.2, \"#de77ae\"], [0.3, \"#f1b6da\"], [0.4, \"#fde0ef\"], [0.5, \"#f7f7f7\"], [0.6, \"#e6f5d0\"], [0.7, \"#b8e186\"], [0.8, \"#7fbc41\"], [0.9, \"#4d9221\"], [1, \"#276419\"]], \"sequential\": [[0.0, \"#0d0887\"], [0.1111111111111111, \"#46039f\"], [0.2222222222222222, \"#7201a8\"], [0.3333333333333333, \"#9c179e\"], [0.4444444444444444, \"#bd3786\"], [0.5555555555555556, \"#d8576b\"], [0.6666666666666666, \"#ed7953\"], [0.7777777777777778, \"#fb9f3a\"], [0.8888888888888888, \"#fdca26\"], [1.0, \"#f0f921\"]], \"sequentialminus\": [[0.0, \"#0d0887\"], [0.1111111111111111, \"#46039f\"], [0.2222222222222222, \"#7201a8\"], [0.3333333333333333, \"#9c179e\"], [0.4444444444444444, \"#bd3786\"], [0.5555555555555556, \"#d8576b\"], [0.6666666666666666, \"#ed7953\"], [0.7777777777777778, \"#fb9f3a\"], [0.8888888888888888, \"#fdca26\"], [1.0, \"#f0f921\"]]}, \"colorway\": [\"#636efa\", \"#EF553B\", \"#00cc96\", \"#ab63fa\", \"#FFA15A\", \"#19d3f3\", \"#FF6692\", \"#B6E880\", \"#FF97FF\", \"#FECB52\"], \"font\": {\"color\": \"#2a3f5f\"}, \"geo\": {\"bgcolor\": \"white\", \"lakecolor\": \"white\", \"landcolor\": \"#E5ECF6\", \"showlakes\": true, \"showland\": true, \"subunitcolor\": \"white\"}, \"hoverlabel\": {\"align\": \"left\"}, \"hovermode\": \"closest\", \"mapbox\": {\"style\": \"light\"}, \"paper_bgcolor\": \"white\", \"plot_bgcolor\": \"#E5ECF6\", \"polar\": {\"angularaxis\": {\"gridcolor\": \"white\", \"linecolor\": \"white\", \"ticks\": \"\"}, \"bgcolor\": \"#E5ECF6\", \"radialaxis\": {\"gridcolor\": \"white\", \"linecolor\": \"white\", \"ticks\": \"\"}}, \"scene\": {\"xaxis\": {\"backgroundcolor\": \"#E5ECF6\", \"gridcolor\": \"white\", \"gridwidth\": 2, \"linecolor\": \"white\", \"showbackground\": true, \"ticks\": \"\", \"zerolinecolor\": \"white\"}, \"yaxis\": {\"backgroundcolor\": \"#E5ECF6\", \"gridcolor\": \"white\", \"gridwidth\": 2, \"linecolor\": \"white\", \"showbackground\": true, \"ticks\": \"\", \"zerolinecolor\": \"white\"}, \"zaxis\": {\"backgroundcolor\": \"#E5ECF6\", \"gridcolor\": \"white\", \"gridwidth\": 2, \"linecolor\": \"white\", \"showbackground\": true, \"ticks\": \"\", \"zerolinecolor\": \"white\"}}, \"shapedefaults\": {\"line\": {\"color\": \"#2a3f5f\"}}, \"ternary\": {\"aaxis\": {\"gridcolor\": \"white\", \"linecolor\": \"white\", \"ticks\": \"\"}, \"baxis\": {\"gridcolor\": \"white\", \"linecolor\": \"white\", \"ticks\": \"\"}, \"bgcolor\": \"#E5ECF6\", \"caxis\": {\"gridcolor\": \"white\", \"linecolor\": \"white\", \"ticks\": \"\"}}, \"title\": {\"x\": 0.05}, \"xaxis\": {\"automargin\": true, \"gridcolor\": \"white\", \"linecolor\": \"white\", \"ticks\": \"\", \"title\": {\"standoff\": 15}, \"zerolinecolor\": \"white\", \"zerolinewidth\": 2}, \"yaxis\": {\"automargin\": true, \"gridcolor\": \"white\", \"linecolor\": \"white\", \"ticks\": \"\", \"title\": {\"standoff\": 15}, \"zerolinecolor\": \"white\", \"zerolinewidth\": 2}}}, \"title\": {\"text\": \"TRT da 4\\u00aa Regi\\u00e3o. Porcentagem de julgamentos favor\\u00e1veis para cada uma das partes.\"}},                        {\"responsive\": true}                    ).then(function(){\n",
       "                            \n",
       "var gd = document.getElementById('12035209-8fd6-4a52-8d2b-27063212f7e7');\n",
       "var x = new MutationObserver(function (mutations, observer) {{\n",
       "        var display = window.getComputedStyle(gd).display;\n",
       "        if (!display || display === 'none') {{\n",
       "            console.log([gd, 'removed!']);\n",
       "            Plotly.purge(gd);\n",
       "            observer.disconnect();\n",
       "        }}\n",
       "}});\n",
       "\n",
       "// Listen for the removal of the full notebook cells\n",
       "var notebookContainer = gd.closest('#notebook-container');\n",
       "if (notebookContainer) {{\n",
       "    x.observe(notebookContainer, {childList: true});\n",
       "}}\n",
       "\n",
       "// Listen for the clearing of the current output cell\n",
       "var outputEl = gd.closest('.output');\n",
       "if (outputEl) {{\n",
       "    x.observe(outputEl, {childList: true});\n",
       "}}\n",
       "\n",
       "                        })                };                });            </script>        </div>"
      ]
     },
     "metadata": {},
     "output_type": "display_data"
    }
   ],
   "source": [
    "#DEFERIMENTO\n",
    "trace1 = go.Bar(x = X_def,\n",
    "                y = rotulos,  \n",
    "                orientation=\"h\",\n",
    "                textposition='auto',\n",
    "                textfont=dict(\n",
    "        family=\"sans serif\",\n",
    "        size=18,\n",
    "        color=\"black\"),\n",
    "                name=\"DEFERIMENTO\" )\n",
    "#INDEFERIMENTO\n",
    "trace2 = go.Bar(x = X_indef,\n",
    "                y = rotulos,\n",
    "                orientation=\"h\",\n",
    "                textposition='auto',\n",
    "                name=\"INDEFERIMENTO\" )\n",
    "\n",
    "layout = go.Layout( title=\"TRT da 4ª Região. Porcentagem de julgamentos favoráveis para cada uma das partes.\",\n",
    "                    barmode=\"stack\",\n",
    "                    barnorm=\"percent\",                    \n",
    "                    )\n",
    "\n",
    "fig = go.Figure( data = [ trace1, trace2 ], layout=layout )\n",
    "\n",
    "fig.add_annotation(\n",
    "        y=\"EMPREGADO\",\n",
    "        x = ( porporcao_empregado*100 ) - 3,\n",
    "        text=str( round( porporcao_empregado*100, 2) )+\"%\",\n",
    "        showarrow=False,\n",
    "        font=dict(\n",
    "                size=16,\n",
    "                color=\"#ffffff\"\n",
    "                ),\n",
    "        )\n",
    "\n",
    "fig.add_annotation(\n",
    "        y=\"EMPRESA\",\n",
    "        x = ( porporcao_empresa*100 ) - 3,\n",
    "        text=str( round( porporcao_empresa*100, 2) )+\"%\",\n",
    "        showarrow=False,\n",
    "        font=dict(\n",
    "                size=16,\n",
    "                color=\"#ffffff\"\n",
    "                ),\n",
    "        )\n",
    "\n",
    "fig.show()"
   ]
  },
  {
   "cell_type": "markdown",
   "metadata": {},
   "source": [
    "### Interpretação\n",
    "Do total de recursos que as <strong>EMPRESAS</strong> recorreram ao TRT da 4ª Região, <strong>39,27%</strong> foram DEFERIDOS. Considerando apenas sentenças em que houve recurso somente da EMPRESA.<BR>\n",
    "Do total de recursos que as <strong>EMPREGADOS</strong> recorreram ao TRT da 4ª Região, <strong>50,24%</strong> foram DEFERIDOS. Considerando apenas sentenças em que houve recurso somente do EMPREGADO.<BR>"
   ]
  },
  {
   "cell_type": "code",
   "execution_count": 84,
   "metadata": {},
   "outputs": [
    {
     "name": "stdout",
     "output_type": "stream",
     "text": [
      "Quantidade de processos analisados: 11351\n"
     ]
    }
   ],
   "source": [
    "print( \"Quantidade de processos analisados: \"+str( len( df_limpo.loc[ _tribunal_TRT4 ] ) ) )"
   ]
  },
  {
   "cell_type": "code",
   "execution_count": 85,
   "metadata": {},
   "outputs": [
    {
     "name": "stdout",
     "output_type": "stream",
     "text": [
      "Recorrente EMPREGADO. Quantidade de processos analisados: 9398\n",
      "Recorrente EMPRESA. Quantidade de processos analisados: 1953\n"
     ]
    }
   ],
   "source": [
    "tipo_requerente_previsto_EMPREGADO = df_limpo[\"tipo_requerente_previsto\"] == \"EMPREGADO\"\n",
    "tipo_requerente_previsto_EMPRESA = df_limpo[\"tipo_requerente_previsto\"] == \"EMPRESA\"\n",
    "quantidade_EMPREGADO = len( df_limpo.loc[ _tribunal_TRT4 & tipo_requerente_previsto_EMPREGADO ] )\n",
    "quantidade_EMPRESA = len( df_limpo.loc[ _tribunal_TRT4 & tipo_requerente_previsto_EMPRESA ] )\n",
    "print( \"Recorrente EMPREGADO. Quantidade de processos analisados: \"+str( quantidade_EMPREGADO ) )\n",
    "print( \"Recorrente EMPRESA. Quantidade de processos analisados: \"+str( quantidade_EMPRESA ) )"
   ]
  },
  {
   "cell_type": "markdown",
   "metadata": {},
   "source": [
    "## Teste estatístico: Two proportion z-test\n",
    "### Interpretação"
   ]
  },
  {
   "cell_type": "code",
   "execution_count": 86,
   "metadata": {},
   "outputs": [],
   "source": [
    "n_deferimento_empregado, n_indeferimento_empregado, n_deferimento_empresa, n_indeferimento_empresa =  pd.crosstab( df_limpo.loc[ _tribunal_TRT4 ].tipo_requerente_previsto, df_limpo.loc[ _tribunal_TRT4 ].deferimento_previsto ).to_numpy().flatten()\n",
    "total_empregado = n_deferimento_empregado + n_indeferimento_empregado\n",
    "total_empresa = n_deferimento_empresa + n_indeferimento_empresa\n",
    "pvalue = proportion.test_proportions_2indep( n_deferimento_empregado, total_empregado, n_deferimento_empresa, total_empresa )[1]"
   ]
  },
  {
   "cell_type": "code",
   "execution_count": 87,
   "metadata": {},
   "outputs": [
    {
     "name": "stdout",
     "output_type": "stream",
     "text": [
      "P-value: 0.0%\n",
      "SIM, apresenta diferença estatística entre a proporção de deferimentos para empregado e para empresa.\n"
     ]
    }
   ],
   "source": [
    "print( \"P-value: \"+str(round(pvalue*100, 2) )+\"%\" )\n",
    "if( pvalue < 0.05 ):\n",
    "    print( \"SIM, apresenta diferença estatística entre a proporção de deferimentos para empregado e para empresa.\" )\n",
    "else:\n",
    "    print( \"NÃO, não apresenta diferença estatística entre a proporção de deferimentos para empregado e para empresa.\" )"
   ]
  },
  {
   "cell_type": "code",
   "execution_count": 88,
   "metadata": {},
   "outputs": [
    {
     "data": {
      "text/plain": [
       "2.4375333183946957e-19"
      ]
     },
     "execution_count": 88,
     "metadata": {},
     "output_type": "execute_result"
    }
   ],
   "source": [
    "pvalue"
   ]
  },
  {
   "cell_type": "code",
   "execution_count": 89,
   "metadata": {},
   "outputs": [
    {
     "name": "stdout",
     "output_type": "stream",
     "text": [
      "Power: 100.0%\n",
      "Nível aceitável de força estatística. Risco baixo de ocorrer Type 2 error, ou seja, há risco baixo de não haver diferença entre as proporções (se foi encontrada diferença).\n"
     ]
    }
   ],
   "source": [
    "P1 = n_deferimento_empregado / total_empregado\n",
    "P2 = n_deferimento_empresa / total_empresa\n",
    "diff = P1 - P2\n",
    "power = proportion.power_proportions_2indep( diff, P2, total_empregado,  total_empresa/total_empregado, alpha=0.05, value=0, alternative='two-sided', return_results=True).power\n",
    "print( \"Power: \"+str(round(power*100, 2) )+\"%\" )\n",
    "if( power < 0.8 ):\n",
    "    print( \"Nível inaceitável de força estatística. Risco considerável de ocorrer Type 2 error, ou seja, há risco de não haver diferença entre as proporções (se foi encontrada diferença).\" )\n",
    "else:\n",
    "    print( \"Nível aceitável de força estatística. Risco baixo de ocorrer Type 2 error, ou seja, há risco baixo de não haver diferença entre as proporções (se foi encontrada diferença).\" )"
   ]
  },
  {
   "cell_type": "markdown",
   "metadata": {},
   "source": [
    "## Teste de efeito estatístico: Cohen's H\n",
    "### Interpretação"
   ]
  },
  {
   "cell_type": "code",
   "execution_count": 90,
   "metadata": {},
   "outputs": [],
   "source": [
    "effectsize = proportion_effectsize( porporcao_empregado, porporcao_empresa )"
   ]
  },
  {
   "cell_type": "code",
   "execution_count": 91,
   "metadata": {},
   "outputs": [
    {
     "name": "stdout",
     "output_type": "stream",
     "text": [
      "Índice Cohen's H: 22.11%\n",
      "Diferença estatística pequena.\n"
     ]
    }
   ],
   "source": [
    "print( \"Índice Cohen's H: \"+str(abs(round(effectsize*100, 2) ) )+\"%\" )\n",
    "hNonDir = abs(effectsize)\n",
    "if hNonDir < .20:\n",
    "    print('Diferença estatística insignificante.')\n",
    "elif hNonDir < .50:\n",
    "    print('Diferença estatística pequena.')\n",
    "elif hNonDir < .80:\n",
    "    print('Diferença estatística média.')\n",
    "else:\n",
    "    print('Diferença estatística grande.')    "
   ]
  },
  {
   "cell_type": "markdown",
   "metadata": {},
   "source": [
    "# TRT 4 - Análise das Turmas Recursais individualmente"
   ]
  },
  {
   "cell_type": "code",
   "execution_count": 92,
   "metadata": {},
   "outputs": [],
   "source": [
    "_tribunal_TRT4 = df_quantidades_TRT4[\"TRIBUNAL\"] == \"TRT4\"\n",
    "_polaridade_def = df_quantidades_TRT4[\"deferimento_previsto\"] == \"DEFERIMENTO\"\n",
    "_polaridade_indef = df_quantidades_TRT4[\"deferimento_previsto\"] == \"INDEFERIMENTO\"\n",
    "\n",
    "X_def = df_quantidades_TRT4.loc[ _tribunal_TRT4 & _polaridade_def , \"QUANTIDADE\" ]\n",
    "Y_def_orgao = df_quantidades_TRT4.loc[ _tribunal_TRT4 & _polaridade_def , \"ORGAO\" ]\n",
    "Y_def_recorrente = df_quantidades_TRT4.loc[ _tribunal_TRT4 & _polaridade_def , \"tipo_requerente_previsto\" ]\n",
    "\n",
    "X_indef = df_quantidades_TRT4.loc[ _tribunal_TRT4 & _polaridade_indef , \"QUANTIDADE\" ]\n",
    "Y_indef_orgao = df_quantidades_TRT4.loc[ _tribunal_TRT4 & _polaridade_indef , \"ORGAO\" ]\n",
    "Y_indef_recorrente = df_quantidades_TRT4.loc[ _tribunal_TRT4 & _polaridade_indef , \"tipo_requerente_previsto\" ]"
   ]
  },
  {
   "cell_type": "code",
   "execution_count": 93,
   "metadata": {},
   "outputs": [],
   "source": [
    "#deferido\n",
    "trace1 = go.Bar(x = X_def,\n",
    "                y = [ Y_def_orgao,\n",
    "                      Y_def_recorrente ],  \n",
    "                orientation=\"h\",\n",
    "                name=\"DEFERIMENTO\" )\n",
    "#indeferido\n",
    "trace2 = go.Bar(x = X_indef,\n",
    "                y = [ Y_indef_orgao,\n",
    "                      Y_indef_recorrente ],\n",
    "                orientation=\"h\",\n",
    "                name=\"INDEFERIMENTO\" )\n",
    "\n",
    "layout = go.Layout( \n",
    "    title=\"TRT da 4ª Região. Porcentagem de julgamentos favoráveis <br>para cada uma das partes em relação a cada Turma Recursal.\",\n",
    "    barmode=\"stack\",\n",
    "    barnorm=\"percent\",\n",
    "    margin=dict(l=400),\n",
    "    width=1000,\n",
    "    height=1000\n",
    "    )\n",
    "\n",
    "fig = go.Figure( data = [ trace1, trace2 ], layout=layout )"
   ]
  },
  {
   "cell_type": "code",
   "execution_count": 94,
   "metadata": {},
   "outputs": [],
   "source": [
    "_tribunal_TRT4 = df_quantidades_percentuais_TRT4[\"TRIBUNAL\"] == \"TRT4\"\n",
    "orgaos = df_quantidades_percentuais_TRT4.loc[ _tribunal_TRT4, \"ORGAO\"].to_numpy()\n",
    "percentuais_deferimento = df_quantidades_percentuais_TRT4.loc[ _tribunal_TRT4, \"percentual_deferido\"].to_numpy()\n",
    "tipo_parte = df_quantidades_percentuais_TRT4.loc[ _tribunal_TRT4, \"tipo_requerente_previsto\"].to_numpy()"
   ]
  },
  {
   "cell_type": "code",
   "execution_count": 95,
   "metadata": {},
   "outputs": [
    {
     "data": {
      "application/vnd.plotly.v1+json": {
       "config": {
        "plotlyServerURL": "https://plot.ly"
       },
       "data": [
        {
         "name": "DEFERIMENTO",
         "orientation": "h",
         "type": "bar",
         "x": [
          65,
          12,
          36,
          17,
          55,
          7,
          212,
          30,
          317,
          69,
          521,
          98,
          558,
          99,
          733,
          125,
          867,
          99,
          818,
          75,
          540,
          136
         ],
         "y": [
          [
           "11ª Turma",
           "11ª Turma",
           "10ª Turma",
           "10ª Turma",
           "9ª Turma",
           "9ª Turma",
           "8ª Turma",
           "8ª Turma",
           "7ª Turma",
           "7ª Turma",
           "6ª Turma",
           "6ª Turma",
           "5ª Turma",
           "5ª Turma",
           "4ª Turma",
           "4ª Turma",
           "3ª Turma",
           "3ª Turma",
           "2ª Turma",
           "2ª Turma",
           "1ª Turma",
           "1ª Turma"
          ],
          [
           "EMPREGADO",
           "EMPRESA",
           "EMPREGADO",
           "EMPRESA",
           "EMPREGADO",
           "EMPRESA",
           "EMPREGADO",
           "EMPRESA",
           "EMPREGADO",
           "EMPRESA",
           "EMPREGADO",
           "EMPRESA",
           "EMPREGADO",
           "EMPRESA",
           "EMPREGADO",
           "EMPRESA",
           "EMPREGADO",
           "EMPRESA",
           "EMPREGADO",
           "EMPRESA",
           "EMPREGADO",
           "EMPRESA"
          ]
         ]
        },
        {
         "name": "INDEFERIMENTO",
         "orientation": "h",
         "type": "bar",
         "x": [
          82,
          23,
          51,
          11,
          54,
          15,
          159,
          47,
          376,
          63,
          448,
          104,
          658,
          189,
          770,
          172,
          663,
          203,
          639,
          172,
          776,
          187
         ],
         "y": [
          [
           "11ª Turma",
           "11ª Turma",
           "10ª Turma",
           "10ª Turma",
           "9ª Turma",
           "9ª Turma",
           "8ª Turma",
           "8ª Turma",
           "7ª Turma",
           "7ª Turma",
           "6ª Turma",
           "6ª Turma",
           "5ª Turma",
           "5ª Turma",
           "4ª Turma",
           "4ª Turma",
           "3ª Turma",
           "3ª Turma",
           "2ª Turma",
           "2ª Turma",
           "1ª Turma",
           "1ª Turma"
          ],
          [
           "EMPREGADO",
           "EMPRESA",
           "EMPREGADO",
           "EMPRESA",
           "EMPREGADO",
           "EMPRESA",
           "EMPREGADO",
           "EMPRESA",
           "EMPREGADO",
           "EMPRESA",
           "EMPREGADO",
           "EMPRESA",
           "EMPREGADO",
           "EMPRESA",
           "EMPREGADO",
           "EMPRESA",
           "EMPREGADO",
           "EMPRESA",
           "EMPREGADO",
           "EMPRESA",
           "EMPREGADO",
           "EMPRESA"
          ]
         ]
        }
       ],
       "layout": {
        "annotations": [
         {
          "font": {
           "color": "#ffffff",
           "size": 16
          },
          "showarrow": false,
          "text": "44.22%",
          "x": 34.21768707482993,
          "y": [
           "11ª Turma",
           "EMPREGADO"
          ]
         },
         {
          "font": {
           "color": "#ffffff",
           "size": 16
          },
          "showarrow": false,
          "text": "34.29%",
          "x": 24.285714285714285,
          "y": [
           "11ª Turma",
           "EMPRESA"
          ]
         },
         {
          "font": {
           "color": "#ffffff",
           "size": 16
          },
          "showarrow": false,
          "text": "41.38%",
          "x": 31.379310344827587,
          "y": [
           "10ª Turma",
           "EMPREGADO"
          ]
         },
         {
          "font": {
           "color": "#ffffff",
           "size": 16
          },
          "showarrow": false,
          "text": "60.71%",
          "x": 50.71428571428571,
          "y": [
           "10ª Turma",
           "EMPRESA"
          ]
         },
         {
          "font": {
           "color": "#ffffff",
           "size": 16
          },
          "showarrow": false,
          "text": "50.46%",
          "x": 40.45871559633027,
          "y": [
           "9ª Turma",
           "EMPREGADO"
          ]
         },
         {
          "font": {
           "color": "#ffffff",
           "size": 16
          },
          "showarrow": false,
          "text": "31.82%",
          "x": 21.818181818181817,
          "y": [
           "9ª Turma",
           "EMPRESA"
          ]
         },
         {
          "font": {
           "color": "#ffffff",
           "size": 16
          },
          "showarrow": false,
          "text": "57.14%",
          "x": 47.14285714285714,
          "y": [
           "8ª Turma",
           "EMPREGADO"
          ]
         },
         {
          "font": {
           "color": "#ffffff",
           "size": 16
          },
          "showarrow": false,
          "text": "38.96%",
          "x": 28.961038961038966,
          "y": [
           "8ª Turma",
           "EMPRESA"
          ]
         },
         {
          "font": {
           "color": "#ffffff",
           "size": 16
          },
          "showarrow": false,
          "text": "45.74%",
          "x": 35.74314574314574,
          "y": [
           "7ª Turma",
           "EMPREGADO"
          ]
         },
         {
          "font": {
           "color": "#ffffff",
           "size": 16
          },
          "showarrow": false,
          "text": "52.27%",
          "x": 42.27272727272727,
          "y": [
           "7ª Turma",
           "EMPRESA"
          ]
         },
         {
          "font": {
           "color": "#ffffff",
           "size": 16
          },
          "showarrow": false,
          "text": "53.77%",
          "x": 43.76676986584107,
          "y": [
           "6ª Turma",
           "EMPREGADO"
          ]
         },
         {
          "font": {
           "color": "#ffffff",
           "size": 16
          },
          "showarrow": false,
          "text": "48.51%",
          "x": 38.51485148514851,
          "y": [
           "6ª Turma",
           "EMPRESA"
          ]
         },
         {
          "font": {
           "color": "#ffffff",
           "size": 16
          },
          "showarrow": false,
          "text": "45.89%",
          "x": 35.88815789473684,
          "y": [
           "5ª Turma",
           "EMPREGADO"
          ]
         },
         {
          "font": {
           "color": "#ffffff",
           "size": 16
          },
          "showarrow": false,
          "text": "34.38%",
          "x": 24.375,
          "y": [
           "5ª Turma",
           "EMPRESA"
          ]
         },
         {
          "font": {
           "color": "#ffffff",
           "size": 16
          },
          "showarrow": false,
          "text": "48.77%",
          "x": 38.76912840984697,
          "y": [
           "4ª Turma",
           "EMPREGADO"
          ]
         },
         {
          "font": {
           "color": "#ffffff",
           "size": 16
          },
          "showarrow": false,
          "text": "42.09%",
          "x": 32.08754208754209,
          "y": [
           "4ª Turma",
           "EMPRESA"
          ]
         },
         {
          "font": {
           "color": "#ffffff",
           "size": 16
          },
          "showarrow": false,
          "text": "56.67%",
          "x": 46.666666666666664,
          "y": [
           "3ª Turma",
           "EMPREGADO"
          ]
         },
         {
          "font": {
           "color": "#ffffff",
           "size": 16
          },
          "showarrow": false,
          "text": "32.78%",
          "x": 22.781456953642383,
          "y": [
           "3ª Turma",
           "EMPRESA"
          ]
         },
         {
          "font": {
           "color": "#ffffff",
           "size": 16
          },
          "showarrow": false,
          "text": "56.14%",
          "x": 46.142759094028825,
          "y": [
           "2ª Turma",
           "EMPREGADO"
          ]
         },
         {
          "font": {
           "color": "#ffffff",
           "size": 16
          },
          "showarrow": false,
          "text": "30.36%",
          "x": 20.364372469635626,
          "y": [
           "2ª Turma",
           "EMPRESA"
          ]
         },
         {
          "font": {
           "color": "#ffffff",
           "size": 16
          },
          "showarrow": false,
          "text": "41.03%",
          "x": 31.033434650455924,
          "y": [
           "1ª Turma",
           "EMPREGADO"
          ]
         },
         {
          "font": {
           "color": "#ffffff",
           "size": 16
          },
          "showarrow": false,
          "text": "42.11%",
          "x": 32.10526315789473,
          "y": [
           "1ª Turma",
           "EMPRESA"
          ]
         }
        ],
        "barmode": "stack",
        "barnorm": "percent",
        "height": 1000,
        "margin": {
         "l": 400
        },
        "template": {
         "data": {
          "bar": [
           {
            "error_x": {
             "color": "#2a3f5f"
            },
            "error_y": {
             "color": "#2a3f5f"
            },
            "marker": {
             "line": {
              "color": "#E5ECF6",
              "width": 0.5
             }
            },
            "type": "bar"
           }
          ],
          "barpolar": [
           {
            "marker": {
             "line": {
              "color": "#E5ECF6",
              "width": 0.5
             }
            },
            "type": "barpolar"
           }
          ],
          "carpet": [
           {
            "aaxis": {
             "endlinecolor": "#2a3f5f",
             "gridcolor": "white",
             "linecolor": "white",
             "minorgridcolor": "white",
             "startlinecolor": "#2a3f5f"
            },
            "baxis": {
             "endlinecolor": "#2a3f5f",
             "gridcolor": "white",
             "linecolor": "white",
             "minorgridcolor": "white",
             "startlinecolor": "#2a3f5f"
            },
            "type": "carpet"
           }
          ],
          "choropleth": [
           {
            "colorbar": {
             "outlinewidth": 0,
             "ticks": ""
            },
            "type": "choropleth"
           }
          ],
          "contour": [
           {
            "colorbar": {
             "outlinewidth": 0,
             "ticks": ""
            },
            "colorscale": [
             [
              0,
              "#0d0887"
             ],
             [
              0.1111111111111111,
              "#46039f"
             ],
             [
              0.2222222222222222,
              "#7201a8"
             ],
             [
              0.3333333333333333,
              "#9c179e"
             ],
             [
              0.4444444444444444,
              "#bd3786"
             ],
             [
              0.5555555555555556,
              "#d8576b"
             ],
             [
              0.6666666666666666,
              "#ed7953"
             ],
             [
              0.7777777777777778,
              "#fb9f3a"
             ],
             [
              0.8888888888888888,
              "#fdca26"
             ],
             [
              1,
              "#f0f921"
             ]
            ],
            "type": "contour"
           }
          ],
          "contourcarpet": [
           {
            "colorbar": {
             "outlinewidth": 0,
             "ticks": ""
            },
            "type": "contourcarpet"
           }
          ],
          "heatmap": [
           {
            "colorbar": {
             "outlinewidth": 0,
             "ticks": ""
            },
            "colorscale": [
             [
              0,
              "#0d0887"
             ],
             [
              0.1111111111111111,
              "#46039f"
             ],
             [
              0.2222222222222222,
              "#7201a8"
             ],
             [
              0.3333333333333333,
              "#9c179e"
             ],
             [
              0.4444444444444444,
              "#bd3786"
             ],
             [
              0.5555555555555556,
              "#d8576b"
             ],
             [
              0.6666666666666666,
              "#ed7953"
             ],
             [
              0.7777777777777778,
              "#fb9f3a"
             ],
             [
              0.8888888888888888,
              "#fdca26"
             ],
             [
              1,
              "#f0f921"
             ]
            ],
            "type": "heatmap"
           }
          ],
          "heatmapgl": [
           {
            "colorbar": {
             "outlinewidth": 0,
             "ticks": ""
            },
            "colorscale": [
             [
              0,
              "#0d0887"
             ],
             [
              0.1111111111111111,
              "#46039f"
             ],
             [
              0.2222222222222222,
              "#7201a8"
             ],
             [
              0.3333333333333333,
              "#9c179e"
             ],
             [
              0.4444444444444444,
              "#bd3786"
             ],
             [
              0.5555555555555556,
              "#d8576b"
             ],
             [
              0.6666666666666666,
              "#ed7953"
             ],
             [
              0.7777777777777778,
              "#fb9f3a"
             ],
             [
              0.8888888888888888,
              "#fdca26"
             ],
             [
              1,
              "#f0f921"
             ]
            ],
            "type": "heatmapgl"
           }
          ],
          "histogram": [
           {
            "marker": {
             "colorbar": {
              "outlinewidth": 0,
              "ticks": ""
             }
            },
            "type": "histogram"
           }
          ],
          "histogram2d": [
           {
            "colorbar": {
             "outlinewidth": 0,
             "ticks": ""
            },
            "colorscale": [
             [
              0,
              "#0d0887"
             ],
             [
              0.1111111111111111,
              "#46039f"
             ],
             [
              0.2222222222222222,
              "#7201a8"
             ],
             [
              0.3333333333333333,
              "#9c179e"
             ],
             [
              0.4444444444444444,
              "#bd3786"
             ],
             [
              0.5555555555555556,
              "#d8576b"
             ],
             [
              0.6666666666666666,
              "#ed7953"
             ],
             [
              0.7777777777777778,
              "#fb9f3a"
             ],
             [
              0.8888888888888888,
              "#fdca26"
             ],
             [
              1,
              "#f0f921"
             ]
            ],
            "type": "histogram2d"
           }
          ],
          "histogram2dcontour": [
           {
            "colorbar": {
             "outlinewidth": 0,
             "ticks": ""
            },
            "colorscale": [
             [
              0,
              "#0d0887"
             ],
             [
              0.1111111111111111,
              "#46039f"
             ],
             [
              0.2222222222222222,
              "#7201a8"
             ],
             [
              0.3333333333333333,
              "#9c179e"
             ],
             [
              0.4444444444444444,
              "#bd3786"
             ],
             [
              0.5555555555555556,
              "#d8576b"
             ],
             [
              0.6666666666666666,
              "#ed7953"
             ],
             [
              0.7777777777777778,
              "#fb9f3a"
             ],
             [
              0.8888888888888888,
              "#fdca26"
             ],
             [
              1,
              "#f0f921"
             ]
            ],
            "type": "histogram2dcontour"
           }
          ],
          "mesh3d": [
           {
            "colorbar": {
             "outlinewidth": 0,
             "ticks": ""
            },
            "type": "mesh3d"
           }
          ],
          "parcoords": [
           {
            "line": {
             "colorbar": {
              "outlinewidth": 0,
              "ticks": ""
             }
            },
            "type": "parcoords"
           }
          ],
          "pie": [
           {
            "automargin": true,
            "type": "pie"
           }
          ],
          "scatter": [
           {
            "marker": {
             "colorbar": {
              "outlinewidth": 0,
              "ticks": ""
             }
            },
            "type": "scatter"
           }
          ],
          "scatter3d": [
           {
            "line": {
             "colorbar": {
              "outlinewidth": 0,
              "ticks": ""
             }
            },
            "marker": {
             "colorbar": {
              "outlinewidth": 0,
              "ticks": ""
             }
            },
            "type": "scatter3d"
           }
          ],
          "scattercarpet": [
           {
            "marker": {
             "colorbar": {
              "outlinewidth": 0,
              "ticks": ""
             }
            },
            "type": "scattercarpet"
           }
          ],
          "scattergeo": [
           {
            "marker": {
             "colorbar": {
              "outlinewidth": 0,
              "ticks": ""
             }
            },
            "type": "scattergeo"
           }
          ],
          "scattergl": [
           {
            "marker": {
             "colorbar": {
              "outlinewidth": 0,
              "ticks": ""
             }
            },
            "type": "scattergl"
           }
          ],
          "scattermapbox": [
           {
            "marker": {
             "colorbar": {
              "outlinewidth": 0,
              "ticks": ""
             }
            },
            "type": "scattermapbox"
           }
          ],
          "scatterpolar": [
           {
            "marker": {
             "colorbar": {
              "outlinewidth": 0,
              "ticks": ""
             }
            },
            "type": "scatterpolar"
           }
          ],
          "scatterpolargl": [
           {
            "marker": {
             "colorbar": {
              "outlinewidth": 0,
              "ticks": ""
             }
            },
            "type": "scatterpolargl"
           }
          ],
          "scatterternary": [
           {
            "marker": {
             "colorbar": {
              "outlinewidth": 0,
              "ticks": ""
             }
            },
            "type": "scatterternary"
           }
          ],
          "surface": [
           {
            "colorbar": {
             "outlinewidth": 0,
             "ticks": ""
            },
            "colorscale": [
             [
              0,
              "#0d0887"
             ],
             [
              0.1111111111111111,
              "#46039f"
             ],
             [
              0.2222222222222222,
              "#7201a8"
             ],
             [
              0.3333333333333333,
              "#9c179e"
             ],
             [
              0.4444444444444444,
              "#bd3786"
             ],
             [
              0.5555555555555556,
              "#d8576b"
             ],
             [
              0.6666666666666666,
              "#ed7953"
             ],
             [
              0.7777777777777778,
              "#fb9f3a"
             ],
             [
              0.8888888888888888,
              "#fdca26"
             ],
             [
              1,
              "#f0f921"
             ]
            ],
            "type": "surface"
           }
          ],
          "table": [
           {
            "cells": {
             "fill": {
              "color": "#EBF0F8"
             },
             "line": {
              "color": "white"
             }
            },
            "header": {
             "fill": {
              "color": "#C8D4E3"
             },
             "line": {
              "color": "white"
             }
            },
            "type": "table"
           }
          ]
         },
         "layout": {
          "annotationdefaults": {
           "arrowcolor": "#2a3f5f",
           "arrowhead": 0,
           "arrowwidth": 1
          },
          "autotypenumbers": "strict",
          "coloraxis": {
           "colorbar": {
            "outlinewidth": 0,
            "ticks": ""
           }
          },
          "colorscale": {
           "diverging": [
            [
             0,
             "#8e0152"
            ],
            [
             0.1,
             "#c51b7d"
            ],
            [
             0.2,
             "#de77ae"
            ],
            [
             0.3,
             "#f1b6da"
            ],
            [
             0.4,
             "#fde0ef"
            ],
            [
             0.5,
             "#f7f7f7"
            ],
            [
             0.6,
             "#e6f5d0"
            ],
            [
             0.7,
             "#b8e186"
            ],
            [
             0.8,
             "#7fbc41"
            ],
            [
             0.9,
             "#4d9221"
            ],
            [
             1,
             "#276419"
            ]
           ],
           "sequential": [
            [
             0,
             "#0d0887"
            ],
            [
             0.1111111111111111,
             "#46039f"
            ],
            [
             0.2222222222222222,
             "#7201a8"
            ],
            [
             0.3333333333333333,
             "#9c179e"
            ],
            [
             0.4444444444444444,
             "#bd3786"
            ],
            [
             0.5555555555555556,
             "#d8576b"
            ],
            [
             0.6666666666666666,
             "#ed7953"
            ],
            [
             0.7777777777777778,
             "#fb9f3a"
            ],
            [
             0.8888888888888888,
             "#fdca26"
            ],
            [
             1,
             "#f0f921"
            ]
           ],
           "sequentialminus": [
            [
             0,
             "#0d0887"
            ],
            [
             0.1111111111111111,
             "#46039f"
            ],
            [
             0.2222222222222222,
             "#7201a8"
            ],
            [
             0.3333333333333333,
             "#9c179e"
            ],
            [
             0.4444444444444444,
             "#bd3786"
            ],
            [
             0.5555555555555556,
             "#d8576b"
            ],
            [
             0.6666666666666666,
             "#ed7953"
            ],
            [
             0.7777777777777778,
             "#fb9f3a"
            ],
            [
             0.8888888888888888,
             "#fdca26"
            ],
            [
             1,
             "#f0f921"
            ]
           ]
          },
          "colorway": [
           "#636efa",
           "#EF553B",
           "#00cc96",
           "#ab63fa",
           "#FFA15A",
           "#19d3f3",
           "#FF6692",
           "#B6E880",
           "#FF97FF",
           "#FECB52"
          ],
          "font": {
           "color": "#2a3f5f"
          },
          "geo": {
           "bgcolor": "white",
           "lakecolor": "white",
           "landcolor": "#E5ECF6",
           "showlakes": true,
           "showland": true,
           "subunitcolor": "white"
          },
          "hoverlabel": {
           "align": "left"
          },
          "hovermode": "closest",
          "mapbox": {
           "style": "light"
          },
          "paper_bgcolor": "white",
          "plot_bgcolor": "#E5ECF6",
          "polar": {
           "angularaxis": {
            "gridcolor": "white",
            "linecolor": "white",
            "ticks": ""
           },
           "bgcolor": "#E5ECF6",
           "radialaxis": {
            "gridcolor": "white",
            "linecolor": "white",
            "ticks": ""
           }
          },
          "scene": {
           "xaxis": {
            "backgroundcolor": "#E5ECF6",
            "gridcolor": "white",
            "gridwidth": 2,
            "linecolor": "white",
            "showbackground": true,
            "ticks": "",
            "zerolinecolor": "white"
           },
           "yaxis": {
            "backgroundcolor": "#E5ECF6",
            "gridcolor": "white",
            "gridwidth": 2,
            "linecolor": "white",
            "showbackground": true,
            "ticks": "",
            "zerolinecolor": "white"
           },
           "zaxis": {
            "backgroundcolor": "#E5ECF6",
            "gridcolor": "white",
            "gridwidth": 2,
            "linecolor": "white",
            "showbackground": true,
            "ticks": "",
            "zerolinecolor": "white"
           }
          },
          "shapedefaults": {
           "line": {
            "color": "#2a3f5f"
           }
          },
          "ternary": {
           "aaxis": {
            "gridcolor": "white",
            "linecolor": "white",
            "ticks": ""
           },
           "baxis": {
            "gridcolor": "white",
            "linecolor": "white",
            "ticks": ""
           },
           "bgcolor": "#E5ECF6",
           "caxis": {
            "gridcolor": "white",
            "linecolor": "white",
            "ticks": ""
           }
          },
          "title": {
           "x": 0.05
          },
          "xaxis": {
           "automargin": true,
           "gridcolor": "white",
           "linecolor": "white",
           "ticks": "",
           "title": {
            "standoff": 15
           },
           "zerolinecolor": "white",
           "zerolinewidth": 2
          },
          "yaxis": {
           "automargin": true,
           "gridcolor": "white",
           "linecolor": "white",
           "ticks": "",
           "title": {
            "standoff": 15
           },
           "zerolinecolor": "white",
           "zerolinewidth": 2
          }
         }
        },
        "title": {
         "text": "TRT da 4ª Região. Porcentagem de julgamentos favoráveis <br>para cada uma das partes em relação a cada Turma Recursal."
        },
        "width": 1000,
        "xaxis": {
         "autorange": true,
         "range": [
          0,
          100
         ],
         "type": "linear"
        },
        "yaxis": {
         "autorange": true,
         "range": [
          -0.5,
          21.5
         ],
         "type": "multicategory"
        }
       }
      },
      "image/png": "[encoded data removed]",
      "text/html": [
       "<div>                            <div id=\"cac0e45a-31e2-4d31-b109-f705e614246a\" class=\"plotly-graph-div\" style=\"height:1000px; width:1000px;\"></div>            <script type=\"text/javascript\">                require([\"plotly\"], function(Plotly) {                    window.PLOTLYENV=window.PLOTLYENV || {};                                    if (document.getElementById(\"cac0e45a-31e2-4d31-b109-f705e614246a\")) {                    Plotly.newPlot(                        \"cac0e45a-31e2-4d31-b109-f705e614246a\",                        [{\"name\": \"DEFERIMENTO\", \"orientation\": \"h\", \"type\": \"bar\", \"x\": [65, 12, 36, 17, 55, 7, 212, 30, 317, 69, 521, 98, 558, 99, 733, 125, 867, 99, 818, 75, 540, 136], \"y\": [[\"11\\u00aa Turma\", \"11\\u00aa Turma\", \"10\\u00aa Turma\", \"10\\u00aa Turma\", \"9\\u00aa Turma\", \"9\\u00aa Turma\", \"8\\u00aa Turma\", \"8\\u00aa Turma\", \"7\\u00aa Turma\", \"7\\u00aa Turma\", \"6\\u00aa Turma\", \"6\\u00aa Turma\", \"5\\u00aa Turma\", \"5\\u00aa Turma\", \"4\\u00aa Turma\", \"4\\u00aa Turma\", \"3\\u00aa Turma\", \"3\\u00aa Turma\", \"2\\u00aa Turma\", \"2\\u00aa Turma\", \"1\\u00aa Turma\", \"1\\u00aa Turma\"], [\"EMPREGADO\", \"EMPRESA\", \"EMPREGADO\", \"EMPRESA\", \"EMPREGADO\", \"EMPRESA\", \"EMPREGADO\", \"EMPRESA\", \"EMPREGADO\", \"EMPRESA\", \"EMPREGADO\", \"EMPRESA\", \"EMPREGADO\", \"EMPRESA\", \"EMPREGADO\", \"EMPRESA\", \"EMPREGADO\", \"EMPRESA\", \"EMPREGADO\", \"EMPRESA\", \"EMPREGADO\", \"EMPRESA\"]]}, {\"name\": \"INDEFERIMENTO\", \"orientation\": \"h\", \"type\": \"bar\", \"x\": [82, 23, 51, 11, 54, 15, 159, 47, 376, 63, 448, 104, 658, 189, 770, 172, 663, 203, 639, 172, 776, 187], \"y\": [[\"11\\u00aa Turma\", \"11\\u00aa Turma\", \"10\\u00aa Turma\", \"10\\u00aa Turma\", \"9\\u00aa Turma\", \"9\\u00aa Turma\", \"8\\u00aa Turma\", \"8\\u00aa Turma\", \"7\\u00aa Turma\", \"7\\u00aa Turma\", \"6\\u00aa Turma\", \"6\\u00aa Turma\", \"5\\u00aa Turma\", \"5\\u00aa Turma\", \"4\\u00aa Turma\", \"4\\u00aa Turma\", \"3\\u00aa Turma\", \"3\\u00aa Turma\", \"2\\u00aa Turma\", \"2\\u00aa Turma\", \"1\\u00aa Turma\", \"1\\u00aa Turma\"], [\"EMPREGADO\", \"EMPRESA\", \"EMPREGADO\", \"EMPRESA\", \"EMPREGADO\", \"EMPRESA\", \"EMPREGADO\", \"EMPRESA\", \"EMPREGADO\", \"EMPRESA\", \"EMPREGADO\", \"EMPRESA\", \"EMPREGADO\", \"EMPRESA\", \"EMPREGADO\", \"EMPRESA\", \"EMPREGADO\", \"EMPRESA\", \"EMPREGADO\", \"EMPRESA\", \"EMPREGADO\", \"EMPRESA\"]]}],                        {\"annotations\": [{\"font\": {\"color\": \"#ffffff\", \"size\": 16}, \"showarrow\": false, \"text\": \"44.22%\", \"x\": 34.21768707482993, \"y\": [\"11\\u00aa Turma\", \"EMPREGADO\"]}, {\"font\": {\"color\": \"#ffffff\", \"size\": 16}, \"showarrow\": false, \"text\": \"34.29%\", \"x\": 24.285714285714285, \"y\": [\"11\\u00aa Turma\", \"EMPRESA\"]}, {\"font\": {\"color\": \"#ffffff\", \"size\": 16}, \"showarrow\": false, \"text\": \"41.38%\", \"x\": 31.379310344827587, \"y\": [\"10\\u00aa Turma\", \"EMPREGADO\"]}, {\"font\": {\"color\": \"#ffffff\", \"size\": 16}, \"showarrow\": false, \"text\": \"60.71%\", \"x\": 50.71428571428571, \"y\": [\"10\\u00aa Turma\", \"EMPRESA\"]}, {\"font\": {\"color\": \"#ffffff\", \"size\": 16}, \"showarrow\": false, \"text\": \"50.46%\", \"x\": 40.45871559633027, \"y\": [\"9\\u00aa Turma\", \"EMPREGADO\"]}, {\"font\": {\"color\": \"#ffffff\", \"size\": 16}, \"showarrow\": false, \"text\": \"31.82%\", \"x\": 21.818181818181817, \"y\": [\"9\\u00aa Turma\", \"EMPRESA\"]}, {\"font\": {\"color\": \"#ffffff\", \"size\": 16}, \"showarrow\": false, \"text\": \"57.14%\", \"x\": 47.14285714285714, \"y\": [\"8\\u00aa Turma\", \"EMPREGADO\"]}, {\"font\": {\"color\": \"#ffffff\", \"size\": 16}, \"showarrow\": false, \"text\": \"38.96%\", \"x\": 28.961038961038966, \"y\": [\"8\\u00aa Turma\", \"EMPRESA\"]}, {\"font\": {\"color\": \"#ffffff\", \"size\": 16}, \"showarrow\": false, \"text\": \"45.74%\", \"x\": 35.74314574314574, \"y\": [\"7\\u00aa Turma\", \"EMPREGADO\"]}, {\"font\": {\"color\": \"#ffffff\", \"size\": 16}, \"showarrow\": false, \"text\": \"52.27%\", \"x\": 42.27272727272727, \"y\": [\"7\\u00aa Turma\", \"EMPRESA\"]}, {\"font\": {\"color\": \"#ffffff\", \"size\": 16}, \"showarrow\": false, \"text\": \"53.77%\", \"x\": 43.76676986584107, \"y\": [\"6\\u00aa Turma\", \"EMPREGADO\"]}, {\"font\": {\"color\": \"#ffffff\", \"size\": 16}, \"showarrow\": false, \"text\": \"48.51%\", \"x\": 38.51485148514851, \"y\": [\"6\\u00aa Turma\", \"EMPRESA\"]}, {\"font\": {\"color\": \"#ffffff\", \"size\": 16}, \"showarrow\": false, \"text\": \"45.89%\", \"x\": 35.88815789473684, \"y\": [\"5\\u00aa Turma\", \"EMPREGADO\"]}, {\"font\": {\"color\": \"#ffffff\", \"size\": 16}, \"showarrow\": false, \"text\": \"34.38%\", \"x\": 24.375, \"y\": [\"5\\u00aa Turma\", \"EMPRESA\"]}, {\"font\": {\"color\": \"#ffffff\", \"size\": 16}, \"showarrow\": false, \"text\": \"48.77%\", \"x\": 38.76912840984697, \"y\": [\"4\\u00aa Turma\", \"EMPREGADO\"]}, {\"font\": {\"color\": \"#ffffff\", \"size\": 16}, \"showarrow\": false, \"text\": \"42.09%\", \"x\": 32.08754208754209, \"y\": [\"4\\u00aa Turma\", \"EMPRESA\"]}, {\"font\": {\"color\": \"#ffffff\", \"size\": 16}, \"showarrow\": false, \"text\": \"56.67%\", \"x\": 46.666666666666664, \"y\": [\"3\\u00aa Turma\", \"EMPREGADO\"]}, {\"font\": {\"color\": \"#ffffff\", \"size\": 16}, \"showarrow\": false, \"text\": \"32.78%\", \"x\": 22.781456953642383, \"y\": [\"3\\u00aa Turma\", \"EMPRESA\"]}, {\"font\": {\"color\": \"#ffffff\", \"size\": 16}, \"showarrow\": false, \"text\": \"56.14%\", \"x\": 46.142759094028825, \"y\": [\"2\\u00aa Turma\", \"EMPREGADO\"]}, {\"font\": {\"color\": \"#ffffff\", \"size\": 16}, \"showarrow\": false, \"text\": \"30.36%\", \"x\": 20.364372469635626, \"y\": [\"2\\u00aa Turma\", \"EMPRESA\"]}, {\"font\": {\"color\": \"#ffffff\", \"size\": 16}, \"showarrow\": false, \"text\": \"41.03%\", \"x\": 31.033434650455924, \"y\": [\"1\\u00aa Turma\", \"EMPREGADO\"]}, {\"font\": {\"color\": \"#ffffff\", \"size\": 16}, \"showarrow\": false, \"text\": \"42.11%\", \"x\": 32.10526315789473, \"y\": [\"1\\u00aa Turma\", \"EMPRESA\"]}], \"barmode\": \"stack\", \"barnorm\": \"percent\", \"height\": 1000, \"margin\": {\"l\": 400}, \"template\": {\"data\": {\"bar\": [{\"error_x\": {\"color\": \"#2a3f5f\"}, \"error_y\": {\"color\": \"#2a3f5f\"}, \"marker\": {\"line\": {\"color\": \"#E5ECF6\", \"width\": 0.5}}, \"type\": \"bar\"}], \"barpolar\": [{\"marker\": {\"line\": {\"color\": \"#E5ECF6\", \"width\": 0.5}}, \"type\": \"barpolar\"}], \"carpet\": [{\"aaxis\": {\"endlinecolor\": \"#2a3f5f\", \"gridcolor\": \"white\", \"linecolor\": \"white\", \"minorgridcolor\": \"white\", \"startlinecolor\": \"#2a3f5f\"}, \"baxis\": {\"endlinecolor\": \"#2a3f5f\", \"gridcolor\": \"white\", \"linecolor\": \"white\", \"minorgridcolor\": \"white\", \"startlinecolor\": \"#2a3f5f\"}, \"type\": \"carpet\"}], \"choropleth\": [{\"colorbar\": {\"outlinewidth\": 0, \"ticks\": \"\"}, \"type\": \"choropleth\"}], \"contour\": [{\"colorbar\": {\"outlinewidth\": 0, \"ticks\": \"\"}, \"colorscale\": [[0.0, \"#0d0887\"], [0.1111111111111111, \"#46039f\"], [0.2222222222222222, \"#7201a8\"], [0.3333333333333333, \"#9c179e\"], [0.4444444444444444, \"#bd3786\"], [0.5555555555555556, \"#d8576b\"], [0.6666666666666666, \"#ed7953\"], [0.7777777777777778, \"#fb9f3a\"], [0.8888888888888888, \"#fdca26\"], [1.0, \"#f0f921\"]], \"type\": \"contour\"}], \"contourcarpet\": [{\"colorbar\": {\"outlinewidth\": 0, \"ticks\": \"\"}, \"type\": \"contourcarpet\"}], \"heatmap\": [{\"colorbar\": {\"outlinewidth\": 0, \"ticks\": \"\"}, \"colorscale\": [[0.0, \"#0d0887\"], [0.1111111111111111, \"#46039f\"], [0.2222222222222222, \"#7201a8\"], [0.3333333333333333, \"#9c179e\"], [0.4444444444444444, \"#bd3786\"], [0.5555555555555556, \"#d8576b\"], [0.6666666666666666, \"#ed7953\"], [0.7777777777777778, \"#fb9f3a\"], [0.8888888888888888, \"#fdca26\"], [1.0, \"#f0f921\"]], \"type\": \"heatmap\"}], \"heatmapgl\": [{\"colorbar\": {\"outlinewidth\": 0, \"ticks\": \"\"}, \"colorscale\": [[0.0, \"#0d0887\"], [0.1111111111111111, \"#46039f\"], [0.2222222222222222, \"#7201a8\"], [0.3333333333333333, \"#9c179e\"], [0.4444444444444444, \"#bd3786\"], [0.5555555555555556, \"#d8576b\"], [0.6666666666666666, \"#ed7953\"], [0.7777777777777778, \"#fb9f3a\"], [0.8888888888888888, \"#fdca26\"], [1.0, \"#f0f921\"]], \"type\": \"heatmapgl\"}], \"histogram\": [{\"marker\": {\"colorbar\": {\"outlinewidth\": 0, \"ticks\": \"\"}}, \"type\": \"histogram\"}], \"histogram2d\": [{\"colorbar\": {\"outlinewidth\": 0, \"ticks\": \"\"}, \"colorscale\": [[0.0, \"#0d0887\"], [0.1111111111111111, \"#46039f\"], [0.2222222222222222, \"#7201a8\"], [0.3333333333333333, \"#9c179e\"], [0.4444444444444444, \"#bd3786\"], [0.5555555555555556, \"#d8576b\"], [0.6666666666666666, \"#ed7953\"], [0.7777777777777778, \"#fb9f3a\"], [0.8888888888888888, \"#fdca26\"], [1.0, \"#f0f921\"]], \"type\": \"histogram2d\"}], \"histogram2dcontour\": [{\"colorbar\": {\"outlinewidth\": 0, \"ticks\": \"\"}, \"colorscale\": [[0.0, \"#0d0887\"], [0.1111111111111111, \"#46039f\"], [0.2222222222222222, \"#7201a8\"], [0.3333333333333333, \"#9c179e\"], [0.4444444444444444, \"#bd3786\"], [0.5555555555555556, \"#d8576b\"], [0.6666666666666666, \"#ed7953\"], [0.7777777777777778, \"#fb9f3a\"], [0.8888888888888888, \"#fdca26\"], [1.0, \"#f0f921\"]], \"type\": \"histogram2dcontour\"}], \"mesh3d\": [{\"colorbar\": {\"outlinewidth\": 0, \"ticks\": \"\"}, \"type\": \"mesh3d\"}], \"parcoords\": [{\"line\": {\"colorbar\": {\"outlinewidth\": 0, \"ticks\": \"\"}}, \"type\": \"parcoords\"}], \"pie\": [{\"automargin\": true, \"type\": \"pie\"}], \"scatter\": [{\"marker\": {\"colorbar\": {\"outlinewidth\": 0, \"ticks\": \"\"}}, \"type\": \"scatter\"}], \"scatter3d\": [{\"line\": {\"colorbar\": {\"outlinewidth\": 0, \"ticks\": \"\"}}, \"marker\": {\"colorbar\": {\"outlinewidth\": 0, \"ticks\": \"\"}}, \"type\": \"scatter3d\"}], \"scattercarpet\": [{\"marker\": {\"colorbar\": {\"outlinewidth\": 0, \"ticks\": \"\"}}, \"type\": \"scattercarpet\"}], \"scattergeo\": [{\"marker\": {\"colorbar\": {\"outlinewidth\": 0, \"ticks\": \"\"}}, \"type\": \"scattergeo\"}], \"scattergl\": [{\"marker\": {\"colorbar\": {\"outlinewidth\": 0, \"ticks\": \"\"}}, \"type\": \"scattergl\"}], \"scattermapbox\": [{\"marker\": {\"colorbar\": {\"outlinewidth\": 0, \"ticks\": \"\"}}, \"type\": \"scattermapbox\"}], \"scatterpolar\": [{\"marker\": {\"colorbar\": {\"outlinewidth\": 0, \"ticks\": \"\"}}, \"type\": \"scatterpolar\"}], \"scatterpolargl\": [{\"marker\": {\"colorbar\": {\"outlinewidth\": 0, \"ticks\": \"\"}}, \"type\": \"scatterpolargl\"}], \"scatterternary\": [{\"marker\": {\"colorbar\": {\"outlinewidth\": 0, \"ticks\": \"\"}}, \"type\": \"scatterternary\"}], \"surface\": [{\"colorbar\": {\"outlinewidth\": 0, \"ticks\": \"\"}, \"colorscale\": [[0.0, \"#0d0887\"], [0.1111111111111111, \"#46039f\"], [0.2222222222222222, \"#7201a8\"], [0.3333333333333333, \"#9c179e\"], [0.4444444444444444, \"#bd3786\"], [0.5555555555555556, \"#d8576b\"], [0.6666666666666666, \"#ed7953\"], [0.7777777777777778, \"#fb9f3a\"], [0.8888888888888888, \"#fdca26\"], [1.0, \"#f0f921\"]], \"type\": \"surface\"}], \"table\": [{\"cells\": {\"fill\": {\"color\": \"#EBF0F8\"}, \"line\": {\"color\": \"white\"}}, \"header\": {\"fill\": {\"color\": \"#C8D4E3\"}, \"line\": {\"color\": \"white\"}}, \"type\": \"table\"}]}, \"layout\": {\"annotationdefaults\": {\"arrowcolor\": \"#2a3f5f\", \"arrowhead\": 0, \"arrowwidth\": 1}, \"autotypenumbers\": \"strict\", \"coloraxis\": {\"colorbar\": {\"outlinewidth\": 0, \"ticks\": \"\"}}, \"colorscale\": {\"diverging\": [[0, \"#8e0152\"], [0.1, \"#c51b7d\"], [0.2, \"#de77ae\"], [0.3, \"#f1b6da\"], [0.4, \"#fde0ef\"], [0.5, \"#f7f7f7\"], [0.6, \"#e6f5d0\"], [0.7, \"#b8e186\"], [0.8, \"#7fbc41\"], [0.9, \"#4d9221\"], [1, \"#276419\"]], \"sequential\": [[0.0, \"#0d0887\"], [0.1111111111111111, \"#46039f\"], [0.2222222222222222, \"#7201a8\"], [0.3333333333333333, \"#9c179e\"], [0.4444444444444444, \"#bd3786\"], [0.5555555555555556, \"#d8576b\"], [0.6666666666666666, \"#ed7953\"], [0.7777777777777778, \"#fb9f3a\"], [0.8888888888888888, \"#fdca26\"], [1.0, \"#f0f921\"]], \"sequentialminus\": [[0.0, \"#0d0887\"], [0.1111111111111111, \"#46039f\"], [0.2222222222222222, \"#7201a8\"], [0.3333333333333333, \"#9c179e\"], [0.4444444444444444, \"#bd3786\"], [0.5555555555555556, \"#d8576b\"], [0.6666666666666666, \"#ed7953\"], [0.7777777777777778, \"#fb9f3a\"], [0.8888888888888888, \"#fdca26\"], [1.0, \"#f0f921\"]]}, \"colorway\": [\"#636efa\", \"#EF553B\", \"#00cc96\", \"#ab63fa\", \"#FFA15A\", \"#19d3f3\", \"#FF6692\", \"#B6E880\", \"#FF97FF\", \"#FECB52\"], \"font\": {\"color\": \"#2a3f5f\"}, \"geo\": {\"bgcolor\": \"white\", \"lakecolor\": \"white\", \"landcolor\": \"#E5ECF6\", \"showlakes\": true, \"showland\": true, \"subunitcolor\": \"white\"}, \"hoverlabel\": {\"align\": \"left\"}, \"hovermode\": \"closest\", \"mapbox\": {\"style\": \"light\"}, \"paper_bgcolor\": \"white\", \"plot_bgcolor\": \"#E5ECF6\", \"polar\": {\"angularaxis\": {\"gridcolor\": \"white\", \"linecolor\": \"white\", \"ticks\": \"\"}, \"bgcolor\": \"#E5ECF6\", \"radialaxis\": {\"gridcolor\": \"white\", \"linecolor\": \"white\", \"ticks\": \"\"}}, \"scene\": {\"xaxis\": {\"backgroundcolor\": \"#E5ECF6\", \"gridcolor\": \"white\", \"gridwidth\": 2, \"linecolor\": \"white\", \"showbackground\": true, \"ticks\": \"\", \"zerolinecolor\": \"white\"}, \"yaxis\": {\"backgroundcolor\": \"#E5ECF6\", \"gridcolor\": \"white\", \"gridwidth\": 2, \"linecolor\": \"white\", \"showbackground\": true, \"ticks\": \"\", \"zerolinecolor\": \"white\"}, \"zaxis\": {\"backgroundcolor\": \"#E5ECF6\", \"gridcolor\": \"white\", \"gridwidth\": 2, \"linecolor\": \"white\", \"showbackground\": true, \"ticks\": \"\", \"zerolinecolor\": \"white\"}}, \"shapedefaults\": {\"line\": {\"color\": \"#2a3f5f\"}}, \"ternary\": {\"aaxis\": {\"gridcolor\": \"white\", \"linecolor\": \"white\", \"ticks\": \"\"}, \"baxis\": {\"gridcolor\": \"white\", \"linecolor\": \"white\", \"ticks\": \"\"}, \"bgcolor\": \"#E5ECF6\", \"caxis\": {\"gridcolor\": \"white\", \"linecolor\": \"white\", \"ticks\": \"\"}}, \"title\": {\"x\": 0.05}, \"xaxis\": {\"automargin\": true, \"gridcolor\": \"white\", \"linecolor\": \"white\", \"ticks\": \"\", \"title\": {\"standoff\": 15}, \"zerolinecolor\": \"white\", \"zerolinewidth\": 2}, \"yaxis\": {\"automargin\": true, \"gridcolor\": \"white\", \"linecolor\": \"white\", \"ticks\": \"\", \"title\": {\"standoff\": 15}, \"zerolinecolor\": \"white\", \"zerolinewidth\": 2}}}, \"title\": {\"text\": \"TRT da 4\\u00aa Regi\\u00e3o. Porcentagem de julgamentos favor\\u00e1veis <br>para cada uma das partes em rela\\u00e7\\u00e3o a cada Turma Recursal.\"}, \"width\": 1000},                        {\"responsive\": true}                    ).then(function(){\n",
       "                            \n",
       "var gd = document.getElementById('cac0e45a-31e2-4d31-b109-f705e614246a');\n",
       "var x = new MutationObserver(function (mutations, observer) {{\n",
       "        var display = window.getComputedStyle(gd).display;\n",
       "        if (!display || display === 'none') {{\n",
       "            console.log([gd, 'removed!']);\n",
       "            Plotly.purge(gd);\n",
       "            observer.disconnect();\n",
       "        }}\n",
       "}});\n",
       "\n",
       "// Listen for the removal of the full notebook cells\n",
       "var notebookContainer = gd.closest('#notebook-container');\n",
       "if (notebookContainer) {{\n",
       "    x.observe(notebookContainer, {childList: true});\n",
       "}}\n",
       "\n",
       "// Listen for the clearing of the current output cell\n",
       "var outputEl = gd.closest('.output');\n",
       "if (outputEl) {{\n",
       "    x.observe(outputEl, {childList: true});\n",
       "}}\n",
       "\n",
       "                        })                };                });            </script>        </div>"
      ]
     },
     "metadata": {},
     "output_type": "display_data"
    }
   ],
   "source": [
    "for i in range( len( orgaos ) ):\n",
    "    fig.add_annotation(\n",
    "            y= [ orgaos[i], tipo_parte[i] ],\n",
    "            x = ( percentuais_deferimento[i] ) - 10,\n",
    "            text=str( round( percentuais_deferimento[i], 2) )+\"%\",\n",
    "            showarrow=False,\n",
    "            font=dict(\n",
    "                    size=16,\n",
    "                    color=\"#ffffff\"\n",
    "                    ),\n",
    "            )\n",
    "\n",
    "fig.show()"
   ]
  },
  {
   "cell_type": "markdown",
   "metadata": {},
   "source": [
    "### Interpretação\n",
    "O gráfico anterior apresenta as porcentagens de deferimento em relação a cada Turma Recursal em relação a parte sendo empregado e empresa."
   ]
  },
  {
   "cell_type": "markdown",
   "metadata": {},
   "source": [
    "## Teste estatístico: Two proportion z-test e Teste de efeito estatístico: Cohen's H para cada Turma Recursal\n",
    "### Interpretação"
   ]
  },
  {
   "cell_type": "code",
   "execution_count": 96,
   "metadata": {},
   "outputs": [],
   "source": [
    "#realiza testes estatísticos para cada turma recursal\n",
    "def testes_estatisticos_turmas( tribunal, df_quantidades ):\n",
    "    df_quantidades = df_quantidades.sort_values([ \"NUMERO_ORDEM\", \"tipo_requerente_previsto\", \"deferimento_previsto\" ], ascending=[ True, True, True ])\n",
    "    df_relatorio = pd.DataFrame()\n",
    "    _tribunal = df_quantidades[\"TRIBUNAL\"] == tribunal\n",
    "\n",
    "    for turma_recursal in df_quantidades.loc[ _tribunal, \"ORGAO\" ].unique():\n",
    "        _turma_recursal = df_quantidades[\"ORGAO\"] == turma_recursal\n",
    "        _tipo_requerente_empregado = df_quantidades[\"tipo_requerente_previsto\"] == \"EMPREGADO\"\n",
    "        _tipo_requerente_empresa = df_quantidades[\"tipo_requerente_previsto\"] == \"EMPRESA\"\n",
    "\n",
    "        n_deferimento_empregado = df_quantidades.loc[ _turma_recursal &  _tipo_requerente_empregado, \"QUANTIDADE\" ].to_numpy()[0]\n",
    "        n_indeferimento_empregado = df_quantidades.loc[ _turma_recursal &  _tipo_requerente_empregado, \"QUANTIDADE\" ].to_numpy()[1]\n",
    "        total_empregado = n_deferimento_empregado + n_indeferimento_empregado\n",
    "\n",
    "        n_deferimento_empresa = df_quantidades.loc[ _turma_recursal &  _tipo_requerente_empresa, \"QUANTIDADE\" ].to_numpy()[0]\n",
    "        n_indeferimento_empresa = df_quantidades.loc[ _turma_recursal &  _tipo_requerente_empresa, \"QUANTIDADE\" ].to_numpy()[1]\n",
    "        total_empresa = n_deferimento_empresa + n_indeferimento_empresa\n",
    "\n",
    "        pvalue = proportion.test_proportions_2indep( n_deferimento_empregado, total_empregado, n_deferimento_empresa, total_empresa )[1]\n",
    "\n",
    "        print( \"=======================================> \"+turma_recursal )\n",
    "        print( \"Quantidade de processos analisados de EMPRESAS: \"+str(total_empresa) )\n",
    "        print( \"Quantidade de processos analisados de EMPREGADOS: \"+str(total_empregado) )\n",
    "\n",
    "        ###### P-VALUE\n",
    "        print( \"===> P-value: \"+str(round(pvalue*100, 2) )+\"%\" )\n",
    "        pvalue_interpretacao = \"\"\n",
    "        if( pvalue < 0.05 ):\n",
    "            print( \"SIM, apresenta diferença estatística entre a proporção de deferimentos para empregado e para empresa.\" )\n",
    "            #pvalue_interpretacao = \"SIM, HÁ DIFERENÇA ESTATÍSTICA\"\n",
    "            pvalue_interpretacao = \"HÁ DIFERENÇA\"\n",
    "        else:\n",
    "            print( \"NÃO, não apresenta diferença estatística entre a proporção de deferimentos para empregado e para empresa.\" )\n",
    "            #pvalue_interpretacao = \"NÃO, NÃO HÁ DIFERENÇA ESTATÍSTICA\"\n",
    "            pvalue_interpretacao = \"NÃO HÁ DIFERENÇA\"\n",
    "\n",
    "        ###### POWER\n",
    "        P1 = n_deferimento_empregado / total_empregado\n",
    "        P2 = n_deferimento_empresa / total_empresa\n",
    "        diff = P1 - P2\n",
    "        power = proportion.power_proportions_2indep( diff, P2, total_empregado,  total_empresa/total_empregado, alpha=0.05, value=0, alternative='two-sided', return_results=True).power\n",
    "        print( \"===> Power: \"+str(round(power*100, 2) )+\"%\" )\n",
    "        power_interpretacao = \"\"\n",
    "        if( power < 0.8 ):\n",
    "            print( \"Nível inaceitável de força estatística. Risco considerável de ocorrer Type 2 error, ou seja, há risco de não haver diferença entre as proporções (se foi encontrada diferença).\" )\n",
    "            #power_interpretacao = \"FORÇA ESTATÍSTICA INACEITÁVEL\"\n",
    "            power_interpretacao = \"INACEITÁVEL\"\n",
    "        else:\n",
    "            print( \"Nível aceitável de força estatística. Risco baixo de ocorrer Type 2 error, ou seja, há risco baixo de não haver diferença entre as proporções (se foi encontrada diferença).\" )\n",
    "            #power_interpretacao = \"FORÇA ESTATÍSTICA ACEITÁVEL\"\n",
    "            power_interpretacao = \"ACEITÁVEL\"\n",
    "\n",
    "         ###### COHEN'S H   \n",
    "        effectsize = proportion_effectsize( P1, P2 )\n",
    "        print( \"===> Índice Cohen's H: \"+str(abs(round(effectsize*100, 2) ) )+\"%\" )\n",
    "        hNonDir = abs(effectsize)\n",
    "        effectsize_interpretacao = \"\"\n",
    "        if hNonDir < .20:\n",
    "            print('Diferença estatística insignificante.')\n",
    "            #effectsize_interpretacao = \"DIFERENÇA DE PROPORÇÃO INSIGNIFICANTE\"\n",
    "            effectsize_interpretacao = \"INSIGNIFICANTE\"\n",
    "        elif hNonDir < .50:\n",
    "            print('Diferença estatística pequena.')\n",
    "            #effectsize_interpretacao = \"DIFERENÇA DE PROPORÇÃO PEQUENA\"\n",
    "            effectsize_interpretacao = \"PEQUENA\"\n",
    "        elif hNonDir < .80:\n",
    "            print('Diferença estatística média.')\n",
    "            #effectsize_interpretacao = \"DIFERENÇA DE PROPORÇÃO MÉDIA\"\n",
    "            effectsize_interpretacao = \"MÉDIA\"\n",
    "        else:\n",
    "            print('Diferença estatística grande.')    \n",
    "            #effectsize_interpretacao = \"DIFERENÇA DE PROPORÇÃO GRANDE\"\n",
    "            effectsize_interpretacao = \"GRANDE\"\n",
    "\n",
    "        #print( \"------------\" )\n",
    "        print( \"\" )\n",
    "        total_processos = total_empregado+total_empresa\n",
    "        linha = [ tribunal, turma_recursal, total_processos, round(pvalue, 4), pvalue_interpretacao, round(power, 4), power_interpretacao, abs(round(effectsize, 4)), effectsize_interpretacao ]\n",
    "        df_relatorio = df_relatorio.append( [linha] )\n",
    "        \n",
    "    df_relatorio.columns = [ \"TRIBUNAL\", \"TURMA RECURSAL\", \"TOTAL DE PROCESSOS\", \"PVALUE\", \"PVALUE INTERPRETACAO\", \"POWER\", \"POWER INTERPRETAÇÃO\", \"EFFECT\", \"EFFECT INTERPRETACAO\" ]\n",
    "    return df_relatorio"
   ]
  },
  {
   "cell_type": "code",
   "execution_count": 97,
   "metadata": {},
   "outputs": [
    {
     "name": "stdout",
     "output_type": "stream",
     "text": [
      "=======================================> 1ª Turma\n",
      "Quantidade de processos analisados de EMPRESAS: 323\n",
      "Quantidade de processos analisados de EMPREGADOS: 1316\n",
      "===> P-value: 71.72%\n",
      "NÃO, não apresenta diferença estatística entre a proporção de deferimentos para empregado e para empresa.\n",
      "===> Power: 8.63%\n",
      "Nível inaceitável de força estatística. Risco considerável de ocorrer Type 2 error, ou seja, há risco de não haver diferença entre as proporções (se foi encontrada diferença).\n",
      "===> Índice Cohen's H: 2.17%\n",
      "Diferença estatística insignificante.\n",
      "\n",
      "=======================================> 2ª Turma\n",
      "Quantidade de processos analisados de EMPRESAS: 247\n",
      "Quantidade de processos analisados de EMPREGADOS: 1457\n",
      "===> P-value: 0.0%\n",
      "SIM, apresenta diferença estatística entre a proporção de deferimentos para empregado e para empresa.\n",
      "===> Power: 100.0%\n",
      "Nível aceitável de força estatística. Risco baixo de ocorrer Type 2 error, ou seja, há risco baixo de não haver diferença entre as proporções (se foi encontrada diferença).\n",
      "===> Índice Cohen's H: 52.67%\n",
      "Diferença estatística média.\n",
      "\n",
      "=======================================> 3ª Turma\n",
      "Quantidade de processos analisados de EMPRESAS: 302\n",
      "Quantidade de processos analisados de EMPREGADOS: 1530\n",
      "===> P-value: 0.0%\n",
      "SIM, apresenta diferença estatística entre a proporção de deferimentos para empregado e para empresa.\n",
      "===> Power: 100.0%\n",
      "Nível aceitável de força estatística. Risco baixo de ocorrer Type 2 error, ou seja, há risco baixo de não haver diferença entre as proporções (se foi encontrada diferença).\n",
      "===> Índice Cohen's H: 48.53%\n",
      "Diferença estatística pequena.\n",
      "\n",
      "=======================================> 4ª Turma\n",
      "Quantidade de processos analisados de EMPRESAS: 297\n",
      "Quantidade de processos analisados de EMPREGADOS: 1503\n",
      "===> P-value: 3.43%\n",
      "SIM, apresenta diferença estatística entre a proporção de deferimentos para empregado e para empresa.\n",
      "===> Power: 95.75%\n",
      "Nível aceitável de força estatística. Risco baixo de ocorrer Type 2 error, ou seja, há risco baixo de não haver diferença entre as proporções (se foi encontrada diferença).\n",
      "===> Índice Cohen's H: 13.43%\n",
      "Diferença estatística insignificante.\n",
      "\n",
      "=======================================> 5ª Turma\n",
      "Quantidade de processos analisados de EMPRESAS: 288\n",
      "Quantidade de processos analisados de EMPREGADOS: 1216\n",
      "===> P-value: 0.03%\n",
      "SIM, apresenta diferença estatística entre a proporção de deferimentos para empregado e para empresa.\n",
      "===> Power: 99.99%\n",
      "Nível aceitável de força estatística. Risco baixo de ocorrer Type 2 error, ou seja, há risco baixo de não haver diferença entre as proporções (se foi encontrada diferença).\n",
      "===> Índice Cohen's H: 23.55%\n",
      "Diferença estatística pequena.\n",
      "\n",
      "=======================================> 6ª Turma\n",
      "Quantidade de processos analisados de EMPRESAS: 202\n",
      "Quantidade de processos analisados de EMPREGADOS: 969\n",
      "===> P-value: 17.41%\n",
      "NÃO, não apresenta diferença estatística entre a proporção de deferimentos para empregado e para empresa.\n",
      "===> Power: 63.8%\n",
      "Nível inaceitável de força estatística. Risco considerável de ocorrer Type 2 error, ou seja, há risco de não haver diferença entre as proporções (se foi encontrada diferença).\n",
      "===> Índice Cohen's H: 10.51%\n",
      "Diferença estatística insignificante.\n",
      "\n",
      "=======================================> 7ª Turma\n",
      "Quantidade de processos analisados de EMPRESAS: 132\n",
      "Quantidade de processos analisados de EMPREGADOS: 693\n",
      "===> P-value: 16.87%\n",
      "NÃO, não apresenta diferença estatística entre a proporção de deferimentos para empregado e para empresa.\n",
      "===> Power: 68.17%\n",
      "Nível inaceitável de força estatística. Risco considerável de ocorrer Type 2 error, ou seja, há risco de não haver diferença entre as proporções (se foi encontrada diferença).\n",
      "===> Índice Cohen's H: 13.07%\n",
      "Diferença estatística insignificante.\n",
      "\n",
      "=======================================> 8ª Turma\n",
      "Quantidade de processos analisados de EMPRESAS: 77\n",
      "Quantidade de processos analisados de EMPREGADOS: 371\n",
      "===> P-value: 0.32%\n",
      "SIM, apresenta diferença estatística entre a proporção de deferimentos para empregado e para empresa.\n",
      "===> Power: 99.88%\n",
      "Nível aceitável de força estatística. Risco baixo de ocorrer Type 2 error, ou seja, há risco baixo de não haver diferença entre as proporções (se foi encontrada diferença).\n",
      "===> Índice Cohen's H: 36.6%\n",
      "Diferença estatística pequena.\n",
      "\n",
      "=======================================> 9ª Turma\n",
      "Quantidade de processos analisados de EMPRESAS: 22\n",
      "Quantidade de processos analisados de EMPREGADOS: 109\n",
      "===> P-value: 11.06%\n",
      "NÃO, não apresenta diferença estatística entre a proporção de deferimentos para empregado e para empresa.\n",
      "===> Power: 80.29%\n",
      "Nível aceitável de força estatística. Risco baixo de ocorrer Type 2 error, ou seja, há risco baixo de não haver diferença entre as proporções (se foi encontrada diferença).\n",
      "===> Índice Cohen's H: 38.13%\n",
      "Diferença estatística pequena.\n",
      "\n",
      "=======================================> 10ª Turma\n",
      "Quantidade de processos analisados de EMPRESAS: 28\n",
      "Quantidade de processos analisados de EMPREGADOS: 87\n",
      "===> P-value: 7.52%\n",
      "NÃO, não apresenta diferença estatística entre a proporção de deferimentos para empregado e para empresa.\n",
      "===> Power: 72.66%\n",
      "Nível inaceitável de força estatística. Risco considerável de ocorrer Type 2 error, ou seja, há risco de não haver diferença entre as proporções (se foi encontrada diferença).\n",
      "===> Índice Cohen's H: 38.92%\n",
      "Diferença estatística pequena.\n",
      "\n",
      "=======================================> 11ª Turma\n",
      "Quantidade de processos analisados de EMPRESAS: 35\n",
      "Quantidade de processos analisados de EMPREGADOS: 147\n",
      "===> P-value: 30.01%\n",
      "NÃO, não apresenta diferença estatística entre a proporção de deferimentos para empregado e para empresa.\n",
      "===> Power: 41.41%\n",
      "Nível inaceitável de força estatística. Risco considerável de ocorrer Type 2 error, ou seja, há risco de não haver diferença entre as proporções (se foi encontrada diferença).\n",
      "===> Índice Cohen's H: 20.38%\n",
      "Diferença estatística pequena.\n",
      "\n"
     ]
    }
   ],
   "source": [
    "df_relatorio_trt4 = testes_estatisticos_turmas( \"TRT4\", df_quantidades_TRT4 )"
   ]
  },
  {
   "cell_type": "code",
   "execution_count": 98,
   "metadata": {},
   "outputs": [
    {
     "data": {
      "text/html": [
       "<div>\n",
       "<style scoped>\n",
       "    .dataframe tbody tr th:only-of-type {\n",
       "        vertical-align: middle;\n",
       "    }\n",
       "\n",
       "    .dataframe tbody tr th {\n",
       "        vertical-align: top;\n",
       "    }\n",
       "\n",
       "    .dataframe thead th {\n",
       "        text-align: right;\n",
       "    }\n",
       "</style>\n",
       "<table border=\"1\" class=\"dataframe\">\n",
       "  <thead>\n",
       "    <tr style=\"text-align: right;\">\n",
       "      <th></th>\n",
       "      <th>TRIBUNAL</th>\n",
       "      <th>TURMA RECURSAL</th>\n",
       "      <th>TOTAL DE PROCESSOS</th>\n",
       "      <th>PVALUE</th>\n",
       "      <th>PVALUE INTERPRETACAO</th>\n",
       "      <th>POWER</th>\n",
       "      <th>POWER INTERPRETAÇÃO</th>\n",
       "      <th>EFFECT</th>\n",
       "      <th>EFFECT INTERPRETACAO</th>\n",
       "    </tr>\n",
       "  </thead>\n",
       "  <tbody>\n",
       "    <tr>\n",
       "      <th>0</th>\n",
       "      <td>TRT4</td>\n",
       "      <td>1ª Turma</td>\n",
       "      <td>1639</td>\n",
       "      <td>0.7172</td>\n",
       "      <td>NÃO HÁ DIFERENÇA</td>\n",
       "      <td>0.0863</td>\n",
       "      <td>INACEITÁVEL</td>\n",
       "      <td>0.0217</td>\n",
       "      <td>INSIGNIFICANTE</td>\n",
       "    </tr>\n",
       "    <tr>\n",
       "      <th>0</th>\n",
       "      <td>TRT4</td>\n",
       "      <td>2ª Turma</td>\n",
       "      <td>1704</td>\n",
       "      <td>0.0000</td>\n",
       "      <td>HÁ DIFERENÇA</td>\n",
       "      <td>1.0000</td>\n",
       "      <td>ACEITÁVEL</td>\n",
       "      <td>0.5267</td>\n",
       "      <td>MÉDIA</td>\n",
       "    </tr>\n",
       "    <tr>\n",
       "      <th>0</th>\n",
       "      <td>TRT4</td>\n",
       "      <td>3ª Turma</td>\n",
       "      <td>1832</td>\n",
       "      <td>0.0000</td>\n",
       "      <td>HÁ DIFERENÇA</td>\n",
       "      <td>1.0000</td>\n",
       "      <td>ACEITÁVEL</td>\n",
       "      <td>0.4853</td>\n",
       "      <td>PEQUENA</td>\n",
       "    </tr>\n",
       "    <tr>\n",
       "      <th>0</th>\n",
       "      <td>TRT4</td>\n",
       "      <td>4ª Turma</td>\n",
       "      <td>1800</td>\n",
       "      <td>0.0343</td>\n",
       "      <td>HÁ DIFERENÇA</td>\n",
       "      <td>0.9575</td>\n",
       "      <td>ACEITÁVEL</td>\n",
       "      <td>0.1343</td>\n",
       "      <td>INSIGNIFICANTE</td>\n",
       "    </tr>\n",
       "    <tr>\n",
       "      <th>0</th>\n",
       "      <td>TRT4</td>\n",
       "      <td>5ª Turma</td>\n",
       "      <td>1504</td>\n",
       "      <td>0.0003</td>\n",
       "      <td>HÁ DIFERENÇA</td>\n",
       "      <td>0.9999</td>\n",
       "      <td>ACEITÁVEL</td>\n",
       "      <td>0.2355</td>\n",
       "      <td>PEQUENA</td>\n",
       "    </tr>\n",
       "    <tr>\n",
       "      <th>0</th>\n",
       "      <td>TRT4</td>\n",
       "      <td>6ª Turma</td>\n",
       "      <td>1171</td>\n",
       "      <td>0.1741</td>\n",
       "      <td>NÃO HÁ DIFERENÇA</td>\n",
       "      <td>0.6380</td>\n",
       "      <td>INACEITÁVEL</td>\n",
       "      <td>0.1051</td>\n",
       "      <td>INSIGNIFICANTE</td>\n",
       "    </tr>\n",
       "    <tr>\n",
       "      <th>0</th>\n",
       "      <td>TRT4</td>\n",
       "      <td>7ª Turma</td>\n",
       "      <td>825</td>\n",
       "      <td>0.1687</td>\n",
       "      <td>NÃO HÁ DIFERENÇA</td>\n",
       "      <td>0.6817</td>\n",
       "      <td>INACEITÁVEL</td>\n",
       "      <td>0.1307</td>\n",
       "      <td>INSIGNIFICANTE</td>\n",
       "    </tr>\n",
       "    <tr>\n",
       "      <th>0</th>\n",
       "      <td>TRT4</td>\n",
       "      <td>8ª Turma</td>\n",
       "      <td>448</td>\n",
       "      <td>0.0032</td>\n",
       "      <td>HÁ DIFERENÇA</td>\n",
       "      <td>0.9988</td>\n",
       "      <td>ACEITÁVEL</td>\n",
       "      <td>0.3660</td>\n",
       "      <td>PEQUENA</td>\n",
       "    </tr>\n",
       "    <tr>\n",
       "      <th>0</th>\n",
       "      <td>TRT4</td>\n",
       "      <td>9ª Turma</td>\n",
       "      <td>131</td>\n",
       "      <td>0.1106</td>\n",
       "      <td>NÃO HÁ DIFERENÇA</td>\n",
       "      <td>0.8029</td>\n",
       "      <td>ACEITÁVEL</td>\n",
       "      <td>0.3813</td>\n",
       "      <td>PEQUENA</td>\n",
       "    </tr>\n",
       "    <tr>\n",
       "      <th>0</th>\n",
       "      <td>TRT4</td>\n",
       "      <td>10ª Turma</td>\n",
       "      <td>115</td>\n",
       "      <td>0.0752</td>\n",
       "      <td>NÃO HÁ DIFERENÇA</td>\n",
       "      <td>0.7266</td>\n",
       "      <td>INACEITÁVEL</td>\n",
       "      <td>0.3892</td>\n",
       "      <td>PEQUENA</td>\n",
       "    </tr>\n",
       "    <tr>\n",
       "      <th>0</th>\n",
       "      <td>TRT4</td>\n",
       "      <td>11ª Turma</td>\n",
       "      <td>182</td>\n",
       "      <td>0.3001</td>\n",
       "      <td>NÃO HÁ DIFERENÇA</td>\n",
       "      <td>0.4141</td>\n",
       "      <td>INACEITÁVEL</td>\n",
       "      <td>0.2038</td>\n",
       "      <td>PEQUENA</td>\n",
       "    </tr>\n",
       "  </tbody>\n",
       "</table>\n",
       "</div>"
      ],
      "text/plain": [
       "  TRIBUNAL TURMA RECURSAL  TOTAL DE PROCESSOS  PVALUE PVALUE INTERPRETACAO  \\\n",
       "0     TRT4       1ª Turma                1639  0.7172     NÃO HÁ DIFERENÇA   \n",
       "0     TRT4       2ª Turma                1704  0.0000         HÁ DIFERENÇA   \n",
       "0     TRT4       3ª Turma                1832  0.0000         HÁ DIFERENÇA   \n",
       "0     TRT4       4ª Turma                1800  0.0343         HÁ DIFERENÇA   \n",
       "0     TRT4       5ª Turma                1504  0.0003         HÁ DIFERENÇA   \n",
       "0     TRT4       6ª Turma                1171  0.1741     NÃO HÁ DIFERENÇA   \n",
       "0     TRT4       7ª Turma                 825  0.1687     NÃO HÁ DIFERENÇA   \n",
       "0     TRT4       8ª Turma                 448  0.0032         HÁ DIFERENÇA   \n",
       "0     TRT4       9ª Turma                 131  0.1106     NÃO HÁ DIFERENÇA   \n",
       "0     TRT4      10ª Turma                 115  0.0752     NÃO HÁ DIFERENÇA   \n",
       "0     TRT4      11ª Turma                 182  0.3001     NÃO HÁ DIFERENÇA   \n",
       "\n",
       "    POWER POWER INTERPRETAÇÃO  EFFECT EFFECT INTERPRETACAO  \n",
       "0  0.0863         INACEITÁVEL  0.0217       INSIGNIFICANTE  \n",
       "0  1.0000           ACEITÁVEL  0.5267                MÉDIA  \n",
       "0  1.0000           ACEITÁVEL  0.4853              PEQUENA  \n",
       "0  0.9575           ACEITÁVEL  0.1343       INSIGNIFICANTE  \n",
       "0  0.9999           ACEITÁVEL  0.2355              PEQUENA  \n",
       "0  0.6380         INACEITÁVEL  0.1051       INSIGNIFICANTE  \n",
       "0  0.6817         INACEITÁVEL  0.1307       INSIGNIFICANTE  \n",
       "0  0.9988           ACEITÁVEL  0.3660              PEQUENA  \n",
       "0  0.8029           ACEITÁVEL  0.3813              PEQUENA  \n",
       "0  0.7266         INACEITÁVEL  0.3892              PEQUENA  \n",
       "0  0.4141         INACEITÁVEL  0.2038              PEQUENA  "
      ]
     },
     "execution_count": 98,
     "metadata": {},
     "output_type": "execute_result"
    }
   ],
   "source": [
    "df_relatorio_trt4"
   ]
  },
  {
   "cell_type": "code",
   "execution_count": 99,
   "metadata": {},
   "outputs": [],
   "source": [
    "df_relatorio_trt4.to_csv(\"df_relatorio_trt4.csv\", sep=',', encoding='utf-8', quotechar='\"', decimal=',')"
   ]
  },
  {
   "cell_type": "code",
   "execution_count": 100,
   "metadata": {},
   "outputs": [
    {
     "data": {
      "text/html": [
       "<div>\n",
       "<style scoped>\n",
       "    .dataframe tbody tr th:only-of-type {\n",
       "        vertical-align: middle;\n",
       "    }\n",
       "\n",
       "    .dataframe tbody tr th {\n",
       "        vertical-align: top;\n",
       "    }\n",
       "\n",
       "    .dataframe thead th {\n",
       "        text-align: right;\n",
       "    }\n",
       "</style>\n",
       "<table border=\"1\" class=\"dataframe\">\n",
       "  <thead>\n",
       "    <tr style=\"text-align: right;\">\n",
       "      <th></th>\n",
       "      <th>TOTAL DE PROCESSOS</th>\n",
       "      <th>PVALUE</th>\n",
       "      <th>POWER</th>\n",
       "      <th>EFFECT</th>\n",
       "    </tr>\n",
       "  </thead>\n",
       "  <tbody>\n",
       "    <tr>\n",
       "      <th>count</th>\n",
       "      <td>11.000000</td>\n",
       "      <td>11.000000</td>\n",
       "      <td>11.000000</td>\n",
       "      <td>11.000000</td>\n",
       "    </tr>\n",
       "    <tr>\n",
       "      <th>mean</th>\n",
       "      <td>1031.909091</td>\n",
       "      <td>0.143973</td>\n",
       "      <td>0.755073</td>\n",
       "      <td>0.270873</td>\n",
       "    </tr>\n",
       "    <tr>\n",
       "      <th>std</th>\n",
       "      <td>710.707880</td>\n",
       "      <td>0.213136</td>\n",
       "      <td>0.294280</td>\n",
       "      <td>0.167418</td>\n",
       "    </tr>\n",
       "    <tr>\n",
       "      <th>min</th>\n",
       "      <td>115.000000</td>\n",
       "      <td>0.000000</td>\n",
       "      <td>0.086300</td>\n",
       "      <td>0.021700</td>\n",
       "    </tr>\n",
       "    <tr>\n",
       "      <th>25%</th>\n",
       "      <td>315.000000</td>\n",
       "      <td>0.001750</td>\n",
       "      <td>0.659850</td>\n",
       "      <td>0.132500</td>\n",
       "    </tr>\n",
       "    <tr>\n",
       "      <th>50%</th>\n",
       "      <td>1171.000000</td>\n",
       "      <td>0.075200</td>\n",
       "      <td>0.802900</td>\n",
       "      <td>0.235500</td>\n",
       "    </tr>\n",
       "    <tr>\n",
       "      <th>75%</th>\n",
       "      <td>1671.500000</td>\n",
       "      <td>0.171400</td>\n",
       "      <td>0.999350</td>\n",
       "      <td>0.385250</td>\n",
       "    </tr>\n",
       "    <tr>\n",
       "      <th>max</th>\n",
       "      <td>1832.000000</td>\n",
       "      <td>0.717200</td>\n",
       "      <td>1.000000</td>\n",
       "      <td>0.526700</td>\n",
       "    </tr>\n",
       "  </tbody>\n",
       "</table>\n",
       "</div>"
      ],
      "text/plain": [
       "       TOTAL DE PROCESSOS     PVALUE      POWER     EFFECT\n",
       "count           11.000000  11.000000  11.000000  11.000000\n",
       "mean          1031.909091   0.143973   0.755073   0.270873\n",
       "std            710.707880   0.213136   0.294280   0.167418\n",
       "min            115.000000   0.000000   0.086300   0.021700\n",
       "25%            315.000000   0.001750   0.659850   0.132500\n",
       "50%           1171.000000   0.075200   0.802900   0.235500\n",
       "75%           1671.500000   0.171400   0.999350   0.385250\n",
       "max           1832.000000   0.717200   1.000000   0.526700"
      ]
     },
     "execution_count": 100,
     "metadata": {},
     "output_type": "execute_result"
    }
   ],
   "source": [
    "df_relatorio_trt4.describe()"
   ]
  },
  {
   "cell_type": "code",
   "execution_count": 101,
   "metadata": {},
   "outputs": [
    {
     "data": {
      "application/vnd.plotly.v1+json": {
       "config": {
        "plotlyServerURL": "https://plot.ly"
       },
       "data": [
        {
         "name": "PVALUE INTERPRETACAO",
         "type": "histogram",
         "x": [
          "NÃO HÁ DIFERENÇA",
          "HÁ DIFERENÇA",
          "HÁ DIFERENÇA",
          "HÁ DIFERENÇA",
          "HÁ DIFERENÇA",
          "NÃO HÁ DIFERENÇA",
          "NÃO HÁ DIFERENÇA",
          "HÁ DIFERENÇA",
          "NÃO HÁ DIFERENÇA",
          "NÃO HÁ DIFERENÇA",
          "NÃO HÁ DIFERENÇA"
         ]
        },
        {
         "name": "POWER INTERPRETAÇÃO",
         "type": "histogram",
         "x": [
          "INACEITÁVEL",
          "ACEITÁVEL",
          "ACEITÁVEL",
          "ACEITÁVEL",
          "ACEITÁVEL",
          "INACEITÁVEL",
          "INACEITÁVEL",
          "ACEITÁVEL",
          "ACEITÁVEL",
          "INACEITÁVEL",
          "INACEITÁVEL"
         ]
        },
        {
         "name": "EFFEC INTERPRETACAO",
         "type": "histogram",
         "x": [
          "INSIGNIFICANTE",
          "MÉDIA",
          "PEQUENA",
          "INSIGNIFICANTE",
          "PEQUENA",
          "INSIGNIFICANTE",
          "INSIGNIFICANTE",
          "PEQUENA",
          "PEQUENA",
          "PEQUENA",
          "PEQUENA"
         ]
        }
       ],
       "layout": {
        "autosize": true,
        "template": {
         "data": {
          "bar": [
           {
            "error_x": {
             "color": "#2a3f5f"
            },
            "error_y": {
             "color": "#2a3f5f"
            },
            "marker": {
             "line": {
              "color": "#E5ECF6",
              "width": 0.5
             }
            },
            "type": "bar"
           }
          ],
          "barpolar": [
           {
            "marker": {
             "line": {
              "color": "#E5ECF6",
              "width": 0.5
             }
            },
            "type": "barpolar"
           }
          ],
          "carpet": [
           {
            "aaxis": {
             "endlinecolor": "#2a3f5f",
             "gridcolor": "white",
             "linecolor": "white",
             "minorgridcolor": "white",
             "startlinecolor": "#2a3f5f"
            },
            "baxis": {
             "endlinecolor": "#2a3f5f",
             "gridcolor": "white",
             "linecolor": "white",
             "minorgridcolor": "white",
             "startlinecolor": "#2a3f5f"
            },
            "type": "carpet"
           }
          ],
          "choropleth": [
           {
            "colorbar": {
             "outlinewidth": 0,
             "ticks": ""
            },
            "type": "choropleth"
           }
          ],
          "contour": [
           {
            "colorbar": {
             "outlinewidth": 0,
             "ticks": ""
            },
            "colorscale": [
             [
              0,
              "#0d0887"
             ],
             [
              0.1111111111111111,
              "#46039f"
             ],
             [
              0.2222222222222222,
              "#7201a8"
             ],
             [
              0.3333333333333333,
              "#9c179e"
             ],
             [
              0.4444444444444444,
              "#bd3786"
             ],
             [
              0.5555555555555556,
              "#d8576b"
             ],
             [
              0.6666666666666666,
              "#ed7953"
             ],
             [
              0.7777777777777778,
              "#fb9f3a"
             ],
             [
              0.8888888888888888,
              "#fdca26"
             ],
             [
              1,
              "#f0f921"
             ]
            ],
            "type": "contour"
           }
          ],
          "contourcarpet": [
           {
            "colorbar": {
             "outlinewidth": 0,
             "ticks": ""
            },
            "type": "contourcarpet"
           }
          ],
          "heatmap": [
           {
            "colorbar": {
             "outlinewidth": 0,
             "ticks": ""
            },
            "colorscale": [
             [
              0,
              "#0d0887"
             ],
             [
              0.1111111111111111,
              "#46039f"
             ],
             [
              0.2222222222222222,
              "#7201a8"
             ],
             [
              0.3333333333333333,
              "#9c179e"
             ],
             [
              0.4444444444444444,
              "#bd3786"
             ],
             [
              0.5555555555555556,
              "#d8576b"
             ],
             [
              0.6666666666666666,
              "#ed7953"
             ],
             [
              0.7777777777777778,
              "#fb9f3a"
             ],
             [
              0.8888888888888888,
              "#fdca26"
             ],
             [
              1,
              "#f0f921"
             ]
            ],
            "type": "heatmap"
           }
          ],
          "heatmapgl": [
           {
            "colorbar": {
             "outlinewidth": 0,
             "ticks": ""
            },
            "colorscale": [
             [
              0,
              "#0d0887"
             ],
             [
              0.1111111111111111,
              "#46039f"
             ],
             [
              0.2222222222222222,
              "#7201a8"
             ],
             [
              0.3333333333333333,
              "#9c179e"
             ],
             [
              0.4444444444444444,
              "#bd3786"
             ],
             [
              0.5555555555555556,
              "#d8576b"
             ],
             [
              0.6666666666666666,
              "#ed7953"
             ],
             [
              0.7777777777777778,
              "#fb9f3a"
             ],
             [
              0.8888888888888888,
              "#fdca26"
             ],
             [
              1,
              "#f0f921"
             ]
            ],
            "type": "heatmapgl"
           }
          ],
          "histogram": [
           {
            "marker": {
             "colorbar": {
              "outlinewidth": 0,
              "ticks": ""
             }
            },
            "type": "histogram"
           }
          ],
          "histogram2d": [
           {
            "colorbar": {
             "outlinewidth": 0,
             "ticks": ""
            },
            "colorscale": [
             [
              0,
              "#0d0887"
             ],
             [
              0.1111111111111111,
              "#46039f"
             ],
             [
              0.2222222222222222,
              "#7201a8"
             ],
             [
              0.3333333333333333,
              "#9c179e"
             ],
             [
              0.4444444444444444,
              "#bd3786"
             ],
             [
              0.5555555555555556,
              "#d8576b"
             ],
             [
              0.6666666666666666,
              "#ed7953"
             ],
             [
              0.7777777777777778,
              "#fb9f3a"
             ],
             [
              0.8888888888888888,
              "#fdca26"
             ],
             [
              1,
              "#f0f921"
             ]
            ],
            "type": "histogram2d"
           }
          ],
          "histogram2dcontour": [
           {
            "colorbar": {
             "outlinewidth": 0,
             "ticks": ""
            },
            "colorscale": [
             [
              0,
              "#0d0887"
             ],
             [
              0.1111111111111111,
              "#46039f"
             ],
             [
              0.2222222222222222,
              "#7201a8"
             ],
             [
              0.3333333333333333,
              "#9c179e"
             ],
             [
              0.4444444444444444,
              "#bd3786"
             ],
             [
              0.5555555555555556,
              "#d8576b"
             ],
             [
              0.6666666666666666,
              "#ed7953"
             ],
             [
              0.7777777777777778,
              "#fb9f3a"
             ],
             [
              0.8888888888888888,
              "#fdca26"
             ],
             [
              1,
              "#f0f921"
             ]
            ],
            "type": "histogram2dcontour"
           }
          ],
          "mesh3d": [
           {
            "colorbar": {
             "outlinewidth": 0,
             "ticks": ""
            },
            "type": "mesh3d"
           }
          ],
          "parcoords": [
           {
            "line": {
             "colorbar": {
              "outlinewidth": 0,
              "ticks": ""
             }
            },
            "type": "parcoords"
           }
          ],
          "pie": [
           {
            "automargin": true,
            "type": "pie"
           }
          ],
          "scatter": [
           {
            "marker": {
             "colorbar": {
              "outlinewidth": 0,
              "ticks": ""
             }
            },
            "type": "scatter"
           }
          ],
          "scatter3d": [
           {
            "line": {
             "colorbar": {
              "outlinewidth": 0,
              "ticks": ""
             }
            },
            "marker": {
             "colorbar": {
              "outlinewidth": 0,
              "ticks": ""
             }
            },
            "type": "scatter3d"
           }
          ],
          "scattercarpet": [
           {
            "marker": {
             "colorbar": {
              "outlinewidth": 0,
              "ticks": ""
             }
            },
            "type": "scattercarpet"
           }
          ],
          "scattergeo": [
           {
            "marker": {
             "colorbar": {
              "outlinewidth": 0,
              "ticks": ""
             }
            },
            "type": "scattergeo"
           }
          ],
          "scattergl": [
           {
            "marker": {
             "colorbar": {
              "outlinewidth": 0,
              "ticks": ""
             }
            },
            "type": "scattergl"
           }
          ],
          "scattermapbox": [
           {
            "marker": {
             "colorbar": {
              "outlinewidth": 0,
              "ticks": ""
             }
            },
            "type": "scattermapbox"
           }
          ],
          "scatterpolar": [
           {
            "marker": {
             "colorbar": {
              "outlinewidth": 0,
              "ticks": ""
             }
            },
            "type": "scatterpolar"
           }
          ],
          "scatterpolargl": [
           {
            "marker": {
             "colorbar": {
              "outlinewidth": 0,
              "ticks": ""
             }
            },
            "type": "scatterpolargl"
           }
          ],
          "scatterternary": [
           {
            "marker": {
             "colorbar": {
              "outlinewidth": 0,
              "ticks": ""
             }
            },
            "type": "scatterternary"
           }
          ],
          "surface": [
           {
            "colorbar": {
             "outlinewidth": 0,
             "ticks": ""
            },
            "colorscale": [
             [
              0,
              "#0d0887"
             ],
             [
              0.1111111111111111,
              "#46039f"
             ],
             [
              0.2222222222222222,
              "#7201a8"
             ],
             [
              0.3333333333333333,
              "#9c179e"
             ],
             [
              0.4444444444444444,
              "#bd3786"
             ],
             [
              0.5555555555555556,
              "#d8576b"
             ],
             [
              0.6666666666666666,
              "#ed7953"
             ],
             [
              0.7777777777777778,
              "#fb9f3a"
             ],
             [
              0.8888888888888888,
              "#fdca26"
             ],
             [
              1,
              "#f0f921"
             ]
            ],
            "type": "surface"
           }
          ],
          "table": [
           {
            "cells": {
             "fill": {
              "color": "#EBF0F8"
             },
             "line": {
              "color": "white"
             }
            },
            "header": {
             "fill": {
              "color": "#C8D4E3"
             },
             "line": {
              "color": "white"
             }
            },
            "type": "table"
           }
          ]
         },
         "layout": {
          "annotationdefaults": {
           "arrowcolor": "#2a3f5f",
           "arrowhead": 0,
           "arrowwidth": 1
          },
          "autotypenumbers": "strict",
          "coloraxis": {
           "colorbar": {
            "outlinewidth": 0,
            "ticks": ""
           }
          },
          "colorscale": {
           "diverging": [
            [
             0,
             "#8e0152"
            ],
            [
             0.1,
             "#c51b7d"
            ],
            [
             0.2,
             "#de77ae"
            ],
            [
             0.3,
             "#f1b6da"
            ],
            [
             0.4,
             "#fde0ef"
            ],
            [
             0.5,
             "#f7f7f7"
            ],
            [
             0.6,
             "#e6f5d0"
            ],
            [
             0.7,
             "#b8e186"
            ],
            [
             0.8,
             "#7fbc41"
            ],
            [
             0.9,
             "#4d9221"
            ],
            [
             1,
             "#276419"
            ]
           ],
           "sequential": [
            [
             0,
             "#0d0887"
            ],
            [
             0.1111111111111111,
             "#46039f"
            ],
            [
             0.2222222222222222,
             "#7201a8"
            ],
            [
             0.3333333333333333,
             "#9c179e"
            ],
            [
             0.4444444444444444,
             "#bd3786"
            ],
            [
             0.5555555555555556,
             "#d8576b"
            ],
            [
             0.6666666666666666,
             "#ed7953"
            ],
            [
             0.7777777777777778,
             "#fb9f3a"
            ],
            [
             0.8888888888888888,
             "#fdca26"
            ],
            [
             1,
             "#f0f921"
            ]
           ],
           "sequentialminus": [
            [
             0,
             "#0d0887"
            ],
            [
             0.1111111111111111,
             "#46039f"
            ],
            [
             0.2222222222222222,
             "#7201a8"
            ],
            [
             0.3333333333333333,
             "#9c179e"
            ],
            [
             0.4444444444444444,
             "#bd3786"
            ],
            [
             0.5555555555555556,
             "#d8576b"
            ],
            [
             0.6666666666666666,
             "#ed7953"
            ],
            [
             0.7777777777777778,
             "#fb9f3a"
            ],
            [
             0.8888888888888888,
             "#fdca26"
            ],
            [
             1,
             "#f0f921"
            ]
           ]
          },
          "colorway": [
           "#636efa",
           "#EF553B",
           "#00cc96",
           "#ab63fa",
           "#FFA15A",
           "#19d3f3",
           "#FF6692",
           "#B6E880",
           "#FF97FF",
           "#FECB52"
          ],
          "font": {
           "color": "#2a3f5f"
          },
          "geo": {
           "bgcolor": "white",
           "lakecolor": "white",
           "landcolor": "#E5ECF6",
           "showlakes": true,
           "showland": true,
           "subunitcolor": "white"
          },
          "hoverlabel": {
           "align": "left"
          },
          "hovermode": "closest",
          "mapbox": {
           "style": "light"
          },
          "paper_bgcolor": "white",
          "plot_bgcolor": "#E5ECF6",
          "polar": {
           "angularaxis": {
            "gridcolor": "white",
            "linecolor": "white",
            "ticks": ""
           },
           "bgcolor": "#E5ECF6",
           "radialaxis": {
            "gridcolor": "white",
            "linecolor": "white",
            "ticks": ""
           }
          },
          "scene": {
           "xaxis": {
            "backgroundcolor": "#E5ECF6",
            "gridcolor": "white",
            "gridwidth": 2,
            "linecolor": "white",
            "showbackground": true,
            "ticks": "",
            "zerolinecolor": "white"
           },
           "yaxis": {
            "backgroundcolor": "#E5ECF6",
            "gridcolor": "white",
            "gridwidth": 2,
            "linecolor": "white",
            "showbackground": true,
            "ticks": "",
            "zerolinecolor": "white"
           },
           "zaxis": {
            "backgroundcolor": "#E5ECF6",
            "gridcolor": "white",
            "gridwidth": 2,
            "linecolor": "white",
            "showbackground": true,
            "ticks": "",
            "zerolinecolor": "white"
           }
          },
          "shapedefaults": {
           "line": {
            "color": "#2a3f5f"
           }
          },
          "ternary": {
           "aaxis": {
            "gridcolor": "white",
            "linecolor": "white",
            "ticks": ""
           },
           "baxis": {
            "gridcolor": "white",
            "linecolor": "white",
            "ticks": ""
           },
           "bgcolor": "#E5ECF6",
           "caxis": {
            "gridcolor": "white",
            "linecolor": "white",
            "ticks": ""
           }
          },
          "title": {
           "x": 0.05
          },
          "xaxis": {
           "automargin": true,
           "gridcolor": "white",
           "linecolor": "white",
           "ticks": "",
           "title": {
            "standoff": 15
           },
           "zerolinecolor": "white",
           "zerolinewidth": 2
          },
          "yaxis": {
           "automargin": true,
           "gridcolor": "white",
           "linecolor": "white",
           "ticks": "",
           "title": {
            "standoff": 15
           },
           "zerolinecolor": "white",
           "zerolinewidth": 2
          }
         }
        },
        "title": {
         "text": "TRT da 4ª Região. Quantidade de Turmas Recursais em cada categoria de propriedade estatística."
        },
        "xaxis": {
         "autorange": true,
         "range": [
          -0.5,
          6.5
         ],
         "type": "category"
        },
        "yaxis": {
         "autorange": true,
         "range": [
          0,
          6.315789473684211
         ]
        }
       }
      },
      "image/png": "[encoded data removed]",
      "text/html": [
       "<div>                            <div id=\"e942e14c-c943-4a11-8aba-0cb34980d1e0\" class=\"plotly-graph-div\" style=\"height:500px; width:100%;\"></div>            <script type=\"text/javascript\">                require([\"plotly\"], function(Plotly) {                    window.PLOTLYENV=window.PLOTLYENV || {};                                    if (document.getElementById(\"e942e14c-c943-4a11-8aba-0cb34980d1e0\")) {                    Plotly.newPlot(                        \"e942e14c-c943-4a11-8aba-0cb34980d1e0\",                        [{\"name\": \"PVALUE INTERPRETACAO\", \"type\": \"histogram\", \"x\": [\"N\\u00c3O H\\u00c1 DIFEREN\\u00c7A\", \"H\\u00c1 DIFEREN\\u00c7A\", \"H\\u00c1 DIFEREN\\u00c7A\", \"H\\u00c1 DIFEREN\\u00c7A\", \"H\\u00c1 DIFEREN\\u00c7A\", \"N\\u00c3O H\\u00c1 DIFEREN\\u00c7A\", \"N\\u00c3O H\\u00c1 DIFEREN\\u00c7A\", \"H\\u00c1 DIFEREN\\u00c7A\", \"N\\u00c3O H\\u00c1 DIFEREN\\u00c7A\", \"N\\u00c3O H\\u00c1 DIFEREN\\u00c7A\", \"N\\u00c3O H\\u00c1 DIFEREN\\u00c7A\"]}, {\"name\": \"POWER INTERPRETA\\u00c7\\u00c3O\", \"type\": \"histogram\", \"x\": [\"INACEIT\\u00c1VEL\", \"ACEIT\\u00c1VEL\", \"ACEIT\\u00c1VEL\", \"ACEIT\\u00c1VEL\", \"ACEIT\\u00c1VEL\", \"INACEIT\\u00c1VEL\", \"INACEIT\\u00c1VEL\", \"ACEIT\\u00c1VEL\", \"ACEIT\\u00c1VEL\", \"INACEIT\\u00c1VEL\", \"INACEIT\\u00c1VEL\"]}, {\"name\": \"EFFEC INTERPRETACAO\", \"type\": \"histogram\", \"x\": [\"INSIGNIFICANTE\", \"M\\u00c9DIA\", \"PEQUENA\", \"INSIGNIFICANTE\", \"PEQUENA\", \"INSIGNIFICANTE\", \"INSIGNIFICANTE\", \"PEQUENA\", \"PEQUENA\", \"PEQUENA\", \"PEQUENA\"]}],                        {\"height\": 500, \"template\": {\"data\": {\"bar\": [{\"error_x\": {\"color\": \"#2a3f5f\"}, \"error_y\": {\"color\": \"#2a3f5f\"}, \"marker\": {\"line\": {\"color\": \"#E5ECF6\", \"width\": 0.5}}, \"type\": \"bar\"}], \"barpolar\": [{\"marker\": {\"line\": {\"color\": \"#E5ECF6\", \"width\": 0.5}}, \"type\": \"barpolar\"}], \"carpet\": [{\"aaxis\": {\"endlinecolor\": \"#2a3f5f\", \"gridcolor\": \"white\", \"linecolor\": \"white\", \"minorgridcolor\": \"white\", \"startlinecolor\": \"#2a3f5f\"}, \"baxis\": {\"endlinecolor\": \"#2a3f5f\", \"gridcolor\": \"white\", \"linecolor\": \"white\", \"minorgridcolor\": \"white\", \"startlinecolor\": \"#2a3f5f\"}, \"type\": \"carpet\"}], \"choropleth\": [{\"colorbar\": {\"outlinewidth\": 0, \"ticks\": \"\"}, \"type\": \"choropleth\"}], \"contour\": [{\"colorbar\": {\"outlinewidth\": 0, \"ticks\": \"\"}, \"colorscale\": [[0.0, \"#0d0887\"], [0.1111111111111111, \"#46039f\"], [0.2222222222222222, \"#7201a8\"], [0.3333333333333333, \"#9c179e\"], [0.4444444444444444, \"#bd3786\"], [0.5555555555555556, \"#d8576b\"], [0.6666666666666666, \"#ed7953\"], [0.7777777777777778, \"#fb9f3a\"], [0.8888888888888888, \"#fdca26\"], [1.0, \"#f0f921\"]], \"type\": \"contour\"}], \"contourcarpet\": [{\"colorbar\": {\"outlinewidth\": 0, \"ticks\": \"\"}, \"type\": \"contourcarpet\"}], \"heatmap\": [{\"colorbar\": {\"outlinewidth\": 0, \"ticks\": \"\"}, \"colorscale\": [[0.0, \"#0d0887\"], [0.1111111111111111, \"#46039f\"], [0.2222222222222222, \"#7201a8\"], [0.3333333333333333, \"#9c179e\"], [0.4444444444444444, \"#bd3786\"], [0.5555555555555556, \"#d8576b\"], [0.6666666666666666, \"#ed7953\"], [0.7777777777777778, \"#fb9f3a\"], [0.8888888888888888, \"#fdca26\"], [1.0, \"#f0f921\"]], \"type\": \"heatmap\"}], \"heatmapgl\": [{\"colorbar\": {\"outlinewidth\": 0, \"ticks\": \"\"}, \"colorscale\": [[0.0, \"#0d0887\"], [0.1111111111111111, \"#46039f\"], [0.2222222222222222, \"#7201a8\"], [0.3333333333333333, \"#9c179e\"], [0.4444444444444444, \"#bd3786\"], [0.5555555555555556, \"#d8576b\"], [0.6666666666666666, \"#ed7953\"], [0.7777777777777778, \"#fb9f3a\"], [0.8888888888888888, \"#fdca26\"], [1.0, \"#f0f921\"]], \"type\": \"heatmapgl\"}], \"histogram\": [{\"marker\": {\"colorbar\": {\"outlinewidth\": 0, \"ticks\": \"\"}}, \"type\": \"histogram\"}], \"histogram2d\": [{\"colorbar\": {\"outlinewidth\": 0, \"ticks\": \"\"}, \"colorscale\": [[0.0, \"#0d0887\"], [0.1111111111111111, \"#46039f\"], [0.2222222222222222, \"#7201a8\"], [0.3333333333333333, \"#9c179e\"], [0.4444444444444444, \"#bd3786\"], [0.5555555555555556, \"#d8576b\"], [0.6666666666666666, \"#ed7953\"], [0.7777777777777778, \"#fb9f3a\"], [0.8888888888888888, \"#fdca26\"], [1.0, \"#f0f921\"]], \"type\": \"histogram2d\"}], \"histogram2dcontour\": [{\"colorbar\": {\"outlinewidth\": 0, \"ticks\": \"\"}, \"colorscale\": [[0.0, \"#0d0887\"], [0.1111111111111111, \"#46039f\"], [0.2222222222222222, \"#7201a8\"], [0.3333333333333333, \"#9c179e\"], [0.4444444444444444, \"#bd3786\"], [0.5555555555555556, \"#d8576b\"], [0.6666666666666666, \"#ed7953\"], [0.7777777777777778, \"#fb9f3a\"], [0.8888888888888888, \"#fdca26\"], [1.0, \"#f0f921\"]], \"type\": \"histogram2dcontour\"}], \"mesh3d\": [{\"colorbar\": {\"outlinewidth\": 0, \"ticks\": \"\"}, \"type\": \"mesh3d\"}], \"parcoords\": [{\"line\": {\"colorbar\": {\"outlinewidth\": 0, \"ticks\": \"\"}}, \"type\": \"parcoords\"}], \"pie\": [{\"automargin\": true, \"type\": \"pie\"}], \"scatter\": [{\"marker\": {\"colorbar\": {\"outlinewidth\": 0, \"ticks\": \"\"}}, \"type\": \"scatter\"}], \"scatter3d\": [{\"line\": {\"colorbar\": {\"outlinewidth\": 0, \"ticks\": \"\"}}, \"marker\": {\"colorbar\": {\"outlinewidth\": 0, \"ticks\": \"\"}}, \"type\": \"scatter3d\"}], \"scattercarpet\": [{\"marker\": {\"colorbar\": {\"outlinewidth\": 0, \"ticks\": \"\"}}, \"type\": \"scattercarpet\"}], \"scattergeo\": [{\"marker\": {\"colorbar\": {\"outlinewidth\": 0, \"ticks\": \"\"}}, \"type\": \"scattergeo\"}], \"scattergl\": [{\"marker\": {\"colorbar\": {\"outlinewidth\": 0, \"ticks\": \"\"}}, \"type\": \"scattergl\"}], \"scattermapbox\": [{\"marker\": {\"colorbar\": {\"outlinewidth\": 0, \"ticks\": \"\"}}, \"type\": \"scattermapbox\"}], \"scatterpolar\": [{\"marker\": {\"colorbar\": {\"outlinewidth\": 0, \"ticks\": \"\"}}, \"type\": \"scatterpolar\"}], \"scatterpolargl\": [{\"marker\": {\"colorbar\": {\"outlinewidth\": 0, \"ticks\": \"\"}}, \"type\": \"scatterpolargl\"}], \"scatterternary\": [{\"marker\": {\"colorbar\": {\"outlinewidth\": 0, \"ticks\": \"\"}}, \"type\": \"scatterternary\"}], \"surface\": [{\"colorbar\": {\"outlinewidth\": 0, \"ticks\": \"\"}, \"colorscale\": [[0.0, \"#0d0887\"], [0.1111111111111111, \"#46039f\"], [0.2222222222222222, \"#7201a8\"], [0.3333333333333333, \"#9c179e\"], [0.4444444444444444, \"#bd3786\"], [0.5555555555555556, \"#d8576b\"], [0.6666666666666666, \"#ed7953\"], [0.7777777777777778, \"#fb9f3a\"], [0.8888888888888888, \"#fdca26\"], [1.0, \"#f0f921\"]], \"type\": \"surface\"}], \"table\": [{\"cells\": {\"fill\": {\"color\": \"#EBF0F8\"}, \"line\": {\"color\": \"white\"}}, \"header\": {\"fill\": {\"color\": \"#C8D4E3\"}, \"line\": {\"color\": \"white\"}}, \"type\": \"table\"}]}, \"layout\": {\"annotationdefaults\": {\"arrowcolor\": \"#2a3f5f\", \"arrowhead\": 0, \"arrowwidth\": 1}, \"autotypenumbers\": \"strict\", \"coloraxis\": {\"colorbar\": {\"outlinewidth\": 0, \"ticks\": \"\"}}, \"colorscale\": {\"diverging\": [[0, \"#8e0152\"], [0.1, \"#c51b7d\"], [0.2, \"#de77ae\"], [0.3, \"#f1b6da\"], [0.4, \"#fde0ef\"], [0.5, \"#f7f7f7\"], [0.6, \"#e6f5d0\"], [0.7, \"#b8e186\"], [0.8, \"#7fbc41\"], [0.9, \"#4d9221\"], [1, \"#276419\"]], \"sequential\": [[0.0, \"#0d0887\"], [0.1111111111111111, \"#46039f\"], [0.2222222222222222, \"#7201a8\"], [0.3333333333333333, \"#9c179e\"], [0.4444444444444444, \"#bd3786\"], [0.5555555555555556, \"#d8576b\"], [0.6666666666666666, \"#ed7953\"], [0.7777777777777778, \"#fb9f3a\"], [0.8888888888888888, \"#fdca26\"], [1.0, \"#f0f921\"]], \"sequentialminus\": [[0.0, \"#0d0887\"], [0.1111111111111111, \"#46039f\"], [0.2222222222222222, \"#7201a8\"], [0.3333333333333333, \"#9c179e\"], [0.4444444444444444, \"#bd3786\"], [0.5555555555555556, \"#d8576b\"], [0.6666666666666666, \"#ed7953\"], [0.7777777777777778, \"#fb9f3a\"], [0.8888888888888888, \"#fdca26\"], [1.0, \"#f0f921\"]]}, \"colorway\": [\"#636efa\", \"#EF553B\", \"#00cc96\", \"#ab63fa\", \"#FFA15A\", \"#19d3f3\", \"#FF6692\", \"#B6E880\", \"#FF97FF\", \"#FECB52\"], \"font\": {\"color\": \"#2a3f5f\"}, \"geo\": {\"bgcolor\": \"white\", \"lakecolor\": \"white\", \"landcolor\": \"#E5ECF6\", \"showlakes\": true, \"showland\": true, \"subunitcolor\": \"white\"}, \"hoverlabel\": {\"align\": \"left\"}, \"hovermode\": \"closest\", \"mapbox\": {\"style\": \"light\"}, \"paper_bgcolor\": \"white\", \"plot_bgcolor\": \"#E5ECF6\", \"polar\": {\"angularaxis\": {\"gridcolor\": \"white\", \"linecolor\": \"white\", \"ticks\": \"\"}, \"bgcolor\": \"#E5ECF6\", \"radialaxis\": {\"gridcolor\": \"white\", \"linecolor\": \"white\", \"ticks\": \"\"}}, \"scene\": {\"xaxis\": {\"backgroundcolor\": \"#E5ECF6\", \"gridcolor\": \"white\", \"gridwidth\": 2, \"linecolor\": \"white\", \"showbackground\": true, \"ticks\": \"\", \"zerolinecolor\": \"white\"}, \"yaxis\": {\"backgroundcolor\": \"#E5ECF6\", \"gridcolor\": \"white\", \"gridwidth\": 2, \"linecolor\": \"white\", \"showbackground\": true, \"ticks\": \"\", \"zerolinecolor\": \"white\"}, \"zaxis\": {\"backgroundcolor\": \"#E5ECF6\", \"gridcolor\": \"white\", \"gridwidth\": 2, \"linecolor\": \"white\", \"showbackground\": true, \"ticks\": \"\", \"zerolinecolor\": \"white\"}}, \"shapedefaults\": {\"line\": {\"color\": \"#2a3f5f\"}}, \"ternary\": {\"aaxis\": {\"gridcolor\": \"white\", \"linecolor\": \"white\", \"ticks\": \"\"}, \"baxis\": {\"gridcolor\": \"white\", \"linecolor\": \"white\", \"ticks\": \"\"}, \"bgcolor\": \"#E5ECF6\", \"caxis\": {\"gridcolor\": \"white\", \"linecolor\": \"white\", \"ticks\": \"\"}}, \"title\": {\"x\": 0.05}, \"xaxis\": {\"automargin\": true, \"gridcolor\": \"white\", \"linecolor\": \"white\", \"ticks\": \"\", \"title\": {\"standoff\": 15}, \"zerolinecolor\": \"white\", \"zerolinewidth\": 2}, \"yaxis\": {\"automargin\": true, \"gridcolor\": \"white\", \"linecolor\": \"white\", \"ticks\": \"\", \"title\": {\"standoff\": 15}, \"zerolinecolor\": \"white\", \"zerolinewidth\": 2}}}, \"title\": {\"text\": \"TRT da 4\\u00aa Regi\\u00e3o. Quantidade de Turmas Recursais em cada categoria de propriedade estat\\u00edstica.\"}},                        {\"responsive\": true}                    ).then(function(){\n",
       "                            \n",
       "var gd = document.getElementById('e942e14c-c943-4a11-8aba-0cb34980d1e0');\n",
       "var x = new MutationObserver(function (mutations, observer) {{\n",
       "        var display = window.getComputedStyle(gd).display;\n",
       "        if (!display || display === 'none') {{\n",
       "            console.log([gd, 'removed!']);\n",
       "            Plotly.purge(gd);\n",
       "            observer.disconnect();\n",
       "        }}\n",
       "}});\n",
       "\n",
       "// Listen for the removal of the full notebook cells\n",
       "var notebookContainer = gd.closest('#notebook-container');\n",
       "if (notebookContainer) {{\n",
       "    x.observe(notebookContainer, {childList: true});\n",
       "}}\n",
       "\n",
       "// Listen for the clearing of the current output cell\n",
       "var outputEl = gd.closest('.output');\n",
       "if (outputEl) {{\n",
       "    x.observe(outputEl, {childList: true});\n",
       "}}\n",
       "\n",
       "                        })                };                });            </script>        </div>"
      ]
     },
     "metadata": {},
     "output_type": "display_data"
    }
   ],
   "source": [
    "x_pvalue = df_relatorio_trt4[\"PVALUE INTERPRETACAO\"]\n",
    "x_power = df_relatorio_trt4[\"POWER INTERPRETAÇÃO\"]\n",
    "x_effect = df_relatorio_trt4[\"EFFECT INTERPRETACAO\"]\n",
    "\n",
    "trace1 = go.Histogram(\n",
    "    x=x_pvalue,\n",
    "    name=\"PVALUE INTERPRETACAO\",\n",
    ")\n",
    "\n",
    "trace2 = go.Histogram(\n",
    "    x=x_power,\n",
    "    name=\"POWER INTERPRETAÇÃO\",\n",
    ")\n",
    "\n",
    "trace3 = go.Histogram(\n",
    "    x=x_effect,\n",
    "    name=\"EFFEC INTERPRETACAO\",\n",
    ")\n",
    "\n",
    "layout = go.Layout( title=\"TRT da 4ª Região. Quantidade de Turmas Recursais em cada categoria de propriedade estatística.\",\n",
    "                   #width=1000,\n",
    "                   height=500\n",
    "                  )\n",
    "\n",
    "fig = go.Figure( data = [ trace1, trace2, trace3 ], layout=layout )\n",
    "fig.show()"
   ]
  },
  {
   "cell_type": "code",
   "execution_count": 102,
   "metadata": {},
   "outputs": [
    {
     "data": {
      "application/vnd.plotly.v1+json": {
       "config": {
        "plotlyServerURL": "https://plot.ly"
       },
       "data": [
        {
         "boxmean": "sd",
         "boxpoints": "all",
         "name": "EMPREGADOS",
         "type": "box",
         "width": 0.15,
         "y": [
          44.21768707482993,
          41.37931034482759,
          50.45871559633027,
          57.14285714285714,
          45.74314574314574,
          53.76676986584107,
          45.88815789473684,
          48.76912840984697,
          56.666666666666664,
          56.142759094028825,
          41.03343465045592
         ]
        },
        {
         "boxmean": "sd",
         "boxpoints": "all",
         "name": "EMPRESAS",
         "type": "box",
         "width": 0.15,
         "y": [
          34.285714285714285,
          60.71428571428571,
          31.818181818181817,
          38.961038961038966,
          52.27272727272727,
          48.51485148514851,
          34.375,
          42.08754208754209,
          32.78145695364238,
          30.364372469635626,
          42.10526315789473
         ]
        }
       ],
       "layout": {
        "annotations": [
         {
          "showarrow": false,
          "text": "Mínimo: 41.03%",
          "x": 0.45,
          "y": 41.03343465045592
         },
         {
          "showarrow": false,
          "text": "Q1: 44.98%",
          "x": 0.45,
          "y": 44.980416408987836
         },
         {
          "showarrow": false,
          "text": "Q3: 54.95%",
          "x": 0.45,
          "y": 54.95476447993495
         },
         {
          "showarrow": false,
          "text": "Máximo: 57.14%",
          "x": 0.45,
          "y": 57.14285714285714
         },
         {
          "showarrow": false,
          "text": "Média: 49.2%<br>Desvio padrão: 5.76%<br>Mediana: 48.77%<br>",
          "x": 0.45,
          "y": 49.20078477123336
         },
         {
          "showarrow": false,
          "text": "Mínimo: 30.36%",
          "x": 1.45,
          "y": 30.364372469635626
         },
         {
          "showarrow": false,
          "text": "Q1: 33.53%",
          "x": 1.45,
          "y": 33.533585619678334
         },
         {
          "showarrow": false,
          "text": "Q3: 45.31%",
          "x": 1.45,
          "y": 45.310057321521626
         },
         {
          "showarrow": false,
          "text": "Máximo: 60.71%",
          "x": 1.45,
          "y": 60.71428571428571
         },
         {
          "showarrow": false,
          "text": "Média: 40.75%<br>Desvio padrão: 9.2%<br>Mediana: 38.96%<br>",
          "x": 1.45,
          "y": 40.75276674598285
         }
        ],
        "height": 700,
        "template": {
         "data": {
          "bar": [
           {
            "error_x": {
             "color": "#2a3f5f"
            },
            "error_y": {
             "color": "#2a3f5f"
            },
            "marker": {
             "line": {
              "color": "#E5ECF6",
              "width": 0.5
             }
            },
            "type": "bar"
           }
          ],
          "barpolar": [
           {
            "marker": {
             "line": {
              "color": "#E5ECF6",
              "width": 0.5
             }
            },
            "type": "barpolar"
           }
          ],
          "carpet": [
           {
            "aaxis": {
             "endlinecolor": "#2a3f5f",
             "gridcolor": "white",
             "linecolor": "white",
             "minorgridcolor": "white",
             "startlinecolor": "#2a3f5f"
            },
            "baxis": {
             "endlinecolor": "#2a3f5f",
             "gridcolor": "white",
             "linecolor": "white",
             "minorgridcolor": "white",
             "startlinecolor": "#2a3f5f"
            },
            "type": "carpet"
           }
          ],
          "choropleth": [
           {
            "colorbar": {
             "outlinewidth": 0,
             "ticks": ""
            },
            "type": "choropleth"
           }
          ],
          "contour": [
           {
            "colorbar": {
             "outlinewidth": 0,
             "ticks": ""
            },
            "colorscale": [
             [
              0,
              "#0d0887"
             ],
             [
              0.1111111111111111,
              "#46039f"
             ],
             [
              0.2222222222222222,
              "#7201a8"
             ],
             [
              0.3333333333333333,
              "#9c179e"
             ],
             [
              0.4444444444444444,
              "#bd3786"
             ],
             [
              0.5555555555555556,
              "#d8576b"
             ],
             [
              0.6666666666666666,
              "#ed7953"
             ],
             [
              0.7777777777777778,
              "#fb9f3a"
             ],
             [
              0.8888888888888888,
              "#fdca26"
             ],
             [
              1,
              "#f0f921"
             ]
            ],
            "type": "contour"
           }
          ],
          "contourcarpet": [
           {
            "colorbar": {
             "outlinewidth": 0,
             "ticks": ""
            },
            "type": "contourcarpet"
           }
          ],
          "heatmap": [
           {
            "colorbar": {
             "outlinewidth": 0,
             "ticks": ""
            },
            "colorscale": [
             [
              0,
              "#0d0887"
             ],
             [
              0.1111111111111111,
              "#46039f"
             ],
             [
              0.2222222222222222,
              "#7201a8"
             ],
             [
              0.3333333333333333,
              "#9c179e"
             ],
             [
              0.4444444444444444,
              "#bd3786"
             ],
             [
              0.5555555555555556,
              "#d8576b"
             ],
             [
              0.6666666666666666,
              "#ed7953"
             ],
             [
              0.7777777777777778,
              "#fb9f3a"
             ],
             [
              0.8888888888888888,
              "#fdca26"
             ],
             [
              1,
              "#f0f921"
             ]
            ],
            "type": "heatmap"
           }
          ],
          "heatmapgl": [
           {
            "colorbar": {
             "outlinewidth": 0,
             "ticks": ""
            },
            "colorscale": [
             [
              0,
              "#0d0887"
             ],
             [
              0.1111111111111111,
              "#46039f"
             ],
             [
              0.2222222222222222,
              "#7201a8"
             ],
             [
              0.3333333333333333,
              "#9c179e"
             ],
             [
              0.4444444444444444,
              "#bd3786"
             ],
             [
              0.5555555555555556,
              "#d8576b"
             ],
             [
              0.6666666666666666,
              "#ed7953"
             ],
             [
              0.7777777777777778,
              "#fb9f3a"
             ],
             [
              0.8888888888888888,
              "#fdca26"
             ],
             [
              1,
              "#f0f921"
             ]
            ],
            "type": "heatmapgl"
           }
          ],
          "histogram": [
           {
            "marker": {
             "colorbar": {
              "outlinewidth": 0,
              "ticks": ""
             }
            },
            "type": "histogram"
           }
          ],
          "histogram2d": [
           {
            "colorbar": {
             "outlinewidth": 0,
             "ticks": ""
            },
            "colorscale": [
             [
              0,
              "#0d0887"
             ],
             [
              0.1111111111111111,
              "#46039f"
             ],
             [
              0.2222222222222222,
              "#7201a8"
             ],
             [
              0.3333333333333333,
              "#9c179e"
             ],
             [
              0.4444444444444444,
              "#bd3786"
             ],
             [
              0.5555555555555556,
              "#d8576b"
             ],
             [
              0.6666666666666666,
              "#ed7953"
             ],
             [
              0.7777777777777778,
              "#fb9f3a"
             ],
             [
              0.8888888888888888,
              "#fdca26"
             ],
             [
              1,
              "#f0f921"
             ]
            ],
            "type": "histogram2d"
           }
          ],
          "histogram2dcontour": [
           {
            "colorbar": {
             "outlinewidth": 0,
             "ticks": ""
            },
            "colorscale": [
             [
              0,
              "#0d0887"
             ],
             [
              0.1111111111111111,
              "#46039f"
             ],
             [
              0.2222222222222222,
              "#7201a8"
             ],
             [
              0.3333333333333333,
              "#9c179e"
             ],
             [
              0.4444444444444444,
              "#bd3786"
             ],
             [
              0.5555555555555556,
              "#d8576b"
             ],
             [
              0.6666666666666666,
              "#ed7953"
             ],
             [
              0.7777777777777778,
              "#fb9f3a"
             ],
             [
              0.8888888888888888,
              "#fdca26"
             ],
             [
              1,
              "#f0f921"
             ]
            ],
            "type": "histogram2dcontour"
           }
          ],
          "mesh3d": [
           {
            "colorbar": {
             "outlinewidth": 0,
             "ticks": ""
            },
            "type": "mesh3d"
           }
          ],
          "parcoords": [
           {
            "line": {
             "colorbar": {
              "outlinewidth": 0,
              "ticks": ""
             }
            },
            "type": "parcoords"
           }
          ],
          "pie": [
           {
            "automargin": true,
            "type": "pie"
           }
          ],
          "scatter": [
           {
            "marker": {
             "colorbar": {
              "outlinewidth": 0,
              "ticks": ""
             }
            },
            "type": "scatter"
           }
          ],
          "scatter3d": [
           {
            "line": {
             "colorbar": {
              "outlinewidth": 0,
              "ticks": ""
             }
            },
            "marker": {
             "colorbar": {
              "outlinewidth": 0,
              "ticks": ""
             }
            },
            "type": "scatter3d"
           }
          ],
          "scattercarpet": [
           {
            "marker": {
             "colorbar": {
              "outlinewidth": 0,
              "ticks": ""
             }
            },
            "type": "scattercarpet"
           }
          ],
          "scattergeo": [
           {
            "marker": {
             "colorbar": {
              "outlinewidth": 0,
              "ticks": ""
             }
            },
            "type": "scattergeo"
           }
          ],
          "scattergl": [
           {
            "marker": {
             "colorbar": {
              "outlinewidth": 0,
              "ticks": ""
             }
            },
            "type": "scattergl"
           }
          ],
          "scattermapbox": [
           {
            "marker": {
             "colorbar": {
              "outlinewidth": 0,
              "ticks": ""
             }
            },
            "type": "scattermapbox"
           }
          ],
          "scatterpolar": [
           {
            "marker": {
             "colorbar": {
              "outlinewidth": 0,
              "ticks": ""
             }
            },
            "type": "scatterpolar"
           }
          ],
          "scatterpolargl": [
           {
            "marker": {
             "colorbar": {
              "outlinewidth": 0,
              "ticks": ""
             }
            },
            "type": "scatterpolargl"
           }
          ],
          "scatterternary": [
           {
            "marker": {
             "colorbar": {
              "outlinewidth": 0,
              "ticks": ""
             }
            },
            "type": "scatterternary"
           }
          ],
          "surface": [
           {
            "colorbar": {
             "outlinewidth": 0,
             "ticks": ""
            },
            "colorscale": [
             [
              0,
              "#0d0887"
             ],
             [
              0.1111111111111111,
              "#46039f"
             ],
             [
              0.2222222222222222,
              "#7201a8"
             ],
             [
              0.3333333333333333,
              "#9c179e"
             ],
             [
              0.4444444444444444,
              "#bd3786"
             ],
             [
              0.5555555555555556,
              "#d8576b"
             ],
             [
              0.6666666666666666,
              "#ed7953"
             ],
             [
              0.7777777777777778,
              "#fb9f3a"
             ],
             [
              0.8888888888888888,
              "#fdca26"
             ],
             [
              1,
              "#f0f921"
             ]
            ],
            "type": "surface"
           }
          ],
          "table": [
           {
            "cells": {
             "fill": {
              "color": "#EBF0F8"
             },
             "line": {
              "color": "white"
             }
            },
            "header": {
             "fill": {
              "color": "#C8D4E3"
             },
             "line": {
              "color": "white"
             }
            },
            "type": "table"
           }
          ]
         },
         "layout": {
          "annotationdefaults": {
           "arrowcolor": "#2a3f5f",
           "arrowhead": 0,
           "arrowwidth": 1
          },
          "autotypenumbers": "strict",
          "coloraxis": {
           "colorbar": {
            "outlinewidth": 0,
            "ticks": ""
           }
          },
          "colorscale": {
           "diverging": [
            [
             0,
             "#8e0152"
            ],
            [
             0.1,
             "#c51b7d"
            ],
            [
             0.2,
             "#de77ae"
            ],
            [
             0.3,
             "#f1b6da"
            ],
            [
             0.4,
             "#fde0ef"
            ],
            [
             0.5,
             "#f7f7f7"
            ],
            [
             0.6,
             "#e6f5d0"
            ],
            [
             0.7,
             "#b8e186"
            ],
            [
             0.8,
             "#7fbc41"
            ],
            [
             0.9,
             "#4d9221"
            ],
            [
             1,
             "#276419"
            ]
           ],
           "sequential": [
            [
             0,
             "#0d0887"
            ],
            [
             0.1111111111111111,
             "#46039f"
            ],
            [
             0.2222222222222222,
             "#7201a8"
            ],
            [
             0.3333333333333333,
             "#9c179e"
            ],
            [
             0.4444444444444444,
             "#bd3786"
            ],
            [
             0.5555555555555556,
             "#d8576b"
            ],
            [
             0.6666666666666666,
             "#ed7953"
            ],
            [
             0.7777777777777778,
             "#fb9f3a"
            ],
            [
             0.8888888888888888,
             "#fdca26"
            ],
            [
             1,
             "#f0f921"
            ]
           ],
           "sequentialminus": [
            [
             0,
             "#0d0887"
            ],
            [
             0.1111111111111111,
             "#46039f"
            ],
            [
             0.2222222222222222,
             "#7201a8"
            ],
            [
             0.3333333333333333,
             "#9c179e"
            ],
            [
             0.4444444444444444,
             "#bd3786"
            ],
            [
             0.5555555555555556,
             "#d8576b"
            ],
            [
             0.6666666666666666,
             "#ed7953"
            ],
            [
             0.7777777777777778,
             "#fb9f3a"
            ],
            [
             0.8888888888888888,
             "#fdca26"
            ],
            [
             1,
             "#f0f921"
            ]
           ]
          },
          "colorway": [
           "#636efa",
           "#EF553B",
           "#00cc96",
           "#ab63fa",
           "#FFA15A",
           "#19d3f3",
           "#FF6692",
           "#B6E880",
           "#FF97FF",
           "#FECB52"
          ],
          "font": {
           "color": "#2a3f5f"
          },
          "geo": {
           "bgcolor": "white",
           "lakecolor": "white",
           "landcolor": "#E5ECF6",
           "showlakes": true,
           "showland": true,
           "subunitcolor": "white"
          },
          "hoverlabel": {
           "align": "left"
          },
          "hovermode": "closest",
          "mapbox": {
           "style": "light"
          },
          "paper_bgcolor": "white",
          "plot_bgcolor": "#E5ECF6",
          "polar": {
           "angularaxis": {
            "gridcolor": "white",
            "linecolor": "white",
            "ticks": ""
           },
           "bgcolor": "#E5ECF6",
           "radialaxis": {
            "gridcolor": "white",
            "linecolor": "white",
            "ticks": ""
           }
          },
          "scene": {
           "xaxis": {
            "backgroundcolor": "#E5ECF6",
            "gridcolor": "white",
            "gridwidth": 2,
            "linecolor": "white",
            "showbackground": true,
            "ticks": "",
            "zerolinecolor": "white"
           },
           "yaxis": {
            "backgroundcolor": "#E5ECF6",
            "gridcolor": "white",
            "gridwidth": 2,
            "linecolor": "white",
            "showbackground": true,
            "ticks": "",
            "zerolinecolor": "white"
           },
           "zaxis": {
            "backgroundcolor": "#E5ECF6",
            "gridcolor": "white",
            "gridwidth": 2,
            "linecolor": "white",
            "showbackground": true,
            "ticks": "",
            "zerolinecolor": "white"
           }
          },
          "shapedefaults": {
           "line": {
            "color": "#2a3f5f"
           }
          },
          "ternary": {
           "aaxis": {
            "gridcolor": "white",
            "linecolor": "white",
            "ticks": ""
           },
           "baxis": {
            "gridcolor": "white",
            "linecolor": "white",
            "ticks": ""
           },
           "bgcolor": "#E5ECF6",
           "caxis": {
            "gridcolor": "white",
            "linecolor": "white",
            "ticks": ""
           }
          },
          "title": {
           "x": 0.05
          },
          "xaxis": {
           "automargin": true,
           "gridcolor": "white",
           "linecolor": "white",
           "ticks": "",
           "title": {
            "standoff": 15
           },
           "zerolinecolor": "white",
           "zerolinewidth": 2
          },
          "yaxis": {
           "automargin": true,
           "gridcolor": "white",
           "linecolor": "white",
           "ticks": "",
           "title": {
            "standoff": 15
           },
           "zerolinecolor": "white",
           "zerolinewidth": 2
          }
         }
        },
        "title": {
         "text": "Distribuição do percentual de DEFERIMENTOS de acórdãos pelas 11 TURMAS RECURSAIS do TRT da 4ª Região"
        },
        "width": 1000,
        "xaxis": {
         "autorange": true,
         "range": [
          -0.23535999379989153,
          1.624432302565295
         ],
         "title": {
          "text": "Parte recorrente no TRT da 4ª Região"
         },
         "type": "category"
        },
        "yaxis": {
         "autorange": true,
         "range": [
          28.678266178266178,
          62.400392005655156
         ],
         "title": {
          "text": "Percentual de deferimento"
         },
         "type": "linear"
        }
       }
      },
      "image/png": "[encoded data removed]",
      "text/html": [
       "<div>                            <div id=\"d12ecfa3-426e-427e-9345-73fa07c936e1\" class=\"plotly-graph-div\" style=\"height:700px; width:1000px;\"></div>            <script type=\"text/javascript\">                require([\"plotly\"], function(Plotly) {                    window.PLOTLYENV=window.PLOTLYENV || {};                                    if (document.getElementById(\"d12ecfa3-426e-427e-9345-73fa07c936e1\")) {                    Plotly.newPlot(                        \"d12ecfa3-426e-427e-9345-73fa07c936e1\",                        [{\"boxmean\": \"sd\", \"boxpoints\": \"all\", \"name\": \"EMPREGADOS\", \"type\": \"box\", \"width\": 0.15, \"y\": [44.21768707482993, 41.37931034482759, 50.45871559633027, 57.14285714285714, 45.74314574314574, 53.76676986584107, 45.88815789473684, 48.76912840984697, 56.666666666666664, 56.142759094028825, 41.03343465045592]}, {\"boxmean\": \"sd\", \"boxpoints\": \"all\", \"name\": \"EMPRESAS\", \"type\": \"box\", \"width\": 0.15, \"y\": [34.285714285714285, 60.71428571428571, 31.818181818181817, 38.961038961038966, 52.27272727272727, 48.51485148514851, 34.375, 42.08754208754209, 32.78145695364238, 30.364372469635626, 42.10526315789473]}],                        {\"annotations\": [{\"showarrow\": false, \"text\": \"M\\u00ednimo: 41.03%\", \"x\": 0.45, \"y\": 41.03343465045592}, {\"showarrow\": false, \"text\": \"Q1: 44.98%\", \"x\": 0.45, \"y\": 44.980416408987836}, {\"showarrow\": false, \"text\": \"Q3: 54.95%\", \"x\": 0.45, \"y\": 54.95476447993495}, {\"showarrow\": false, \"text\": \"M\\u00e1ximo: 57.14%\", \"x\": 0.45, \"y\": 57.14285714285714}, {\"showarrow\": false, \"text\": \"M\\u00e9dia: 49.2%<br>Desvio padr\\u00e3o: 5.76%<br>Mediana: 48.77%<br>\", \"x\": 0.45, \"y\": 49.20078477123336}, {\"showarrow\": false, \"text\": \"M\\u00ednimo: 30.36%\", \"x\": 1.45, \"y\": 30.364372469635626}, {\"showarrow\": false, \"text\": \"Q1: 33.53%\", \"x\": 1.45, \"y\": 33.533585619678334}, {\"showarrow\": false, \"text\": \"Q3: 45.31%\", \"x\": 1.45, \"y\": 45.310057321521626}, {\"showarrow\": false, \"text\": \"M\\u00e1ximo: 60.71%\", \"x\": 1.45, \"y\": 60.71428571428571}, {\"showarrow\": false, \"text\": \"M\\u00e9dia: 40.75%<br>Desvio padr\\u00e3o: 9.2%<br>Mediana: 38.96%<br>\", \"x\": 1.45, \"y\": 40.75276674598285}], \"height\": 700, \"template\": {\"data\": {\"bar\": [{\"error_x\": {\"color\": \"#2a3f5f\"}, \"error_y\": {\"color\": \"#2a3f5f\"}, \"marker\": {\"line\": {\"color\": \"#E5ECF6\", \"width\": 0.5}}, \"type\": \"bar\"}], \"barpolar\": [{\"marker\": {\"line\": {\"color\": \"#E5ECF6\", \"width\": 0.5}}, \"type\": \"barpolar\"}], \"carpet\": [{\"aaxis\": {\"endlinecolor\": \"#2a3f5f\", \"gridcolor\": \"white\", \"linecolor\": \"white\", \"minorgridcolor\": \"white\", \"startlinecolor\": \"#2a3f5f\"}, \"baxis\": {\"endlinecolor\": \"#2a3f5f\", \"gridcolor\": \"white\", \"linecolor\": \"white\", \"minorgridcolor\": \"white\", \"startlinecolor\": \"#2a3f5f\"}, \"type\": \"carpet\"}], \"choropleth\": [{\"colorbar\": {\"outlinewidth\": 0, \"ticks\": \"\"}, \"type\": \"choropleth\"}], \"contour\": [{\"colorbar\": {\"outlinewidth\": 0, \"ticks\": \"\"}, \"colorscale\": [[0.0, \"#0d0887\"], [0.1111111111111111, \"#46039f\"], [0.2222222222222222, \"#7201a8\"], [0.3333333333333333, \"#9c179e\"], [0.4444444444444444, \"#bd3786\"], [0.5555555555555556, \"#d8576b\"], [0.6666666666666666, \"#ed7953\"], [0.7777777777777778, \"#fb9f3a\"], [0.8888888888888888, \"#fdca26\"], [1.0, \"#f0f921\"]], \"type\": \"contour\"}], \"contourcarpet\": [{\"colorbar\": {\"outlinewidth\": 0, \"ticks\": \"\"}, \"type\": \"contourcarpet\"}], \"heatmap\": [{\"colorbar\": {\"outlinewidth\": 0, \"ticks\": \"\"}, \"colorscale\": [[0.0, \"#0d0887\"], [0.1111111111111111, \"#46039f\"], [0.2222222222222222, \"#7201a8\"], [0.3333333333333333, \"#9c179e\"], [0.4444444444444444, \"#bd3786\"], [0.5555555555555556, \"#d8576b\"], [0.6666666666666666, \"#ed7953\"], [0.7777777777777778, \"#fb9f3a\"], [0.8888888888888888, \"#fdca26\"], [1.0, \"#f0f921\"]], \"type\": \"heatmap\"}], \"heatmapgl\": [{\"colorbar\": {\"outlinewidth\": 0, \"ticks\": \"\"}, \"colorscale\": [[0.0, \"#0d0887\"], [0.1111111111111111, \"#46039f\"], [0.2222222222222222, \"#7201a8\"], [0.3333333333333333, \"#9c179e\"], [0.4444444444444444, \"#bd3786\"], [0.5555555555555556, \"#d8576b\"], [0.6666666666666666, \"#ed7953\"], [0.7777777777777778, \"#fb9f3a\"], [0.8888888888888888, \"#fdca26\"], [1.0, \"#f0f921\"]], \"type\": \"heatmapgl\"}], \"histogram\": [{\"marker\": {\"colorbar\": {\"outlinewidth\": 0, \"ticks\": \"\"}}, \"type\": \"histogram\"}], \"histogram2d\": [{\"colorbar\": {\"outlinewidth\": 0, \"ticks\": \"\"}, \"colorscale\": [[0.0, \"#0d0887\"], [0.1111111111111111, \"#46039f\"], [0.2222222222222222, \"#7201a8\"], [0.3333333333333333, \"#9c179e\"], [0.4444444444444444, \"#bd3786\"], [0.5555555555555556, \"#d8576b\"], [0.6666666666666666, \"#ed7953\"], [0.7777777777777778, \"#fb9f3a\"], [0.8888888888888888, \"#fdca26\"], [1.0, \"#f0f921\"]], \"type\": \"histogram2d\"}], \"histogram2dcontour\": [{\"colorbar\": {\"outlinewidth\": 0, \"ticks\": \"\"}, \"colorscale\": [[0.0, \"#0d0887\"], [0.1111111111111111, \"#46039f\"], [0.2222222222222222, \"#7201a8\"], [0.3333333333333333, \"#9c179e\"], [0.4444444444444444, \"#bd3786\"], [0.5555555555555556, \"#d8576b\"], [0.6666666666666666, \"#ed7953\"], [0.7777777777777778, \"#fb9f3a\"], [0.8888888888888888, \"#fdca26\"], [1.0, \"#f0f921\"]], \"type\": \"histogram2dcontour\"}], \"mesh3d\": [{\"colorbar\": {\"outlinewidth\": 0, \"ticks\": \"\"}, \"type\": \"mesh3d\"}], \"parcoords\": [{\"line\": {\"colorbar\": {\"outlinewidth\": 0, \"ticks\": \"\"}}, \"type\": \"parcoords\"}], \"pie\": [{\"automargin\": true, \"type\": \"pie\"}], \"scatter\": [{\"marker\": {\"colorbar\": {\"outlinewidth\": 0, \"ticks\": \"\"}}, \"type\": \"scatter\"}], \"scatter3d\": [{\"line\": {\"colorbar\": {\"outlinewidth\": 0, \"ticks\": \"\"}}, \"marker\": {\"colorbar\": {\"outlinewidth\": 0, \"ticks\": \"\"}}, \"type\": \"scatter3d\"}], \"scattercarpet\": [{\"marker\": {\"colorbar\": {\"outlinewidth\": 0, \"ticks\": \"\"}}, \"type\": \"scattercarpet\"}], \"scattergeo\": [{\"marker\": {\"colorbar\": {\"outlinewidth\": 0, \"ticks\": \"\"}}, \"type\": \"scattergeo\"}], \"scattergl\": [{\"marker\": {\"colorbar\": {\"outlinewidth\": 0, \"ticks\": \"\"}}, \"type\": \"scattergl\"}], \"scattermapbox\": [{\"marker\": {\"colorbar\": {\"outlinewidth\": 0, \"ticks\": \"\"}}, \"type\": \"scattermapbox\"}], \"scatterpolar\": [{\"marker\": {\"colorbar\": {\"outlinewidth\": 0, \"ticks\": \"\"}}, \"type\": \"scatterpolar\"}], \"scatterpolargl\": [{\"marker\": {\"colorbar\": {\"outlinewidth\": 0, \"ticks\": \"\"}}, \"type\": \"scatterpolargl\"}], \"scatterternary\": [{\"marker\": {\"colorbar\": {\"outlinewidth\": 0, \"ticks\": \"\"}}, \"type\": \"scatterternary\"}], \"surface\": [{\"colorbar\": {\"outlinewidth\": 0, \"ticks\": \"\"}, \"colorscale\": [[0.0, \"#0d0887\"], [0.1111111111111111, \"#46039f\"], [0.2222222222222222, \"#7201a8\"], [0.3333333333333333, \"#9c179e\"], [0.4444444444444444, \"#bd3786\"], [0.5555555555555556, \"#d8576b\"], [0.6666666666666666, \"#ed7953\"], [0.7777777777777778, \"#fb9f3a\"], [0.8888888888888888, \"#fdca26\"], [1.0, \"#f0f921\"]], \"type\": \"surface\"}], \"table\": [{\"cells\": {\"fill\": {\"color\": \"#EBF0F8\"}, \"line\": {\"color\": \"white\"}}, \"header\": {\"fill\": {\"color\": \"#C8D4E3\"}, \"line\": {\"color\": \"white\"}}, \"type\": \"table\"}]}, \"layout\": {\"annotationdefaults\": {\"arrowcolor\": \"#2a3f5f\", \"arrowhead\": 0, \"arrowwidth\": 1}, \"autotypenumbers\": \"strict\", \"coloraxis\": {\"colorbar\": {\"outlinewidth\": 0, \"ticks\": \"\"}}, \"colorscale\": {\"diverging\": [[0, \"#8e0152\"], [0.1, \"#c51b7d\"], [0.2, \"#de77ae\"], [0.3, \"#f1b6da\"], [0.4, \"#fde0ef\"], [0.5, \"#f7f7f7\"], [0.6, \"#e6f5d0\"], [0.7, \"#b8e186\"], [0.8, \"#7fbc41\"], [0.9, \"#4d9221\"], [1, \"#276419\"]], \"sequential\": [[0.0, \"#0d0887\"], [0.1111111111111111, \"#46039f\"], [0.2222222222222222, \"#7201a8\"], [0.3333333333333333, \"#9c179e\"], [0.4444444444444444, \"#bd3786\"], [0.5555555555555556, \"#d8576b\"], [0.6666666666666666, \"#ed7953\"], [0.7777777777777778, \"#fb9f3a\"], [0.8888888888888888, \"#fdca26\"], [1.0, \"#f0f921\"]], \"sequentialminus\": [[0.0, \"#0d0887\"], [0.1111111111111111, \"#46039f\"], [0.2222222222222222, \"#7201a8\"], [0.3333333333333333, \"#9c179e\"], [0.4444444444444444, \"#bd3786\"], [0.5555555555555556, \"#d8576b\"], [0.6666666666666666, \"#ed7953\"], [0.7777777777777778, \"#fb9f3a\"], [0.8888888888888888, \"#fdca26\"], [1.0, \"#f0f921\"]]}, \"colorway\": [\"#636efa\", \"#EF553B\", \"#00cc96\", \"#ab63fa\", \"#FFA15A\", \"#19d3f3\", \"#FF6692\", \"#B6E880\", \"#FF97FF\", \"#FECB52\"], \"font\": {\"color\": \"#2a3f5f\"}, \"geo\": {\"bgcolor\": \"white\", \"lakecolor\": \"white\", \"landcolor\": \"#E5ECF6\", \"showlakes\": true, \"showland\": true, \"subunitcolor\": \"white\"}, \"hoverlabel\": {\"align\": \"left\"}, \"hovermode\": \"closest\", \"mapbox\": {\"style\": \"light\"}, \"paper_bgcolor\": \"white\", \"plot_bgcolor\": \"#E5ECF6\", \"polar\": {\"angularaxis\": {\"gridcolor\": \"white\", \"linecolor\": \"white\", \"ticks\": \"\"}, \"bgcolor\": \"#E5ECF6\", \"radialaxis\": {\"gridcolor\": \"white\", \"linecolor\": \"white\", \"ticks\": \"\"}}, \"scene\": {\"xaxis\": {\"backgroundcolor\": \"#E5ECF6\", \"gridcolor\": \"white\", \"gridwidth\": 2, \"linecolor\": \"white\", \"showbackground\": true, \"ticks\": \"\", \"zerolinecolor\": \"white\"}, \"yaxis\": {\"backgroundcolor\": \"#E5ECF6\", \"gridcolor\": \"white\", \"gridwidth\": 2, \"linecolor\": \"white\", \"showbackground\": true, \"ticks\": \"\", \"zerolinecolor\": \"white\"}, \"zaxis\": {\"backgroundcolor\": \"#E5ECF6\", \"gridcolor\": \"white\", \"gridwidth\": 2, \"linecolor\": \"white\", \"showbackground\": true, \"ticks\": \"\", \"zerolinecolor\": \"white\"}}, \"shapedefaults\": {\"line\": {\"color\": \"#2a3f5f\"}}, \"ternary\": {\"aaxis\": {\"gridcolor\": \"white\", \"linecolor\": \"white\", \"ticks\": \"\"}, \"baxis\": {\"gridcolor\": \"white\", \"linecolor\": \"white\", \"ticks\": \"\"}, \"bgcolor\": \"#E5ECF6\", \"caxis\": {\"gridcolor\": \"white\", \"linecolor\": \"white\", \"ticks\": \"\"}}, \"title\": {\"x\": 0.05}, \"xaxis\": {\"automargin\": true, \"gridcolor\": \"white\", \"linecolor\": \"white\", \"ticks\": \"\", \"title\": {\"standoff\": 15}, \"zerolinecolor\": \"white\", \"zerolinewidth\": 2}, \"yaxis\": {\"automargin\": true, \"gridcolor\": \"white\", \"linecolor\": \"white\", \"ticks\": \"\", \"title\": {\"standoff\": 15}, \"zerolinecolor\": \"white\", \"zerolinewidth\": 2}}}, \"title\": {\"text\": \"Distribui\\u00e7\\u00e3o do percentual de DEFERIMENTOS de ac\\u00f3rd\\u00e3os pelas 11 TURMAS RECURSAIS do TRT da 4\\u00aa Regi\\u00e3o\"}, \"width\": 1000, \"xaxis\": {\"title\": {\"text\": \"Parte recorrente no TRT da 4\\u00aa Regi\\u00e3o\"}}, \"yaxis\": {\"title\": {\"text\": \"Percentual de deferimento\"}}},                        {\"responsive\": true}                    ).then(function(){\n",
       "                            \n",
       "var gd = document.getElementById('d12ecfa3-426e-427e-9345-73fa07c936e1');\n",
       "var x = new MutationObserver(function (mutations, observer) {{\n",
       "        var display = window.getComputedStyle(gd).display;\n",
       "        if (!display || display === 'none') {{\n",
       "            console.log([gd, 'removed!']);\n",
       "            Plotly.purge(gd);\n",
       "            observer.disconnect();\n",
       "        }}\n",
       "}});\n",
       "\n",
       "// Listen for the removal of the full notebook cells\n",
       "var notebookContainer = gd.closest('#notebook-container');\n",
       "if (notebookContainer) {{\n",
       "    x.observe(notebookContainer, {childList: true});\n",
       "}}\n",
       "\n",
       "// Listen for the clearing of the current output cell\n",
       "var outputEl = gd.closest('.output');\n",
       "if (outputEl) {{\n",
       "    x.observe(outputEl, {childList: true});\n",
       "}}\n",
       "\n",
       "                        })                };                });            </script>        </div>"
      ]
     },
     "metadata": {},
     "output_type": "display_data"
    }
   ],
   "source": [
    "df_quantidades_percentuais = df_quantidades_percentuais_TRT4\n",
    "\n",
    "_tipo_requerente_EMPREGADO = df_quantidades_percentuais[\"tipo_requerente_previsto\"] == \"EMPREGADO\"\n",
    "_tipo_requerente_EMPRESA = df_quantidades_percentuais[\"tipo_requerente_previsto\"] == \"EMPRESA\"\n",
    "_tribunal = df_quantidades_percentuais[\"TRIBUNAL\"] == \"TRT4\"\n",
    "\n",
    "layout = go.Layout(\n",
    "    title='Distribuição do percentual de DEFERIMENTOS de acórdãos pelas 11 TURMAS RECURSAIS do TRT da 4ª Região',\n",
    "    yaxis_title_text='Percentual de deferimento',\n",
    "    xaxis_title_text='Parte recorrente no TRT da 4ª Região',\n",
    "    width=1000,\n",
    "    height=700,\n",
    "    #boxgap=1\n",
    ")\n",
    "\n",
    "box_width = 0.15\n",
    "\n",
    "########## EMPREGADOS\n",
    "y_empregado = df_quantidades_percentuais.loc[ _tribunal & _tipo_requerente_EMPREGADO, \"percentual_deferido\"]\n",
    "\n",
    "trace1 = go.Box(\n",
    "    y=y_empregado,\n",
    "    name='EMPREGADOS',\n",
    "    boxmean='sd', # represent mean and standard deviation\n",
    "    boxpoints='all',\n",
    "    width=box_width\n",
    ")\n",
    "\n",
    "########## EMPRESAS\n",
    "y_empresa = df_quantidades_percentuais.loc[ _tribunal & _tipo_requerente_EMPRESA, \"percentual_deferido\"]\n",
    "\n",
    "trace2 = go.Box(\n",
    "    y=y_empresa,\n",
    "    name='EMPRESAS',\n",
    "    boxmean='sd', # represent mean and standard deviation\n",
    "    boxpoints='all',\n",
    "    width=box_width\n",
    ")\n",
    "\n",
    "fig = go.Figure( data = [ trace1, trace2 ], layout=layout )\n",
    "\n",
    "########## LEGENDAS EMPREGADOS\n",
    "for legenda in zip( [\"Mínimo\",\"Q1\",\"Mediana\",\"Q3\",\"Máximo\"], df_quantidades_percentuais.loc[ _tribunal & _tipo_requerente_EMPREGADO, \"percentual_deferido\"].quantile([0,0.25,0.5,0.75,1]) ):\n",
    "    if(legenda[0] != \"Mediana\"):\n",
    "        fig.add_annotation(\n",
    "            y=legenda[1],\n",
    "            x=0.45,\n",
    "            text=legenda[0] + \": \" + str(round(legenda[1], 2)) + \"%\",\n",
    "            showarrow=False\n",
    "            )\n",
    "\n",
    "media_empregado = np.mean(y_empregado)\n",
    "mediana_empregado = np.median(y_empregado)\n",
    "desvio_padrao_empregado = np.std(y_empregado)\n",
    "\n",
    "fig.add_annotation(\n",
    "        y=media_empregado,\n",
    "        x=0.45,\n",
    "        text=\"Média: \" + str(round(media_empregado, 2)) + \"%<br>Desvio padrão: \" + str(round(desvio_padrao_empregado, 2)) + \"%<br>Mediana: \" + str(round(mediana_empregado, 2)) + \"%<br>\",\n",
    "        showarrow=False\n",
    "        )\n",
    "\n",
    "########## LEGENDAS EMPRESAS\n",
    "for legenda in zip( [\"Mínimo\",\"Q1\",\"Mediana\",\"Q3\",\"Máximo\"], df_quantidades_percentuais.loc[ _tribunal & _tipo_requerente_EMPRESA, \"percentual_deferido\"].quantile([0,0.25,0.5,0.75,1]) ):\n",
    "    if(legenda[0] != \"Mediana\"):\n",
    "        fig.add_annotation(\n",
    "            y=legenda[1],\n",
    "            x=1.45,\n",
    "            text=legenda[0] + \": \" + str(round(legenda[1], 2)) + \"%\",\n",
    "            showarrow=False\n",
    "            )\n",
    "\n",
    "media_empresa = np.mean(y_empresa)\n",
    "mediana_empresa = np.median(y_empresa)\n",
    "desvio_padrao_empresa = np.std(y_empresa)\n",
    "fig.add_annotation(\n",
    "        y=media_empresa,\n",
    "        x=1.45,\n",
    "        text=\"Média: \" + str(round(media_empresa, 2)) + \"%<br>Desvio padrão: \" + str(round(desvio_padrao_empresa, 2)) + \"%<br>Mediana: \" + str(round(mediana_empresa, 2)) + \"%<br>\",\n",
    "        showarrow=False\n",
    "        )\n",
    "\n",
    "fig.show()"
   ]
  },
  {
   "cell_type": "code",
   "execution_count": null,
   "metadata": {},
   "outputs": [],
   "source": []
  },
  {
   "cell_type": "code",
   "execution_count": null,
   "metadata": {},
   "outputs": [],
   "source": []
  },
  {
   "cell_type": "code",
   "execution_count": null,
   "metadata": {},
   "outputs": [],
   "source": []
  },
  {
   "cell_type": "code",
   "execution_count": null,
   "metadata": {},
   "outputs": [],
   "source": []
  },
  {
   "cell_type": "code",
   "execution_count": null,
   "metadata": {},
   "outputs": [],
   "source": []
  },
  {
   "cell_type": "code",
   "execution_count": null,
   "metadata": {},
   "outputs": [],
   "source": []
  },
  {
   "cell_type": "code",
   "execution_count": null,
   "metadata": {},
   "outputs": [],
   "source": []
  },
  {
   "cell_type": "markdown",
   "metadata": {},
   "source": [
    "# TRT 3 - Análise do tribunal de modo geral\n",
    "## Proporção de deferimentos e indeferimentos para ambas as partes"
   ]
  },
  {
   "cell_type": "code",
   "execution_count": 103,
   "metadata": {},
   "outputs": [],
   "source": [
    "_tribunal_TRT3 = df_limpo[\"TRIBUNAL\"] == \"TRT3\"\n",
    "X_def = pd.crosstab( df_limpo.loc[ _tribunal_TRT3 ].tipo_requerente_previsto, df_limpo.loc[ _tribunal_TRT3 ].deferimento_previsto ).loc[ :, \"DEFERIMENTO\" ]\n",
    "X_indef = pd.crosstab( df_limpo.loc[ _tribunal_TRT3 ].tipo_requerente_previsto, df_limpo.loc[ _tribunal_TRT3 ].deferimento_previsto ).loc[ :, \"INDEFERIMENTO\" ]\n",
    "rotulos = [ \"EMPREGADO\", \"EMPRESA\" ]"
   ]
  },
  {
   "cell_type": "code",
   "execution_count": 104,
   "metadata": {},
   "outputs": [],
   "source": [
    "porporcao_empregado, porporcao_empresa  = pd.crosstab( df_limpo.loc[ _tribunal_TRT3 ].tipo_requerente_previsto, df_limpo.loc[ _tribunal_TRT3 ].deferimento_previsto ).apply(lambda r:r/r.sum(),axis=1).loc[ :,  \"DEFERIMENTO\" ].to_numpy().flatten()"
   ]
  },
  {
   "cell_type": "code",
   "execution_count": 105,
   "metadata": {},
   "outputs": [
    {
     "data": {
      "application/vnd.plotly.v1+json": {
       "config": {
        "plotlyServerURL": "https://plot.ly"
       },
       "data": [
        {
         "name": "DEFERIMENTO",
         "orientation": "h",
         "textfont": {
          "color": "black",
          "family": "sans serif",
          "size": 18
         },
         "textposition": "auto",
         "type": "bar",
         "x": [
          3036,
          1222
         ],
         "y": [
          "EMPREGADO",
          "EMPRESA"
         ]
        },
        {
         "name": "INDEFERIMENTO",
         "orientation": "h",
         "textposition": "auto",
         "type": "bar",
         "x": [
          4313,
          1906
         ],
         "y": [
          "EMPREGADO",
          "EMPRESA"
         ]
        }
       ],
       "layout": {
        "annotations": [
         {
          "font": {
           "color": "#ffffff",
           "size": 16
          },
          "showarrow": false,
          "text": "41.31%",
          "x": 38.31174309429854,
          "y": "EMPREGADO"
         },
         {
          "font": {
           "color": "#ffffff",
           "size": 16
          },
          "showarrow": false,
          "text": "39.07%",
          "x": 36.066496163682864,
          "y": "EMPRESA"
         }
        ],
        "autosize": true,
        "barmode": "stack",
        "barnorm": "percent",
        "template": {
         "data": {
          "bar": [
           {
            "error_x": {
             "color": "#2a3f5f"
            },
            "error_y": {
             "color": "#2a3f5f"
            },
            "marker": {
             "line": {
              "color": "#E5ECF6",
              "width": 0.5
             }
            },
            "type": "bar"
           }
          ],
          "barpolar": [
           {
            "marker": {
             "line": {
              "color": "#E5ECF6",
              "width": 0.5
             }
            },
            "type": "barpolar"
           }
          ],
          "carpet": [
           {
            "aaxis": {
             "endlinecolor": "#2a3f5f",
             "gridcolor": "white",
             "linecolor": "white",
             "minorgridcolor": "white",
             "startlinecolor": "#2a3f5f"
            },
            "baxis": {
             "endlinecolor": "#2a3f5f",
             "gridcolor": "white",
             "linecolor": "white",
             "minorgridcolor": "white",
             "startlinecolor": "#2a3f5f"
            },
            "type": "carpet"
           }
          ],
          "choropleth": [
           {
            "colorbar": {
             "outlinewidth": 0,
             "ticks": ""
            },
            "type": "choropleth"
           }
          ],
          "contour": [
           {
            "colorbar": {
             "outlinewidth": 0,
             "ticks": ""
            },
            "colorscale": [
             [
              0,
              "#0d0887"
             ],
             [
              0.1111111111111111,
              "#46039f"
             ],
             [
              0.2222222222222222,
              "#7201a8"
             ],
             [
              0.3333333333333333,
              "#9c179e"
             ],
             [
              0.4444444444444444,
              "#bd3786"
             ],
             [
              0.5555555555555556,
              "#d8576b"
             ],
             [
              0.6666666666666666,
              "#ed7953"
             ],
             [
              0.7777777777777778,
              "#fb9f3a"
             ],
             [
              0.8888888888888888,
              "#fdca26"
             ],
             [
              1,
              "#f0f921"
             ]
            ],
            "type": "contour"
           }
          ],
          "contourcarpet": [
           {
            "colorbar": {
             "outlinewidth": 0,
             "ticks": ""
            },
            "type": "contourcarpet"
           }
          ],
          "heatmap": [
           {
            "colorbar": {
             "outlinewidth": 0,
             "ticks": ""
            },
            "colorscale": [
             [
              0,
              "#0d0887"
             ],
             [
              0.1111111111111111,
              "#46039f"
             ],
             [
              0.2222222222222222,
              "#7201a8"
             ],
             [
              0.3333333333333333,
              "#9c179e"
             ],
             [
              0.4444444444444444,
              "#bd3786"
             ],
             [
              0.5555555555555556,
              "#d8576b"
             ],
             [
              0.6666666666666666,
              "#ed7953"
             ],
             [
              0.7777777777777778,
              "#fb9f3a"
             ],
             [
              0.8888888888888888,
              "#fdca26"
             ],
             [
              1,
              "#f0f921"
             ]
            ],
            "type": "heatmap"
           }
          ],
          "heatmapgl": [
           {
            "colorbar": {
             "outlinewidth": 0,
             "ticks": ""
            },
            "colorscale": [
             [
              0,
              "#0d0887"
             ],
             [
              0.1111111111111111,
              "#46039f"
             ],
             [
              0.2222222222222222,
              "#7201a8"
             ],
             [
              0.3333333333333333,
              "#9c179e"
             ],
             [
              0.4444444444444444,
              "#bd3786"
             ],
             [
              0.5555555555555556,
              "#d8576b"
             ],
             [
              0.6666666666666666,
              "#ed7953"
             ],
             [
              0.7777777777777778,
              "#fb9f3a"
             ],
             [
              0.8888888888888888,
              "#fdca26"
             ],
             [
              1,
              "#f0f921"
             ]
            ],
            "type": "heatmapgl"
           }
          ],
          "histogram": [
           {
            "marker": {
             "colorbar": {
              "outlinewidth": 0,
              "ticks": ""
             }
            },
            "type": "histogram"
           }
          ],
          "histogram2d": [
           {
            "colorbar": {
             "outlinewidth": 0,
             "ticks": ""
            },
            "colorscale": [
             [
              0,
              "#0d0887"
             ],
             [
              0.1111111111111111,
              "#46039f"
             ],
             [
              0.2222222222222222,
              "#7201a8"
             ],
             [
              0.3333333333333333,
              "#9c179e"
             ],
             [
              0.4444444444444444,
              "#bd3786"
             ],
             [
              0.5555555555555556,
              "#d8576b"
             ],
             [
              0.6666666666666666,
              "#ed7953"
             ],
             [
              0.7777777777777778,
              "#fb9f3a"
             ],
             [
              0.8888888888888888,
              "#fdca26"
             ],
             [
              1,
              "#f0f921"
             ]
            ],
            "type": "histogram2d"
           }
          ],
          "histogram2dcontour": [
           {
            "colorbar": {
             "outlinewidth": 0,
             "ticks": ""
            },
            "colorscale": [
             [
              0,
              "#0d0887"
             ],
             [
              0.1111111111111111,
              "#46039f"
             ],
             [
              0.2222222222222222,
              "#7201a8"
             ],
             [
              0.3333333333333333,
              "#9c179e"
             ],
             [
              0.4444444444444444,
              "#bd3786"
             ],
             [
              0.5555555555555556,
              "#d8576b"
             ],
             [
              0.6666666666666666,
              "#ed7953"
             ],
             [
              0.7777777777777778,
              "#fb9f3a"
             ],
             [
              0.8888888888888888,
              "#fdca26"
             ],
             [
              1,
              "#f0f921"
             ]
            ],
            "type": "histogram2dcontour"
           }
          ],
          "mesh3d": [
           {
            "colorbar": {
             "outlinewidth": 0,
             "ticks": ""
            },
            "type": "mesh3d"
           }
          ],
          "parcoords": [
           {
            "line": {
             "colorbar": {
              "outlinewidth": 0,
              "ticks": ""
             }
            },
            "type": "parcoords"
           }
          ],
          "pie": [
           {
            "automargin": true,
            "type": "pie"
           }
          ],
          "scatter": [
           {
            "marker": {
             "colorbar": {
              "outlinewidth": 0,
              "ticks": ""
             }
            },
            "type": "scatter"
           }
          ],
          "scatter3d": [
           {
            "line": {
             "colorbar": {
              "outlinewidth": 0,
              "ticks": ""
             }
            },
            "marker": {
             "colorbar": {
              "outlinewidth": 0,
              "ticks": ""
             }
            },
            "type": "scatter3d"
           }
          ],
          "scattercarpet": [
           {
            "marker": {
             "colorbar": {
              "outlinewidth": 0,
              "ticks": ""
             }
            },
            "type": "scattercarpet"
           }
          ],
          "scattergeo": [
           {
            "marker": {
             "colorbar": {
              "outlinewidth": 0,
              "ticks": ""
             }
            },
            "type": "scattergeo"
           }
          ],
          "scattergl": [
           {
            "marker": {
             "colorbar": {
              "outlinewidth": 0,
              "ticks": ""
             }
            },
            "type": "scattergl"
           }
          ],
          "scattermapbox": [
           {
            "marker": {
             "colorbar": {
              "outlinewidth": 0,
              "ticks": ""
             }
            },
            "type": "scattermapbox"
           }
          ],
          "scatterpolar": [
           {
            "marker": {
             "colorbar": {
              "outlinewidth": 0,
              "ticks": ""
             }
            },
            "type": "scatterpolar"
           }
          ],
          "scatterpolargl": [
           {
            "marker": {
             "colorbar": {
              "outlinewidth": 0,
              "ticks": ""
             }
            },
            "type": "scatterpolargl"
           }
          ],
          "scatterternary": [
           {
            "marker": {
             "colorbar": {
              "outlinewidth": 0,
              "ticks": ""
             }
            },
            "type": "scatterternary"
           }
          ],
          "surface": [
           {
            "colorbar": {
             "outlinewidth": 0,
             "ticks": ""
            },
            "colorscale": [
             [
              0,
              "#0d0887"
             ],
             [
              0.1111111111111111,
              "#46039f"
             ],
             [
              0.2222222222222222,
              "#7201a8"
             ],
             [
              0.3333333333333333,
              "#9c179e"
             ],
             [
              0.4444444444444444,
              "#bd3786"
             ],
             [
              0.5555555555555556,
              "#d8576b"
             ],
             [
              0.6666666666666666,
              "#ed7953"
             ],
             [
              0.7777777777777778,
              "#fb9f3a"
             ],
             [
              0.8888888888888888,
              "#fdca26"
             ],
             [
              1,
              "#f0f921"
             ]
            ],
            "type": "surface"
           }
          ],
          "table": [
           {
            "cells": {
             "fill": {
              "color": "#EBF0F8"
             },
             "line": {
              "color": "white"
             }
            },
            "header": {
             "fill": {
              "color": "#C8D4E3"
             },
             "line": {
              "color": "white"
             }
            },
            "type": "table"
           }
          ]
         },
         "layout": {
          "annotationdefaults": {
           "arrowcolor": "#2a3f5f",
           "arrowhead": 0,
           "arrowwidth": 1
          },
          "autotypenumbers": "strict",
          "coloraxis": {
           "colorbar": {
            "outlinewidth": 0,
            "ticks": ""
           }
          },
          "colorscale": {
           "diverging": [
            [
             0,
             "#8e0152"
            ],
            [
             0.1,
             "#c51b7d"
            ],
            [
             0.2,
             "#de77ae"
            ],
            [
             0.3,
             "#f1b6da"
            ],
            [
             0.4,
             "#fde0ef"
            ],
            [
             0.5,
             "#f7f7f7"
            ],
            [
             0.6,
             "#e6f5d0"
            ],
            [
             0.7,
             "#b8e186"
            ],
            [
             0.8,
             "#7fbc41"
            ],
            [
             0.9,
             "#4d9221"
            ],
            [
             1,
             "#276419"
            ]
           ],
           "sequential": [
            [
             0,
             "#0d0887"
            ],
            [
             0.1111111111111111,
             "#46039f"
            ],
            [
             0.2222222222222222,
             "#7201a8"
            ],
            [
             0.3333333333333333,
             "#9c179e"
            ],
            [
             0.4444444444444444,
             "#bd3786"
            ],
            [
             0.5555555555555556,
             "#d8576b"
            ],
            [
             0.6666666666666666,
             "#ed7953"
            ],
            [
             0.7777777777777778,
             "#fb9f3a"
            ],
            [
             0.8888888888888888,
             "#fdca26"
            ],
            [
             1,
             "#f0f921"
            ]
           ],
           "sequentialminus": [
            [
             0,
             "#0d0887"
            ],
            [
             0.1111111111111111,
             "#46039f"
            ],
            [
             0.2222222222222222,
             "#7201a8"
            ],
            [
             0.3333333333333333,
             "#9c179e"
            ],
            [
             0.4444444444444444,
             "#bd3786"
            ],
            [
             0.5555555555555556,
             "#d8576b"
            ],
            [
             0.6666666666666666,
             "#ed7953"
            ],
            [
             0.7777777777777778,
             "#fb9f3a"
            ],
            [
             0.8888888888888888,
             "#fdca26"
            ],
            [
             1,
             "#f0f921"
            ]
           ]
          },
          "colorway": [
           "#636efa",
           "#EF553B",
           "#00cc96",
           "#ab63fa",
           "#FFA15A",
           "#19d3f3",
           "#FF6692",
           "#B6E880",
           "#FF97FF",
           "#FECB52"
          ],
          "font": {
           "color": "#2a3f5f"
          },
          "geo": {
           "bgcolor": "white",
           "lakecolor": "white",
           "landcolor": "#E5ECF6",
           "showlakes": true,
           "showland": true,
           "subunitcolor": "white"
          },
          "hoverlabel": {
           "align": "left"
          },
          "hovermode": "closest",
          "mapbox": {
           "style": "light"
          },
          "paper_bgcolor": "white",
          "plot_bgcolor": "#E5ECF6",
          "polar": {
           "angularaxis": {
            "gridcolor": "white",
            "linecolor": "white",
            "ticks": ""
           },
           "bgcolor": "#E5ECF6",
           "radialaxis": {
            "gridcolor": "white",
            "linecolor": "white",
            "ticks": ""
           }
          },
          "scene": {
           "xaxis": {
            "backgroundcolor": "#E5ECF6",
            "gridcolor": "white",
            "gridwidth": 2,
            "linecolor": "white",
            "showbackground": true,
            "ticks": "",
            "zerolinecolor": "white"
           },
           "yaxis": {
            "backgroundcolor": "#E5ECF6",
            "gridcolor": "white",
            "gridwidth": 2,
            "linecolor": "white",
            "showbackground": true,
            "ticks": "",
            "zerolinecolor": "white"
           },
           "zaxis": {
            "backgroundcolor": "#E5ECF6",
            "gridcolor": "white",
            "gridwidth": 2,
            "linecolor": "white",
            "showbackground": true,
            "ticks": "",
            "zerolinecolor": "white"
           }
          },
          "shapedefaults": {
           "line": {
            "color": "#2a3f5f"
           }
          },
          "ternary": {
           "aaxis": {
            "gridcolor": "white",
            "linecolor": "white",
            "ticks": ""
           },
           "baxis": {
            "gridcolor": "white",
            "linecolor": "white",
            "ticks": ""
           },
           "bgcolor": "#E5ECF6",
           "caxis": {
            "gridcolor": "white",
            "linecolor": "white",
            "ticks": ""
           }
          },
          "title": {
           "x": 0.05
          },
          "xaxis": {
           "automargin": true,
           "gridcolor": "white",
           "linecolor": "white",
           "ticks": "",
           "title": {
            "standoff": 15
           },
           "zerolinecolor": "white",
           "zerolinewidth": 2
          },
          "yaxis": {
           "automargin": true,
           "gridcolor": "white",
           "linecolor": "white",
           "ticks": "",
           "title": {
            "standoff": 15
           },
           "zerolinecolor": "white",
           "zerolinewidth": 2
          }
         }
        },
        "title": {
         "text": "TRT da 3ª Região. Porcentagem de julgamentos favoráveis para cada uma das partes."
        },
        "xaxis": {
         "autorange": true,
         "range": [
          0,
          100
         ],
         "type": "linear"
        },
        "yaxis": {
         "autorange": true,
         "range": [
          -0.5,
          1.5
         ],
         "type": "category"
        }
       }
      },
      "image/png": "[encoded data removed]",
      "text/html": [
       "<div>                            <div id=\"870740a0-82bc-47af-a252-8bb7e12fd887\" class=\"plotly-graph-div\" style=\"height:525px; width:100%;\"></div>            <script type=\"text/javascript\">                require([\"plotly\"], function(Plotly) {                    window.PLOTLYENV=window.PLOTLYENV || {};                                    if (document.getElementById(\"870740a0-82bc-47af-a252-8bb7e12fd887\")) {                    Plotly.newPlot(                        \"870740a0-82bc-47af-a252-8bb7e12fd887\",                        [{\"name\": \"DEFERIMENTO\", \"orientation\": \"h\", \"textfont\": {\"color\": \"black\", \"family\": \"sans serif\", \"size\": 18}, \"textposition\": \"auto\", \"type\": \"bar\", \"x\": [3036, 1222], \"y\": [\"EMPREGADO\", \"EMPRESA\"]}, {\"name\": \"INDEFERIMENTO\", \"orientation\": \"h\", \"textposition\": \"auto\", \"type\": \"bar\", \"x\": [4313, 1906], \"y\": [\"EMPREGADO\", \"EMPRESA\"]}],                        {\"annotations\": [{\"font\": {\"color\": \"#ffffff\", \"size\": 16}, \"showarrow\": false, \"text\": \"41.31%\", \"x\": 38.31174309429854, \"y\": \"EMPREGADO\"}, {\"font\": {\"color\": \"#ffffff\", \"size\": 16}, \"showarrow\": false, \"text\": \"39.07%\", \"x\": 36.066496163682864, \"y\": \"EMPRESA\"}], \"barmode\": \"stack\", \"barnorm\": \"percent\", \"template\": {\"data\": {\"bar\": [{\"error_x\": {\"color\": \"#2a3f5f\"}, \"error_y\": {\"color\": \"#2a3f5f\"}, \"marker\": {\"line\": {\"color\": \"#E5ECF6\", \"width\": 0.5}}, \"type\": \"bar\"}], \"barpolar\": [{\"marker\": {\"line\": {\"color\": \"#E5ECF6\", \"width\": 0.5}}, \"type\": \"barpolar\"}], \"carpet\": [{\"aaxis\": {\"endlinecolor\": \"#2a3f5f\", \"gridcolor\": \"white\", \"linecolor\": \"white\", \"minorgridcolor\": \"white\", \"startlinecolor\": \"#2a3f5f\"}, \"baxis\": {\"endlinecolor\": \"#2a3f5f\", \"gridcolor\": \"white\", \"linecolor\": \"white\", \"minorgridcolor\": \"white\", \"startlinecolor\": \"#2a3f5f\"}, \"type\": \"carpet\"}], \"choropleth\": [{\"colorbar\": {\"outlinewidth\": 0, \"ticks\": \"\"}, \"type\": \"choropleth\"}], \"contour\": [{\"colorbar\": {\"outlinewidth\": 0, \"ticks\": \"\"}, \"colorscale\": [[0.0, \"#0d0887\"], [0.1111111111111111, \"#46039f\"], [0.2222222222222222, \"#7201a8\"], [0.3333333333333333, \"#9c179e\"], [0.4444444444444444, \"#bd3786\"], [0.5555555555555556, \"#d8576b\"], [0.6666666666666666, \"#ed7953\"], [0.7777777777777778, \"#fb9f3a\"], [0.8888888888888888, \"#fdca26\"], [1.0, \"#f0f921\"]], \"type\": \"contour\"}], \"contourcarpet\": [{\"colorbar\": {\"outlinewidth\": 0, \"ticks\": \"\"}, \"type\": \"contourcarpet\"}], \"heatmap\": [{\"colorbar\": {\"outlinewidth\": 0, \"ticks\": \"\"}, \"colorscale\": [[0.0, \"#0d0887\"], [0.1111111111111111, \"#46039f\"], [0.2222222222222222, \"#7201a8\"], [0.3333333333333333, \"#9c179e\"], [0.4444444444444444, \"#bd3786\"], [0.5555555555555556, \"#d8576b\"], [0.6666666666666666, \"#ed7953\"], [0.7777777777777778, \"#fb9f3a\"], [0.8888888888888888, \"#fdca26\"], [1.0, \"#f0f921\"]], \"type\": \"heatmap\"}], \"heatmapgl\": [{\"colorbar\": {\"outlinewidth\": 0, \"ticks\": \"\"}, \"colorscale\": [[0.0, \"#0d0887\"], [0.1111111111111111, \"#46039f\"], [0.2222222222222222, \"#7201a8\"], [0.3333333333333333, \"#9c179e\"], [0.4444444444444444, \"#bd3786\"], [0.5555555555555556, \"#d8576b\"], [0.6666666666666666, \"#ed7953\"], [0.7777777777777778, \"#fb9f3a\"], [0.8888888888888888, \"#fdca26\"], [1.0, \"#f0f921\"]], \"type\": \"heatmapgl\"}], \"histogram\": [{\"marker\": {\"colorbar\": {\"outlinewidth\": 0, \"ticks\": \"\"}}, \"type\": \"histogram\"}], \"histogram2d\": [{\"colorbar\": {\"outlinewidth\": 0, \"ticks\": \"\"}, \"colorscale\": [[0.0, \"#0d0887\"], [0.1111111111111111, \"#46039f\"], [0.2222222222222222, \"#7201a8\"], [0.3333333333333333, \"#9c179e\"], [0.4444444444444444, \"#bd3786\"], [0.5555555555555556, \"#d8576b\"], [0.6666666666666666, \"#ed7953\"], [0.7777777777777778, \"#fb9f3a\"], [0.8888888888888888, \"#fdca26\"], [1.0, \"#f0f921\"]], \"type\": \"histogram2d\"}], \"histogram2dcontour\": [{\"colorbar\": {\"outlinewidth\": 0, \"ticks\": \"\"}, \"colorscale\": [[0.0, \"#0d0887\"], [0.1111111111111111, \"#46039f\"], [0.2222222222222222, \"#7201a8\"], [0.3333333333333333, \"#9c179e\"], [0.4444444444444444, \"#bd3786\"], [0.5555555555555556, \"#d8576b\"], [0.6666666666666666, \"#ed7953\"], [0.7777777777777778, \"#fb9f3a\"], [0.8888888888888888, \"#fdca26\"], [1.0, \"#f0f921\"]], \"type\": \"histogram2dcontour\"}], \"mesh3d\": [{\"colorbar\": {\"outlinewidth\": 0, \"ticks\": \"\"}, \"type\": \"mesh3d\"}], \"parcoords\": [{\"line\": {\"colorbar\": {\"outlinewidth\": 0, \"ticks\": \"\"}}, \"type\": \"parcoords\"}], \"pie\": [{\"automargin\": true, \"type\": \"pie\"}], \"scatter\": [{\"marker\": {\"colorbar\": {\"outlinewidth\": 0, \"ticks\": \"\"}}, \"type\": \"scatter\"}], \"scatter3d\": [{\"line\": {\"colorbar\": {\"outlinewidth\": 0, \"ticks\": \"\"}}, \"marker\": {\"colorbar\": {\"outlinewidth\": 0, \"ticks\": \"\"}}, \"type\": \"scatter3d\"}], \"scattercarpet\": [{\"marker\": {\"colorbar\": {\"outlinewidth\": 0, \"ticks\": \"\"}}, \"type\": \"scattercarpet\"}], \"scattergeo\": [{\"marker\": {\"colorbar\": {\"outlinewidth\": 0, \"ticks\": \"\"}}, \"type\": \"scattergeo\"}], \"scattergl\": [{\"marker\": {\"colorbar\": {\"outlinewidth\": 0, \"ticks\": \"\"}}, \"type\": \"scattergl\"}], \"scattermapbox\": [{\"marker\": {\"colorbar\": {\"outlinewidth\": 0, \"ticks\": \"\"}}, \"type\": \"scattermapbox\"}], \"scatterpolar\": [{\"marker\": {\"colorbar\": {\"outlinewidth\": 0, \"ticks\": \"\"}}, \"type\": \"scatterpolar\"}], \"scatterpolargl\": [{\"marker\": {\"colorbar\": {\"outlinewidth\": 0, \"ticks\": \"\"}}, \"type\": \"scatterpolargl\"}], \"scatterternary\": [{\"marker\": {\"colorbar\": {\"outlinewidth\": 0, \"ticks\": \"\"}}, \"type\": \"scatterternary\"}], \"surface\": [{\"colorbar\": {\"outlinewidth\": 0, \"ticks\": \"\"}, \"colorscale\": [[0.0, \"#0d0887\"], [0.1111111111111111, \"#46039f\"], [0.2222222222222222, \"#7201a8\"], [0.3333333333333333, \"#9c179e\"], [0.4444444444444444, \"#bd3786\"], [0.5555555555555556, \"#d8576b\"], [0.6666666666666666, \"#ed7953\"], [0.7777777777777778, \"#fb9f3a\"], [0.8888888888888888, \"#fdca26\"], [1.0, \"#f0f921\"]], \"type\": \"surface\"}], \"table\": [{\"cells\": {\"fill\": {\"color\": \"#EBF0F8\"}, \"line\": {\"color\": \"white\"}}, \"header\": {\"fill\": {\"color\": \"#C8D4E3\"}, \"line\": {\"color\": \"white\"}}, \"type\": \"table\"}]}, \"layout\": {\"annotationdefaults\": {\"arrowcolor\": \"#2a3f5f\", \"arrowhead\": 0, \"arrowwidth\": 1}, \"autotypenumbers\": \"strict\", \"coloraxis\": {\"colorbar\": {\"outlinewidth\": 0, \"ticks\": \"\"}}, \"colorscale\": {\"diverging\": [[0, \"#8e0152\"], [0.1, \"#c51b7d\"], [0.2, \"#de77ae\"], [0.3, \"#f1b6da\"], [0.4, \"#fde0ef\"], [0.5, \"#f7f7f7\"], [0.6, \"#e6f5d0\"], [0.7, \"#b8e186\"], [0.8, \"#7fbc41\"], [0.9, \"#4d9221\"], [1, \"#276419\"]], \"sequential\": [[0.0, \"#0d0887\"], [0.1111111111111111, \"#46039f\"], [0.2222222222222222, \"#7201a8\"], [0.3333333333333333, \"#9c179e\"], [0.4444444444444444, \"#bd3786\"], [0.5555555555555556, \"#d8576b\"], [0.6666666666666666, \"#ed7953\"], [0.7777777777777778, \"#fb9f3a\"], [0.8888888888888888, \"#fdca26\"], [1.0, \"#f0f921\"]], \"sequentialminus\": [[0.0, \"#0d0887\"], [0.1111111111111111, \"#46039f\"], [0.2222222222222222, \"#7201a8\"], [0.3333333333333333, \"#9c179e\"], [0.4444444444444444, \"#bd3786\"], [0.5555555555555556, \"#d8576b\"], [0.6666666666666666, \"#ed7953\"], [0.7777777777777778, \"#fb9f3a\"], [0.8888888888888888, \"#fdca26\"], [1.0, \"#f0f921\"]]}, \"colorway\": [\"#636efa\", \"#EF553B\", \"#00cc96\", \"#ab63fa\", \"#FFA15A\", \"#19d3f3\", \"#FF6692\", \"#B6E880\", \"#FF97FF\", \"#FECB52\"], \"font\": {\"color\": \"#2a3f5f\"}, \"geo\": {\"bgcolor\": \"white\", \"lakecolor\": \"white\", \"landcolor\": \"#E5ECF6\", \"showlakes\": true, \"showland\": true, \"subunitcolor\": \"white\"}, \"hoverlabel\": {\"align\": \"left\"}, \"hovermode\": \"closest\", \"mapbox\": {\"style\": \"light\"}, \"paper_bgcolor\": \"white\", \"plot_bgcolor\": \"#E5ECF6\", \"polar\": {\"angularaxis\": {\"gridcolor\": \"white\", \"linecolor\": \"white\", \"ticks\": \"\"}, \"bgcolor\": \"#E5ECF6\", \"radialaxis\": {\"gridcolor\": \"white\", \"linecolor\": \"white\", \"ticks\": \"\"}}, \"scene\": {\"xaxis\": {\"backgroundcolor\": \"#E5ECF6\", \"gridcolor\": \"white\", \"gridwidth\": 2, \"linecolor\": \"white\", \"showbackground\": true, \"ticks\": \"\", \"zerolinecolor\": \"white\"}, \"yaxis\": {\"backgroundcolor\": \"#E5ECF6\", \"gridcolor\": \"white\", \"gridwidth\": 2, \"linecolor\": \"white\", \"showbackground\": true, \"ticks\": \"\", \"zerolinecolor\": \"white\"}, \"zaxis\": {\"backgroundcolor\": \"#E5ECF6\", \"gridcolor\": \"white\", \"gridwidth\": 2, \"linecolor\": \"white\", \"showbackground\": true, \"ticks\": \"\", \"zerolinecolor\": \"white\"}}, \"shapedefaults\": {\"line\": {\"color\": \"#2a3f5f\"}}, \"ternary\": {\"aaxis\": {\"gridcolor\": \"white\", \"linecolor\": \"white\", \"ticks\": \"\"}, \"baxis\": {\"gridcolor\": \"white\", \"linecolor\": \"white\", \"ticks\": \"\"}, \"bgcolor\": \"#E5ECF6\", \"caxis\": {\"gridcolor\": \"white\", \"linecolor\": \"white\", \"ticks\": \"\"}}, \"title\": {\"x\": 0.05}, \"xaxis\": {\"automargin\": true, \"gridcolor\": \"white\", \"linecolor\": \"white\", \"ticks\": \"\", \"title\": {\"standoff\": 15}, \"zerolinecolor\": \"white\", \"zerolinewidth\": 2}, \"yaxis\": {\"automargin\": true, \"gridcolor\": \"white\", \"linecolor\": \"white\", \"ticks\": \"\", \"title\": {\"standoff\": 15}, \"zerolinecolor\": \"white\", \"zerolinewidth\": 2}}}, \"title\": {\"text\": \"TRT da 3\\u00aa Regi\\u00e3o. Porcentagem de julgamentos favor\\u00e1veis para cada uma das partes.\"}},                        {\"responsive\": true}                    ).then(function(){\n",
       "                            \n",
       "var gd = document.getElementById('870740a0-82bc-47af-a252-8bb7e12fd887');\n",
       "var x = new MutationObserver(function (mutations, observer) {{\n",
       "        var display = window.getComputedStyle(gd).display;\n",
       "        if (!display || display === 'none') {{\n",
       "            console.log([gd, 'removed!']);\n",
       "            Plotly.purge(gd);\n",
       "            observer.disconnect();\n",
       "        }}\n",
       "}});\n",
       "\n",
       "// Listen for the removal of the full notebook cells\n",
       "var notebookContainer = gd.closest('#notebook-container');\n",
       "if (notebookContainer) {{\n",
       "    x.observe(notebookContainer, {childList: true});\n",
       "}}\n",
       "\n",
       "// Listen for the clearing of the current output cell\n",
       "var outputEl = gd.closest('.output');\n",
       "if (outputEl) {{\n",
       "    x.observe(outputEl, {childList: true});\n",
       "}}\n",
       "\n",
       "                        })                };                });            </script>        </div>"
      ]
     },
     "metadata": {},
     "output_type": "display_data"
    }
   ],
   "source": [
    "#DEFERIMENTO\n",
    "trace1 = go.Bar(x = X_def,\n",
    "                y = rotulos,  \n",
    "                orientation=\"h\",\n",
    "                textposition='auto',\n",
    "                textfont=dict(\n",
    "        family=\"sans serif\",\n",
    "        size=18,\n",
    "        color=\"black\"),\n",
    "                name=\"DEFERIMENTO\" )\n",
    "#INDEFERIMENTO\n",
    "trace2 = go.Bar(x = X_indef,\n",
    "                y = rotulos,\n",
    "                orientation=\"h\",\n",
    "                textposition='auto',\n",
    "                name=\"INDEFERIMENTO\" )\n",
    "\n",
    "layout = go.Layout( title=\"TRT da 3ª Região. Porcentagem de julgamentos favoráveis para cada uma das partes.\",\n",
    "                    barmode=\"stack\",\n",
    "                    barnorm=\"percent\",                    \n",
    "                    )\n",
    "\n",
    "fig = go.Figure( data = [ trace1, trace2 ], layout=layout )\n",
    "\n",
    "fig.add_annotation(\n",
    "        y=\"EMPREGADO\",\n",
    "        x = ( porporcao_empregado*100 ) - 3,\n",
    "        text=str( round( porporcao_empregado*100, 2) )+\"%\",\n",
    "        showarrow=False,\n",
    "        font=dict(\n",
    "                size=16,\n",
    "                color=\"#ffffff\"\n",
    "                ),\n",
    "        )\n",
    "\n",
    "fig.add_annotation(\n",
    "        y=\"EMPRESA\",\n",
    "        x = ( porporcao_empresa*100 ) - 3,\n",
    "        text=str( round( porporcao_empresa*100, 2) )+\"%\",\n",
    "        showarrow=False,\n",
    "        font=dict(\n",
    "                size=16,\n",
    "                color=\"#ffffff\"\n",
    "                ),\n",
    "        )\n",
    "\n",
    "fig.show()"
   ]
  },
  {
   "cell_type": "markdown",
   "metadata": {},
   "source": [
    "### Interpretação\n",
    "Do total de recursos que as <strong>EMPRESAS</strong> recorreram ao TRT da 3ª Região, <strong>39,27%</strong> foram DEFERIDOS. Considerando apenas sentenças em que houve recurso somente da EMPRESA.<BR>\n",
    "Do total de recursos que as <strong>EMPREGADOS</strong> recorreram ao TRT da 3ª Região, <strong>50,24%</strong> foram DEFERIDOS. Considerando apenas sentenças em que houve recurso somente do EMPREGADO.<BR>"
   ]
  },
  {
   "cell_type": "code",
   "execution_count": 106,
   "metadata": {},
   "outputs": [
    {
     "name": "stdout",
     "output_type": "stream",
     "text": [
      "Quantidade de processos analisados: 10477\n"
     ]
    }
   ],
   "source": [
    "print( \"Quantidade de processos analisados: \"+str( len( df_limpo.loc[ _tribunal_TRT3 ] ) ) )"
   ]
  },
  {
   "cell_type": "code",
   "execution_count": 107,
   "metadata": {},
   "outputs": [
    {
     "name": "stdout",
     "output_type": "stream",
     "text": [
      "Recorrente EMPREGADO. Quantidade de processos analisados: 7349\n",
      "Recorrente EMPRESA. Quantidade de processos analisados: 3128\n"
     ]
    }
   ],
   "source": [
    "tipo_requerente_previsto_EMPREGADO = df_limpo[\"tipo_requerente_previsto\"] == \"EMPREGADO\"\n",
    "tipo_requerente_previsto_EMPRESA = df_limpo[\"tipo_requerente_previsto\"] == \"EMPRESA\"\n",
    "quantidade_EMPREGADO = len( df_limpo.loc[ _tribunal_TRT3 & tipo_requerente_previsto_EMPREGADO ] )\n",
    "quantidade_EMPRESA = len( df_limpo.loc[ _tribunal_TRT3 & tipo_requerente_previsto_EMPRESA ] )\n",
    "print( \"Recorrente EMPREGADO. Quantidade de processos analisados: \"+str( quantidade_EMPREGADO ) )\n",
    "print( \"Recorrente EMPRESA. Quantidade de processos analisados: \"+str( quantidade_EMPRESA ) )"
   ]
  },
  {
   "cell_type": "markdown",
   "metadata": {},
   "source": [
    "## Teste estatístico: Two proportion z-test\n",
    "### Interpretação"
   ]
  },
  {
   "cell_type": "code",
   "execution_count": 108,
   "metadata": {},
   "outputs": [],
   "source": [
    "n_deferimento_empregado, n_indeferimento_empregado, n_deferimento_empresa, n_indeferimento_empresa =  pd.crosstab( df_limpo.loc[ _tribunal_TRT3 ].tipo_requerente_previsto, df_limpo.loc[ _tribunal_TRT3 ].deferimento_previsto ).to_numpy().flatten()\n",
    "total_empregado = n_deferimento_empregado + n_indeferimento_empregado\n",
    "total_empresa = n_deferimento_empresa + n_indeferimento_empresa\n",
    "pvalue = proportion.test_proportions_2indep( n_deferimento_empregado, total_empregado, n_deferimento_empresa, total_empresa )[1]"
   ]
  },
  {
   "cell_type": "code",
   "execution_count": 109,
   "metadata": {},
   "outputs": [
    {
     "name": "stdout",
     "output_type": "stream",
     "text": [
      "P-value: 3.19%\n",
      "SIM, apresenta diferença estatística entre a proporção de deferimentos para empregado e para empresa.\n"
     ]
    }
   ],
   "source": [
    "print( \"P-value: \"+str(round(pvalue*100, 2) )+\"%\" )\n",
    "if( pvalue < 0.05 ):\n",
    "    print( \"SIM, apresenta diferença estatística entre a proporção de deferimentos para empregado e para empresa.\" )\n",
    "else:\n",
    "    print( \"NÃO, não apresenta diferença estatística entre a proporção de deferimentos para empregado e para empresa.\" )"
   ]
  },
  {
   "cell_type": "code",
   "execution_count": 110,
   "metadata": {},
   "outputs": [
    {
     "data": {
      "text/plain": [
       "0.03189451083979464"
      ]
     },
     "execution_count": 110,
     "metadata": {},
     "output_type": "execute_result"
    }
   ],
   "source": [
    "pvalue"
   ]
  },
  {
   "cell_type": "code",
   "execution_count": 111,
   "metadata": {},
   "outputs": [
    {
     "name": "stdout",
     "output_type": "stream",
     "text": [
      "Power: 79.28%\n",
      "Nível inaceitável de força estatística. Risco considerável de ocorrer Type 2 error, ou seja, há risco de não haver diferença entre as proporções (se foi encontrada diferença).\n"
     ]
    }
   ],
   "source": [
    "P1 = n_deferimento_empregado / total_empregado\n",
    "P2 = n_deferimento_empresa / total_empresa\n",
    "diff = P1 - P2\n",
    "power = proportion.power_proportions_2indep( diff, P2, total_empregado,  total_empresa/total_empregado, alpha=0.05, value=0, alternative='two-sided', return_results=True).power\n",
    "print( \"Power: \"+str(round(power*100, 2) )+\"%\" )\n",
    "if( power < 0.8 ):\n",
    "    print( \"Nível inaceitável de força estatística. Risco considerável de ocorrer Type 2 error, ou seja, há risco de não haver diferença entre as proporções (se foi encontrada diferença).\" )\n",
    "else:\n",
    "    print( \"Nível aceitável de força estatística. Risco baixo de ocorrer Type 2 error, ou seja, há risco baixo de não haver diferença entre as proporções (se foi encontrada diferença).\" )"
   ]
  },
  {
   "cell_type": "markdown",
   "metadata": {},
   "source": [
    "## Teste de efeito estatístico: Cohen's H\n",
    "### Interpretação"
   ]
  },
  {
   "cell_type": "code",
   "execution_count": 112,
   "metadata": {},
   "outputs": [],
   "source": [
    "effectsize = proportion_effectsize( porporcao_empregado, porporcao_empresa )"
   ]
  },
  {
   "cell_type": "code",
   "execution_count": 113,
   "metadata": {},
   "outputs": [
    {
     "name": "stdout",
     "output_type": "stream",
     "text": [
      "Índice Cohen's H: 4.58%\n",
      "Diferença estatística insignificante.\n"
     ]
    }
   ],
   "source": [
    "print( \"Índice Cohen's H: \"+str(abs(round(effectsize*100, 2) ) )+\"%\" )\n",
    "hNonDir = abs(effectsize)\n",
    "if hNonDir < .20:\n",
    "    print('Diferença estatística insignificante.')\n",
    "elif hNonDir < .50:\n",
    "    print('Diferença estatística pequena.')\n",
    "elif hNonDir < .80:\n",
    "    print('Diferença estatística média.')\n",
    "else:\n",
    "    print('Diferença estatística grande.')    "
   ]
  },
  {
   "cell_type": "markdown",
   "metadata": {},
   "source": [
    "# TRT 3 - Análise das Turmas Recursais individualmente"
   ]
  },
  {
   "cell_type": "code",
   "execution_count": 114,
   "metadata": {},
   "outputs": [],
   "source": [
    "_tribunal_TRT3 = df_quantidades_TRT3[\"TRIBUNAL\"] == \"TRT3\"\n",
    "_polaridade_def = df_quantidades_TRT3[\"deferimento_previsto\"] == \"DEFERIMENTO\"\n",
    "_polaridade_indef = df_quantidades_TRT3[\"deferimento_previsto\"] == \"INDEFERIMENTO\"\n",
    "\n",
    "X_def = df_quantidades_TRT3.loc[ _tribunal_TRT3 & _polaridade_def , \"QUANTIDADE\" ]\n",
    "Y_def_orgao = df_quantidades_TRT3.loc[ _tribunal_TRT3 & _polaridade_def , \"ORGAO\" ]\n",
    "Y_def_recorrente = df_quantidades_TRT3.loc[ _tribunal_TRT3 & _polaridade_def , \"tipo_requerente_previsto\" ]\n",
    "\n",
    "X_indef = df_quantidades_TRT3.loc[ _tribunal_TRT3 & _polaridade_indef , \"QUANTIDADE\" ]\n",
    "Y_indef_orgao = df_quantidades_TRT3.loc[ _tribunal_TRT3 & _polaridade_indef , \"ORGAO\" ]\n",
    "Y_indef_recorrente = df_quantidades_TRT3.loc[ _tribunal_TRT3 & _polaridade_indef , \"tipo_requerente_previsto\" ]"
   ]
  },
  {
   "cell_type": "code",
   "execution_count": 115,
   "metadata": {},
   "outputs": [],
   "source": [
    "#deferido\n",
    "trace1 = go.Bar(x = X_def,\n",
    "                y = [ Y_def_orgao,\n",
    "                      Y_def_recorrente ],  \n",
    "                orientation=\"h\",\n",
    "                name=\"DEFERIMENTO\" )\n",
    "#indeferido\n",
    "trace2 = go.Bar(x = X_indef,\n",
    "                y = [ Y_indef_orgao,\n",
    "                      Y_indef_recorrente ],\n",
    "                orientation=\"h\",\n",
    "                name=\"INDEFERIMENTO\" )\n",
    "\n",
    "layout = go.Layout( \n",
    "    title=\"TRT da 3ª Região. Porcentagem de julgamentos favoráveis <br>para cada uma das partes em relação a cada Turma Recursal.\",\n",
    "    barmode=\"stack\",\n",
    "    barnorm=\"percent\",\n",
    "    margin=dict(l=400),\n",
    "    width=1000,\n",
    "    height=1000\n",
    "    )\n",
    "\n",
    "fig = go.Figure( data = [ trace1, trace2 ], layout=layout )"
   ]
  },
  {
   "cell_type": "code",
   "execution_count": 116,
   "metadata": {},
   "outputs": [],
   "source": [
    "_tribunal_TRT3 = df_quantidades_percentuais_TRT3[\"TRIBUNAL\"] == \"TRT3\"\n",
    "orgaos = df_quantidades_percentuais_TRT3.loc[ _tribunal_TRT3, \"ORGAO\"].to_numpy()\n",
    "percentuais_deferimento = df_quantidades_percentuais_TRT3.loc[ _tribunal_TRT3, \"percentual_deferido\"].to_numpy()\n",
    "tipo_parte = df_quantidades_percentuais_TRT3.loc[ _tribunal_TRT3, \"tipo_requerente_previsto\"].to_numpy()"
   ]
  },
  {
   "cell_type": "code",
   "execution_count": 117,
   "metadata": {},
   "outputs": [
    {
     "data": {
      "application/vnd.plotly.v1+json": {
       "config": {
        "plotlyServerURL": "https://plot.ly"
       },
       "data": [
        {
         "name": "DEFERIMENTO",
         "orientation": "h",
         "type": "bar",
         "x": [
          298,
          86,
          258,
          136,
          232,
          144,
          264,
          100,
          372,
          93,
          276,
          137,
          214,
          89,
          297,
          103,
          246,
          105,
          215,
          110,
          364,
          119
         ],
         "y": [
          [
           "11ª Turma",
           "11ª Turma",
           "10ª Turma",
           "10ª Turma",
           "9ª Turma",
           "9ª Turma",
           "8ª Turma",
           "8ª Turma",
           "7ª Turma",
           "7ª Turma",
           "6ª Turma",
           "6ª Turma",
           "5ª Turma",
           "5ª Turma",
           "4ª Turma",
           "4ª Turma",
           "3ª Turma",
           "3ª Turma",
           "2ª Turma",
           "2ª Turma",
           "1ª Turma",
           "1ª Turma"
          ],
          [
           "EMPREGADO",
           "EMPRESA",
           "EMPREGADO",
           "EMPRESA",
           "EMPREGADO",
           "EMPRESA",
           "EMPREGADO",
           "EMPRESA",
           "EMPREGADO",
           "EMPRESA",
           "EMPREGADO",
           "EMPRESA",
           "EMPREGADO",
           "EMPRESA",
           "EMPREGADO",
           "EMPRESA",
           "EMPREGADO",
           "EMPRESA",
           "EMPREGADO",
           "EMPRESA",
           "EMPREGADO",
           "EMPRESA"
          ]
         ]
        },
        {
         "name": "INDEFERIMENTO",
         "orientation": "h",
         "type": "bar",
         "x": [
          344,
          206,
          404,
          159,
          538,
          102,
          325,
          161,
          334,
          226,
          416,
          144,
          431,
          155,
          343,
          188,
          440,
          147,
          400,
          181,
          338,
          237
         ],
         "y": [
          [
           "11ª Turma",
           "11ª Turma",
           "10ª Turma",
           "10ª Turma",
           "9ª Turma",
           "9ª Turma",
           "8ª Turma",
           "8ª Turma",
           "7ª Turma",
           "7ª Turma",
           "6ª Turma",
           "6ª Turma",
           "5ª Turma",
           "5ª Turma",
           "4ª Turma",
           "4ª Turma",
           "3ª Turma",
           "3ª Turma",
           "2ª Turma",
           "2ª Turma",
           "1ª Turma",
           "1ª Turma"
          ],
          [
           "EMPREGADO",
           "EMPRESA",
           "EMPREGADO",
           "EMPRESA",
           "EMPREGADO",
           "EMPRESA",
           "EMPREGADO",
           "EMPRESA",
           "EMPREGADO",
           "EMPRESA",
           "EMPREGADO",
           "EMPRESA",
           "EMPREGADO",
           "EMPRESA",
           "EMPREGADO",
           "EMPRESA",
           "EMPREGADO",
           "EMPRESA",
           "EMPREGADO",
           "EMPRESA",
           "EMPREGADO",
           "EMPRESA"
          ]
         ]
        }
       ],
       "layout": {
        "annotations": [
         {
          "font": {
           "color": "#ffffff",
           "size": 16
          },
          "showarrow": false,
          "text": "46.42%",
          "x": 36.41744548286604,
          "y": [
           "11ª Turma",
           "EMPREGADO"
          ]
         },
         {
          "font": {
           "color": "#ffffff",
           "size": 16
          },
          "showarrow": false,
          "text": "29.45%",
          "x": 19.45205479452055,
          "y": [
           "11ª Turma",
           "EMPRESA"
          ]
         },
         {
          "font": {
           "color": "#ffffff",
           "size": 16
          },
          "showarrow": false,
          "text": "38.97%",
          "x": 28.972809667673715,
          "y": [
           "10ª Turma",
           "EMPREGADO"
          ]
         },
         {
          "font": {
           "color": "#ffffff",
           "size": 16
          },
          "showarrow": false,
          "text": "46.1%",
          "x": 36.101694915254235,
          "y": [
           "10ª Turma",
           "EMPRESA"
          ]
         },
         {
          "font": {
           "color": "#ffffff",
           "size": 16
          },
          "showarrow": false,
          "text": "30.13%",
          "x": 20.129870129870127,
          "y": [
           "9ª Turma",
           "EMPREGADO"
          ]
         },
         {
          "font": {
           "color": "#ffffff",
           "size": 16
          },
          "showarrow": false,
          "text": "58.54%",
          "x": 48.536585365853654,
          "y": [
           "9ª Turma",
           "EMPRESA"
          ]
         },
         {
          "font": {
           "color": "#ffffff",
           "size": 16
          },
          "showarrow": false,
          "text": "44.82%",
          "x": 34.821731748726656,
          "y": [
           "8ª Turma",
           "EMPREGADO"
          ]
         },
         {
          "font": {
           "color": "#ffffff",
           "size": 16
          },
          "showarrow": false,
          "text": "38.31%",
          "x": 28.31417624521073,
          "y": [
           "8ª Turma",
           "EMPRESA"
          ]
         },
         {
          "font": {
           "color": "#ffffff",
           "size": 16
          },
          "showarrow": false,
          "text": "52.69%",
          "x": 42.69121813031161,
          "y": [
           "7ª Turma",
           "EMPREGADO"
          ]
         },
         {
          "font": {
           "color": "#ffffff",
           "size": 16
          },
          "showarrow": false,
          "text": "29.15%",
          "x": 19.153605015673982,
          "y": [
           "7ª Turma",
           "EMPRESA"
          ]
         },
         {
          "font": {
           "color": "#ffffff",
           "size": 16
          },
          "showarrow": false,
          "text": "39.88%",
          "x": 29.884393063583815,
          "y": [
           "6ª Turma",
           "EMPREGADO"
          ]
         },
         {
          "font": {
           "color": "#ffffff",
           "size": 16
          },
          "showarrow": false,
          "text": "48.75%",
          "x": 38.754448398576514,
          "y": [
           "6ª Turma",
           "EMPRESA"
          ]
         },
         {
          "font": {
           "color": "#ffffff",
           "size": 16
          },
          "showarrow": false,
          "text": "33.18%",
          "x": 23.178294573643413,
          "y": [
           "5ª Turma",
           "EMPREGADO"
          ]
         },
         {
          "font": {
           "color": "#ffffff",
           "size": 16
          },
          "showarrow": false,
          "text": "36.48%",
          "x": 26.475409836065573,
          "y": [
           "5ª Turma",
           "EMPRESA"
          ]
         },
         {
          "font": {
           "color": "#ffffff",
           "size": 16
          },
          "showarrow": false,
          "text": "46.41%",
          "x": 36.40625,
          "y": [
           "4ª Turma",
           "EMPREGADO"
          ]
         },
         {
          "font": {
           "color": "#ffffff",
           "size": 16
          },
          "showarrow": false,
          "text": "35.4%",
          "x": 25.39518900343643,
          "y": [
           "4ª Turma",
           "EMPRESA"
          ]
         },
         {
          "font": {
           "color": "#ffffff",
           "size": 16
          },
          "showarrow": false,
          "text": "35.86%",
          "x": 25.860058309037903,
          "y": [
           "3ª Turma",
           "EMPREGADO"
          ]
         },
         {
          "font": {
           "color": "#ffffff",
           "size": 16
          },
          "showarrow": false,
          "text": "41.67%",
          "x": 31.66666666666667,
          "y": [
           "3ª Turma",
           "EMPRESA"
          ]
         },
         {
          "font": {
           "color": "#ffffff",
           "size": 16
          },
          "showarrow": false,
          "text": "34.96%",
          "x": 24.959349593495936,
          "y": [
           "2ª Turma",
           "EMPREGADO"
          ]
         },
         {
          "font": {
           "color": "#ffffff",
           "size": 16
          },
          "showarrow": false,
          "text": "37.8%",
          "x": 27.80068728522337,
          "y": [
           "2ª Turma",
           "EMPRESA"
          ]
         },
         {
          "font": {
           "color": "#ffffff",
           "size": 16
          },
          "showarrow": false,
          "text": "51.85%",
          "x": 41.85185185185185,
          "y": [
           "1ª Turma",
           "EMPREGADO"
          ]
         },
         {
          "font": {
           "color": "#ffffff",
           "size": 16
          },
          "showarrow": false,
          "text": "33.43%",
          "x": 23.42696629213483,
          "y": [
           "1ª Turma",
           "EMPRESA"
          ]
         }
        ],
        "barmode": "stack",
        "barnorm": "percent",
        "height": 1000,
        "margin": {
         "l": 400
        },
        "template": {
         "data": {
          "bar": [
           {
            "error_x": {
             "color": "#2a3f5f"
            },
            "error_y": {
             "color": "#2a3f5f"
            },
            "marker": {
             "line": {
              "color": "#E5ECF6",
              "width": 0.5
             }
            },
            "type": "bar"
           }
          ],
          "barpolar": [
           {
            "marker": {
             "line": {
              "color": "#E5ECF6",
              "width": 0.5
             }
            },
            "type": "barpolar"
           }
          ],
          "carpet": [
           {
            "aaxis": {
             "endlinecolor": "#2a3f5f",
             "gridcolor": "white",
             "linecolor": "white",
             "minorgridcolor": "white",
             "startlinecolor": "#2a3f5f"
            },
            "baxis": {
             "endlinecolor": "#2a3f5f",
             "gridcolor": "white",
             "linecolor": "white",
             "minorgridcolor": "white",
             "startlinecolor": "#2a3f5f"
            },
            "type": "carpet"
           }
          ],
          "choropleth": [
           {
            "colorbar": {
             "outlinewidth": 0,
             "ticks": ""
            },
            "type": "choropleth"
           }
          ],
          "contour": [
           {
            "colorbar": {
             "outlinewidth": 0,
             "ticks": ""
            },
            "colorscale": [
             [
              0,
              "#0d0887"
             ],
             [
              0.1111111111111111,
              "#46039f"
             ],
             [
              0.2222222222222222,
              "#7201a8"
             ],
             [
              0.3333333333333333,
              "#9c179e"
             ],
             [
              0.4444444444444444,
              "#bd3786"
             ],
             [
              0.5555555555555556,
              "#d8576b"
             ],
             [
              0.6666666666666666,
              "#ed7953"
             ],
             [
              0.7777777777777778,
              "#fb9f3a"
             ],
             [
              0.8888888888888888,
              "#fdca26"
             ],
             [
              1,
              "#f0f921"
             ]
            ],
            "type": "contour"
           }
          ],
          "contourcarpet": [
           {
            "colorbar": {
             "outlinewidth": 0,
             "ticks": ""
            },
            "type": "contourcarpet"
           }
          ],
          "heatmap": [
           {
            "colorbar": {
             "outlinewidth": 0,
             "ticks": ""
            },
            "colorscale": [
             [
              0,
              "#0d0887"
             ],
             [
              0.1111111111111111,
              "#46039f"
             ],
             [
              0.2222222222222222,
              "#7201a8"
             ],
             [
              0.3333333333333333,
              "#9c179e"
             ],
             [
              0.4444444444444444,
              "#bd3786"
             ],
             [
              0.5555555555555556,
              "#d8576b"
             ],
             [
              0.6666666666666666,
              "#ed7953"
             ],
             [
              0.7777777777777778,
              "#fb9f3a"
             ],
             [
              0.8888888888888888,
              "#fdca26"
             ],
             [
              1,
              "#f0f921"
             ]
            ],
            "type": "heatmap"
           }
          ],
          "heatmapgl": [
           {
            "colorbar": {
             "outlinewidth": 0,
             "ticks": ""
            },
            "colorscale": [
             [
              0,
              "#0d0887"
             ],
             [
              0.1111111111111111,
              "#46039f"
             ],
             [
              0.2222222222222222,
              "#7201a8"
             ],
             [
              0.3333333333333333,
              "#9c179e"
             ],
             [
              0.4444444444444444,
              "#bd3786"
             ],
             [
              0.5555555555555556,
              "#d8576b"
             ],
             [
              0.6666666666666666,
              "#ed7953"
             ],
             [
              0.7777777777777778,
              "#fb9f3a"
             ],
             [
              0.8888888888888888,
              "#fdca26"
             ],
             [
              1,
              "#f0f921"
             ]
            ],
            "type": "heatmapgl"
           }
          ],
          "histogram": [
           {
            "marker": {
             "colorbar": {
              "outlinewidth": 0,
              "ticks": ""
             }
            },
            "type": "histogram"
           }
          ],
          "histogram2d": [
           {
            "colorbar": {
             "outlinewidth": 0,
             "ticks": ""
            },
            "colorscale": [
             [
              0,
              "#0d0887"
             ],
             [
              0.1111111111111111,
              "#46039f"
             ],
             [
              0.2222222222222222,
              "#7201a8"
             ],
             [
              0.3333333333333333,
              "#9c179e"
             ],
             [
              0.4444444444444444,
              "#bd3786"
             ],
             [
              0.5555555555555556,
              "#d8576b"
             ],
             [
              0.6666666666666666,
              "#ed7953"
             ],
             [
              0.7777777777777778,
              "#fb9f3a"
             ],
             [
              0.8888888888888888,
              "#fdca26"
             ],
             [
              1,
              "#f0f921"
             ]
            ],
            "type": "histogram2d"
           }
          ],
          "histogram2dcontour": [
           {
            "colorbar": {
             "outlinewidth": 0,
             "ticks": ""
            },
            "colorscale": [
             [
              0,
              "#0d0887"
             ],
             [
              0.1111111111111111,
              "#46039f"
             ],
             [
              0.2222222222222222,
              "#7201a8"
             ],
             [
              0.3333333333333333,
              "#9c179e"
             ],
             [
              0.4444444444444444,
              "#bd3786"
             ],
             [
              0.5555555555555556,
              "#d8576b"
             ],
             [
              0.6666666666666666,
              "#ed7953"
             ],
             [
              0.7777777777777778,
              "#fb9f3a"
             ],
             [
              0.8888888888888888,
              "#fdca26"
             ],
             [
              1,
              "#f0f921"
             ]
            ],
            "type": "histogram2dcontour"
           }
          ],
          "mesh3d": [
           {
            "colorbar": {
             "outlinewidth": 0,
             "ticks": ""
            },
            "type": "mesh3d"
           }
          ],
          "parcoords": [
           {
            "line": {
             "colorbar": {
              "outlinewidth": 0,
              "ticks": ""
             }
            },
            "type": "parcoords"
           }
          ],
          "pie": [
           {
            "automargin": true,
            "type": "pie"
           }
          ],
          "scatter": [
           {
            "marker": {
             "colorbar": {
              "outlinewidth": 0,
              "ticks": ""
             }
            },
            "type": "scatter"
           }
          ],
          "scatter3d": [
           {
            "line": {
             "colorbar": {
              "outlinewidth": 0,
              "ticks": ""
             }
            },
            "marker": {
             "colorbar": {
              "outlinewidth": 0,
              "ticks": ""
             }
            },
            "type": "scatter3d"
           }
          ],
          "scattercarpet": [
           {
            "marker": {
             "colorbar": {
              "outlinewidth": 0,
              "ticks": ""
             }
            },
            "type": "scattercarpet"
           }
          ],
          "scattergeo": [
           {
            "marker": {
             "colorbar": {
              "outlinewidth": 0,
              "ticks": ""
             }
            },
            "type": "scattergeo"
           }
          ],
          "scattergl": [
           {
            "marker": {
             "colorbar": {
              "outlinewidth": 0,
              "ticks": ""
             }
            },
            "type": "scattergl"
           }
          ],
          "scattermapbox": [
           {
            "marker": {
             "colorbar": {
              "outlinewidth": 0,
              "ticks": ""
             }
            },
            "type": "scattermapbox"
           }
          ],
          "scatterpolar": [
           {
            "marker": {
             "colorbar": {
              "outlinewidth": 0,
              "ticks": ""
             }
            },
            "type": "scatterpolar"
           }
          ],
          "scatterpolargl": [
           {
            "marker": {
             "colorbar": {
              "outlinewidth": 0,
              "ticks": ""
             }
            },
            "type": "scatterpolargl"
           }
          ],
          "scatterternary": [
           {
            "marker": {
             "colorbar": {
              "outlinewidth": 0,
              "ticks": ""
             }
            },
            "type": "scatterternary"
           }
          ],
          "surface": [
           {
            "colorbar": {
             "outlinewidth": 0,
             "ticks": ""
            },
            "colorscale": [
             [
              0,
              "#0d0887"
             ],
             [
              0.1111111111111111,
              "#46039f"
             ],
             [
              0.2222222222222222,
              "#7201a8"
             ],
             [
              0.3333333333333333,
              "#9c179e"
             ],
             [
              0.4444444444444444,
              "#bd3786"
             ],
             [
              0.5555555555555556,
              "#d8576b"
             ],
             [
              0.6666666666666666,
              "#ed7953"
             ],
             [
              0.7777777777777778,
              "#fb9f3a"
             ],
             [
              0.8888888888888888,
              "#fdca26"
             ],
             [
              1,
              "#f0f921"
             ]
            ],
            "type": "surface"
           }
          ],
          "table": [
           {
            "cells": {
             "fill": {
              "color": "#EBF0F8"
             },
             "line": {
              "color": "white"
             }
            },
            "header": {
             "fill": {
              "color": "#C8D4E3"
             },
             "line": {
              "color": "white"
             }
            },
            "type": "table"
           }
          ]
         },
         "layout": {
          "annotationdefaults": {
           "arrowcolor": "#2a3f5f",
           "arrowhead": 0,
           "arrowwidth": 1
          },
          "autotypenumbers": "strict",
          "coloraxis": {
           "colorbar": {
            "outlinewidth": 0,
            "ticks": ""
           }
          },
          "colorscale": {
           "diverging": [
            [
             0,
             "#8e0152"
            ],
            [
             0.1,
             "#c51b7d"
            ],
            [
             0.2,
             "#de77ae"
            ],
            [
             0.3,
             "#f1b6da"
            ],
            [
             0.4,
             "#fde0ef"
            ],
            [
             0.5,
             "#f7f7f7"
            ],
            [
             0.6,
             "#e6f5d0"
            ],
            [
             0.7,
             "#b8e186"
            ],
            [
             0.8,
             "#7fbc41"
            ],
            [
             0.9,
             "#4d9221"
            ],
            [
             1,
             "#276419"
            ]
           ],
           "sequential": [
            [
             0,
             "#0d0887"
            ],
            [
             0.1111111111111111,
             "#46039f"
            ],
            [
             0.2222222222222222,
             "#7201a8"
            ],
            [
             0.3333333333333333,
             "#9c179e"
            ],
            [
             0.4444444444444444,
             "#bd3786"
            ],
            [
             0.5555555555555556,
             "#d8576b"
            ],
            [
             0.6666666666666666,
             "#ed7953"
            ],
            [
             0.7777777777777778,
             "#fb9f3a"
            ],
            [
             0.8888888888888888,
             "#fdca26"
            ],
            [
             1,
             "#f0f921"
            ]
           ],
           "sequentialminus": [
            [
             0,
             "#0d0887"
            ],
            [
             0.1111111111111111,
             "#46039f"
            ],
            [
             0.2222222222222222,
             "#7201a8"
            ],
            [
             0.3333333333333333,
             "#9c179e"
            ],
            [
             0.4444444444444444,
             "#bd3786"
            ],
            [
             0.5555555555555556,
             "#d8576b"
            ],
            [
             0.6666666666666666,
             "#ed7953"
            ],
            [
             0.7777777777777778,
             "#fb9f3a"
            ],
            [
             0.8888888888888888,
             "#fdca26"
            ],
            [
             1,
             "#f0f921"
            ]
           ]
          },
          "colorway": [
           "#636efa",
           "#EF553B",
           "#00cc96",
           "#ab63fa",
           "#FFA15A",
           "#19d3f3",
           "#FF6692",
           "#B6E880",
           "#FF97FF",
           "#FECB52"
          ],
          "font": {
           "color": "#2a3f5f"
          },
          "geo": {
           "bgcolor": "white",
           "lakecolor": "white",
           "landcolor": "#E5ECF6",
           "showlakes": true,
           "showland": true,
           "subunitcolor": "white"
          },
          "hoverlabel": {
           "align": "left"
          },
          "hovermode": "closest",
          "mapbox": {
           "style": "light"
          },
          "paper_bgcolor": "white",
          "plot_bgcolor": "#E5ECF6",
          "polar": {
           "angularaxis": {
            "gridcolor": "white",
            "linecolor": "white",
            "ticks": ""
           },
           "bgcolor": "#E5ECF6",
           "radialaxis": {
            "gridcolor": "white",
            "linecolor": "white",
            "ticks": ""
           }
          },
          "scene": {
           "xaxis": {
            "backgroundcolor": "#E5ECF6",
            "gridcolor": "white",
            "gridwidth": 2,
            "linecolor": "white",
            "showbackground": true,
            "ticks": "",
            "zerolinecolor": "white"
           },
           "yaxis": {
            "backgroundcolor": "#E5ECF6",
            "gridcolor": "white",
            "gridwidth": 2,
            "linecolor": "white",
            "showbackground": true,
            "ticks": "",
            "zerolinecolor": "white"
           },
           "zaxis": {
            "backgroundcolor": "#E5ECF6",
            "gridcolor": "white",
            "gridwidth": 2,
            "linecolor": "white",
            "showbackground": true,
            "ticks": "",
            "zerolinecolor": "white"
           }
          },
          "shapedefaults": {
           "line": {
            "color": "#2a3f5f"
           }
          },
          "ternary": {
           "aaxis": {
            "gridcolor": "white",
            "linecolor": "white",
            "ticks": ""
           },
           "baxis": {
            "gridcolor": "white",
            "linecolor": "white",
            "ticks": ""
           },
           "bgcolor": "#E5ECF6",
           "caxis": {
            "gridcolor": "white",
            "linecolor": "white",
            "ticks": ""
           }
          },
          "title": {
           "x": 0.05
          },
          "xaxis": {
           "automargin": true,
           "gridcolor": "white",
           "linecolor": "white",
           "ticks": "",
           "title": {
            "standoff": 15
           },
           "zerolinecolor": "white",
           "zerolinewidth": 2
          },
          "yaxis": {
           "automargin": true,
           "gridcolor": "white",
           "linecolor": "white",
           "ticks": "",
           "title": {
            "standoff": 15
           },
           "zerolinecolor": "white",
           "zerolinewidth": 2
          }
         }
        },
        "title": {
         "text": "TRT da 3ª Região. Porcentagem de julgamentos favoráveis <br>para cada uma das partes em relação a cada Turma Recursal."
        },
        "width": 1000,
        "xaxis": {
         "autorange": true,
         "range": [
          0,
          100.00000000000001
         ],
         "type": "linear"
        },
        "yaxis": {
         "autorange": true,
         "range": [
          -0.5,
          21.5
         ],
         "type": "multicategory"
        }
       }
      },
      "image/png": "[encoded data removed]",
      "text/html": [
       "<div>                            <div id=\"4adddd44-e86c-4f08-9a1f-c40849c97dce\" class=\"plotly-graph-div\" style=\"height:1000px; width:1000px;\"></div>            <script type=\"text/javascript\">                require([\"plotly\"], function(Plotly) {                    window.PLOTLYENV=window.PLOTLYENV || {};                                    if (document.getElementById(\"4adddd44-e86c-4f08-9a1f-c40849c97dce\")) {                    Plotly.newPlot(                        \"4adddd44-e86c-4f08-9a1f-c40849c97dce\",                        [{\"name\": \"DEFERIMENTO\", \"orientation\": \"h\", \"type\": \"bar\", \"x\": [298, 86, 258, 136, 232, 144, 264, 100, 372, 93, 276, 137, 214, 89, 297, 103, 246, 105, 215, 110, 364, 119], \"y\": [[\"11\\u00aa Turma\", \"11\\u00aa Turma\", \"10\\u00aa Turma\", \"10\\u00aa Turma\", \"9\\u00aa Turma\", \"9\\u00aa Turma\", \"8\\u00aa Turma\", \"8\\u00aa Turma\", \"7\\u00aa Turma\", \"7\\u00aa Turma\", \"6\\u00aa Turma\", \"6\\u00aa Turma\", \"5\\u00aa Turma\", \"5\\u00aa Turma\", \"4\\u00aa Turma\", \"4\\u00aa Turma\", \"3\\u00aa Turma\", \"3\\u00aa Turma\", \"2\\u00aa Turma\", \"2\\u00aa Turma\", \"1\\u00aa Turma\", \"1\\u00aa Turma\"], [\"EMPREGADO\", \"EMPRESA\", \"EMPREGADO\", \"EMPRESA\", \"EMPREGADO\", \"EMPRESA\", \"EMPREGADO\", \"EMPRESA\", \"EMPREGADO\", \"EMPRESA\", \"EMPREGADO\", \"EMPRESA\", \"EMPREGADO\", \"EMPRESA\", \"EMPREGADO\", \"EMPRESA\", \"EMPREGADO\", \"EMPRESA\", \"EMPREGADO\", \"EMPRESA\", \"EMPREGADO\", \"EMPRESA\"]]}, {\"name\": \"INDEFERIMENTO\", \"orientation\": \"h\", \"type\": \"bar\", \"x\": [344, 206, 404, 159, 538, 102, 325, 161, 334, 226, 416, 144, 431, 155, 343, 188, 440, 147, 400, 181, 338, 237], \"y\": [[\"11\\u00aa Turma\", \"11\\u00aa Turma\", \"10\\u00aa Turma\", \"10\\u00aa Turma\", \"9\\u00aa Turma\", \"9\\u00aa Turma\", \"8\\u00aa Turma\", \"8\\u00aa Turma\", \"7\\u00aa Turma\", \"7\\u00aa Turma\", \"6\\u00aa Turma\", \"6\\u00aa Turma\", \"5\\u00aa Turma\", \"5\\u00aa Turma\", \"4\\u00aa Turma\", \"4\\u00aa Turma\", \"3\\u00aa Turma\", \"3\\u00aa Turma\", \"2\\u00aa Turma\", \"2\\u00aa Turma\", \"1\\u00aa Turma\", \"1\\u00aa Turma\"], [\"EMPREGADO\", \"EMPRESA\", \"EMPREGADO\", \"EMPRESA\", \"EMPREGADO\", \"EMPRESA\", \"EMPREGADO\", \"EMPRESA\", \"EMPREGADO\", \"EMPRESA\", \"EMPREGADO\", \"EMPRESA\", \"EMPREGADO\", \"EMPRESA\", \"EMPREGADO\", \"EMPRESA\", \"EMPREGADO\", \"EMPRESA\", \"EMPREGADO\", \"EMPRESA\", \"EMPREGADO\", \"EMPRESA\"]]}],                        {\"annotations\": [{\"font\": {\"color\": \"#ffffff\", \"size\": 16}, \"showarrow\": false, \"text\": \"46.42%\", \"x\": 36.41744548286604, \"y\": [\"11\\u00aa Turma\", \"EMPREGADO\"]}, {\"font\": {\"color\": \"#ffffff\", \"size\": 16}, \"showarrow\": false, \"text\": \"29.45%\", \"x\": 19.45205479452055, \"y\": [\"11\\u00aa Turma\", \"EMPRESA\"]}, {\"font\": {\"color\": \"#ffffff\", \"size\": 16}, \"showarrow\": false, \"text\": \"38.97%\", \"x\": 28.972809667673715, \"y\": [\"10\\u00aa Turma\", \"EMPREGADO\"]}, {\"font\": {\"color\": \"#ffffff\", \"size\": 16}, \"showarrow\": false, \"text\": \"46.1%\", \"x\": 36.101694915254235, \"y\": [\"10\\u00aa Turma\", \"EMPRESA\"]}, {\"font\": {\"color\": \"#ffffff\", \"size\": 16}, \"showarrow\": false, \"text\": \"30.13%\", \"x\": 20.129870129870127, \"y\": [\"9\\u00aa Turma\", \"EMPREGADO\"]}, {\"font\": {\"color\": \"#ffffff\", \"size\": 16}, \"showarrow\": false, \"text\": \"58.54%\", \"x\": 48.536585365853654, \"y\": [\"9\\u00aa Turma\", \"EMPRESA\"]}, {\"font\": {\"color\": \"#ffffff\", \"size\": 16}, \"showarrow\": false, \"text\": \"44.82%\", \"x\": 34.821731748726656, \"y\": [\"8\\u00aa Turma\", \"EMPREGADO\"]}, {\"font\": {\"color\": \"#ffffff\", \"size\": 16}, \"showarrow\": false, \"text\": \"38.31%\", \"x\": 28.31417624521073, \"y\": [\"8\\u00aa Turma\", \"EMPRESA\"]}, {\"font\": {\"color\": \"#ffffff\", \"size\": 16}, \"showarrow\": false, \"text\": \"52.69%\", \"x\": 42.69121813031161, \"y\": [\"7\\u00aa Turma\", \"EMPREGADO\"]}, {\"font\": {\"color\": \"#ffffff\", \"size\": 16}, \"showarrow\": false, \"text\": \"29.15%\", \"x\": 19.153605015673982, \"y\": [\"7\\u00aa Turma\", \"EMPRESA\"]}, {\"font\": {\"color\": \"#ffffff\", \"size\": 16}, \"showarrow\": false, \"text\": \"39.88%\", \"x\": 29.884393063583815, \"y\": [\"6\\u00aa Turma\", \"EMPREGADO\"]}, {\"font\": {\"color\": \"#ffffff\", \"size\": 16}, \"showarrow\": false, \"text\": \"48.75%\", \"x\": 38.754448398576514, \"y\": [\"6\\u00aa Turma\", \"EMPRESA\"]}, {\"font\": {\"color\": \"#ffffff\", \"size\": 16}, \"showarrow\": false, \"text\": \"33.18%\", \"x\": 23.178294573643413, \"y\": [\"5\\u00aa Turma\", \"EMPREGADO\"]}, {\"font\": {\"color\": \"#ffffff\", \"size\": 16}, \"showarrow\": false, \"text\": \"36.48%\", \"x\": 26.475409836065573, \"y\": [\"5\\u00aa Turma\", \"EMPRESA\"]}, {\"font\": {\"color\": \"#ffffff\", \"size\": 16}, \"showarrow\": false, \"text\": \"46.41%\", \"x\": 36.40625, \"y\": [\"4\\u00aa Turma\", \"EMPREGADO\"]}, {\"font\": {\"color\": \"#ffffff\", \"size\": 16}, \"showarrow\": false, \"text\": \"35.4%\", \"x\": 25.39518900343643, \"y\": [\"4\\u00aa Turma\", \"EMPRESA\"]}, {\"font\": {\"color\": \"#ffffff\", \"size\": 16}, \"showarrow\": false, \"text\": \"35.86%\", \"x\": 25.860058309037903, \"y\": [\"3\\u00aa Turma\", \"EMPREGADO\"]}, {\"font\": {\"color\": \"#ffffff\", \"size\": 16}, \"showarrow\": false, \"text\": \"41.67%\", \"x\": 31.66666666666667, \"y\": [\"3\\u00aa Turma\", \"EMPRESA\"]}, {\"font\": {\"color\": \"#ffffff\", \"size\": 16}, \"showarrow\": false, \"text\": \"34.96%\", \"x\": 24.959349593495936, \"y\": [\"2\\u00aa Turma\", \"EMPREGADO\"]}, {\"font\": {\"color\": \"#ffffff\", \"size\": 16}, \"showarrow\": false, \"text\": \"37.8%\", \"x\": 27.80068728522337, \"y\": [\"2\\u00aa Turma\", \"EMPRESA\"]}, {\"font\": {\"color\": \"#ffffff\", \"size\": 16}, \"showarrow\": false, \"text\": \"51.85%\", \"x\": 41.85185185185185, \"y\": [\"1\\u00aa Turma\", \"EMPREGADO\"]}, {\"font\": {\"color\": \"#ffffff\", \"size\": 16}, \"showarrow\": false, \"text\": \"33.43%\", \"x\": 23.42696629213483, \"y\": [\"1\\u00aa Turma\", \"EMPRESA\"]}], \"barmode\": \"stack\", \"barnorm\": \"percent\", \"height\": 1000, \"margin\": {\"l\": 400}, \"template\": {\"data\": {\"bar\": [{\"error_x\": {\"color\": \"#2a3f5f\"}, \"error_y\": {\"color\": \"#2a3f5f\"}, \"marker\": {\"line\": {\"color\": \"#E5ECF6\", \"width\": 0.5}}, \"type\": \"bar\"}], \"barpolar\": [{\"marker\": {\"line\": {\"color\": \"#E5ECF6\", \"width\": 0.5}}, \"type\": \"barpolar\"}], \"carpet\": [{\"aaxis\": {\"endlinecolor\": \"#2a3f5f\", \"gridcolor\": \"white\", \"linecolor\": \"white\", \"minorgridcolor\": \"white\", \"startlinecolor\": \"#2a3f5f\"}, \"baxis\": {\"endlinecolor\": \"#2a3f5f\", \"gridcolor\": \"white\", \"linecolor\": \"white\", \"minorgridcolor\": \"white\", \"startlinecolor\": \"#2a3f5f\"}, \"type\": \"carpet\"}], \"choropleth\": [{\"colorbar\": {\"outlinewidth\": 0, \"ticks\": \"\"}, \"type\": \"choropleth\"}], \"contour\": [{\"colorbar\": {\"outlinewidth\": 0, \"ticks\": \"\"}, \"colorscale\": [[0.0, \"#0d0887\"], [0.1111111111111111, \"#46039f\"], [0.2222222222222222, \"#7201a8\"], [0.3333333333333333, \"#9c179e\"], [0.4444444444444444, \"#bd3786\"], [0.5555555555555556, \"#d8576b\"], [0.6666666666666666, \"#ed7953\"], [0.7777777777777778, \"#fb9f3a\"], [0.8888888888888888, \"#fdca26\"], [1.0, \"#f0f921\"]], \"type\": \"contour\"}], \"contourcarpet\": [{\"colorbar\": {\"outlinewidth\": 0, \"ticks\": \"\"}, \"type\": \"contourcarpet\"}], \"heatmap\": [{\"colorbar\": {\"outlinewidth\": 0, \"ticks\": \"\"}, \"colorscale\": [[0.0, \"#0d0887\"], [0.1111111111111111, \"#46039f\"], [0.2222222222222222, \"#7201a8\"], [0.3333333333333333, \"#9c179e\"], [0.4444444444444444, \"#bd3786\"], [0.5555555555555556, \"#d8576b\"], [0.6666666666666666, \"#ed7953\"], [0.7777777777777778, \"#fb9f3a\"], [0.8888888888888888, \"#fdca26\"], [1.0, \"#f0f921\"]], \"type\": \"heatmap\"}], \"heatmapgl\": [{\"colorbar\": {\"outlinewidth\": 0, \"ticks\": \"\"}, \"colorscale\": [[0.0, \"#0d0887\"], [0.1111111111111111, \"#46039f\"], [0.2222222222222222, \"#7201a8\"], [0.3333333333333333, \"#9c179e\"], [0.4444444444444444, \"#bd3786\"], [0.5555555555555556, \"#d8576b\"], [0.6666666666666666, \"#ed7953\"], [0.7777777777777778, \"#fb9f3a\"], [0.8888888888888888, \"#fdca26\"], [1.0, \"#f0f921\"]], \"type\": \"heatmapgl\"}], \"histogram\": [{\"marker\": {\"colorbar\": {\"outlinewidth\": 0, \"ticks\": \"\"}}, \"type\": \"histogram\"}], \"histogram2d\": [{\"colorbar\": {\"outlinewidth\": 0, \"ticks\": \"\"}, \"colorscale\": [[0.0, \"#0d0887\"], [0.1111111111111111, \"#46039f\"], [0.2222222222222222, \"#7201a8\"], [0.3333333333333333, \"#9c179e\"], [0.4444444444444444, \"#bd3786\"], [0.5555555555555556, \"#d8576b\"], [0.6666666666666666, \"#ed7953\"], [0.7777777777777778, \"#fb9f3a\"], [0.8888888888888888, \"#fdca26\"], [1.0, \"#f0f921\"]], \"type\": \"histogram2d\"}], \"histogram2dcontour\": [{\"colorbar\": {\"outlinewidth\": 0, \"ticks\": \"\"}, \"colorscale\": [[0.0, \"#0d0887\"], [0.1111111111111111, \"#46039f\"], [0.2222222222222222, \"#7201a8\"], [0.3333333333333333, \"#9c179e\"], [0.4444444444444444, \"#bd3786\"], [0.5555555555555556, \"#d8576b\"], [0.6666666666666666, \"#ed7953\"], [0.7777777777777778, \"#fb9f3a\"], [0.8888888888888888, \"#fdca26\"], [1.0, \"#f0f921\"]], \"type\": \"histogram2dcontour\"}], \"mesh3d\": [{\"colorbar\": {\"outlinewidth\": 0, \"ticks\": \"\"}, \"type\": \"mesh3d\"}], \"parcoords\": [{\"line\": {\"colorbar\": {\"outlinewidth\": 0, \"ticks\": \"\"}}, \"type\": \"parcoords\"}], \"pie\": [{\"automargin\": true, \"type\": \"pie\"}], \"scatter\": [{\"marker\": {\"colorbar\": {\"outlinewidth\": 0, \"ticks\": \"\"}}, \"type\": \"scatter\"}], \"scatter3d\": [{\"line\": {\"colorbar\": {\"outlinewidth\": 0, \"ticks\": \"\"}}, \"marker\": {\"colorbar\": {\"outlinewidth\": 0, \"ticks\": \"\"}}, \"type\": \"scatter3d\"}], \"scattercarpet\": [{\"marker\": {\"colorbar\": {\"outlinewidth\": 0, \"ticks\": \"\"}}, \"type\": \"scattercarpet\"}], \"scattergeo\": [{\"marker\": {\"colorbar\": {\"outlinewidth\": 0, \"ticks\": \"\"}}, \"type\": \"scattergeo\"}], \"scattergl\": [{\"marker\": {\"colorbar\": {\"outlinewidth\": 0, \"ticks\": \"\"}}, \"type\": \"scattergl\"}], \"scattermapbox\": [{\"marker\": {\"colorbar\": {\"outlinewidth\": 0, \"ticks\": \"\"}}, \"type\": \"scattermapbox\"}], \"scatterpolar\": [{\"marker\": {\"colorbar\": {\"outlinewidth\": 0, \"ticks\": \"\"}}, \"type\": \"scatterpolar\"}], \"scatterpolargl\": [{\"marker\": {\"colorbar\": {\"outlinewidth\": 0, \"ticks\": \"\"}}, \"type\": \"scatterpolargl\"}], \"scatterternary\": [{\"marker\": {\"colorbar\": {\"outlinewidth\": 0, \"ticks\": \"\"}}, \"type\": \"scatterternary\"}], \"surface\": [{\"colorbar\": {\"outlinewidth\": 0, \"ticks\": \"\"}, \"colorscale\": [[0.0, \"#0d0887\"], [0.1111111111111111, \"#46039f\"], [0.2222222222222222, \"#7201a8\"], [0.3333333333333333, \"#9c179e\"], [0.4444444444444444, \"#bd3786\"], [0.5555555555555556, \"#d8576b\"], [0.6666666666666666, \"#ed7953\"], [0.7777777777777778, \"#fb9f3a\"], [0.8888888888888888, \"#fdca26\"], [1.0, \"#f0f921\"]], \"type\": \"surface\"}], \"table\": [{\"cells\": {\"fill\": {\"color\": \"#EBF0F8\"}, \"line\": {\"color\": \"white\"}}, \"header\": {\"fill\": {\"color\": \"#C8D4E3\"}, \"line\": {\"color\": \"white\"}}, \"type\": \"table\"}]}, \"layout\": {\"annotationdefaults\": {\"arrowcolor\": \"#2a3f5f\", \"arrowhead\": 0, \"arrowwidth\": 1}, \"autotypenumbers\": \"strict\", \"coloraxis\": {\"colorbar\": {\"outlinewidth\": 0, \"ticks\": \"\"}}, \"colorscale\": {\"diverging\": [[0, \"#8e0152\"], [0.1, \"#c51b7d\"], [0.2, \"#de77ae\"], [0.3, \"#f1b6da\"], [0.4, \"#fde0ef\"], [0.5, \"#f7f7f7\"], [0.6, \"#e6f5d0\"], [0.7, \"#b8e186\"], [0.8, \"#7fbc41\"], [0.9, \"#4d9221\"], [1, \"#276419\"]], \"sequential\": [[0.0, \"#0d0887\"], [0.1111111111111111, \"#46039f\"], [0.2222222222222222, \"#7201a8\"], [0.3333333333333333, \"#9c179e\"], [0.4444444444444444, \"#bd3786\"], [0.5555555555555556, \"#d8576b\"], [0.6666666666666666, \"#ed7953\"], [0.7777777777777778, \"#fb9f3a\"], [0.8888888888888888, \"#fdca26\"], [1.0, \"#f0f921\"]], \"sequentialminus\": [[0.0, \"#0d0887\"], [0.1111111111111111, \"#46039f\"], [0.2222222222222222, \"#7201a8\"], [0.3333333333333333, \"#9c179e\"], [0.4444444444444444, \"#bd3786\"], [0.5555555555555556, \"#d8576b\"], [0.6666666666666666, \"#ed7953\"], [0.7777777777777778, \"#fb9f3a\"], [0.8888888888888888, \"#fdca26\"], [1.0, \"#f0f921\"]]}, \"colorway\": [\"#636efa\", \"#EF553B\", \"#00cc96\", \"#ab63fa\", \"#FFA15A\", \"#19d3f3\", \"#FF6692\", \"#B6E880\", \"#FF97FF\", \"#FECB52\"], \"font\": {\"color\": \"#2a3f5f\"}, \"geo\": {\"bgcolor\": \"white\", \"lakecolor\": \"white\", \"landcolor\": \"#E5ECF6\", \"showlakes\": true, \"showland\": true, \"subunitcolor\": \"white\"}, \"hoverlabel\": {\"align\": \"left\"}, \"hovermode\": \"closest\", \"mapbox\": {\"style\": \"light\"}, \"paper_bgcolor\": \"white\", \"plot_bgcolor\": \"#E5ECF6\", \"polar\": {\"angularaxis\": {\"gridcolor\": \"white\", \"linecolor\": \"white\", \"ticks\": \"\"}, \"bgcolor\": \"#E5ECF6\", \"radialaxis\": {\"gridcolor\": \"white\", \"linecolor\": \"white\", \"ticks\": \"\"}}, \"scene\": {\"xaxis\": {\"backgroundcolor\": \"#E5ECF6\", \"gridcolor\": \"white\", \"gridwidth\": 2, \"linecolor\": \"white\", \"showbackground\": true, \"ticks\": \"\", \"zerolinecolor\": \"white\"}, \"yaxis\": {\"backgroundcolor\": \"#E5ECF6\", \"gridcolor\": \"white\", \"gridwidth\": 2, \"linecolor\": \"white\", \"showbackground\": true, \"ticks\": \"\", \"zerolinecolor\": \"white\"}, \"zaxis\": {\"backgroundcolor\": \"#E5ECF6\", \"gridcolor\": \"white\", \"gridwidth\": 2, \"linecolor\": \"white\", \"showbackground\": true, \"ticks\": \"\", \"zerolinecolor\": \"white\"}}, \"shapedefaults\": {\"line\": {\"color\": \"#2a3f5f\"}}, \"ternary\": {\"aaxis\": {\"gridcolor\": \"white\", \"linecolor\": \"white\", \"ticks\": \"\"}, \"baxis\": {\"gridcolor\": \"white\", \"linecolor\": \"white\", \"ticks\": \"\"}, \"bgcolor\": \"#E5ECF6\", \"caxis\": {\"gridcolor\": \"white\", \"linecolor\": \"white\", \"ticks\": \"\"}}, \"title\": {\"x\": 0.05}, \"xaxis\": {\"automargin\": true, \"gridcolor\": \"white\", \"linecolor\": \"white\", \"ticks\": \"\", \"title\": {\"standoff\": 15}, \"zerolinecolor\": \"white\", \"zerolinewidth\": 2}, \"yaxis\": {\"automargin\": true, \"gridcolor\": \"white\", \"linecolor\": \"white\", \"ticks\": \"\", \"title\": {\"standoff\": 15}, \"zerolinecolor\": \"white\", \"zerolinewidth\": 2}}}, \"title\": {\"text\": \"TRT da 3\\u00aa Regi\\u00e3o. Porcentagem de julgamentos favor\\u00e1veis <br>para cada uma das partes em rela\\u00e7\\u00e3o a cada Turma Recursal.\"}, \"width\": 1000},                        {\"responsive\": true}                    ).then(function(){\n",
       "                            \n",
       "var gd = document.getElementById('4adddd44-e86c-4f08-9a1f-c40849c97dce');\n",
       "var x = new MutationObserver(function (mutations, observer) {{\n",
       "        var display = window.getComputedStyle(gd).display;\n",
       "        if (!display || display === 'none') {{\n",
       "            console.log([gd, 'removed!']);\n",
       "            Plotly.purge(gd);\n",
       "            observer.disconnect();\n",
       "        }}\n",
       "}});\n",
       "\n",
       "// Listen for the removal of the full notebook cells\n",
       "var notebookContainer = gd.closest('#notebook-container');\n",
       "if (notebookContainer) {{\n",
       "    x.observe(notebookContainer, {childList: true});\n",
       "}}\n",
       "\n",
       "// Listen for the clearing of the current output cell\n",
       "var outputEl = gd.closest('.output');\n",
       "if (outputEl) {{\n",
       "    x.observe(outputEl, {childList: true});\n",
       "}}\n",
       "\n",
       "                        })                };                });            </script>        </div>"
      ]
     },
     "metadata": {},
     "output_type": "display_data"
    }
   ],
   "source": [
    "for i in range( len( orgaos ) ):\n",
    "    fig.add_annotation(\n",
    "            y= [ orgaos[i], tipo_parte[i] ],\n",
    "            x = ( percentuais_deferimento[i] ) - 10,\n",
    "            text=str( round( percentuais_deferimento[i], 2) )+\"%\",\n",
    "            showarrow=False,\n",
    "            font=dict(\n",
    "                    size=16,\n",
    "                    color=\"#ffffff\"\n",
    "                    ),\n",
    "            )\n",
    "\n",
    "fig.show()"
   ]
  },
  {
   "cell_type": "markdown",
   "metadata": {},
   "source": [
    "### Interpretação\n",
    "O gráfico anterior apresenta as porcentagens de deferimento em relação a cada Turma Recursal em relação a parte sendo empregado e empresa."
   ]
  },
  {
   "cell_type": "markdown",
   "metadata": {},
   "source": [
    "## Teste estatístico: Two proportion z-test e Teste de efeito estatístico: Cohen's H para cada Turma Recursal\n",
    "### Interpretação"
   ]
  },
  {
   "cell_type": "code",
   "execution_count": 118,
   "metadata": {},
   "outputs": [
    {
     "name": "stdout",
     "output_type": "stream",
     "text": [
      "=======================================> 1ª Turma\n",
      "Quantidade de processos analisados de EMPRESAS: 356\n",
      "Quantidade de processos analisados de EMPREGADOS: 702\n",
      "===> P-value: 0.0%\n",
      "SIM, apresenta diferença estatística entre a proporção de deferimentos para empregado e para empresa.\n",
      "===> Power: 100.0%\n",
      "Nível aceitável de força estatística. Risco baixo de ocorrer Type 2 error, ou seja, há risco baixo de não haver diferença entre as proporções (se foi encontrada diferença).\n",
      "===> Índice Cohen's H: 37.49%\n",
      "Diferença estatística pequena.\n",
      "\n",
      "=======================================> 2ª Turma\n",
      "Quantidade de processos analisados de EMPRESAS: 291\n",
      "Quantidade de processos analisados de EMPREGADOS: 615\n",
      "===> P-value: 40.09%\n",
      "NÃO, não apresenta diferença estatística entre a proporção de deferimentos para empregado e para empresa.\n",
      "===> Power: 17.89%\n",
      "Nível inaceitável de força estatística. Risco considerável de ocorrer Type 2 error, ou seja, há risco de não haver diferença entre as proporções (se foi encontrada diferença).\n",
      "===> Índice Cohen's H: 5.91%\n",
      "Diferença estatística insignificante.\n",
      "\n",
      "=======================================> 3ª Turma\n",
      "Quantidade de processos analisados de EMPRESAS: 252\n",
      "Quantidade de processos analisados de EMPREGADOS: 686\n",
      "===> P-value: 10.47%\n",
      "NÃO, não apresenta diferença estatística entre a proporção de deferimentos para empregado e para empresa.\n",
      "===> Power: 59.78%\n",
      "Nível inaceitável de força estatística. Risco considerável de ocorrer Type 2 error, ou seja, há risco de não haver diferença entre as proporções (se foi encontrada diferença).\n",
      "===> Índice Cohen's H: 11.93%\n",
      "Diferença estatística insignificante.\n",
      "\n",
      "=======================================> 4ª Turma\n",
      "Quantidade de processos analisados de EMPRESAS: 291\n",
      "Quantidade de processos analisados de EMPREGADOS: 640\n",
      "===> P-value: 0.14%\n",
      "SIM, apresenta diferença estatística entre a proporção de deferimentos para empregado e para empresa.\n",
      "===> Power: 98.03%\n",
      "Nível aceitável de força estatística. Risco baixo de ocorrer Type 2 error, ou seja, há risco baixo de não haver diferença entre as proporções (se foi encontrada diferença).\n",
      "===> Índice Cohen's H: 22.45%\n",
      "Diferença estatística pequena.\n",
      "\n",
      "=======================================> 5ª Turma\n",
      "Quantidade de processos analisados de EMPRESAS: 244\n",
      "Quantidade de processos analisados de EMPREGADOS: 645\n",
      "===> P-value: 34.95%\n",
      "NÃO, não apresenta diferença estatística entre a proporção de deferimentos para empregado e para empresa.\n",
      "===> Power: 23.72%\n",
      "Nível inaceitável de força estatística. Risco considerável de ocorrer Type 2 error, ou seja, há risco de não haver diferença entre as proporções (se foi encontrada diferença).\n",
      "===> Índice Cohen's H: 6.92%\n",
      "Diferença estatística insignificante.\n",
      "\n",
      "=======================================> 6ª Turma\n",
      "Quantidade de processos analisados de EMPRESAS: 281\n",
      "Quantidade de processos analisados de EMPREGADOS: 692\n",
      "===> P-value: 1.16%\n",
      "SIM, apresenta diferença estatística entre a proporção de deferimentos para empregado e para empresa.\n",
      "===> Power: 91.42%\n",
      "Nível aceitável de força estatística. Risco baixo de ocorrer Type 2 error, ou seja, há risco baixo de não haver diferença entre as proporções (se foi encontrada diferença).\n",
      "===> Índice Cohen's H: 17.88%\n",
      "Diferença estatística insignificante.\n",
      "\n",
      "=======================================> 7ª Turma\n",
      "Quantidade de processos analisados de EMPRESAS: 319\n",
      "Quantidade de processos analisados de EMPREGADOS: 706\n",
      "===> P-value: 0.0%\n",
      "SIM, apresenta diferença estatística entre a proporção de deferimentos para empregado e para empresa.\n",
      "===> Power: 100.0%\n",
      "Nível aceitável de força estatística. Risco baixo de ocorrer Type 2 error, ou seja, há risco baixo de não haver diferença entre as proporções (se foi encontrada diferença).\n",
      "===> Índice Cohen's H: 48.39%\n",
      "Diferença estatística pequena.\n",
      "\n",
      "=======================================> 8ª Turma\n",
      "Quantidade de processos analisados de EMPRESAS: 261\n",
      "Quantidade de processos analisados de EMPREGADOS: 589\n",
      "===> P-value: 7.62%\n",
      "NÃO, não apresenta diferença estatística entre a proporção de deferimentos para empregado e para empresa.\n",
      "===> Power: 62.05%\n",
      "Nível inaceitável de força estatística. Risco considerável de ocorrer Type 2 error, ou seja, há risco de não haver diferença entre as proporções (se foi encontrada diferença).\n",
      "===> Índice Cohen's H: 13.21%\n",
      "Diferença estatística insignificante.\n",
      "\n",
      "=======================================> 9ª Turma\n",
      "Quantidade de processos analisados de EMPRESAS: 246\n",
      "Quantidade de processos analisados de EMPREGADOS: 770\n",
      "===> P-value: 0.0%\n",
      "SIM, apresenta diferença estatística entre a proporção de deferimentos para empregado e para empresa.\n",
      "===> Power: 100.0%\n",
      "Nível aceitável de força estatística. Risco baixo de ocorrer Type 2 error, ou seja, há risco baixo de não haver diferença entre as proporções (se foi encontrada diferença).\n",
      "===> Índice Cohen's H: 58.03%\n",
      "Diferença estatística média.\n",
      "\n",
      "=======================================> 10ª Turma\n",
      "Quantidade de processos analisados de EMPRESAS: 295\n",
      "Quantidade de processos analisados de EMPREGADOS: 662\n",
      "===> P-value: 3.94%\n",
      "SIM, apresenta diferença estatística entre a proporção de deferimentos para empregado e para empresa.\n",
      "===> Power: 74.7%\n",
      "Nível inaceitável de força estatística. Risco considerável de ocorrer Type 2 error, ou seja, há risco de não haver diferença entre as proporções (se foi encontrada diferença).\n",
      "===> Índice Cohen's H: 14.43%\n",
      "Diferença estatística insignificante.\n",
      "\n",
      "=======================================> 11ª Turma\n",
      "Quantidade de processos analisados de EMPRESAS: 292\n",
      "Quantidade de processos analisados de EMPREGADOS: 642\n",
      "===> P-value: 0.0%\n",
      "SIM, apresenta diferença estatística entre a proporção de deferimentos para empregado e para empresa.\n",
      "===> Power: 100.0%\n",
      "Nível aceitável de força estatística. Risco baixo de ocorrer Type 2 error, ou seja, há risco baixo de não haver diferença entre as proporções (se foi encontrada diferença).\n",
      "===> Índice Cohen's H: 35.18%\n",
      "Diferença estatística pequena.\n",
      "\n"
     ]
    }
   ],
   "source": [
    "df_relatorio_trt3 = testes_estatisticos_turmas( \"TRT3\", df_quantidades_TRT3 )"
   ]
  },
  {
   "cell_type": "code",
   "execution_count": 119,
   "metadata": {},
   "outputs": [
    {
     "data": {
      "text/html": [
       "<div>\n",
       "<style scoped>\n",
       "    .dataframe tbody tr th:only-of-type {\n",
       "        vertical-align: middle;\n",
       "    }\n",
       "\n",
       "    .dataframe tbody tr th {\n",
       "        vertical-align: top;\n",
       "    }\n",
       "\n",
       "    .dataframe thead th {\n",
       "        text-align: right;\n",
       "    }\n",
       "</style>\n",
       "<table border=\"1\" class=\"dataframe\">\n",
       "  <thead>\n",
       "    <tr style=\"text-align: right;\">\n",
       "      <th></th>\n",
       "      <th>TRIBUNAL</th>\n",
       "      <th>TURMA RECURSAL</th>\n",
       "      <th>TOTAL DE PROCESSOS</th>\n",
       "      <th>PVALUE</th>\n",
       "      <th>PVALUE INTERPRETACAO</th>\n",
       "      <th>POWER</th>\n",
       "      <th>POWER INTERPRETAÇÃO</th>\n",
       "      <th>EFFECT</th>\n",
       "      <th>EFFECT INTERPRETACAO</th>\n",
       "    </tr>\n",
       "  </thead>\n",
       "  <tbody>\n",
       "    <tr>\n",
       "      <th>0</th>\n",
       "      <td>TRT3</td>\n",
       "      <td>1ª Turma</td>\n",
       "      <td>1058</td>\n",
       "      <td>0.0000</td>\n",
       "      <td>HÁ DIFERENÇA</td>\n",
       "      <td>1.0000</td>\n",
       "      <td>ACEITÁVEL</td>\n",
       "      <td>0.3749</td>\n",
       "      <td>PEQUENA</td>\n",
       "    </tr>\n",
       "    <tr>\n",
       "      <th>0</th>\n",
       "      <td>TRT3</td>\n",
       "      <td>2ª Turma</td>\n",
       "      <td>906</td>\n",
       "      <td>0.4009</td>\n",
       "      <td>NÃO HÁ DIFERENÇA</td>\n",
       "      <td>0.1789</td>\n",
       "      <td>INACEITÁVEL</td>\n",
       "      <td>0.0591</td>\n",
       "      <td>INSIGNIFICANTE</td>\n",
       "    </tr>\n",
       "    <tr>\n",
       "      <th>0</th>\n",
       "      <td>TRT3</td>\n",
       "      <td>3ª Turma</td>\n",
       "      <td>938</td>\n",
       "      <td>0.1047</td>\n",
       "      <td>NÃO HÁ DIFERENÇA</td>\n",
       "      <td>0.5978</td>\n",
       "      <td>INACEITÁVEL</td>\n",
       "      <td>0.1193</td>\n",
       "      <td>INSIGNIFICANTE</td>\n",
       "    </tr>\n",
       "    <tr>\n",
       "      <th>0</th>\n",
       "      <td>TRT3</td>\n",
       "      <td>4ª Turma</td>\n",
       "      <td>931</td>\n",
       "      <td>0.0014</td>\n",
       "      <td>HÁ DIFERENÇA</td>\n",
       "      <td>0.9803</td>\n",
       "      <td>ACEITÁVEL</td>\n",
       "      <td>0.2245</td>\n",
       "      <td>PEQUENA</td>\n",
       "    </tr>\n",
       "    <tr>\n",
       "      <th>0</th>\n",
       "      <td>TRT3</td>\n",
       "      <td>5ª Turma</td>\n",
       "      <td>889</td>\n",
       "      <td>0.3495</td>\n",
       "      <td>NÃO HÁ DIFERENÇA</td>\n",
       "      <td>0.2372</td>\n",
       "      <td>INACEITÁVEL</td>\n",
       "      <td>0.0692</td>\n",
       "      <td>INSIGNIFICANTE</td>\n",
       "    </tr>\n",
       "    <tr>\n",
       "      <th>0</th>\n",
       "      <td>TRT3</td>\n",
       "      <td>6ª Turma</td>\n",
       "      <td>973</td>\n",
       "      <td>0.0116</td>\n",
       "      <td>HÁ DIFERENÇA</td>\n",
       "      <td>0.9142</td>\n",
       "      <td>ACEITÁVEL</td>\n",
       "      <td>0.1788</td>\n",
       "      <td>INSIGNIFICANTE</td>\n",
       "    </tr>\n",
       "    <tr>\n",
       "      <th>0</th>\n",
       "      <td>TRT3</td>\n",
       "      <td>7ª Turma</td>\n",
       "      <td>1025</td>\n",
       "      <td>0.0000</td>\n",
       "      <td>HÁ DIFERENÇA</td>\n",
       "      <td>1.0000</td>\n",
       "      <td>ACEITÁVEL</td>\n",
       "      <td>0.4839</td>\n",
       "      <td>PEQUENA</td>\n",
       "    </tr>\n",
       "    <tr>\n",
       "      <th>0</th>\n",
       "      <td>TRT3</td>\n",
       "      <td>8ª Turma</td>\n",
       "      <td>850</td>\n",
       "      <td>0.0762</td>\n",
       "      <td>NÃO HÁ DIFERENÇA</td>\n",
       "      <td>0.6205</td>\n",
       "      <td>INACEITÁVEL</td>\n",
       "      <td>0.1321</td>\n",
       "      <td>INSIGNIFICANTE</td>\n",
       "    </tr>\n",
       "    <tr>\n",
       "      <th>0</th>\n",
       "      <td>TRT3</td>\n",
       "      <td>9ª Turma</td>\n",
       "      <td>1016</td>\n",
       "      <td>0.0000</td>\n",
       "      <td>HÁ DIFERENÇA</td>\n",
       "      <td>1.0000</td>\n",
       "      <td>ACEITÁVEL</td>\n",
       "      <td>0.5803</td>\n",
       "      <td>MÉDIA</td>\n",
       "    </tr>\n",
       "    <tr>\n",
       "      <th>0</th>\n",
       "      <td>TRT3</td>\n",
       "      <td>10ª Turma</td>\n",
       "      <td>957</td>\n",
       "      <td>0.0394</td>\n",
       "      <td>HÁ DIFERENÇA</td>\n",
       "      <td>0.7470</td>\n",
       "      <td>INACEITÁVEL</td>\n",
       "      <td>0.1443</td>\n",
       "      <td>INSIGNIFICANTE</td>\n",
       "    </tr>\n",
       "    <tr>\n",
       "      <th>0</th>\n",
       "      <td>TRT3</td>\n",
       "      <td>11ª Turma</td>\n",
       "      <td>934</td>\n",
       "      <td>0.0000</td>\n",
       "      <td>HÁ DIFERENÇA</td>\n",
       "      <td>1.0000</td>\n",
       "      <td>ACEITÁVEL</td>\n",
       "      <td>0.3518</td>\n",
       "      <td>PEQUENA</td>\n",
       "    </tr>\n",
       "  </tbody>\n",
       "</table>\n",
       "</div>"
      ],
      "text/plain": [
       "  TRIBUNAL TURMA RECURSAL  TOTAL DE PROCESSOS  PVALUE PVALUE INTERPRETACAO  \\\n",
       "0     TRT3       1ª Turma                1058  0.0000         HÁ DIFERENÇA   \n",
       "0     TRT3       2ª Turma                 906  0.4009     NÃO HÁ DIFERENÇA   \n",
       "0     TRT3       3ª Turma                 938  0.1047     NÃO HÁ DIFERENÇA   \n",
       "0     TRT3       4ª Turma                 931  0.0014         HÁ DIFERENÇA   \n",
       "0     TRT3       5ª Turma                 889  0.3495     NÃO HÁ DIFERENÇA   \n",
       "0     TRT3       6ª Turma                 973  0.0116         HÁ DIFERENÇA   \n",
       "0     TRT3       7ª Turma                1025  0.0000         HÁ DIFERENÇA   \n",
       "0     TRT3       8ª Turma                 850  0.0762     NÃO HÁ DIFERENÇA   \n",
       "0     TRT3       9ª Turma                1016  0.0000         HÁ DIFERENÇA   \n",
       "0     TRT3      10ª Turma                 957  0.0394         HÁ DIFERENÇA   \n",
       "0     TRT3      11ª Turma                 934  0.0000         HÁ DIFERENÇA   \n",
       "\n",
       "    POWER POWER INTERPRETAÇÃO  EFFECT EFFECT INTERPRETACAO  \n",
       "0  1.0000           ACEITÁVEL  0.3749              PEQUENA  \n",
       "0  0.1789         INACEITÁVEL  0.0591       INSIGNIFICANTE  \n",
       "0  0.5978         INACEITÁVEL  0.1193       INSIGNIFICANTE  \n",
       "0  0.9803           ACEITÁVEL  0.2245              PEQUENA  \n",
       "0  0.2372         INACEITÁVEL  0.0692       INSIGNIFICANTE  \n",
       "0  0.9142           ACEITÁVEL  0.1788       INSIGNIFICANTE  \n",
       "0  1.0000           ACEITÁVEL  0.4839              PEQUENA  \n",
       "0  0.6205         INACEITÁVEL  0.1321       INSIGNIFICANTE  \n",
       "0  1.0000           ACEITÁVEL  0.5803                MÉDIA  \n",
       "0  0.7470         INACEITÁVEL  0.1443       INSIGNIFICANTE  \n",
       "0  1.0000           ACEITÁVEL  0.3518              PEQUENA  "
      ]
     },
     "execution_count": 119,
     "metadata": {},
     "output_type": "execute_result"
    }
   ],
   "source": [
    "df_relatorio_trt3"
   ]
  },
  {
   "cell_type": "code",
   "execution_count": 123,
   "metadata": {},
   "outputs": [],
   "source": [
    "df_relatorio_trt3.to_csv(\"df_relatorio_trt3.csv\", sep=',', encoding='utf-8', quotechar='\"', decimal=',')"
   ]
  },
  {
   "cell_type": "code",
   "execution_count": 120,
   "metadata": {},
   "outputs": [
    {
     "data": {
      "text/html": [
       "<div>\n",
       "<style scoped>\n",
       "    .dataframe tbody tr th:only-of-type {\n",
       "        vertical-align: middle;\n",
       "    }\n",
       "\n",
       "    .dataframe tbody tr th {\n",
       "        vertical-align: top;\n",
       "    }\n",
       "\n",
       "    .dataframe thead th {\n",
       "        text-align: right;\n",
       "    }\n",
       "</style>\n",
       "<table border=\"1\" class=\"dataframe\">\n",
       "  <thead>\n",
       "    <tr style=\"text-align: right;\">\n",
       "      <th></th>\n",
       "      <th>TOTAL DE PROCESSOS</th>\n",
       "      <th>PVALUE</th>\n",
       "      <th>POWER</th>\n",
       "      <th>EFFECT</th>\n",
       "    </tr>\n",
       "  </thead>\n",
       "  <tbody>\n",
       "    <tr>\n",
       "      <th>count</th>\n",
       "      <td>11.000000</td>\n",
       "      <td>11.000000</td>\n",
       "      <td>11.000000</td>\n",
       "      <td>11.000000</td>\n",
       "    </tr>\n",
       "    <tr>\n",
       "      <th>mean</th>\n",
       "      <td>952.454545</td>\n",
       "      <td>0.089427</td>\n",
       "      <td>0.752355</td>\n",
       "      <td>0.247109</td>\n",
       "    </tr>\n",
       "    <tr>\n",
       "      <th>std</th>\n",
       "      <td>62.108556</td>\n",
       "      <td>0.146068</td>\n",
       "      <td>0.309678</td>\n",
       "      <td>0.175124</td>\n",
       "    </tr>\n",
       "    <tr>\n",
       "      <th>min</th>\n",
       "      <td>850.000000</td>\n",
       "      <td>0.000000</td>\n",
       "      <td>0.178900</td>\n",
       "      <td>0.059100</td>\n",
       "    </tr>\n",
       "    <tr>\n",
       "      <th>25%</th>\n",
       "      <td>918.500000</td>\n",
       "      <td>0.000000</td>\n",
       "      <td>0.609150</td>\n",
       "      <td>0.125700</td>\n",
       "    </tr>\n",
       "    <tr>\n",
       "      <th>50%</th>\n",
       "      <td>938.000000</td>\n",
       "      <td>0.011600</td>\n",
       "      <td>0.914200</td>\n",
       "      <td>0.178800</td>\n",
       "    </tr>\n",
       "    <tr>\n",
       "      <th>75%</th>\n",
       "      <td>994.500000</td>\n",
       "      <td>0.090450</td>\n",
       "      <td>1.000000</td>\n",
       "      <td>0.363350</td>\n",
       "    </tr>\n",
       "    <tr>\n",
       "      <th>max</th>\n",
       "      <td>1058.000000</td>\n",
       "      <td>0.400900</td>\n",
       "      <td>1.000000</td>\n",
       "      <td>0.580300</td>\n",
       "    </tr>\n",
       "  </tbody>\n",
       "</table>\n",
       "</div>"
      ],
      "text/plain": [
       "       TOTAL DE PROCESSOS     PVALUE      POWER     EFFECT\n",
       "count           11.000000  11.000000  11.000000  11.000000\n",
       "mean           952.454545   0.089427   0.752355   0.247109\n",
       "std             62.108556   0.146068   0.309678   0.175124\n",
       "min            850.000000   0.000000   0.178900   0.059100\n",
       "25%            918.500000   0.000000   0.609150   0.125700\n",
       "50%            938.000000   0.011600   0.914200   0.178800\n",
       "75%            994.500000   0.090450   1.000000   0.363350\n",
       "max           1058.000000   0.400900   1.000000   0.580300"
      ]
     },
     "execution_count": 120,
     "metadata": {},
     "output_type": "execute_result"
    }
   ],
   "source": [
    "df_relatorio_trt3.describe()"
   ]
  },
  {
   "cell_type": "code",
   "execution_count": 121,
   "metadata": {},
   "outputs": [
    {
     "data": {
      "application/vnd.plotly.v1+json": {
       "config": {
        "plotlyServerURL": "https://plot.ly"
       },
       "data": [
        {
         "name": "PVALUE INTERPRETACAO",
         "type": "histogram",
         "x": [
          "HÁ DIFERENÇA",
          "NÃO HÁ DIFERENÇA",
          "NÃO HÁ DIFERENÇA",
          "HÁ DIFERENÇA",
          "NÃO HÁ DIFERENÇA",
          "HÁ DIFERENÇA",
          "HÁ DIFERENÇA",
          "NÃO HÁ DIFERENÇA",
          "HÁ DIFERENÇA",
          "HÁ DIFERENÇA",
          "HÁ DIFERENÇA"
         ]
        },
        {
         "name": "POWER INTERPRETAÇÃO",
         "type": "histogram",
         "x": [
          "ACEITÁVEL",
          "INACEITÁVEL",
          "INACEITÁVEL",
          "ACEITÁVEL",
          "INACEITÁVEL",
          "ACEITÁVEL",
          "ACEITÁVEL",
          "INACEITÁVEL",
          "ACEITÁVEL",
          "INACEITÁVEL",
          "ACEITÁVEL"
         ]
        },
        {
         "name": "EFFEC INTERPRETACAO",
         "type": "histogram",
         "x": [
          "PEQUENA",
          "INSIGNIFICANTE",
          "INSIGNIFICANTE",
          "PEQUENA",
          "INSIGNIFICANTE",
          "INSIGNIFICANTE",
          "PEQUENA",
          "INSIGNIFICANTE",
          "MÉDIA",
          "INSIGNIFICANTE",
          "PEQUENA"
         ]
        }
       ],
       "layout": {
        "autosize": true,
        "template": {
         "data": {
          "bar": [
           {
            "error_x": {
             "color": "#2a3f5f"
            },
            "error_y": {
             "color": "#2a3f5f"
            },
            "marker": {
             "line": {
              "color": "#E5ECF6",
              "width": 0.5
             }
            },
            "type": "bar"
           }
          ],
          "barpolar": [
           {
            "marker": {
             "line": {
              "color": "#E5ECF6",
              "width": 0.5
             }
            },
            "type": "barpolar"
           }
          ],
          "carpet": [
           {
            "aaxis": {
             "endlinecolor": "#2a3f5f",
             "gridcolor": "white",
             "linecolor": "white",
             "minorgridcolor": "white",
             "startlinecolor": "#2a3f5f"
            },
            "baxis": {
             "endlinecolor": "#2a3f5f",
             "gridcolor": "white",
             "linecolor": "white",
             "minorgridcolor": "white",
             "startlinecolor": "#2a3f5f"
            },
            "type": "carpet"
           }
          ],
          "choropleth": [
           {
            "colorbar": {
             "outlinewidth": 0,
             "ticks": ""
            },
            "type": "choropleth"
           }
          ],
          "contour": [
           {
            "colorbar": {
             "outlinewidth": 0,
             "ticks": ""
            },
            "colorscale": [
             [
              0,
              "#0d0887"
             ],
             [
              0.1111111111111111,
              "#46039f"
             ],
             [
              0.2222222222222222,
              "#7201a8"
             ],
             [
              0.3333333333333333,
              "#9c179e"
             ],
             [
              0.4444444444444444,
              "#bd3786"
             ],
             [
              0.5555555555555556,
              "#d8576b"
             ],
             [
              0.6666666666666666,
              "#ed7953"
             ],
             [
              0.7777777777777778,
              "#fb9f3a"
             ],
             [
              0.8888888888888888,
              "#fdca26"
             ],
             [
              1,
              "#f0f921"
             ]
            ],
            "type": "contour"
           }
          ],
          "contourcarpet": [
           {
            "colorbar": {
             "outlinewidth": 0,
             "ticks": ""
            },
            "type": "contourcarpet"
           }
          ],
          "heatmap": [
           {
            "colorbar": {
             "outlinewidth": 0,
             "ticks": ""
            },
            "colorscale": [
             [
              0,
              "#0d0887"
             ],
             [
              0.1111111111111111,
              "#46039f"
             ],
             [
              0.2222222222222222,
              "#7201a8"
             ],
             [
              0.3333333333333333,
              "#9c179e"
             ],
             [
              0.4444444444444444,
              "#bd3786"
             ],
             [
              0.5555555555555556,
              "#d8576b"
             ],
             [
              0.6666666666666666,
              "#ed7953"
             ],
             [
              0.7777777777777778,
              "#fb9f3a"
             ],
             [
              0.8888888888888888,
              "#fdca26"
             ],
             [
              1,
              "#f0f921"
             ]
            ],
            "type": "heatmap"
           }
          ],
          "heatmapgl": [
           {
            "colorbar": {
             "outlinewidth": 0,
             "ticks": ""
            },
            "colorscale": [
             [
              0,
              "#0d0887"
             ],
             [
              0.1111111111111111,
              "#46039f"
             ],
             [
              0.2222222222222222,
              "#7201a8"
             ],
             [
              0.3333333333333333,
              "#9c179e"
             ],
             [
              0.4444444444444444,
              "#bd3786"
             ],
             [
              0.5555555555555556,
              "#d8576b"
             ],
             [
              0.6666666666666666,
              "#ed7953"
             ],
             [
              0.7777777777777778,
              "#fb9f3a"
             ],
             [
              0.8888888888888888,
              "#fdca26"
             ],
             [
              1,
              "#f0f921"
             ]
            ],
            "type": "heatmapgl"
           }
          ],
          "histogram": [
           {
            "marker": {
             "colorbar": {
              "outlinewidth": 0,
              "ticks": ""
             }
            },
            "type": "histogram"
           }
          ],
          "histogram2d": [
           {
            "colorbar": {
             "outlinewidth": 0,
             "ticks": ""
            },
            "colorscale": [
             [
              0,
              "#0d0887"
             ],
             [
              0.1111111111111111,
              "#46039f"
             ],
             [
              0.2222222222222222,
              "#7201a8"
             ],
             [
              0.3333333333333333,
              "#9c179e"
             ],
             [
              0.4444444444444444,
              "#bd3786"
             ],
             [
              0.5555555555555556,
              "#d8576b"
             ],
             [
              0.6666666666666666,
              "#ed7953"
             ],
             [
              0.7777777777777778,
              "#fb9f3a"
             ],
             [
              0.8888888888888888,
              "#fdca26"
             ],
             [
              1,
              "#f0f921"
             ]
            ],
            "type": "histogram2d"
           }
          ],
          "histogram2dcontour": [
           {
            "colorbar": {
             "outlinewidth": 0,
             "ticks": ""
            },
            "colorscale": [
             [
              0,
              "#0d0887"
             ],
             [
              0.1111111111111111,
              "#46039f"
             ],
             [
              0.2222222222222222,
              "#7201a8"
             ],
             [
              0.3333333333333333,
              "#9c179e"
             ],
             [
              0.4444444444444444,
              "#bd3786"
             ],
             [
              0.5555555555555556,
              "#d8576b"
             ],
             [
              0.6666666666666666,
              "#ed7953"
             ],
             [
              0.7777777777777778,
              "#fb9f3a"
             ],
             [
              0.8888888888888888,
              "#fdca26"
             ],
             [
              1,
              "#f0f921"
             ]
            ],
            "type": "histogram2dcontour"
           }
          ],
          "mesh3d": [
           {
            "colorbar": {
             "outlinewidth": 0,
             "ticks": ""
            },
            "type": "mesh3d"
           }
          ],
          "parcoords": [
           {
            "line": {
             "colorbar": {
              "outlinewidth": 0,
              "ticks": ""
             }
            },
            "type": "parcoords"
           }
          ],
          "pie": [
           {
            "automargin": true,
            "type": "pie"
           }
          ],
          "scatter": [
           {
            "marker": {
             "colorbar": {
              "outlinewidth": 0,
              "ticks": ""
             }
            },
            "type": "scatter"
           }
          ],
          "scatter3d": [
           {
            "line": {
             "colorbar": {
              "outlinewidth": 0,
              "ticks": ""
             }
            },
            "marker": {
             "colorbar": {
              "outlinewidth": 0,
              "ticks": ""
             }
            },
            "type": "scatter3d"
           }
          ],
          "scattercarpet": [
           {
            "marker": {
             "colorbar": {
              "outlinewidth": 0,
              "ticks": ""
             }
            },
            "type": "scattercarpet"
           }
          ],
          "scattergeo": [
           {
            "marker": {
             "colorbar": {
              "outlinewidth": 0,
              "ticks": ""
             }
            },
            "type": "scattergeo"
           }
          ],
          "scattergl": [
           {
            "marker": {
             "colorbar": {
              "outlinewidth": 0,
              "ticks": ""
             }
            },
            "type": "scattergl"
           }
          ],
          "scattermapbox": [
           {
            "marker": {
             "colorbar": {
              "outlinewidth": 0,
              "ticks": ""
             }
            },
            "type": "scattermapbox"
           }
          ],
          "scatterpolar": [
           {
            "marker": {
             "colorbar": {
              "outlinewidth": 0,
              "ticks": ""
             }
            },
            "type": "scatterpolar"
           }
          ],
          "scatterpolargl": [
           {
            "marker": {
             "colorbar": {
              "outlinewidth": 0,
              "ticks": ""
             }
            },
            "type": "scatterpolargl"
           }
          ],
          "scatterternary": [
           {
            "marker": {
             "colorbar": {
              "outlinewidth": 0,
              "ticks": ""
             }
            },
            "type": "scatterternary"
           }
          ],
          "surface": [
           {
            "colorbar": {
             "outlinewidth": 0,
             "ticks": ""
            },
            "colorscale": [
             [
              0,
              "#0d0887"
             ],
             [
              0.1111111111111111,
              "#46039f"
             ],
             [
              0.2222222222222222,
              "#7201a8"
             ],
             [
              0.3333333333333333,
              "#9c179e"
             ],
             [
              0.4444444444444444,
              "#bd3786"
             ],
             [
              0.5555555555555556,
              "#d8576b"
             ],
             [
              0.6666666666666666,
              "#ed7953"
             ],
             [
              0.7777777777777778,
              "#fb9f3a"
             ],
             [
              0.8888888888888888,
              "#fdca26"
             ],
             [
              1,
              "#f0f921"
             ]
            ],
            "type": "surface"
           }
          ],
          "table": [
           {
            "cells": {
             "fill": {
              "color": "#EBF0F8"
             },
             "line": {
              "color": "white"
             }
            },
            "header": {
             "fill": {
              "color": "#C8D4E3"
             },
             "line": {
              "color": "white"
             }
            },
            "type": "table"
           }
          ]
         },
         "layout": {
          "annotationdefaults": {
           "arrowcolor": "#2a3f5f",
           "arrowhead": 0,
           "arrowwidth": 1
          },
          "autotypenumbers": "strict",
          "coloraxis": {
           "colorbar": {
            "outlinewidth": 0,
            "ticks": ""
           }
          },
          "colorscale": {
           "diverging": [
            [
             0,
             "#8e0152"
            ],
            [
             0.1,
             "#c51b7d"
            ],
            [
             0.2,
             "#de77ae"
            ],
            [
             0.3,
             "#f1b6da"
            ],
            [
             0.4,
             "#fde0ef"
            ],
            [
             0.5,
             "#f7f7f7"
            ],
            [
             0.6,
             "#e6f5d0"
            ],
            [
             0.7,
             "#b8e186"
            ],
            [
             0.8,
             "#7fbc41"
            ],
            [
             0.9,
             "#4d9221"
            ],
            [
             1,
             "#276419"
            ]
           ],
           "sequential": [
            [
             0,
             "#0d0887"
            ],
            [
             0.1111111111111111,
             "#46039f"
            ],
            [
             0.2222222222222222,
             "#7201a8"
            ],
            [
             0.3333333333333333,
             "#9c179e"
            ],
            [
             0.4444444444444444,
             "#bd3786"
            ],
            [
             0.5555555555555556,
             "#d8576b"
            ],
            [
             0.6666666666666666,
             "#ed7953"
            ],
            [
             0.7777777777777778,
             "#fb9f3a"
            ],
            [
             0.8888888888888888,
             "#fdca26"
            ],
            [
             1,
             "#f0f921"
            ]
           ],
           "sequentialminus": [
            [
             0,
             "#0d0887"
            ],
            [
             0.1111111111111111,
             "#46039f"
            ],
            [
             0.2222222222222222,
             "#7201a8"
            ],
            [
             0.3333333333333333,
             "#9c179e"
            ],
            [
             0.4444444444444444,
             "#bd3786"
            ],
            [
             0.5555555555555556,
             "#d8576b"
            ],
            [
             0.6666666666666666,
             "#ed7953"
            ],
            [
             0.7777777777777778,
             "#fb9f3a"
            ],
            [
             0.8888888888888888,
             "#fdca26"
            ],
            [
             1,
             "#f0f921"
            ]
           ]
          },
          "colorway": [
           "#636efa",
           "#EF553B",
           "#00cc96",
           "#ab63fa",
           "#FFA15A",
           "#19d3f3",
           "#FF6692",
           "#B6E880",
           "#FF97FF",
           "#FECB52"
          ],
          "font": {
           "color": "#2a3f5f"
          },
          "geo": {
           "bgcolor": "white",
           "lakecolor": "white",
           "landcolor": "#E5ECF6",
           "showlakes": true,
           "showland": true,
           "subunitcolor": "white"
          },
          "hoverlabel": {
           "align": "left"
          },
          "hovermode": "closest",
          "mapbox": {
           "style": "light"
          },
          "paper_bgcolor": "white",
          "plot_bgcolor": "#E5ECF6",
          "polar": {
           "angularaxis": {
            "gridcolor": "white",
            "linecolor": "white",
            "ticks": ""
           },
           "bgcolor": "#E5ECF6",
           "radialaxis": {
            "gridcolor": "white",
            "linecolor": "white",
            "ticks": ""
           }
          },
          "scene": {
           "xaxis": {
            "backgroundcolor": "#E5ECF6",
            "gridcolor": "white",
            "gridwidth": 2,
            "linecolor": "white",
            "showbackground": true,
            "ticks": "",
            "zerolinecolor": "white"
           },
           "yaxis": {
            "backgroundcolor": "#E5ECF6",
            "gridcolor": "white",
            "gridwidth": 2,
            "linecolor": "white",
            "showbackground": true,
            "ticks": "",
            "zerolinecolor": "white"
           },
           "zaxis": {
            "backgroundcolor": "#E5ECF6",
            "gridcolor": "white",
            "gridwidth": 2,
            "linecolor": "white",
            "showbackground": true,
            "ticks": "",
            "zerolinecolor": "white"
           }
          },
          "shapedefaults": {
           "line": {
            "color": "#2a3f5f"
           }
          },
          "ternary": {
           "aaxis": {
            "gridcolor": "white",
            "linecolor": "white",
            "ticks": ""
           },
           "baxis": {
            "gridcolor": "white",
            "linecolor": "white",
            "ticks": ""
           },
           "bgcolor": "#E5ECF6",
           "caxis": {
            "gridcolor": "white",
            "linecolor": "white",
            "ticks": ""
           }
          },
          "title": {
           "x": 0.05
          },
          "xaxis": {
           "automargin": true,
           "gridcolor": "white",
           "linecolor": "white",
           "ticks": "",
           "title": {
            "standoff": 15
           },
           "zerolinecolor": "white",
           "zerolinewidth": 2
          },
          "yaxis": {
           "automargin": true,
           "gridcolor": "white",
           "linecolor": "white",
           "ticks": "",
           "title": {
            "standoff": 15
           },
           "zerolinecolor": "white",
           "zerolinewidth": 2
          }
         }
        },
        "title": {
         "text": "TRT da 3ª Região. Quantidade de Turmas Recursais em cada categoria de propriedade estatística."
        },
        "xaxis": {
         "autorange": true,
         "range": [
          -0.5,
          6.5
         ],
         "type": "category"
        },
        "yaxis": {
         "autorange": true,
         "range": [
          0,
          7.368421052631579
         ]
        }
       }
      },
      "image/png": "[encoded data removed]",
      "text/html": [
       "<div>                            <div id=\"6f374c58-b06d-40e8-98ad-29b8a5eb570e\" class=\"plotly-graph-div\" style=\"height:500px; width:100%;\"></div>            <script type=\"text/javascript\">                require([\"plotly\"], function(Plotly) {                    window.PLOTLYENV=window.PLOTLYENV || {};                                    if (document.getElementById(\"6f374c58-b06d-40e8-98ad-29b8a5eb570e\")) {                    Plotly.newPlot(                        \"6f374c58-b06d-40e8-98ad-29b8a5eb570e\",                        [{\"name\": \"PVALUE INTERPRETACAO\", \"type\": \"histogram\", \"x\": [\"H\\u00c1 DIFEREN\\u00c7A\", \"N\\u00c3O H\\u00c1 DIFEREN\\u00c7A\", \"N\\u00c3O H\\u00c1 DIFEREN\\u00c7A\", \"H\\u00c1 DIFEREN\\u00c7A\", \"N\\u00c3O H\\u00c1 DIFEREN\\u00c7A\", \"H\\u00c1 DIFEREN\\u00c7A\", \"H\\u00c1 DIFEREN\\u00c7A\", \"N\\u00c3O H\\u00c1 DIFEREN\\u00c7A\", \"H\\u00c1 DIFEREN\\u00c7A\", \"H\\u00c1 DIFEREN\\u00c7A\", \"H\\u00c1 DIFEREN\\u00c7A\"]}, {\"name\": \"POWER INTERPRETA\\u00c7\\u00c3O\", \"type\": \"histogram\", \"x\": [\"ACEIT\\u00c1VEL\", \"INACEIT\\u00c1VEL\", \"INACEIT\\u00c1VEL\", \"ACEIT\\u00c1VEL\", \"INACEIT\\u00c1VEL\", \"ACEIT\\u00c1VEL\", \"ACEIT\\u00c1VEL\", \"INACEIT\\u00c1VEL\", \"ACEIT\\u00c1VEL\", \"INACEIT\\u00c1VEL\", \"ACEIT\\u00c1VEL\"]}, {\"name\": \"EFFEC INTERPRETACAO\", \"type\": \"histogram\", \"x\": [\"PEQUENA\", \"INSIGNIFICANTE\", \"INSIGNIFICANTE\", \"PEQUENA\", \"INSIGNIFICANTE\", \"INSIGNIFICANTE\", \"PEQUENA\", \"INSIGNIFICANTE\", \"M\\u00c9DIA\", \"INSIGNIFICANTE\", \"PEQUENA\"]}],                        {\"height\": 500, \"template\": {\"data\": {\"bar\": [{\"error_x\": {\"color\": \"#2a3f5f\"}, \"error_y\": {\"color\": \"#2a3f5f\"}, \"marker\": {\"line\": {\"color\": \"#E5ECF6\", \"width\": 0.5}}, \"type\": \"bar\"}], \"barpolar\": [{\"marker\": {\"line\": {\"color\": \"#E5ECF6\", \"width\": 0.5}}, \"type\": \"barpolar\"}], \"carpet\": [{\"aaxis\": {\"endlinecolor\": \"#2a3f5f\", \"gridcolor\": \"white\", \"linecolor\": \"white\", \"minorgridcolor\": \"white\", \"startlinecolor\": \"#2a3f5f\"}, \"baxis\": {\"endlinecolor\": \"#2a3f5f\", \"gridcolor\": \"white\", \"linecolor\": \"white\", \"minorgridcolor\": \"white\", \"startlinecolor\": \"#2a3f5f\"}, \"type\": \"carpet\"}], \"choropleth\": [{\"colorbar\": {\"outlinewidth\": 0, \"ticks\": \"\"}, \"type\": \"choropleth\"}], \"contour\": [{\"colorbar\": {\"outlinewidth\": 0, \"ticks\": \"\"}, \"colorscale\": [[0.0, \"#0d0887\"], [0.1111111111111111, \"#46039f\"], [0.2222222222222222, \"#7201a8\"], [0.3333333333333333, \"#9c179e\"], [0.4444444444444444, \"#bd3786\"], [0.5555555555555556, \"#d8576b\"], [0.6666666666666666, \"#ed7953\"], [0.7777777777777778, \"#fb9f3a\"], [0.8888888888888888, \"#fdca26\"], [1.0, \"#f0f921\"]], \"type\": \"contour\"}], \"contourcarpet\": [{\"colorbar\": {\"outlinewidth\": 0, \"ticks\": \"\"}, \"type\": \"contourcarpet\"}], \"heatmap\": [{\"colorbar\": {\"outlinewidth\": 0, \"ticks\": \"\"}, \"colorscale\": [[0.0, \"#0d0887\"], [0.1111111111111111, \"#46039f\"], [0.2222222222222222, \"#7201a8\"], [0.3333333333333333, \"#9c179e\"], [0.4444444444444444, \"#bd3786\"], [0.5555555555555556, \"#d8576b\"], [0.6666666666666666, \"#ed7953\"], [0.7777777777777778, \"#fb9f3a\"], [0.8888888888888888, \"#fdca26\"], [1.0, \"#f0f921\"]], \"type\": \"heatmap\"}], \"heatmapgl\": [{\"colorbar\": {\"outlinewidth\": 0, \"ticks\": \"\"}, \"colorscale\": [[0.0, \"#0d0887\"], [0.1111111111111111, \"#46039f\"], [0.2222222222222222, \"#7201a8\"], [0.3333333333333333, \"#9c179e\"], [0.4444444444444444, \"#bd3786\"], [0.5555555555555556, \"#d8576b\"], [0.6666666666666666, \"#ed7953\"], [0.7777777777777778, \"#fb9f3a\"], [0.8888888888888888, \"#fdca26\"], [1.0, \"#f0f921\"]], \"type\": \"heatmapgl\"}], \"histogram\": [{\"marker\": {\"colorbar\": {\"outlinewidth\": 0, \"ticks\": \"\"}}, \"type\": \"histogram\"}], \"histogram2d\": [{\"colorbar\": {\"outlinewidth\": 0, \"ticks\": \"\"}, \"colorscale\": [[0.0, \"#0d0887\"], [0.1111111111111111, \"#46039f\"], [0.2222222222222222, \"#7201a8\"], [0.3333333333333333, \"#9c179e\"], [0.4444444444444444, \"#bd3786\"], [0.5555555555555556, \"#d8576b\"], [0.6666666666666666, \"#ed7953\"], [0.7777777777777778, \"#fb9f3a\"], [0.8888888888888888, \"#fdca26\"], [1.0, \"#f0f921\"]], \"type\": \"histogram2d\"}], \"histogram2dcontour\": [{\"colorbar\": {\"outlinewidth\": 0, \"ticks\": \"\"}, \"colorscale\": [[0.0, \"#0d0887\"], [0.1111111111111111, \"#46039f\"], [0.2222222222222222, \"#7201a8\"], [0.3333333333333333, \"#9c179e\"], [0.4444444444444444, \"#bd3786\"], [0.5555555555555556, \"#d8576b\"], [0.6666666666666666, \"#ed7953\"], [0.7777777777777778, \"#fb9f3a\"], [0.8888888888888888, \"#fdca26\"], [1.0, \"#f0f921\"]], \"type\": \"histogram2dcontour\"}], \"mesh3d\": [{\"colorbar\": {\"outlinewidth\": 0, \"ticks\": \"\"}, \"type\": \"mesh3d\"}], \"parcoords\": [{\"line\": {\"colorbar\": {\"outlinewidth\": 0, \"ticks\": \"\"}}, \"type\": \"parcoords\"}], \"pie\": [{\"automargin\": true, \"type\": \"pie\"}], \"scatter\": [{\"marker\": {\"colorbar\": {\"outlinewidth\": 0, \"ticks\": \"\"}}, \"type\": \"scatter\"}], \"scatter3d\": [{\"line\": {\"colorbar\": {\"outlinewidth\": 0, \"ticks\": \"\"}}, \"marker\": {\"colorbar\": {\"outlinewidth\": 0, \"ticks\": \"\"}}, \"type\": \"scatter3d\"}], \"scattercarpet\": [{\"marker\": {\"colorbar\": {\"outlinewidth\": 0, \"ticks\": \"\"}}, \"type\": \"scattercarpet\"}], \"scattergeo\": [{\"marker\": {\"colorbar\": {\"outlinewidth\": 0, \"ticks\": \"\"}}, \"type\": \"scattergeo\"}], \"scattergl\": [{\"marker\": {\"colorbar\": {\"outlinewidth\": 0, \"ticks\": \"\"}}, \"type\": \"scattergl\"}], \"scattermapbox\": [{\"marker\": {\"colorbar\": {\"outlinewidth\": 0, \"ticks\": \"\"}}, \"type\": \"scattermapbox\"}], \"scatterpolar\": [{\"marker\": {\"colorbar\": {\"outlinewidth\": 0, \"ticks\": \"\"}}, \"type\": \"scatterpolar\"}], \"scatterpolargl\": [{\"marker\": {\"colorbar\": {\"outlinewidth\": 0, \"ticks\": \"\"}}, \"type\": \"scatterpolargl\"}], \"scatterternary\": [{\"marker\": {\"colorbar\": {\"outlinewidth\": 0, \"ticks\": \"\"}}, \"type\": \"scatterternary\"}], \"surface\": [{\"colorbar\": {\"outlinewidth\": 0, \"ticks\": \"\"}, \"colorscale\": [[0.0, \"#0d0887\"], [0.1111111111111111, \"#46039f\"], [0.2222222222222222, \"#7201a8\"], [0.3333333333333333, \"#9c179e\"], [0.4444444444444444, \"#bd3786\"], [0.5555555555555556, \"#d8576b\"], [0.6666666666666666, \"#ed7953\"], [0.7777777777777778, \"#fb9f3a\"], [0.8888888888888888, \"#fdca26\"], [1.0, \"#f0f921\"]], \"type\": \"surface\"}], \"table\": [{\"cells\": {\"fill\": {\"color\": \"#EBF0F8\"}, \"line\": {\"color\": \"white\"}}, \"header\": {\"fill\": {\"color\": \"#C8D4E3\"}, \"line\": {\"color\": \"white\"}}, \"type\": \"table\"}]}, \"layout\": {\"annotationdefaults\": {\"arrowcolor\": \"#2a3f5f\", \"arrowhead\": 0, \"arrowwidth\": 1}, \"autotypenumbers\": \"strict\", \"coloraxis\": {\"colorbar\": {\"outlinewidth\": 0, \"ticks\": \"\"}}, \"colorscale\": {\"diverging\": [[0, \"#8e0152\"], [0.1, \"#c51b7d\"], [0.2, \"#de77ae\"], [0.3, \"#f1b6da\"], [0.4, \"#fde0ef\"], [0.5, \"#f7f7f7\"], [0.6, \"#e6f5d0\"], [0.7, \"#b8e186\"], [0.8, \"#7fbc41\"], [0.9, \"#4d9221\"], [1, \"#276419\"]], \"sequential\": [[0.0, \"#0d0887\"], [0.1111111111111111, \"#46039f\"], [0.2222222222222222, \"#7201a8\"], [0.3333333333333333, \"#9c179e\"], [0.4444444444444444, \"#bd3786\"], [0.5555555555555556, \"#d8576b\"], [0.6666666666666666, \"#ed7953\"], [0.7777777777777778, \"#fb9f3a\"], [0.8888888888888888, \"#fdca26\"], [1.0, \"#f0f921\"]], \"sequentialminus\": [[0.0, \"#0d0887\"], [0.1111111111111111, \"#46039f\"], [0.2222222222222222, \"#7201a8\"], [0.3333333333333333, \"#9c179e\"], [0.4444444444444444, \"#bd3786\"], [0.5555555555555556, \"#d8576b\"], [0.6666666666666666, \"#ed7953\"], [0.7777777777777778, \"#fb9f3a\"], [0.8888888888888888, \"#fdca26\"], [1.0, \"#f0f921\"]]}, \"colorway\": [\"#636efa\", \"#EF553B\", \"#00cc96\", \"#ab63fa\", \"#FFA15A\", \"#19d3f3\", \"#FF6692\", \"#B6E880\", \"#FF97FF\", \"#FECB52\"], \"font\": {\"color\": \"#2a3f5f\"}, \"geo\": {\"bgcolor\": \"white\", \"lakecolor\": \"white\", \"landcolor\": \"#E5ECF6\", \"showlakes\": true, \"showland\": true, \"subunitcolor\": \"white\"}, \"hoverlabel\": {\"align\": \"left\"}, \"hovermode\": \"closest\", \"mapbox\": {\"style\": \"light\"}, \"paper_bgcolor\": \"white\", \"plot_bgcolor\": \"#E5ECF6\", \"polar\": {\"angularaxis\": {\"gridcolor\": \"white\", \"linecolor\": \"white\", \"ticks\": \"\"}, \"bgcolor\": \"#E5ECF6\", \"radialaxis\": {\"gridcolor\": \"white\", \"linecolor\": \"white\", \"ticks\": \"\"}}, \"scene\": {\"xaxis\": {\"backgroundcolor\": \"#E5ECF6\", \"gridcolor\": \"white\", \"gridwidth\": 2, \"linecolor\": \"white\", \"showbackground\": true, \"ticks\": \"\", \"zerolinecolor\": \"white\"}, \"yaxis\": {\"backgroundcolor\": \"#E5ECF6\", \"gridcolor\": \"white\", \"gridwidth\": 2, \"linecolor\": \"white\", \"showbackground\": true, \"ticks\": \"\", \"zerolinecolor\": \"white\"}, \"zaxis\": {\"backgroundcolor\": \"#E5ECF6\", \"gridcolor\": \"white\", \"gridwidth\": 2, \"linecolor\": \"white\", \"showbackground\": true, \"ticks\": \"\", \"zerolinecolor\": \"white\"}}, \"shapedefaults\": {\"line\": {\"color\": \"#2a3f5f\"}}, \"ternary\": {\"aaxis\": {\"gridcolor\": \"white\", \"linecolor\": \"white\", \"ticks\": \"\"}, \"baxis\": {\"gridcolor\": \"white\", \"linecolor\": \"white\", \"ticks\": \"\"}, \"bgcolor\": \"#E5ECF6\", \"caxis\": {\"gridcolor\": \"white\", \"linecolor\": \"white\", \"ticks\": \"\"}}, \"title\": {\"x\": 0.05}, \"xaxis\": {\"automargin\": true, \"gridcolor\": \"white\", \"linecolor\": \"white\", \"ticks\": \"\", \"title\": {\"standoff\": 15}, \"zerolinecolor\": \"white\", \"zerolinewidth\": 2}, \"yaxis\": {\"automargin\": true, \"gridcolor\": \"white\", \"linecolor\": \"white\", \"ticks\": \"\", \"title\": {\"standoff\": 15}, \"zerolinecolor\": \"white\", \"zerolinewidth\": 2}}}, \"title\": {\"text\": \"TRT da 3\\u00aa Regi\\u00e3o. Quantidade de Turmas Recursais em cada categoria de propriedade estat\\u00edstica.\"}},                        {\"responsive\": true}                    ).then(function(){\n",
       "                            \n",
       "var gd = document.getElementById('6f374c58-b06d-40e8-98ad-29b8a5eb570e');\n",
       "var x = new MutationObserver(function (mutations, observer) {{\n",
       "        var display = window.getComputedStyle(gd).display;\n",
       "        if (!display || display === 'none') {{\n",
       "            console.log([gd, 'removed!']);\n",
       "            Plotly.purge(gd);\n",
       "            observer.disconnect();\n",
       "        }}\n",
       "}});\n",
       "\n",
       "// Listen for the removal of the full notebook cells\n",
       "var notebookContainer = gd.closest('#notebook-container');\n",
       "if (notebookContainer) {{\n",
       "    x.observe(notebookContainer, {childList: true});\n",
       "}}\n",
       "\n",
       "// Listen for the clearing of the current output cell\n",
       "var outputEl = gd.closest('.output');\n",
       "if (outputEl) {{\n",
       "    x.observe(outputEl, {childList: true});\n",
       "}}\n",
       "\n",
       "                        })                };                });            </script>        </div>"
      ]
     },
     "metadata": {},
     "output_type": "display_data"
    }
   ],
   "source": [
    "x_pvalue = df_relatorio_trt3[\"PVALUE INTERPRETACAO\"]\n",
    "x_power = df_relatorio_trt3[\"POWER INTERPRETAÇÃO\"]\n",
    "x_effect = df_relatorio_trt3[\"EFFECT INTERPRETACAO\"]\n",
    "\n",
    "trace1 = go.Histogram(\n",
    "    x=x_pvalue,\n",
    "    name=\"PVALUE INTERPRETACAO\",\n",
    ")\n",
    "\n",
    "trace2 = go.Histogram(\n",
    "    x=x_power,\n",
    "    name=\"POWER INTERPRETAÇÃO\",\n",
    ")\n",
    "\n",
    "trace3 = go.Histogram(\n",
    "    x=x_effect,\n",
    "    name=\"EFFEC INTERPRETACAO\",\n",
    ")\n",
    "\n",
    "layout = go.Layout( title=\"TRT da 3ª Região. Quantidade de Turmas Recursais em cada categoria de propriedade estatística.\",\n",
    "                   #width=1000,\n",
    "                   height=500\n",
    "                  )\n",
    "\n",
    "fig = go.Figure( data = [ trace1, trace2, trace3 ], layout=layout )\n",
    "fig.show()"
   ]
  },
  {
   "cell_type": "code",
   "execution_count": 122,
   "metadata": {},
   "outputs": [
    {
     "data": {
      "application/vnd.plotly.v1+json": {
       "config": {
        "plotlyServerURL": "https://plot.ly"
       },
       "data": [
        {
         "boxmean": "sd",
         "boxpoints": "all",
         "name": "EMPREGADOS",
         "type": "box",
         "width": 0.15,
         "y": [
          46.41744548286604,
          38.972809667673715,
          30.129870129870127,
          44.821731748726656,
          52.69121813031161,
          39.884393063583815,
          33.17829457364341,
          46.40625,
          35.8600583090379,
          34.959349593495936,
          51.85185185185185
         ]
        },
        {
         "boxmean": "sd",
         "boxpoints": "all",
         "name": "EMPRESAS",
         "type": "box",
         "width": 0.15,
         "y": [
          29.45205479452055,
          46.101694915254235,
          58.536585365853654,
          38.31417624521073,
          29.153605015673982,
          48.754448398576514,
          36.47540983606557,
          35.39518900343643,
          41.66666666666667,
          37.80068728522337,
          33.42696629213483
         ]
        }
       ],
       "layout": {
        "annotations": [
         {
          "showarrow": false,
          "text": "Mínimo: 30.13%",
          "x": 0.45,
          "y": 30.129870129870127
         },
         {
          "showarrow": false,
          "text": "Q1: 35.41%",
          "x": 0.45,
          "y": 35.40970395126692
         },
         {
          "showarrow": false,
          "text": "Q3: 46.41%",
          "x": 0.45,
          "y": 46.41184774143302
         },
         {
          "showarrow": false,
          "text": "Máximo: 52.69%",
          "x": 0.45,
          "y": 52.69121813031161
         },
         {
          "showarrow": false,
          "text": "Média: 41.38%<br>Desvio padrão: 7.22%<br>Mediana: 39.88%<br>",
          "x": 0.45,
          "y": 41.379388413732826
         },
         {
          "showarrow": false,
          "text": "Mínimo: 29.15%",
          "x": 1.45,
          "y": 29.153605015673982
         },
         {
          "showarrow": false,
          "text": "Q1: 34.41%",
          "x": 1.45,
          "y": 34.41107764778563
         },
         {
          "showarrow": false,
          "text": "Q3: 43.88%",
          "x": 1.45,
          "y": 43.88418079096046
         },
         {
          "showarrow": false,
          "text": "Máximo: 58.54%",
          "x": 1.45,
          "y": 58.536585365853654
         },
         {
          "showarrow": false,
          "text": "Média: 39.55%<br>Desvio padrão: 8.37%<br>Mediana: 37.8%<br>",
          "x": 1.45,
          "y": 39.55249852896514
         }
        ],
        "height": 700,
        "template": {
         "data": {
          "bar": [
           {
            "error_x": {
             "color": "#2a3f5f"
            },
            "error_y": {
             "color": "#2a3f5f"
            },
            "marker": {
             "line": {
              "color": "#E5ECF6",
              "width": 0.5
             }
            },
            "type": "bar"
           }
          ],
          "barpolar": [
           {
            "marker": {
             "line": {
              "color": "#E5ECF6",
              "width": 0.5
             }
            },
            "type": "barpolar"
           }
          ],
          "carpet": [
           {
            "aaxis": {
             "endlinecolor": "#2a3f5f",
             "gridcolor": "white",
             "linecolor": "white",
             "minorgridcolor": "white",
             "startlinecolor": "#2a3f5f"
            },
            "baxis": {
             "endlinecolor": "#2a3f5f",
             "gridcolor": "white",
             "linecolor": "white",
             "minorgridcolor": "white",
             "startlinecolor": "#2a3f5f"
            },
            "type": "carpet"
           }
          ],
          "choropleth": [
           {
            "colorbar": {
             "outlinewidth": 0,
             "ticks": ""
            },
            "type": "choropleth"
           }
          ],
          "contour": [
           {
            "colorbar": {
             "outlinewidth": 0,
             "ticks": ""
            },
            "colorscale": [
             [
              0,
              "#0d0887"
             ],
             [
              0.1111111111111111,
              "#46039f"
             ],
             [
              0.2222222222222222,
              "#7201a8"
             ],
             [
              0.3333333333333333,
              "#9c179e"
             ],
             [
              0.4444444444444444,
              "#bd3786"
             ],
             [
              0.5555555555555556,
              "#d8576b"
             ],
             [
              0.6666666666666666,
              "#ed7953"
             ],
             [
              0.7777777777777778,
              "#fb9f3a"
             ],
             [
              0.8888888888888888,
              "#fdca26"
             ],
             [
              1,
              "#f0f921"
             ]
            ],
            "type": "contour"
           }
          ],
          "contourcarpet": [
           {
            "colorbar": {
             "outlinewidth": 0,
             "ticks": ""
            },
            "type": "contourcarpet"
           }
          ],
          "heatmap": [
           {
            "colorbar": {
             "outlinewidth": 0,
             "ticks": ""
            },
            "colorscale": [
             [
              0,
              "#0d0887"
             ],
             [
              0.1111111111111111,
              "#46039f"
             ],
             [
              0.2222222222222222,
              "#7201a8"
             ],
             [
              0.3333333333333333,
              "#9c179e"
             ],
             [
              0.4444444444444444,
              "#bd3786"
             ],
             [
              0.5555555555555556,
              "#d8576b"
             ],
             [
              0.6666666666666666,
              "#ed7953"
             ],
             [
              0.7777777777777778,
              "#fb9f3a"
             ],
             [
              0.8888888888888888,
              "#fdca26"
             ],
             [
              1,
              "#f0f921"
             ]
            ],
            "type": "heatmap"
           }
          ],
          "heatmapgl": [
           {
            "colorbar": {
             "outlinewidth": 0,
             "ticks": ""
            },
            "colorscale": [
             [
              0,
              "#0d0887"
             ],
             [
              0.1111111111111111,
              "#46039f"
             ],
             [
              0.2222222222222222,
              "#7201a8"
             ],
             [
              0.3333333333333333,
              "#9c179e"
             ],
             [
              0.4444444444444444,
              "#bd3786"
             ],
             [
              0.5555555555555556,
              "#d8576b"
             ],
             [
              0.6666666666666666,
              "#ed7953"
             ],
             [
              0.7777777777777778,
              "#fb9f3a"
             ],
             [
              0.8888888888888888,
              "#fdca26"
             ],
             [
              1,
              "#f0f921"
             ]
            ],
            "type": "heatmapgl"
           }
          ],
          "histogram": [
           {
            "marker": {
             "colorbar": {
              "outlinewidth": 0,
              "ticks": ""
             }
            },
            "type": "histogram"
           }
          ],
          "histogram2d": [
           {
            "colorbar": {
             "outlinewidth": 0,
             "ticks": ""
            },
            "colorscale": [
             [
              0,
              "#0d0887"
             ],
             [
              0.1111111111111111,
              "#46039f"
             ],
             [
              0.2222222222222222,
              "#7201a8"
             ],
             [
              0.3333333333333333,
              "#9c179e"
             ],
             [
              0.4444444444444444,
              "#bd3786"
             ],
             [
              0.5555555555555556,
              "#d8576b"
             ],
             [
              0.6666666666666666,
              "#ed7953"
             ],
             [
              0.7777777777777778,
              "#fb9f3a"
             ],
             [
              0.8888888888888888,
              "#fdca26"
             ],
             [
              1,
              "#f0f921"
             ]
            ],
            "type": "histogram2d"
           }
          ],
          "histogram2dcontour": [
           {
            "colorbar": {
             "outlinewidth": 0,
             "ticks": ""
            },
            "colorscale": [
             [
              0,
              "#0d0887"
             ],
             [
              0.1111111111111111,
              "#46039f"
             ],
             [
              0.2222222222222222,
              "#7201a8"
             ],
             [
              0.3333333333333333,
              "#9c179e"
             ],
             [
              0.4444444444444444,
              "#bd3786"
             ],
             [
              0.5555555555555556,
              "#d8576b"
             ],
             [
              0.6666666666666666,
              "#ed7953"
             ],
             [
              0.7777777777777778,
              "#fb9f3a"
             ],
             [
              0.8888888888888888,
              "#fdca26"
             ],
             [
              1,
              "#f0f921"
             ]
            ],
            "type": "histogram2dcontour"
           }
          ],
          "mesh3d": [
           {
            "colorbar": {
             "outlinewidth": 0,
             "ticks": ""
            },
            "type": "mesh3d"
           }
          ],
          "parcoords": [
           {
            "line": {
             "colorbar": {
              "outlinewidth": 0,
              "ticks": ""
             }
            },
            "type": "parcoords"
           }
          ],
          "pie": [
           {
            "automargin": true,
            "type": "pie"
           }
          ],
          "scatter": [
           {
            "marker": {
             "colorbar": {
              "outlinewidth": 0,
              "ticks": ""
             }
            },
            "type": "scatter"
           }
          ],
          "scatter3d": [
           {
            "line": {
             "colorbar": {
              "outlinewidth": 0,
              "ticks": ""
             }
            },
            "marker": {
             "colorbar": {
              "outlinewidth": 0,
              "ticks": ""
             }
            },
            "type": "scatter3d"
           }
          ],
          "scattercarpet": [
           {
            "marker": {
             "colorbar": {
              "outlinewidth": 0,
              "ticks": ""
             }
            },
            "type": "scattercarpet"
           }
          ],
          "scattergeo": [
           {
            "marker": {
             "colorbar": {
              "outlinewidth": 0,
              "ticks": ""
             }
            },
            "type": "scattergeo"
           }
          ],
          "scattergl": [
           {
            "marker": {
             "colorbar": {
              "outlinewidth": 0,
              "ticks": ""
             }
            },
            "type": "scattergl"
           }
          ],
          "scattermapbox": [
           {
            "marker": {
             "colorbar": {
              "outlinewidth": 0,
              "ticks": ""
             }
            },
            "type": "scattermapbox"
           }
          ],
          "scatterpolar": [
           {
            "marker": {
             "colorbar": {
              "outlinewidth": 0,
              "ticks": ""
             }
            },
            "type": "scatterpolar"
           }
          ],
          "scatterpolargl": [
           {
            "marker": {
             "colorbar": {
              "outlinewidth": 0,
              "ticks": ""
             }
            },
            "type": "scatterpolargl"
           }
          ],
          "scatterternary": [
           {
            "marker": {
             "colorbar": {
              "outlinewidth": 0,
              "ticks": ""
             }
            },
            "type": "scatterternary"
           }
          ],
          "surface": [
           {
            "colorbar": {
             "outlinewidth": 0,
             "ticks": ""
            },
            "colorscale": [
             [
              0,
              "#0d0887"
             ],
             [
              0.1111111111111111,
              "#46039f"
             ],
             [
              0.2222222222222222,
              "#7201a8"
             ],
             [
              0.3333333333333333,
              "#9c179e"
             ],
             [
              0.4444444444444444,
              "#bd3786"
             ],
             [
              0.5555555555555556,
              "#d8576b"
             ],
             [
              0.6666666666666666,
              "#ed7953"
             ],
             [
              0.7777777777777778,
              "#fb9f3a"
             ],
             [
              0.8888888888888888,
              "#fdca26"
             ],
             [
              1,
              "#f0f921"
             ]
            ],
            "type": "surface"
           }
          ],
          "table": [
           {
            "cells": {
             "fill": {
              "color": "#EBF0F8"
             },
             "line": {
              "color": "white"
             }
            },
            "header": {
             "fill": {
              "color": "#C8D4E3"
             },
             "line": {
              "color": "white"
             }
            },
            "type": "table"
           }
          ]
         },
         "layout": {
          "annotationdefaults": {
           "arrowcolor": "#2a3f5f",
           "arrowhead": 0,
           "arrowwidth": 1
          },
          "autotypenumbers": "strict",
          "coloraxis": {
           "colorbar": {
            "outlinewidth": 0,
            "ticks": ""
           }
          },
          "colorscale": {
           "diverging": [
            [
             0,
             "#8e0152"
            ],
            [
             0.1,
             "#c51b7d"
            ],
            [
             0.2,
             "#de77ae"
            ],
            [
             0.3,
             "#f1b6da"
            ],
            [
             0.4,
             "#fde0ef"
            ],
            [
             0.5,
             "#f7f7f7"
            ],
            [
             0.6,
             "#e6f5d0"
            ],
            [
             0.7,
             "#b8e186"
            ],
            [
             0.8,
             "#7fbc41"
            ],
            [
             0.9,
             "#4d9221"
            ],
            [
             1,
             "#276419"
            ]
           ],
           "sequential": [
            [
             0,
             "#0d0887"
            ],
            [
             0.1111111111111111,
             "#46039f"
            ],
            [
             0.2222222222222222,
             "#7201a8"
            ],
            [
             0.3333333333333333,
             "#9c179e"
            ],
            [
             0.4444444444444444,
             "#bd3786"
            ],
            [
             0.5555555555555556,
             "#d8576b"
            ],
            [
             0.6666666666666666,
             "#ed7953"
            ],
            [
             0.7777777777777778,
             "#fb9f3a"
            ],
            [
             0.8888888888888888,
             "#fdca26"
            ],
            [
             1,
             "#f0f921"
            ]
           ],
           "sequentialminus": [
            [
             0,
             "#0d0887"
            ],
            [
             0.1111111111111111,
             "#46039f"
            ],
            [
             0.2222222222222222,
             "#7201a8"
            ],
            [
             0.3333333333333333,
             "#9c179e"
            ],
            [
             0.4444444444444444,
             "#bd3786"
            ],
            [
             0.5555555555555556,
             "#d8576b"
            ],
            [
             0.6666666666666666,
             "#ed7953"
            ],
            [
             0.7777777777777778,
             "#fb9f3a"
            ],
            [
             0.8888888888888888,
             "#fdca26"
            ],
            [
             1,
             "#f0f921"
            ]
           ]
          },
          "colorway": [
           "#636efa",
           "#EF553B",
           "#00cc96",
           "#ab63fa",
           "#FFA15A",
           "#19d3f3",
           "#FF6692",
           "#B6E880",
           "#FF97FF",
           "#FECB52"
          ],
          "font": {
           "color": "#2a3f5f"
          },
          "geo": {
           "bgcolor": "white",
           "lakecolor": "white",
           "landcolor": "#E5ECF6",
           "showlakes": true,
           "showland": true,
           "subunitcolor": "white"
          },
          "hoverlabel": {
           "align": "left"
          },
          "hovermode": "closest",
          "mapbox": {
           "style": "light"
          },
          "paper_bgcolor": "white",
          "plot_bgcolor": "#E5ECF6",
          "polar": {
           "angularaxis": {
            "gridcolor": "white",
            "linecolor": "white",
            "ticks": ""
           },
           "bgcolor": "#E5ECF6",
           "radialaxis": {
            "gridcolor": "white",
            "linecolor": "white",
            "ticks": ""
           }
          },
          "scene": {
           "xaxis": {
            "backgroundcolor": "#E5ECF6",
            "gridcolor": "white",
            "gridwidth": 2,
            "linecolor": "white",
            "showbackground": true,
            "ticks": "",
            "zerolinecolor": "white"
           },
           "yaxis": {
            "backgroundcolor": "#E5ECF6",
            "gridcolor": "white",
            "gridwidth": 2,
            "linecolor": "white",
            "showbackground": true,
            "ticks": "",
            "zerolinecolor": "white"
           },
           "zaxis": {
            "backgroundcolor": "#E5ECF6",
            "gridcolor": "white",
            "gridwidth": 2,
            "linecolor": "white",
            "showbackground": true,
            "ticks": "",
            "zerolinecolor": "white"
           }
          },
          "shapedefaults": {
           "line": {
            "color": "#2a3f5f"
           }
          },
          "ternary": {
           "aaxis": {
            "gridcolor": "white",
            "linecolor": "white",
            "ticks": ""
           },
           "baxis": {
            "gridcolor": "white",
            "linecolor": "white",
            "ticks": ""
           },
           "bgcolor": "#E5ECF6",
           "caxis": {
            "gridcolor": "white",
            "linecolor": "white",
            "ticks": ""
           }
          },
          "title": {
           "x": 0.05
          },
          "xaxis": {
           "automargin": true,
           "gridcolor": "white",
           "linecolor": "white",
           "ticks": "",
           "title": {
            "standoff": 15
           },
           "zerolinecolor": "white",
           "zerolinewidth": 2
          },
          "yaxis": {
           "automargin": true,
           "gridcolor": "white",
           "linecolor": "white",
           "ticks": "",
           "title": {
            "standoff": 15
           },
           "zerolinecolor": "white",
           "zerolinewidth": 2
          }
         }
        },
        "title": {
         "text": "Distribuição do percentual de DEFERIMENTOS de acórdãos pelas 11 TURMAS RECURSAIS do TRT da 3ª Região"
        },
        "width": 1000,
        "xaxis": {
         "autorange": true,
         "range": [
          -0.2359861186929736,
          1.6354090306480542
         ],
         "title": {
          "text": "Parte recorrente no TRT da 3ª Região"
         },
         "type": "category"
        },
        "yaxis": {
         "autorange": true,
         "range": [
          27.521217218441777,
          60.16897316308586
         ],
         "title": {
          "text": "Percentual de deferimento"
         },
         "type": "linear"
        }
       }
      },
      "image/png": "[encoded data removed]",
      "text/html": [
       "<div>                            <div id=\"f07268e5-e993-4c2b-82d7-af5433b579ed\" class=\"plotly-graph-div\" style=\"height:700px; width:1000px;\"></div>            <script type=\"text/javascript\">                require([\"plotly\"], function(Plotly) {                    window.PLOTLYENV=window.PLOTLYENV || {};                                    if (document.getElementById(\"f07268e5-e993-4c2b-82d7-af5433b579ed\")) {                    Plotly.newPlot(                        \"f07268e5-e993-4c2b-82d7-af5433b579ed\",                        [{\"boxmean\": \"sd\", \"boxpoints\": \"all\", \"name\": \"EMPREGADOS\", \"type\": \"box\", \"width\": 0.15, \"y\": [46.41744548286604, 38.972809667673715, 30.129870129870127, 44.821731748726656, 52.69121813031161, 39.884393063583815, 33.17829457364341, 46.40625, 35.8600583090379, 34.959349593495936, 51.85185185185185]}, {\"boxmean\": \"sd\", \"boxpoints\": \"all\", \"name\": \"EMPRESAS\", \"type\": \"box\", \"width\": 0.15, \"y\": [29.45205479452055, 46.101694915254235, 58.536585365853654, 38.31417624521073, 29.153605015673982, 48.754448398576514, 36.47540983606557, 35.39518900343643, 41.66666666666667, 37.80068728522337, 33.42696629213483]}],                        {\"annotations\": [{\"showarrow\": false, \"text\": \"M\\u00ednimo: 30.13%\", \"x\": 0.45, \"y\": 30.129870129870127}, {\"showarrow\": false, \"text\": \"Q1: 35.41%\", \"x\": 0.45, \"y\": 35.40970395126692}, {\"showarrow\": false, \"text\": \"Q3: 46.41%\", \"x\": 0.45, \"y\": 46.41184774143302}, {\"showarrow\": false, \"text\": \"M\\u00e1ximo: 52.69%\", \"x\": 0.45, \"y\": 52.69121813031161}, {\"showarrow\": false, \"text\": \"M\\u00e9dia: 41.38%<br>Desvio padr\\u00e3o: 7.22%<br>Mediana: 39.88%<br>\", \"x\": 0.45, \"y\": 41.379388413732826}, {\"showarrow\": false, \"text\": \"M\\u00ednimo: 29.15%\", \"x\": 1.45, \"y\": 29.153605015673982}, {\"showarrow\": false, \"text\": \"Q1: 34.41%\", \"x\": 1.45, \"y\": 34.41107764778563}, {\"showarrow\": false, \"text\": \"Q3: 43.88%\", \"x\": 1.45, \"y\": 43.88418079096046}, {\"showarrow\": false, \"text\": \"M\\u00e1ximo: 58.54%\", \"x\": 1.45, \"y\": 58.536585365853654}, {\"showarrow\": false, \"text\": \"M\\u00e9dia: 39.55%<br>Desvio padr\\u00e3o: 8.37%<br>Mediana: 37.8%<br>\", \"x\": 1.45, \"y\": 39.55249852896514}], \"height\": 700, \"template\": {\"data\": {\"bar\": [{\"error_x\": {\"color\": \"#2a3f5f\"}, \"error_y\": {\"color\": \"#2a3f5f\"}, \"marker\": {\"line\": {\"color\": \"#E5ECF6\", \"width\": 0.5}}, \"type\": \"bar\"}], \"barpolar\": [{\"marker\": {\"line\": {\"color\": \"#E5ECF6\", \"width\": 0.5}}, \"type\": \"barpolar\"}], \"carpet\": [{\"aaxis\": {\"endlinecolor\": \"#2a3f5f\", \"gridcolor\": \"white\", \"linecolor\": \"white\", \"minorgridcolor\": \"white\", \"startlinecolor\": \"#2a3f5f\"}, \"baxis\": {\"endlinecolor\": \"#2a3f5f\", \"gridcolor\": \"white\", \"linecolor\": \"white\", \"minorgridcolor\": \"white\", \"startlinecolor\": \"#2a3f5f\"}, \"type\": \"carpet\"}], \"choropleth\": [{\"colorbar\": {\"outlinewidth\": 0, \"ticks\": \"\"}, \"type\": \"choropleth\"}], \"contour\": [{\"colorbar\": {\"outlinewidth\": 0, \"ticks\": \"\"}, \"colorscale\": [[0.0, \"#0d0887\"], [0.1111111111111111, \"#46039f\"], [0.2222222222222222, \"#7201a8\"], [0.3333333333333333, \"#9c179e\"], [0.4444444444444444, \"#bd3786\"], [0.5555555555555556, \"#d8576b\"], [0.6666666666666666, \"#ed7953\"], [0.7777777777777778, \"#fb9f3a\"], [0.8888888888888888, \"#fdca26\"], [1.0, \"#f0f921\"]], \"type\": \"contour\"}], \"contourcarpet\": [{\"colorbar\": {\"outlinewidth\": 0, \"ticks\": \"\"}, \"type\": \"contourcarpet\"}], \"heatmap\": [{\"colorbar\": {\"outlinewidth\": 0, \"ticks\": \"\"}, \"colorscale\": [[0.0, \"#0d0887\"], [0.1111111111111111, \"#46039f\"], [0.2222222222222222, \"#7201a8\"], [0.3333333333333333, \"#9c179e\"], [0.4444444444444444, \"#bd3786\"], [0.5555555555555556, \"#d8576b\"], [0.6666666666666666, \"#ed7953\"], [0.7777777777777778, \"#fb9f3a\"], [0.8888888888888888, \"#fdca26\"], [1.0, \"#f0f921\"]], \"type\": \"heatmap\"}], \"heatmapgl\": [{\"colorbar\": {\"outlinewidth\": 0, \"ticks\": \"\"}, \"colorscale\": [[0.0, \"#0d0887\"], [0.1111111111111111, \"#46039f\"], [0.2222222222222222, \"#7201a8\"], [0.3333333333333333, \"#9c179e\"], [0.4444444444444444, \"#bd3786\"], [0.5555555555555556, \"#d8576b\"], [0.6666666666666666, \"#ed7953\"], [0.7777777777777778, \"#fb9f3a\"], [0.8888888888888888, \"#fdca26\"], [1.0, \"#f0f921\"]], \"type\": \"heatmapgl\"}], \"histogram\": [{\"marker\": {\"colorbar\": {\"outlinewidth\": 0, \"ticks\": \"\"}}, \"type\": \"histogram\"}], \"histogram2d\": [{\"colorbar\": {\"outlinewidth\": 0, \"ticks\": \"\"}, \"colorscale\": [[0.0, \"#0d0887\"], [0.1111111111111111, \"#46039f\"], [0.2222222222222222, \"#7201a8\"], [0.3333333333333333, \"#9c179e\"], [0.4444444444444444, \"#bd3786\"], [0.5555555555555556, \"#d8576b\"], [0.6666666666666666, \"#ed7953\"], [0.7777777777777778, \"#fb9f3a\"], [0.8888888888888888, \"#fdca26\"], [1.0, \"#f0f921\"]], \"type\": \"histogram2d\"}], \"histogram2dcontour\": [{\"colorbar\": {\"outlinewidth\": 0, \"ticks\": \"\"}, \"colorscale\": [[0.0, \"#0d0887\"], [0.1111111111111111, \"#46039f\"], [0.2222222222222222, \"#7201a8\"], [0.3333333333333333, \"#9c179e\"], [0.4444444444444444, \"#bd3786\"], [0.5555555555555556, \"#d8576b\"], [0.6666666666666666, \"#ed7953\"], [0.7777777777777778, \"#fb9f3a\"], [0.8888888888888888, \"#fdca26\"], [1.0, \"#f0f921\"]], \"type\": \"histogram2dcontour\"}], \"mesh3d\": [{\"colorbar\": {\"outlinewidth\": 0, \"ticks\": \"\"}, \"type\": \"mesh3d\"}], \"parcoords\": [{\"line\": {\"colorbar\": {\"outlinewidth\": 0, \"ticks\": \"\"}}, \"type\": \"parcoords\"}], \"pie\": [{\"automargin\": true, \"type\": \"pie\"}], \"scatter\": [{\"marker\": {\"colorbar\": {\"outlinewidth\": 0, \"ticks\": \"\"}}, \"type\": \"scatter\"}], \"scatter3d\": [{\"line\": {\"colorbar\": {\"outlinewidth\": 0, \"ticks\": \"\"}}, \"marker\": {\"colorbar\": {\"outlinewidth\": 0, \"ticks\": \"\"}}, \"type\": \"scatter3d\"}], \"scattercarpet\": [{\"marker\": {\"colorbar\": {\"outlinewidth\": 0, \"ticks\": \"\"}}, \"type\": \"scattercarpet\"}], \"scattergeo\": [{\"marker\": {\"colorbar\": {\"outlinewidth\": 0, \"ticks\": \"\"}}, \"type\": \"scattergeo\"}], \"scattergl\": [{\"marker\": {\"colorbar\": {\"outlinewidth\": 0, \"ticks\": \"\"}}, \"type\": \"scattergl\"}], \"scattermapbox\": [{\"marker\": {\"colorbar\": {\"outlinewidth\": 0, \"ticks\": \"\"}}, \"type\": \"scattermapbox\"}], \"scatterpolar\": [{\"marker\": {\"colorbar\": {\"outlinewidth\": 0, \"ticks\": \"\"}}, \"type\": \"scatterpolar\"}], \"scatterpolargl\": [{\"marker\": {\"colorbar\": {\"outlinewidth\": 0, \"ticks\": \"\"}}, \"type\": \"scatterpolargl\"}], \"scatterternary\": [{\"marker\": {\"colorbar\": {\"outlinewidth\": 0, \"ticks\": \"\"}}, \"type\": \"scatterternary\"}], \"surface\": [{\"colorbar\": {\"outlinewidth\": 0, \"ticks\": \"\"}, \"colorscale\": [[0.0, \"#0d0887\"], [0.1111111111111111, \"#46039f\"], [0.2222222222222222, \"#7201a8\"], [0.3333333333333333, \"#9c179e\"], [0.4444444444444444, \"#bd3786\"], [0.5555555555555556, \"#d8576b\"], [0.6666666666666666, \"#ed7953\"], [0.7777777777777778, \"#fb9f3a\"], [0.8888888888888888, \"#fdca26\"], [1.0, \"#f0f921\"]], \"type\": \"surface\"}], \"table\": [{\"cells\": {\"fill\": {\"color\": \"#EBF0F8\"}, \"line\": {\"color\": \"white\"}}, \"header\": {\"fill\": {\"color\": \"#C8D4E3\"}, \"line\": {\"color\": \"white\"}}, \"type\": \"table\"}]}, \"layout\": {\"annotationdefaults\": {\"arrowcolor\": \"#2a3f5f\", \"arrowhead\": 0, \"arrowwidth\": 1}, \"autotypenumbers\": \"strict\", \"coloraxis\": {\"colorbar\": {\"outlinewidth\": 0, \"ticks\": \"\"}}, \"colorscale\": {\"diverging\": [[0, \"#8e0152\"], [0.1, \"#c51b7d\"], [0.2, \"#de77ae\"], [0.3, \"#f1b6da\"], [0.4, \"#fde0ef\"], [0.5, \"#f7f7f7\"], [0.6, \"#e6f5d0\"], [0.7, \"#b8e186\"], [0.8, \"#7fbc41\"], [0.9, \"#4d9221\"], [1, \"#276419\"]], \"sequential\": [[0.0, \"#0d0887\"], [0.1111111111111111, \"#46039f\"], [0.2222222222222222, \"#7201a8\"], [0.3333333333333333, \"#9c179e\"], [0.4444444444444444, \"#bd3786\"], [0.5555555555555556, \"#d8576b\"], [0.6666666666666666, \"#ed7953\"], [0.7777777777777778, \"#fb9f3a\"], [0.8888888888888888, \"#fdca26\"], [1.0, \"#f0f921\"]], \"sequentialminus\": [[0.0, \"#0d0887\"], [0.1111111111111111, \"#46039f\"], [0.2222222222222222, \"#7201a8\"], [0.3333333333333333, \"#9c179e\"], [0.4444444444444444, \"#bd3786\"], [0.5555555555555556, \"#d8576b\"], [0.6666666666666666, \"#ed7953\"], [0.7777777777777778, \"#fb9f3a\"], [0.8888888888888888, \"#fdca26\"], [1.0, \"#f0f921\"]]}, \"colorway\": [\"#636efa\", \"#EF553B\", \"#00cc96\", \"#ab63fa\", \"#FFA15A\", \"#19d3f3\", \"#FF6692\", \"#B6E880\", \"#FF97FF\", \"#FECB52\"], \"font\": {\"color\": \"#2a3f5f\"}, \"geo\": {\"bgcolor\": \"white\", \"lakecolor\": \"white\", \"landcolor\": \"#E5ECF6\", \"showlakes\": true, \"showland\": true, \"subunitcolor\": \"white\"}, \"hoverlabel\": {\"align\": \"left\"}, \"hovermode\": \"closest\", \"mapbox\": {\"style\": \"light\"}, \"paper_bgcolor\": \"white\", \"plot_bgcolor\": \"#E5ECF6\", \"polar\": {\"angularaxis\": {\"gridcolor\": \"white\", \"linecolor\": \"white\", \"ticks\": \"\"}, \"bgcolor\": \"#E5ECF6\", \"radialaxis\": {\"gridcolor\": \"white\", \"linecolor\": \"white\", \"ticks\": \"\"}}, \"scene\": {\"xaxis\": {\"backgroundcolor\": \"#E5ECF6\", \"gridcolor\": \"white\", \"gridwidth\": 2, \"linecolor\": \"white\", \"showbackground\": true, \"ticks\": \"\", \"zerolinecolor\": \"white\"}, \"yaxis\": {\"backgroundcolor\": \"#E5ECF6\", \"gridcolor\": \"white\", \"gridwidth\": 2, \"linecolor\": \"white\", \"showbackground\": true, \"ticks\": \"\", \"zerolinecolor\": \"white\"}, \"zaxis\": {\"backgroundcolor\": \"#E5ECF6\", \"gridcolor\": \"white\", \"gridwidth\": 2, \"linecolor\": \"white\", \"showbackground\": true, \"ticks\": \"\", \"zerolinecolor\": \"white\"}}, \"shapedefaults\": {\"line\": {\"color\": \"#2a3f5f\"}}, \"ternary\": {\"aaxis\": {\"gridcolor\": \"white\", \"linecolor\": \"white\", \"ticks\": \"\"}, \"baxis\": {\"gridcolor\": \"white\", \"linecolor\": \"white\", \"ticks\": \"\"}, \"bgcolor\": \"#E5ECF6\", \"caxis\": {\"gridcolor\": \"white\", \"linecolor\": \"white\", \"ticks\": \"\"}}, \"title\": {\"x\": 0.05}, \"xaxis\": {\"automargin\": true, \"gridcolor\": \"white\", \"linecolor\": \"white\", \"ticks\": \"\", \"title\": {\"standoff\": 15}, \"zerolinecolor\": \"white\", \"zerolinewidth\": 2}, \"yaxis\": {\"automargin\": true, \"gridcolor\": \"white\", \"linecolor\": \"white\", \"ticks\": \"\", \"title\": {\"standoff\": 15}, \"zerolinecolor\": \"white\", \"zerolinewidth\": 2}}}, \"title\": {\"text\": \"Distribui\\u00e7\\u00e3o do percentual de DEFERIMENTOS de ac\\u00f3rd\\u00e3os pelas 11 TURMAS RECURSAIS do TRT da 3\\u00aa Regi\\u00e3o\"}, \"width\": 1000, \"xaxis\": {\"title\": {\"text\": \"Parte recorrente no TRT da 3\\u00aa Regi\\u00e3o\"}}, \"yaxis\": {\"title\": {\"text\": \"Percentual de deferimento\"}}},                        {\"responsive\": true}                    ).then(function(){\n",
       "                            \n",
       "var gd = document.getElementById('f07268e5-e993-4c2b-82d7-af5433b579ed');\n",
       "var x = new MutationObserver(function (mutations, observer) {{\n",
       "        var display = window.getComputedStyle(gd).display;\n",
       "        if (!display || display === 'none') {{\n",
       "            console.log([gd, 'removed!']);\n",
       "            Plotly.purge(gd);\n",
       "            observer.disconnect();\n",
       "        }}\n",
       "}});\n",
       "\n",
       "// Listen for the removal of the full notebook cells\n",
       "var notebookContainer = gd.closest('#notebook-container');\n",
       "if (notebookContainer) {{\n",
       "    x.observe(notebookContainer, {childList: true});\n",
       "}}\n",
       "\n",
       "// Listen for the clearing of the current output cell\n",
       "var outputEl = gd.closest('.output');\n",
       "if (outputEl) {{\n",
       "    x.observe(outputEl, {childList: true});\n",
       "}}\n",
       "\n",
       "                        })                };                });            </script>        </div>"
      ]
     },
     "metadata": {},
     "output_type": "display_data"
    }
   ],
   "source": [
    "df_quantidades_percentuais = df_quantidades_percentuais_TRT3\n",
    "\n",
    "_tipo_requerente_EMPREGADO = df_quantidades_percentuais[\"tipo_requerente_previsto\"] == \"EMPREGADO\"\n",
    "_tipo_requerente_EMPRESA = df_quantidades_percentuais[\"tipo_requerente_previsto\"] == \"EMPRESA\"\n",
    "_tribunal = df_quantidades_percentuais[\"TRIBUNAL\"] == \"TRT3\"\n",
    "\n",
    "layout = go.Layout(\n",
    "    title='Distribuição do percentual de DEFERIMENTOS de acórdãos pelas 11 TURMAS RECURSAIS do TRT da 3ª Região',\n",
    "    yaxis_title_text='Percentual de deferimento',\n",
    "    xaxis_title_text='Parte recorrente no TRT da 3ª Região',\n",
    "    width=1000,\n",
    "    height=700,\n",
    "    #boxgap=1\n",
    ")\n",
    "\n",
    "box_width = 0.15\n",
    "\n",
    "########## EMPREGADOS\n",
    "y_empregado = df_quantidades_percentuais.loc[ _tribunal & _tipo_requerente_EMPREGADO, \"percentual_deferido\"]\n",
    "\n",
    "trace1 = go.Box(\n",
    "    y=y_empregado,\n",
    "    name='EMPREGADOS',\n",
    "    boxmean='sd', # represent mean and standard deviation\n",
    "    boxpoints='all',\n",
    "    width=box_width\n",
    ")\n",
    "\n",
    "########## EMPRESAS\n",
    "y_empresa = df_quantidades_percentuais.loc[ _tribunal & _tipo_requerente_EMPRESA, \"percentual_deferido\"]\n",
    "\n",
    "trace2 = go.Box(\n",
    "    y=y_empresa,\n",
    "    name='EMPRESAS',\n",
    "    boxmean='sd', # represent mean and standard deviation\n",
    "    boxpoints='all',\n",
    "    width=box_width\n",
    ")\n",
    "\n",
    "fig = go.Figure( data = [ trace1, trace2 ], layout=layout )\n",
    "\n",
    "########## LEGENDAS EMPREGADOS\n",
    "for legenda in zip( [\"Mínimo\",\"Q1\",\"Mediana\",\"Q3\",\"Máximo\"], df_quantidades_percentuais.loc[ _tribunal & _tipo_requerente_EMPREGADO, \"percentual_deferido\"].quantile([0,0.25,0.5,0.75,1]) ):\n",
    "    if(legenda[0] != \"Mediana\"):\n",
    "        fig.add_annotation(\n",
    "            y=legenda[1],\n",
    "            x=0.45,\n",
    "            text=legenda[0] + \": \" + str(round(legenda[1], 2)) + \"%\",\n",
    "            showarrow=False\n",
    "            )\n",
    "\n",
    "media_empregado = np.mean(y_empregado)\n",
    "mediana_empregado = np.median(y_empregado)\n",
    "desvio_padrao_empregado = np.std(y_empregado)\n",
    "\n",
    "fig.add_annotation(\n",
    "        y=media_empregado,\n",
    "        x=0.45,\n",
    "        text=\"Média: \" + str(round(media_empregado, 2)) + \"%<br>Desvio padrão: \" + str(round(desvio_padrao_empregado, 2)) + \"%<br>Mediana: \" + str(round(mediana_empregado, 2)) + \"%<br>\",\n",
    "        showarrow=False\n",
    "        )\n",
    "\n",
    "########## LEGENDAS EMPRESAS\n",
    "for legenda in zip( [\"Mínimo\",\"Q1\",\"Mediana\",\"Q3\",\"Máximo\"], df_quantidades_percentuais.loc[ _tribunal & _tipo_requerente_EMPRESA, \"percentual_deferido\"].quantile([0,0.25,0.5,0.75,1]) ):\n",
    "    if(legenda[0] != \"Mediana\"):\n",
    "        fig.add_annotation(\n",
    "            y=legenda[1],\n",
    "            x=1.45,\n",
    "            text=legenda[0] + \": \" + str(round(legenda[1], 2)) + \"%\",\n",
    "            showarrow=False\n",
    "            )\n",
    "\n",
    "media_empresa = np.mean(y_empresa)\n",
    "mediana_empresa = np.median(y_empresa)\n",
    "desvio_padrao_empresa = np.std(y_empresa)\n",
    "fig.add_annotation(\n",
    "        y=media_empresa,\n",
    "        x=1.45,\n",
    "        text=\"Média: \" + str(round(media_empresa, 2)) + \"%<br>Desvio padrão: \" + str(round(desvio_padrao_empresa, 2)) + \"%<br>Mediana: \" + str(round(mediana_empresa, 2)) + \"%<br>\",\n",
    "        showarrow=False\n",
    "        )\n",
    "\n",
    "fig.show()"
   ]
  },
  {
   "cell_type": "code",
   "execution_count": null,
   "metadata": {},
   "outputs": [],
   "source": []
  },
  {
   "cell_type": "code",
   "execution_count": null,
   "metadata": {},
   "outputs": [],
   "source": []
  }
 ],
 "metadata": {
  "kernelspec": {
   "display_name": "Python 3",
   "language": "python",
   "name": "python3"
  },
  "language_info": {
   "codemirror_mode": {
    "name": "ipython",
    "version": 3
   },
   "file_extension": ".py",
   "mimetype": "text/x-python",
   "name": "python",
   "nbconvert_exporter": "python",
   "pygments_lexer": "ipython3",
   "version": "3.6.14"
  }
 },
 "nbformat": 4,
 "nbformat_minor": 4
}
