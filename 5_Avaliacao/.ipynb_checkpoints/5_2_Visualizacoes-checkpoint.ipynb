{
 "cells": [
  {
   "cell_type": "markdown",
   "metadata": {},
   "source": [
    "# TODO\n",
    "- verificar se as porcentagens estao ok"
   ]
  },
  {
   "cell_type": "code",
   "execution_count": 63,
   "metadata": {},
   "outputs": [
    {
     "name": "stdin",
     "output_type": "stream",
     "text": [
      "Once deleted, variables cannot be recovered. Proceed (y/[n])?  y\n"
     ]
    }
   ],
   "source": [
    "%reset"
   ]
  },
  {
   "cell_type": "markdown",
   "metadata": {},
   "source": [
    "# Resumo da Pesquisa de Mestrado"
   ]
  },
  {
   "cell_type": "markdown",
   "metadata": {},
   "source": [
    "<strong>Inspiração</strong>: o que inspirou o desenvolvimento dessa pesquisa foi o conhecimento prático deste pesquisador no dia-a-dia trabalhando na Justiça do Trabalho do Rio Grande do Sul em Porto Alegre no Brasil de que existem magistrados e Turmas Recursais que decidem majoritariamente para empregado ou para empresa, dependendo do seu viés. Tal fato é reconhecido na área de domínio por colegas de tribunal e advogados tendo até um palavra específica para representar esses magistrados. \"Magistrado Reclamante\" para magistrado que tem viés para empregado, e \"Magistrado Reclamada\" para magistrado que tem viés para empresa."
   ]
  },
  {
   "cell_type": "markdown",
   "metadata": {},
   "source": [
    "<strong>Problemática</strong>: advogados iniciantes ou de outra região do país, ou até mesmo as partes envolvidas, não detém este conhecimento empírico. No caso de processos que envolva milhões de Reais, a parte do processo que estiver melhor embasada pode tomar a melhor decisão e negociar mais efetivamente se souber qual a tendência de opinião do magistrado designado a julgar o caso."
   ]
  },
  {
   "cell_type": "markdown",
   "metadata": {},
   "source": [
    "<strong>Hipótese</strong>: \"Seria possível que os tribunais avaliados e suas turmas recursais julguem favoravelmente proporção significativamente maior de recursos para uma das partes do que para outra?\""
   ]
  },
  {
   "cell_type": "markdown",
   "metadata": {},
   "source": [
    "<strong>Solução proposta</strong>: \n",
    "<ol>\n",
    "<li>Realizar Processo de Descoberta de Conhecimento em Bases de Dados por meio de técnicas de Mineração de Texto a fim de classificar automaticamente decisões judiciais.</li>\n",
    "    Objetivos de mineração de dados:\n",
    "    <ol>\n",
    "    <li>Classificar automaticamente os acórdãos judiciais em relação ao deferimento ou não.\n",
    "    <li>Classificar automaticamente o requerente do recurso em relação a ser empresa ou a ser empregado.\n",
    "    <li>Classificar com os modelos desenvolvidos quantidade significante de decisões judiciais.\n",
    "    </ol>\n",
    "<li>Aplicar teste estatístico à base de decisões classificadas criada nos passos anteriores para verificar se existe diferença significativa entre a proporção de julgados favoravelmente a uma das partes.</li>\n",
    "<li>Calcular o efeito estatístico entre as duas proporções de modo a prover um indicador simples do tamanho da diferença, se houver diferença estatística.</li>\n",
    "</ol>"
   ]
  },
  {
   "cell_type": "markdown",
   "metadata": {},
   "source": [
    "#### Este notebook trata dos itens 2 e 3."
   ]
  },
  {
   "cell_type": "markdown",
   "metadata": {},
   "source": [
    "### Teste de hipótese\n",
    "<ul>\n",
    "    <li>Hipótese nula (H0): Pa = Pb</li>\n",
    "    <li>Hipótese alternativa (Ha): Pa &ne; Pb</li>\n",
    "    <li>Pa = Proporção de processos julgados positivamente para EMPREGADOS.</li>\n",
    "    <li>Pb = Proporção de processos julgados positivamente para EMPRESAS.</li>\n",
    "</ul>"
   ]
  },
  {
   "cell_type": "markdown",
   "metadata": {},
   "source": [
    "### Teste estatístico: Two proportion z-test.\n",
    "\n",
    "A seguir serão realizados testes para verificar se as duas proporções são iguais (hipótese nula) ou diferentes (hipótese alternativa) de acordo com teste estatístico implementado pela biblioteca Statsmodels utilizando o método proposto por Agresti and Caffo*.\n",
    "<ul>\n",
    "<li><strong>Type 1 error</strong>: Quando a hipótese nula (H0) é verdadeira, mas a amostra leva a crer que não é. Pode ser medido utilizando o p-value do teste estatístico.</li>\n",
    "<strong>P-value:</strong> indica a probabilidade de a hipótese nula ser verdadeira (intuitivamente falando).<br>\n",
    "<strong>Nível de confiança:</strong> foi definido como 95% (valor habitualmente usado na estatística) o nível de confiança para rejeitar a hipotese nula.<br>\n",
    "<strong>Nível de significancia:</strong> 1 - 0,95 = 0,05, ou seja, 5%.<br>\n",
    "<strong>Análise:</strong> Se o P-value for menor que 5%, considera-se rejeitada a H0, ou seja, as duas proporções são diferentes.\n",
    "\n",
    "<li><strong>Type 2 error</strong>: Quando a hipótese alternativa (Ha) é verdadeira, mas a amostra leva a crer que não é. Pode ser medido utilizando o \"Power\" do teste estatístico.</li>\n",
    "<strong>Power:</strong> indica a probabilidade de encontrar uma diferença estatística quando ela existe (intuitivamente falando).<br>\n",
    "<strong>Análise:</strong> Se o Power for maior que 80% (valor habitualmente usado na estatística), considera-se baixo o risco de ocorrer Type 2 error, ou seja, considera-se baixo o risco de considerar as duas proporções iguais, quando na verdade não são. O Power é altamente influenciado pelo tamanho da amostra.\n",
    "</ul>\n",
    "*Agresti and Caffo (2000), \"Simple and Effective Confidence Intervals for Proportions and Differences of Proportions Result From Adding Two Successes and Two Failures\"\n"
   ]
  },
  {
   "cell_type": "markdown",
   "metadata": {},
   "source": [
    "### Teste de efeito estatístico: Cohen's H\n",
    "Esse teste permite medir o tamanho da diferença estatística entre duas proporções, quando existente. O autor, chamado Jacob Cohen, indica a sua interpretação por meio da tabela abaixo.\n",
    "\n",
    "|abs( Cohen h )| Interpretação|\n",
    "|-------|---------------|\n",
    "|0 < .50| Insignificante|\n",
    "|0.20 < 0.50 |Pequeno|\n",
    "|0.50 < 0.80| Médio|\n",
    "|0.80 or more| Grande|"
   ]
  },
  {
   "cell_type": "code",
   "execution_count": 64,
   "metadata": {},
   "outputs": [],
   "source": [
    "import plotly.offline as pyo\n",
    "import plotly.graph_objs as go\n",
    "from plotly.offline import iplot\n",
    "import pandas as pd\n",
    "import numpy as np\n",
    "from statsmodels.stats import proportion\n",
    "from statsmodels.stats.proportion import proportion_effectsize\n",
    "from statsmodels.stats.power import NormalIndPower\n",
    "from statsmodels.stats.proportion import samplesize_proportions_2indep_onetail"
   ]
  },
  {
   "cell_type": "markdown",
   "metadata": {},
   "source": [
    "# Limpeza e preparação dos dados"
   ]
  },
  {
   "cell_type": "code",
   "execution_count": null,
   "metadata": {},
   "outputs": [],
   "source": [
    "df = pd.read_csv( \"df_classificado.csv\" )\n",
    "df.info()"
   ]
  },
  {
   "cell_type": "code",
   "execution_count": null,
   "metadata": {},
   "outputs": [],
   "source": [
    "df[\"tipo_requerente_previsto\"].value_counts()"
   ]
  },
  {
   "cell_type": "markdown",
   "metadata": {},
   "source": [
    "### Ajuste campo tipo requerente"
   ]
  },
  {
   "cell_type": "code",
   "execution_count": null,
   "metadata": {},
   "outputs": [],
   "source": [
    "EMPRESA = 0\n",
    "EMPREGADO = 1"
   ]
  },
  {
   "cell_type": "code",
   "execution_count": null,
   "metadata": {},
   "outputs": [],
   "source": [
    "df[\"tipo_requerente_previsto\"] = df[\"tipo_requerente_previsto\"].replace(EMPREGADO, \"EMPREGADO\")\n",
    "df[\"tipo_requerente_previsto\"] = df[\"tipo_requerente_previsto\"].replace(EMPRESA, \"EMPRESA\")\n",
    "df[\"tipo_requerente_previsto\"].value_counts()"
   ]
  },
  {
   "cell_type": "markdown",
   "metadata": {},
   "source": [
    "### Ajuste campo deferimento"
   ]
  },
  {
   "cell_type": "code",
   "execution_count": null,
   "metadata": {},
   "outputs": [],
   "source": [
    "df[\"deferimento_previsto\"].value_counts()"
   ]
  },
  {
   "cell_type": "code",
   "execution_count": null,
   "metadata": {},
   "outputs": [],
   "source": [
    "INDEFERIMENTO = 0\n",
    "DEFERIMENTO = 1"
   ]
  },
  {
   "cell_type": "code",
   "execution_count": null,
   "metadata": {},
   "outputs": [],
   "source": [
    "df[\"deferimento_previsto\"] = df[\"deferimento_previsto\"].replace(INDEFERIMENTO, \"INDEFERIMENTO\")\n",
    "df[\"deferimento_previsto\"] = df[\"deferimento_previsto\"].replace(DEFERIMENTO, \"DEFERIMENTO\")\n",
    "df[\"deferimento_previsto\"].value_counts()"
   ]
  },
  {
   "cell_type": "markdown",
   "metadata": {},
   "source": [
    "#### Remoção de observações desnecessárias\n",
    "Remoção das observações do tipo 2, a saber, são as observações que não tiveram julgamento final devido a algum problema processual.\n",
    "<br>Manutenção apenas das linhas com a palavra \"Turma\", pois existem órgão que também julgam no Tribunal, mas são tipos diferentes de julgamentos, não interessantes para a pesquisa.\n",
    "<br>São mantidos apenas as colunas necessárias para realizar a análise propostas. Assim, os textos das decisões em si são removidos, o que diminui o tamanho do dataset em memória."
   ]
  },
  {
   "cell_type": "code",
   "execution_count": null,
   "metadata": {},
   "outputs": [],
   "source": [
    "deferimento = df[\"deferimento_previsto\"] != 2\n",
    "orgao = df[\"ORGAO\"].str.contains(\"Turma\")\n",
    "df_limpo = df.loc[ deferimento & orgao, ['DATA', 'RELATOR', 'ORGAO', 'QTD_RECORRENTES', 'TRIBUNAL', 'tipo_requerente_previsto', 'deferimento_previsto'] ]\n",
    "#df_limpo.to_csv(\"df_limpo.csv\", encoding='utf-8', index=False )"
   ]
  },
  {
   "cell_type": "code",
   "execution_count": null,
   "metadata": {},
   "outputs": [],
   "source": [
    "df_limpo.info()"
   ]
  },
  {
   "cell_type": "markdown",
   "metadata": {},
   "source": [
    "### Ajuste dos nomes das turmas recursais"
   ]
  },
  {
   "cell_type": "code",
   "execution_count": null,
   "metadata": {},
   "outputs": [],
   "source": [
    "df_limpo[\"ORGAO\"].unique()"
   ]
  },
  {
   "cell_type": "code",
   "execution_count": null,
   "metadata": {},
   "outputs": [],
   "source": [
    "df_limpo[\"ORGAO\"] = df_limpo[\"ORGAO\"].replace('Segunda Turma', '2ª Turma')\n",
    "df_limpo[\"ORGAO\"] = df_limpo[\"ORGAO\"].replace('Terceira Turma', '3ª Turma')\n",
    "df_limpo[\"ORGAO\"] = df_limpo[\"ORGAO\"].replace('Setima Turma', '7ª Turma')\n",
    "df_limpo[\"ORGAO\"] = df_limpo[\"ORGAO\"].replace('Quarta Turma', '4ª Turma')\n",
    "df_limpo[\"ORGAO\"] = df_limpo[\"ORGAO\"].replace('Nona Turma', '9ª Turma')\n",
    "df_limpo[\"ORGAO\"] = df_limpo[\"ORGAO\"].replace('Decima Primeira Turma', '11ª Turma')\n",
    "df_limpo[\"ORGAO\"] = df_limpo[\"ORGAO\"].replace('Oitava Turma', '8ª Turma')\n",
    "df_limpo[\"ORGAO\"] = df_limpo[\"ORGAO\"].replace('Primeira Turma', '1ª Turma')\n",
    "df_limpo[\"ORGAO\"] = df_limpo[\"ORGAO\"].replace('Quinta Turma', '5ª Turma')\n",
    "df_limpo[\"ORGAO\"] = df_limpo[\"ORGAO\"].replace('Sexta Turma', '6ª Turma')\n",
    "df_limpo[\"ORGAO\"] = df_limpo[\"ORGAO\"].replace('Decima Turma', '10ª Turma')\n",
    "df_limpo[\"ORGAO\"].unique()"
   ]
  },
  {
   "cell_type": "markdown",
   "metadata": {},
   "source": [
    "### Construção de dataframes auxiliares"
   ]
  },
  {
   "cell_type": "code",
   "execution_count": null,
   "metadata": {},
   "outputs": [],
   "source": [
    "#utilizado para construção de gráficos e testes estatísticos\n",
    "\n",
    "#precisa fazer todo este processo abaixo, pq o agrupamento pode gerar grupos que tenham pouca quantidade de processos julgados e nao tendo nenhum julgado para um dos tipos faz dar erro no cálculo de porcentagem nas células porsteriores.\n",
    "#por isso, completamos com 0 para as células posteriores poderem ter um valor pra somar.\n",
    "\n",
    "_tribunal_TRT4 = df_limpo[\"TRIBUNAL\"] == \"TRT4\"\n",
    "df_quantidades_TRT4 = df_limpo.loc[ _tribunal_TRT4, : ].groupby( [ \"TRIBUNAL\", \"ORGAO\", \"tipo_requerente_previsto\", \"deferimento_previsto\" ])[\"deferimento_previsto\"].count().unstack(fill_value=0).stack().to_frame().rename(columns={0:'QUANTIDADE'}).unstack(level=-2, fill_value=0).stack()\n",
    "df_quantidades_TRT4.reset_index( inplace=True)\n",
    "\n",
    "_tribunal_TRT3 = df_limpo[\"TRIBUNAL\"] == \"TRT3\"\n",
    "df_quantidades_TRT3 = df_limpo.loc[ _tribunal_TRT3, : ].groupby( [ \"TRIBUNAL\", \"ORGAO\", \"tipo_requerente_previsto\", \"deferimento_previsto\" ])[\"deferimento_previsto\"].count().unstack(fill_value=0).stack().to_frame().rename(columns={0:'QUANTIDADE'}).unstack(level=-2, fill_value=0).stack()\n",
    "df_quantidades_TRT3.reset_index( inplace=True)"
   ]
  },
  {
   "cell_type": "code",
   "execution_count": null,
   "metadata": {},
   "outputs": [],
   "source": [
    "#utilizado para testes estatísticos\n",
    "\n",
    "#define função para criar tabela de frequencia normalizada em percentuais em relação a cada turma recursal.\n",
    "#Quem sabe poderia ter usado o pd.crosstab, mas acabei fazendo na mão mesmo....\n",
    "\n",
    "def cria_df_quantidades_percentuais( nome_tribunal, df_quantidades ):\n",
    "    df_temp = pd.DataFrame()\n",
    "    \n",
    "    _tribunal = df_quantidades[\"TRIBUNAL\"] == nome_tribunal\n",
    "    \n",
    "    _deferimento = df_quantidades[\"deferimento_previsto\"] == \"DEFERIMENTO\"\n",
    "    _indeferimento = df_quantidades[\"deferimento_previsto\"] == \"INDEFERIMENTO\"\n",
    "    _tipo_requerente_EMPREGADO = df_quantidades[\"tipo_requerente_previsto\"] == \"EMPREGADO\"\n",
    "    _tipo_requerente_EMPRESA = df_quantidades[\"tipo_requerente_previsto\"] == \"EMPRESA\"\n",
    "    \n",
    "    for nome_orgao in df_quantidades.loc[ _tribunal, \"ORGAO\" ].unique():\n",
    "        #print(nome_orgao)\n",
    "        _orgao = df_quantidades.loc[ _tribunal, \"ORGAO\" ] == nome_orgao\n",
    "\n",
    "        #porcentagem EMPREGADO DEFERIMENTO\n",
    "        qtd_deferimento_empregado = df_quantidades.loc[ _tribunal & _orgao & _deferimento &  _tipo_requerente_EMPREGADO, \"QUANTIDADE\" ].iloc[0]\n",
    "        qtd_indeferimento_empregado = df_quantidades.loc[ _tribunal & _orgao & _indeferimento &  _tipo_requerente_EMPREGADO, \"QUANTIDADE\" ].iloc[0]\n",
    "\n",
    "        total = qtd_deferimento_empregado + qtd_indeferimento_empregado\n",
    "        percentual_deferimento = ( qtd_deferimento_empregado / total ) * 100\n",
    "\n",
    "        nova_linha = {\"TRIBUNAL\": nome_tribunal, \"ORGAO\": nome_orgao, \"tipo_requerente_previsto\": \"EMPREGADO\", \"percentual_deferido\": percentual_deferimento}\n",
    "        #print(nova_linha)\n",
    "        df_temp = df_temp.append(nova_linha, ignore_index=True)\n",
    "\n",
    "        #porcentagem EMPRESA DEFERIMENTO\n",
    "        qtd_deferimento_empresa = df_quantidades.loc[ _tribunal & _orgao & _deferimento &  _tipo_requerente_EMPRESA, \"QUANTIDADE\" ].iloc[0]\n",
    "        qtd_indeferimento_empresa = df_quantidades.loc[ _tribunal & _orgao & _indeferimento &  _tipo_requerente_EMPRESA, \"QUANTIDADE\" ].iloc[0]\n",
    "\n",
    "        total = qtd_deferimento_empresa + qtd_indeferimento_empresa\n",
    "        percentual_deferimento = ( qtd_deferimento_empresa / total ) * 100\n",
    "\n",
    "        nova_linha = {\"TRIBUNAL\": nome_tribunal, \"ORGAO\": nome_orgao, \"tipo_requerente_previsto\": \"EMPRESA\", \"percentual_deferido\": percentual_deferimento}\n",
    "        #print(nova_linha)\n",
    "        df_temp = df_temp.append(nova_linha, ignore_index=True)\n",
    "    return df_temp"
   ]
  },
  {
   "cell_type": "code",
   "execution_count": null,
   "metadata": {},
   "outputs": [],
   "source": [
    "df_quantidades_percentuais_TRT4 = pd.DataFrame()\n",
    "df_quantidades_percentuais_TRT3 = pd.DataFrame()\n",
    "\n",
    "df_quantidades_percentuais_TRT4 = cria_df_quantidades_percentuais( \"TRT4\", df_quantidades_TRT4 )\n",
    "df_quantidades_percentuais_TRT3 = cria_df_quantidades_percentuais( \"TRT3\", df_quantidades_TRT3 )"
   ]
  },
  {
   "cell_type": "markdown",
   "metadata": {},
   "source": [
    "### Ordenação dos dataframes\n",
    "Serve para que os gráficos fiquem na ordem do número das turmas recursais.\n",
    "<br>**Importante: os nomes das turmas recursais tem que estar escritos na forma de números em vez de por extenso. Exemplo: 11ª Turma Recursal."
   ]
  },
  {
   "cell_type": "code",
   "execution_count": null,
   "metadata": {},
   "outputs": [],
   "source": [
    "#precisa ordenar na ordem inversa, pq os gráficos são inseridos no plotly nessa ordem, e daí são exibidos na ordem inversa, o que faz com que eles fiquem na ordem desejada.\n",
    "df_quantidades_TRT4[\"NUMERO_ORDEM\"] = df_quantidades_TRT4[\"ORGAO\"].str.extract('(\\d+)')\n",
    "df_quantidades_TRT4[\"NUMERO_ORDEM\"] = df_quantidades_TRT4[\"NUMERO_ORDEM\"].astype(int)\n",
    "df_quantidades_TRT4 = df_quantidades_TRT4.sort_values([ \"NUMERO_ORDEM\", \"tipo_requerente_previsto\", \"deferimento_previsto\" ], ascending=[ False, True, False ])\n",
    "\n",
    "df_quantidades_TRT3[\"NUMERO_ORDEM\"] = df_quantidades_TRT3[\"ORGAO\"].str.extract('(\\d+)')\n",
    "df_quantidades_TRT3[\"NUMERO_ORDEM\"] = df_quantidades_TRT3[\"NUMERO_ORDEM\"].astype(int)\n",
    "df_quantidades_TRT3 = df_quantidades_TRT3.sort_values([ \"NUMERO_ORDEM\", \"tipo_requerente_previsto\", \"deferimento_previsto\" ], ascending=[ False, True, False ])"
   ]
  },
  {
   "cell_type": "code",
   "execution_count": null,
   "metadata": {},
   "outputs": [],
   "source": [
    "#precisa ordenar na ordem inversa, pq os gráficos são inseridos no plotly nessa ordem, e daí são exibidos na ordem inversa, o que faz com que eles fiquem na ordem desejada.\n",
    "df_quantidades_percentuais_TRT4[\"NUMERO_ORDEM\"] = df_quantidades_percentuais_TRT4[\"ORGAO\"].str.extract('(\\d+)')\n",
    "df_quantidades_percentuais_TRT4[\"NUMERO_ORDEM\"] = df_quantidades_percentuais_TRT4[\"NUMERO_ORDEM\"].astype(int)\n",
    "df_quantidades_percentuais_TRT4 = df_quantidades_percentuais_TRT4.sort_values([ \"NUMERO_ORDEM\", \"tipo_requerente_previsto\" ], ascending=[ False, True ])\n",
    "\n",
    "df_quantidades_percentuais_TRT3[\"NUMERO_ORDEM\"] = df_quantidades_percentuais_TRT3[\"ORGAO\"].str.extract('(\\d+)')\n",
    "df_quantidades_percentuais_TRT3[\"NUMERO_ORDEM\"] = df_quantidades_percentuais_TRT3[\"NUMERO_ORDEM\"].astype(int)\n",
    "df_quantidades_percentuais_TRT3 = df_quantidades_percentuais_TRT3.sort_values([ \"NUMERO_ORDEM\", \"tipo_requerente_previsto\" ], ascending=[ False, True ])"
   ]
  },
  {
   "cell_type": "code",
   "execution_count": null,
   "metadata": {},
   "outputs": [],
   "source": []
  },
  {
   "cell_type": "code",
   "execution_count": null,
   "metadata": {},
   "outputs": [],
   "source": []
  },
  {
   "cell_type": "code",
   "execution_count": null,
   "metadata": {},
   "outputs": [],
   "source": []
  },
  {
   "cell_type": "code",
   "execution_count": null,
   "metadata": {},
   "outputs": [],
   "source": []
  },
  {
   "cell_type": "code",
   "execution_count": null,
   "metadata": {},
   "outputs": [],
   "source": []
  },
  {
   "cell_type": "code",
   "execution_count": null,
   "metadata": {},
   "outputs": [],
   "source": []
  },
  {
   "cell_type": "markdown",
   "metadata": {},
   "source": [
    "# Análise de Dados Gráfica"
   ]
  },
  {
   "cell_type": "markdown",
   "metadata": {},
   "source": [
    "# TRT 4 - Análise do tribunal de modo geral\n",
    "## Proporção de deferimentos e indeferimentos para ambas as partes"
   ]
  },
  {
   "cell_type": "code",
   "execution_count": null,
   "metadata": {},
   "outputs": [],
   "source": [
    "_tribunal_TRT4 = df_limpo[\"TRIBUNAL\"] == \"TRT4\"\n",
    "X_def = pd.crosstab( df_limpo.loc[ _tribunal_TRT4 ].tipo_requerente_previsto, df_limpo.loc[ _tribunal_TRT4 ].deferimento_previsto ).loc[ :, \"DEFERIMENTO\" ]\n",
    "X_indef = pd.crosstab( df_limpo.loc[ _tribunal_TRT4 ].tipo_requerente_previsto, df_limpo.loc[ _tribunal_TRT4 ].deferimento_previsto ).loc[ :, \"INDEFERIMENTO\" ]\n",
    "rotulos = [ \"EMPREGADO\", \"EMPRESA\" ]"
   ]
  },
  {
   "cell_type": "code",
   "execution_count": null,
   "metadata": {},
   "outputs": [],
   "source": [
    "porporcao_empregado, porporcao_empresa  = pd.crosstab( df_limpo.loc[ _tribunal_TRT4 ].tipo_requerente_previsto, df_limpo.loc[ _tribunal_TRT4 ].deferimento_previsto ).apply(lambda r:r/r.sum(),axis=1).loc[ :,  \"DEFERIMENTO\" ].to_numpy().flatten()"
   ]
  },
  {
   "cell_type": "code",
   "execution_count": null,
   "metadata": {},
   "outputs": [],
   "source": [
    "#DEFERIMENTO\n",
    "trace1 = go.Bar(x = X_def,\n",
    "                y = rotulos,  \n",
    "                orientation=\"h\",\n",
    "                textposition='auto',\n",
    "                textfont=dict(\n",
    "        family=\"sans serif\",\n",
    "        size=18,\n",
    "        color=\"black\"),\n",
    "                name=\"DEFERIMENTO\" )\n",
    "#INDEFERIMENTO\n",
    "trace2 = go.Bar(x = X_indef,\n",
    "                y = rotulos,\n",
    "                orientation=\"h\",\n",
    "                textposition='auto',\n",
    "                name=\"INDEFERIMENTO\" )\n",
    "\n",
    "layout = go.Layout( title=\"TRT da 4ª Região. Porcentagem de julgamentos favoráveis para cada uma das partes.\",\n",
    "                    barmode=\"stack\",\n",
    "                    barnorm=\"percent\",                    \n",
    "                    )\n",
    "\n",
    "fig = go.Figure( data = [ trace1, trace2 ], layout=layout )\n",
    "\n",
    "fig.add_annotation(\n",
    "        y=\"EMPREGADO\",\n",
    "        x = ( porporcao_empregado*100 ) - 3,\n",
    "        text=str( round( porporcao_empregado*100, 2) )+\"%\",\n",
    "        showarrow=False,\n",
    "        font=dict(\n",
    "                size=16,\n",
    "                color=\"#ffffff\"\n",
    "                ),\n",
    "        )\n",
    "\n",
    "fig.add_annotation(\n",
    "        y=\"EMPRESA\",\n",
    "        x = ( porporcao_empresa*100 ) - 3,\n",
    "        text=str( round( porporcao_empresa*100, 2) )+\"%\",\n",
    "        showarrow=False,\n",
    "        font=dict(\n",
    "                size=16,\n",
    "                color=\"#ffffff\"\n",
    "                ),\n",
    "        )\n",
    "\n",
    "fig.show()"
   ]
  },
  {
   "cell_type": "markdown",
   "metadata": {},
   "source": [
    "### Interpretação\n",
    "Do total de recursos que as <strong>EMPRESAS</strong> recorreram ao TRT da 4ª Região, <strong>39,27%</strong> foram DEFERIDOS. Considerando apenas sentenças em que houve recurso somente da EMPRESA.<BR>\n",
    "Do total de recursos que as <strong>EMPREGADOS</strong> recorreram ao TRT da 4ª Região, <strong>50,24%</strong> foram DEFERIDOS. Considerando apenas sentenças em que houve recurso somente do EMPREGADO.<BR>"
   ]
  },
  {
   "cell_type": "code",
   "execution_count": null,
   "metadata": {},
   "outputs": [],
   "source": [
    "print( \"Quantidade de processos analisados: \"+str( len( df_limpo.loc[ _tribunal_TRT4 ] ) ) )"
   ]
  },
  {
   "cell_type": "code",
   "execution_count": null,
   "metadata": {},
   "outputs": [],
   "source": [
    "tipo_requerente_previsto_EMPREGADO = df_limpo[\"tipo_requerente_previsto\"] == \"EMPREGADO\"\n",
    "tipo_requerente_previsto_EMPRESA = df_limpo[\"tipo_requerente_previsto\"] == \"EMPRESA\"\n",
    "quantidade_EMPREGADO = len( df_limpo.loc[ _tribunal_TRT4 & tipo_requerente_previsto_EMPREGADO ] )\n",
    "quantidade_EMPRESA = len( df_limpo.loc[ _tribunal_TRT4 & tipo_requerente_previsto_EMPRESA ] )\n",
    "print( \"Recorrente EMPREGADO. Quantidade de processos analisados: \"+str( quantidade_EMPREGADO ) )\n",
    "print( \"Recorrente EMPRESA. Quantidade de processos analisados: \"+str( quantidade_EMPRESA ) )"
   ]
  },
  {
   "cell_type": "markdown",
   "metadata": {},
   "source": [
    "## Teste estatístico: Two proportion z-test\n",
    "### Interpretação"
   ]
  },
  {
   "cell_type": "code",
   "execution_count": null,
   "metadata": {},
   "outputs": [],
   "source": [
    "n_deferimento_empregado, n_indeferimento_empregado, n_deferimento_empresa, n_indeferimento_empresa =  pd.crosstab( df_limpo.loc[ _tribunal_TRT4 ].tipo_requerente_previsto, df_limpo.loc[ _tribunal_TRT4 ].deferimento_previsto ).to_numpy().flatten()\n",
    "total_empregado = n_deferimento_empregado + n_indeferimento_empregado\n",
    "total_empresa = n_deferimento_empresa + n_indeferimento_empresa\n",
    "pvalue = proportion.test_proportions_2indep( n_deferimento_empregado, total_empregado, n_deferimento_empresa, total_empresa )[1]"
   ]
  },
  {
   "cell_type": "code",
   "execution_count": null,
   "metadata": {},
   "outputs": [],
   "source": [
    "print( \"P-value: \"+str(round(pvalue*100, 2) )+\"%\" )\n",
    "if( pvalue < 0.05 ):\n",
    "    print( \"SIM, apresenta diferença estatística entre a proporção de deferimentos para empregado e para empresa.\" )\n",
    "else:\n",
    "    print( \"NÃO, não apresenta diferença estatística entre a proporção de deferimentos para empregado e para empresa.\" )"
   ]
  },
  {
   "cell_type": "code",
   "execution_count": null,
   "metadata": {},
   "outputs": [],
   "source": [
    "pvalue"
   ]
  },
  {
   "cell_type": "code",
   "execution_count": null,
   "metadata": {},
   "outputs": [],
   "source": [
    "P1 = n_deferimento_empregado / total_empregado\n",
    "P2 = n_deferimento_empresa / total_empresa\n",
    "diff = P1 - P2\n",
    "power = proportion.power_proportions_2indep( diff, P2, total_empregado,  total_empresa/total_empregado, alpha=0.05, value=0, alternative='two-sided', return_results=True).power\n",
    "print( \"Power: \"+str(round(power*100, 2) )+\"%\" )\n",
    "if( power < 0.8 ):\n",
    "    print( \"Nível inaceitável de força estatística. Risco considerável de ocorrer Type 2 error, ou seja, há risco de não haver diferença entre as proporções (se foi encontrada diferença).\" )\n",
    "else:\n",
    "    print( \"Nível aceitável de força estatística. Risco baixo de ocorrer Type 2 error, ou seja, há risco baixo de não haver diferença entre as proporções (se foi encontrada diferença).\" )"
   ]
  },
  {
   "cell_type": "markdown",
   "metadata": {},
   "source": [
    "## Teste de efeito estatístico: Cohen's H\n",
    "### Interpretação"
   ]
  },
  {
   "cell_type": "code",
   "execution_count": null,
   "metadata": {},
   "outputs": [],
   "source": [
    "effectsize = proportion_effectsize( porporcao_empregado, porporcao_empresa )"
   ]
  },
  {
   "cell_type": "code",
   "execution_count": null,
   "metadata": {},
   "outputs": [],
   "source": [
    "print( \"Índice Cohen's H: \"+str(abs(round(effectsize*100, 2) ) )+\"%\" )\n",
    "hNonDir = abs(effectsize)\n",
    "if hNonDir < .20:\n",
    "    print('Diferença estatística insignificante.')\n",
    "elif hNonDir < .50:\n",
    "    print('Diferença estatística pequena.')\n",
    "elif hNonDir < .80:\n",
    "    print('Diferença estatística média.')\n",
    "else:\n",
    "    print('Diferença estatística grande.')    "
   ]
  },
  {
   "cell_type": "markdown",
   "metadata": {},
   "source": [
    "# TRT 4 - Análise das Turmas Recursais individualmente"
   ]
  },
  {
   "cell_type": "code",
   "execution_count": null,
   "metadata": {},
   "outputs": [],
   "source": [
    "_tribunal_TRT4 = df_quantidades_TRT4[\"TRIBUNAL\"] == \"TRT4\"\n",
    "_polaridade_def = df_quantidades_TRT4[\"deferimento_previsto\"] == \"DEFERIMENTO\"\n",
    "_polaridade_indef = df_quantidades_TRT4[\"deferimento_previsto\"] == \"INDEFERIMENTO\"\n",
    "\n",
    "X_def = df_quantidades_TRT4.loc[ _tribunal_TRT4 & _polaridade_def , \"QUANTIDADE\" ]\n",
    "Y_def_orgao = df_quantidades_TRT4.loc[ _tribunal_TRT4 & _polaridade_def , \"ORGAO\" ]\n",
    "Y_def_recorrente = df_quantidades_TRT4.loc[ _tribunal_TRT4 & _polaridade_def , \"tipo_requerente_previsto\" ]\n",
    "\n",
    "X_indef = df_quantidades_TRT4.loc[ _tribunal_TRT4 & _polaridade_indef , \"QUANTIDADE\" ]\n",
    "Y_indef_orgao = df_quantidades_TRT4.loc[ _tribunal_TRT4 & _polaridade_indef , \"ORGAO\" ]\n",
    "Y_indef_recorrente = df_quantidades_TRT4.loc[ _tribunal_TRT4 & _polaridade_indef , \"tipo_requerente_previsto\" ]"
   ]
  },
  {
   "cell_type": "code",
   "execution_count": null,
   "metadata": {},
   "outputs": [],
   "source": [
    "#deferido\n",
    "trace1 = go.Bar(x = X_def,\n",
    "                y = [ Y_def_orgao,\n",
    "                      Y_def_recorrente ],  \n",
    "                orientation=\"h\",\n",
    "                name=\"DEFERIMENTO\" )\n",
    "#indeferido\n",
    "trace2 = go.Bar(x = X_indef,\n",
    "                y = [ Y_indef_orgao,\n",
    "                      Y_indef_recorrente ],\n",
    "                orientation=\"h\",\n",
    "                name=\"INDEFERIMENTO\" )\n",
    "\n",
    "layout = go.Layout( \n",
    "    title=\"TRT da 4ª Região. Porcentagem de julgamentos favoráveis <br>para cada uma das partes em relação a cada Turma Recursal.\",\n",
    "    barmode=\"stack\",\n",
    "    barnorm=\"percent\",\n",
    "    margin=dict(l=400),\n",
    "    width=1000,\n",
    "    height=1000\n",
    "    )\n",
    "\n",
    "fig = go.Figure( data = [ trace1, trace2 ], layout=layout )"
   ]
  },
  {
   "cell_type": "code",
   "execution_count": null,
   "metadata": {},
   "outputs": [],
   "source": [
    "_tribunal_TRT4 = df_quantidades_percentuais_TRT4[\"TRIBUNAL\"] == \"TRT4\"\n",
    "orgaos = df_quantidades_percentuais_TRT4.loc[ _tribunal_TRT4, \"ORGAO\"].to_numpy()\n",
    "percentuais_deferimento = df_quantidades_percentuais_TRT4.loc[ _tribunal_TRT4, \"percentual_deferido\"].to_numpy()\n",
    "tipo_parte = df_quantidades_percentuais_TRT4.loc[ _tribunal_TRT4, \"tipo_requerente_previsto\"].to_numpy()"
   ]
  },
  {
   "cell_type": "code",
   "execution_count": null,
   "metadata": {},
   "outputs": [],
   "source": [
    "for i in range( len( orgaos ) ):\n",
    "    fig.add_annotation(\n",
    "            y= [ orgaos[i], tipo_parte[i] ],\n",
    "            x = ( percentuais_deferimento[i] ) - 10,\n",
    "            text=str( round( percentuais_deferimento[i], 2) )+\"%\",\n",
    "            showarrow=False,\n",
    "            font=dict(\n",
    "                    size=16,\n",
    "                    color=\"#ffffff\"\n",
    "                    ),\n",
    "            )\n",
    "\n",
    "fig.show()"
   ]
  },
  {
   "cell_type": "markdown",
   "metadata": {},
   "source": [
    "### Interpretação\n",
    "O gráfico anterior apresenta as porcentagens de deferimento em relação a cada Turma Recursal em relação a parte sendo empregado e empresa."
   ]
  },
  {
   "cell_type": "markdown",
   "metadata": {},
   "source": [
    "## Teste estatístico: Two proportion z-test e Teste de efeito estatístico: Cohen's H para cada Turma Recursal\n",
    "### Interpretação"
   ]
  },
  {
   "cell_type": "code",
   "execution_count": null,
   "metadata": {},
   "outputs": [],
   "source": [
    "#realiza testes estatísticos para cada turma recursal\n",
    "def testes_estatisticos_turmas( tribunal, df_quantidades ):\n",
    "    df_quantidades = df_quantidades.sort_values([ \"NUMERO_ORDEM\", \"tipo_requerente_previsto\", \"deferimento_previsto\" ], ascending=[ True, True, True ])\n",
    "    df_relatorio = pd.DataFrame()\n",
    "    _tribunal = df_quantidades[\"TRIBUNAL\"] == tribunal\n",
    "\n",
    "    for turma_recursal in df_quantidades.loc[ _tribunal, \"ORGAO\" ].unique():\n",
    "        _turma_recursal = df_quantidades[\"ORGAO\"] == turma_recursal\n",
    "        _tipo_requerente_empregado = df_quantidades[\"tipo_requerente_previsto\"] == \"EMPREGADO\"\n",
    "        _tipo_requerente_empresa = df_quantidades[\"tipo_requerente_previsto\"] == \"EMPRESA\"\n",
    "\n",
    "        n_deferimento_empregado = df_quantidades.loc[ _turma_recursal &  _tipo_requerente_empregado, \"QUANTIDADE\" ].to_numpy()[0]\n",
    "        n_indeferimento_empregado = df_quantidades.loc[ _turma_recursal &  _tipo_requerente_empregado, \"QUANTIDADE\" ].to_numpy()[1]\n",
    "        total_empregado = n_deferimento_empregado + n_indeferimento_empregado\n",
    "\n",
    "        n_deferimento_empresa = df_quantidades.loc[ _turma_recursal &  _tipo_requerente_empresa, \"QUANTIDADE\" ].to_numpy()[0]\n",
    "        n_indeferimento_empresa = df_quantidades.loc[ _turma_recursal &  _tipo_requerente_empresa, \"QUANTIDADE\" ].to_numpy()[1]\n",
    "        total_empresa = n_deferimento_empresa + n_indeferimento_empresa\n",
    "\n",
    "        pvalue = proportion.test_proportions_2indep( n_deferimento_empregado, total_empregado, n_deferimento_empresa, total_empresa )[1]\n",
    "\n",
    "        print( \"=======================================> \"+turma_recursal )\n",
    "        print( \"Quantidade de processos analisados de EMPRESAS: \"+str(total_empresa) )\n",
    "        print( \"Quantidade de processos analisados de EMPREGADOS: \"+str(total_empregado) )\n",
    "\n",
    "        ###### P-VALUE\n",
    "        print( \"===> P-value: \"+str(round(pvalue*100, 2) )+\"%\" )\n",
    "        pvalue_interpretacao = \"\"\n",
    "        if( pvalue < 0.05 ):\n",
    "            print( \"SIM, apresenta diferença estatística entre a proporção de deferimentos para empregado e para empresa.\" )\n",
    "            #pvalue_interpretacao = \"SIM, HÁ DIFERENÇA ESTATÍSTICA\"\n",
    "            pvalue_interpretacao = \"HÁ DIFERENÇA\"\n",
    "        else:\n",
    "            print( \"NÃO, não apresenta diferença estatística entre a proporção de deferimentos para empregado e para empresa.\" )\n",
    "            #pvalue_interpretacao = \"NÃO, NÃO HÁ DIFERENÇA ESTATÍSTICA\"\n",
    "            pvalue_interpretacao = \"NÃO HÁ DIFERENÇA\"\n",
    "\n",
    "        ###### POWER\n",
    "        P1 = n_deferimento_empregado / total_empregado\n",
    "        P2 = n_deferimento_empresa / total_empresa\n",
    "        diff = P1 - P2\n",
    "        power = proportion.power_proportions_2indep( diff, P2, total_empregado,  total_empresa/total_empregado, alpha=0.05, value=0, alternative='two-sided', return_results=True).power\n",
    "        print( \"===> Power: \"+str(round(power*100, 2) )+\"%\" )\n",
    "        power_interpretacao = \"\"\n",
    "        if( power < 0.8 ):\n",
    "            print( \"Nível inaceitável de força estatística. Risco considerável de ocorrer Type 2 error, ou seja, há risco de não haver diferença entre as proporções (se foi encontrada diferença).\" )\n",
    "            #power_interpretacao = \"FORÇA ESTATÍSTICA INACEITÁVEL\"\n",
    "            power_interpretacao = \"INACEITÁVEL\"\n",
    "        else:\n",
    "            print( \"Nível aceitável de força estatística. Risco baixo de ocorrer Type 2 error, ou seja, há risco baixo de não haver diferença entre as proporções (se foi encontrada diferença).\" )\n",
    "            #power_interpretacao = \"FORÇA ESTATÍSTICA ACEITÁVEL\"\n",
    "            power_interpretacao = \"ACEITÁVEL\"\n",
    "\n",
    "         ###### COHEN'S H   \n",
    "        effectsize = proportion_effectsize( P1, P2 )\n",
    "        print( \"===> Índice Cohen's H: \"+str(abs(round(effectsize*100, 2) ) )+\"%\" )\n",
    "        hNonDir = abs(effectsize)\n",
    "        effectsize_interpretacao = \"\"\n",
    "        if hNonDir < .20:\n",
    "            print('Diferença estatística insignificante.')\n",
    "            #effectsize_interpretacao = \"DIFERENÇA DE PROPORÇÃO INSIGNIFICANTE\"\n",
    "            effectsize_interpretacao = \"INSIGNIFICANTE\"\n",
    "        elif hNonDir < .50:\n",
    "            print('Diferença estatística pequena.')\n",
    "            #effectsize_interpretacao = \"DIFERENÇA DE PROPORÇÃO PEQUENA\"\n",
    "            effectsize_interpretacao = \"PEQUENA\"\n",
    "        elif hNonDir < .80:\n",
    "            print('Diferença estatística média.')\n",
    "            #effectsize_interpretacao = \"DIFERENÇA DE PROPORÇÃO MÉDIA\"\n",
    "            effectsize_interpretacao = \"MÉDIA\"\n",
    "        else:\n",
    "            print('Diferença estatística grande.')    \n",
    "            #effectsize_interpretacao = \"DIFERENÇA DE PROPORÇÃO GRANDE\"\n",
    "            effectsize_interpretacao = \"GRANDE\"\n",
    "\n",
    "        #print( \"------------\" )\n",
    "        print( \"\" )\n",
    "        total_processos = total_empregado+total_empresa\n",
    "        linha = [ tribunal, turma_recursal, total_processos, round(pvalue, 4), pvalue_interpretacao, round(power, 4), power_interpretacao, abs(round(effectsize, 4)), effectsize_interpretacao ]\n",
    "        df_relatorio = df_relatorio.append( [linha] )\n",
    "        \n",
    "    df_relatorio.columns = [ \"TRIBUNAL\", \"TURMA RECURSAL\", \"TOTAL DE PROCESSOS\", \"PVALUE\", \"PVALUE INTERPRETACAO\", \"POWER\", \"POWER INTERPRETAÇÃO\", \"EFFECT\", \"EFFECT INTERPRETACAO\" ]\n",
    "    return df_relatorio"
   ]
  },
  {
   "cell_type": "code",
   "execution_count": null,
   "metadata": {},
   "outputs": [],
   "source": [
    "df_relatorio_trt4 = testes_estatisticos_turmas( \"TRT4\", df_quantidades_TRT4 )"
   ]
  },
  {
   "cell_type": "code",
   "execution_count": null,
   "metadata": {},
   "outputs": [],
   "source": [
    "df_relatorio_trt4"
   ]
  },
  {
   "cell_type": "code",
   "execution_count": null,
   "metadata": {},
   "outputs": [],
   "source": [
    "df_relatorio_trt4.to_csv(\"df_relatorio_trt4.csv\", sep=',', encoding='utf-8', quotechar='\"', decimal=',')"
   ]
  },
  {
   "cell_type": "code",
   "execution_count": null,
   "metadata": {},
   "outputs": [],
   "source": [
    "df_relatorio_trt4.describe()"
   ]
  },
  {
   "cell_type": "code",
   "execution_count": null,
   "metadata": {},
   "outputs": [],
   "source": [
    "x_pvalue = df_relatorio_trt4[\"PVALUE INTERPRETACAO\"]\n",
    "x_power = df_relatorio_trt4[\"POWER INTERPRETAÇÃO\"]\n",
    "x_effect = df_relatorio_trt4[\"EFFECT INTERPRETACAO\"]\n",
    "\n",
    "trace1 = go.Histogram(\n",
    "    x=x_pvalue,\n",
    "    name=\"PVALUE INTERPRETACAO\",\n",
    ")\n",
    "\n",
    "trace2 = go.Histogram(\n",
    "    x=x_power,\n",
    "    name=\"POWER INTERPRETAÇÃO\",\n",
    ")\n",
    "\n",
    "trace3 = go.Histogram(\n",
    "    x=x_effect,\n",
    "    name=\"EFFEC INTERPRETACAO\",\n",
    ")\n",
    "\n",
    "layout = go.Layout( title=\"TRT da 4ª Região. Quantidade de Turmas Recursais em cada categoria de propriedade estatística.\",\n",
    "                   #width=1000,\n",
    "                   height=500\n",
    "                  )\n",
    "\n",
    "fig = go.Figure( data = [ trace1, trace2, trace3 ], layout=layout )\n",
    "fig.show()"
   ]
  },
  {
   "cell_type": "code",
   "execution_count": null,
   "metadata": {},
   "outputs": [],
   "source": [
    "df_quantidades_percentuais = df_quantidades_percentuais_TRT4\n",
    "\n",
    "_tipo_requerente_EMPREGADO = df_quantidades_percentuais[\"tipo_requerente_previsto\"] == \"EMPREGADO\"\n",
    "_tipo_requerente_EMPRESA = df_quantidades_percentuais[\"tipo_requerente_previsto\"] == \"EMPRESA\"\n",
    "_tribunal = df_quantidades_percentuais[\"TRIBUNAL\"] == \"TRT4\"\n",
    "\n",
    "layout = go.Layout(\n",
    "    title='Distribuição do percentual de DEFERIMENTOS de acórdãos pelas 11 TURMAS RECURSAIS do TRT da 4ª Região',\n",
    "    yaxis_title_text='Percentual de deferimento',\n",
    "    xaxis_title_text='Parte recorrente no TRT da 4ª Região',\n",
    "    width=1000,\n",
    "    height=700,\n",
    "    #boxgap=1\n",
    ")\n",
    "\n",
    "box_width = 0.15\n",
    "\n",
    "########## EMPREGADOS\n",
    "y_empregado = df_quantidades_percentuais.loc[ _tribunal & _tipo_requerente_EMPREGADO, \"percentual_deferido\"]\n",
    "\n",
    "trace1 = go.Box(\n",
    "    y=y_empregado,\n",
    "    name='EMPREGADOS',\n",
    "    boxmean='sd', # represent mean and standard deviation\n",
    "    boxpoints='all',\n",
    "    width=box_width\n",
    ")\n",
    "\n",
    "########## EMPRESAS\n",
    "y_empresa = df_quantidades_percentuais.loc[ _tribunal & _tipo_requerente_EMPRESA, \"percentual_deferido\"]\n",
    "\n",
    "trace2 = go.Box(\n",
    "    y=y_empresa,\n",
    "    name='EMPRESAS',\n",
    "    boxmean='sd', # represent mean and standard deviation\n",
    "    boxpoints='all',\n",
    "    width=box_width\n",
    ")\n",
    "\n",
    "fig = go.Figure( data = [ trace1, trace2 ], layout=layout )\n",
    "\n",
    "########## LEGENDAS EMPREGADOS\n",
    "for legenda in zip( [\"Mínimo\",\"Q1\",\"Mediana\",\"Q3\",\"Máximo\"], df_quantidades_percentuais.loc[ _tribunal & _tipo_requerente_EMPREGADO, \"percentual_deferido\"].quantile([0,0.25,0.5,0.75,1]) ):\n",
    "    if(legenda[0] != \"Mediana\"):\n",
    "        fig.add_annotation(\n",
    "            y=legenda[1],\n",
    "            x=0.45,\n",
    "            text=legenda[0] + \": \" + str(round(legenda[1], 2)) + \"%\",\n",
    "            showarrow=False\n",
    "            )\n",
    "\n",
    "media_empregado = np.mean(y_empregado)\n",
    "mediana_empregado = np.median(y_empregado)\n",
    "desvio_padrao_empregado = np.std(y_empregado)\n",
    "\n",
    "fig.add_annotation(\n",
    "        y=media_empregado,\n",
    "        x=0.45,\n",
    "        text=\"Média: \" + str(round(media_empregado, 2)) + \"%<br>Desvio padrão: \" + str(round(desvio_padrao_empregado, 2)) + \"%<br>Mediana: \" + str(round(mediana_empregado, 2)) + \"%<br>\",\n",
    "        showarrow=False\n",
    "        )\n",
    "\n",
    "########## LEGENDAS EMPRESAS\n",
    "for legenda in zip( [\"Mínimo\",\"Q1\",\"Mediana\",\"Q3\",\"Máximo\"], df_quantidades_percentuais.loc[ _tribunal & _tipo_requerente_EMPRESA, \"percentual_deferido\"].quantile([0,0.25,0.5,0.75,1]) ):\n",
    "    if(legenda[0] != \"Mediana\"):\n",
    "        fig.add_annotation(\n",
    "            y=legenda[1],\n",
    "            x=1.45,\n",
    "            text=legenda[0] + \": \" + str(round(legenda[1], 2)) + \"%\",\n",
    "            showarrow=False\n",
    "            )\n",
    "\n",
    "media_empresa = np.mean(y_empresa)\n",
    "mediana_empresa = np.median(y_empresa)\n",
    "desvio_padrao_empresa = np.std(y_empresa)\n",
    "fig.add_annotation(\n",
    "        y=media_empresa,\n",
    "        x=1.45,\n",
    "        text=\"Média: \" + str(round(media_empresa, 2)) + \"%<br>Desvio padrão: \" + str(round(desvio_padrao_empresa, 2)) + \"%<br>Mediana: \" + str(round(mediana_empresa, 2)) + \"%<br>\",\n",
    "        showarrow=False\n",
    "        )\n",
    "\n",
    "fig.show()"
   ]
  },
  {
   "cell_type": "code",
   "execution_count": null,
   "metadata": {},
   "outputs": [],
   "source": []
  },
  {
   "cell_type": "code",
   "execution_count": null,
   "metadata": {},
   "outputs": [],
   "source": []
  },
  {
   "cell_type": "code",
   "execution_count": null,
   "metadata": {},
   "outputs": [],
   "source": []
  },
  {
   "cell_type": "code",
   "execution_count": null,
   "metadata": {},
   "outputs": [],
   "source": []
  },
  {
   "cell_type": "code",
   "execution_count": null,
   "metadata": {},
   "outputs": [],
   "source": []
  },
  {
   "cell_type": "code",
   "execution_count": null,
   "metadata": {},
   "outputs": [],
   "source": []
  },
  {
   "cell_type": "code",
   "execution_count": null,
   "metadata": {},
   "outputs": [],
   "source": []
  },
  {
   "cell_type": "markdown",
   "metadata": {},
   "source": [
    "# TRT 3 - Análise do tribunal de modo geral\n",
    "## Proporção de deferimentos e indeferimentos para ambas as partes"
   ]
  },
  {
   "cell_type": "code",
   "execution_count": null,
   "metadata": {},
   "outputs": [],
   "source": [
    "_tribunal_TRT3 = df_limpo[\"TRIBUNAL\"] == \"TRT3\"\n",
    "X_def = pd.crosstab( df_limpo.loc[ _tribunal_TRT3 ].tipo_requerente_previsto, df_limpo.loc[ _tribunal_TRT3 ].deferimento_previsto ).loc[ :, \"DEFERIMENTO\" ]\n",
    "X_indef = pd.crosstab( df_limpo.loc[ _tribunal_TRT3 ].tipo_requerente_previsto, df_limpo.loc[ _tribunal_TRT3 ].deferimento_previsto ).loc[ :, \"INDEFERIMENTO\" ]\n",
    "rotulos = [ \"EMPREGADO\", \"EMPRESA\" ]"
   ]
  },
  {
   "cell_type": "code",
   "execution_count": null,
   "metadata": {},
   "outputs": [],
   "source": [
    "porporcao_empregado, porporcao_empresa  = pd.crosstab( df_limpo.loc[ _tribunal_TRT3 ].tipo_requerente_previsto, df_limpo.loc[ _tribunal_TRT3 ].deferimento_previsto ).apply(lambda r:r/r.sum(),axis=1).loc[ :,  \"DEFERIMENTO\" ].to_numpy().flatten()"
   ]
  },
  {
   "cell_type": "code",
   "execution_count": null,
   "metadata": {},
   "outputs": [],
   "source": [
    "#DEFERIMENTO\n",
    "trace1 = go.Bar(x = X_def,\n",
    "                y = rotulos,  \n",
    "                orientation=\"h\",\n",
    "                textposition='auto',\n",
    "                textfont=dict(\n",
    "        family=\"sans serif\",\n",
    "        size=18,\n",
    "        color=\"black\"),\n",
    "                name=\"DEFERIMENTO\" )\n",
    "#INDEFERIMENTO\n",
    "trace2 = go.Bar(x = X_indef,\n",
    "                y = rotulos,\n",
    "                orientation=\"h\",\n",
    "                textposition='auto',\n",
    "                name=\"INDEFERIMENTO\" )\n",
    "\n",
    "layout = go.Layout( title=\"TRT da 3ª Região. Porcentagem de julgamentos favoráveis para cada uma das partes.\",\n",
    "                    barmode=\"stack\",\n",
    "                    barnorm=\"percent\",                    \n",
    "                    )\n",
    "\n",
    "fig = go.Figure( data = [ trace1, trace2 ], layout=layout )\n",
    "\n",
    "fig.add_annotation(\n",
    "        y=\"EMPREGADO\",\n",
    "        x = ( porporcao_empregado*100 ) - 3,\n",
    "        text=str( round( porporcao_empregado*100, 2) )+\"%\",\n",
    "        showarrow=False,\n",
    "        font=dict(\n",
    "                size=16,\n",
    "                color=\"#ffffff\"\n",
    "                ),\n",
    "        )\n",
    "\n",
    "fig.add_annotation(\n",
    "        y=\"EMPRESA\",\n",
    "        x = ( porporcao_empresa*100 ) - 3,\n",
    "        text=str( round( porporcao_empresa*100, 2) )+\"%\",\n",
    "        showarrow=False,\n",
    "        font=dict(\n",
    "                size=16,\n",
    "                color=\"#ffffff\"\n",
    "                ),\n",
    "        )\n",
    "\n",
    "fig.show()"
   ]
  },
  {
   "cell_type": "markdown",
   "metadata": {},
   "source": [
    "### Interpretação\n",
    "Do total de recursos que as <strong>EMPRESAS</strong> recorreram ao TRT da 3ª Região, <strong>39,27%</strong> foram DEFERIDOS. Considerando apenas sentenças em que houve recurso somente da EMPRESA.<BR>\n",
    "Do total de recursos que as <strong>EMPREGADOS</strong> recorreram ao TRT da 3ª Região, <strong>50,24%</strong> foram DEFERIDOS. Considerando apenas sentenças em que houve recurso somente do EMPREGADO.<BR>"
   ]
  },
  {
   "cell_type": "code",
   "execution_count": null,
   "metadata": {},
   "outputs": [],
   "source": [
    "print( \"Quantidade de processos analisados: \"+str( len( df_limpo.loc[ _tribunal_TRT3 ] ) ) )"
   ]
  },
  {
   "cell_type": "code",
   "execution_count": null,
   "metadata": {},
   "outputs": [],
   "source": [
    "tipo_requerente_previsto_EMPREGADO = df_limpo[\"tipo_requerente_previsto\"] == \"EMPREGADO\"\n",
    "tipo_requerente_previsto_EMPRESA = df_limpo[\"tipo_requerente_previsto\"] == \"EMPRESA\"\n",
    "quantidade_EMPREGADO = len( df_limpo.loc[ _tribunal_TRT3 & tipo_requerente_previsto_EMPREGADO ] )\n",
    "quantidade_EMPRESA = len( df_limpo.loc[ _tribunal_TRT3 & tipo_requerente_previsto_EMPRESA ] )\n",
    "print( \"Recorrente EMPREGADO. Quantidade de processos analisados: \"+str( quantidade_EMPREGADO ) )\n",
    "print( \"Recorrente EMPRESA. Quantidade de processos analisados: \"+str( quantidade_EMPRESA ) )"
   ]
  },
  {
   "cell_type": "markdown",
   "metadata": {},
   "source": [
    "## Teste estatístico: Two proportion z-test\n",
    "### Interpretação"
   ]
  },
  {
   "cell_type": "code",
   "execution_count": null,
   "metadata": {},
   "outputs": [],
   "source": [
    "n_deferimento_empregado, n_indeferimento_empregado, n_deferimento_empresa, n_indeferimento_empresa =  pd.crosstab( df_limpo.loc[ _tribunal_TRT3 ].tipo_requerente_previsto, df_limpo.loc[ _tribunal_TRT3 ].deferimento_previsto ).to_numpy().flatten()\n",
    "total_empregado = n_deferimento_empregado + n_indeferimento_empregado\n",
    "total_empresa = n_deferimento_empresa + n_indeferimento_empresa\n",
    "pvalue = proportion.test_proportions_2indep( n_deferimento_empregado, total_empregado, n_deferimento_empresa, total_empresa )[1]"
   ]
  },
  {
   "cell_type": "code",
   "execution_count": null,
   "metadata": {},
   "outputs": [],
   "source": [
    "print( \"P-value: \"+str(round(pvalue*100, 2) )+\"%\" )\n",
    "if( pvalue < 0.05 ):\n",
    "    print( \"SIM, apresenta diferença estatística entre a proporção de deferimentos para empregado e para empresa.\" )\n",
    "else:\n",
    "    print( \"NÃO, não apresenta diferença estatística entre a proporção de deferimentos para empregado e para empresa.\" )"
   ]
  },
  {
   "cell_type": "code",
   "execution_count": null,
   "metadata": {},
   "outputs": [],
   "source": [
    "pvalue"
   ]
  },
  {
   "cell_type": "code",
   "execution_count": null,
   "metadata": {},
   "outputs": [],
   "source": [
    "P1 = n_deferimento_empregado / total_empregado\n",
    "P2 = n_deferimento_empresa / total_empresa\n",
    "diff = P1 - P2\n",
    "power = proportion.power_proportions_2indep( diff, P2, total_empregado,  total_empresa/total_empregado, alpha=0.05, value=0, alternative='two-sided', return_results=True).power\n",
    "print( \"Power: \"+str(round(power*100, 2) )+\"%\" )\n",
    "if( power < 0.8 ):\n",
    "    print( \"Nível inaceitável de força estatística. Risco considerável de ocorrer Type 2 error, ou seja, há risco de não haver diferença entre as proporções (se foi encontrada diferença).\" )\n",
    "else:\n",
    "    print( \"Nível aceitável de força estatística. Risco baixo de ocorrer Type 2 error, ou seja, há risco baixo de não haver diferença entre as proporções (se foi encontrada diferença).\" )"
   ]
  },
  {
   "cell_type": "markdown",
   "metadata": {},
   "source": [
    "## Teste de efeito estatístico: Cohen's H\n",
    "### Interpretação"
   ]
  },
  {
   "cell_type": "code",
   "execution_count": null,
   "metadata": {},
   "outputs": [],
   "source": [
    "effectsize = proportion_effectsize( porporcao_empregado, porporcao_empresa )"
   ]
  },
  {
   "cell_type": "code",
   "execution_count": null,
   "metadata": {},
   "outputs": [],
   "source": [
    "print( \"Índice Cohen's H: \"+str(abs(round(effectsize*100, 2) ) )+\"%\" )\n",
    "hNonDir = abs(effectsize)\n",
    "if hNonDir < .20:\n",
    "    print('Diferença estatística insignificante.')\n",
    "elif hNonDir < .50:\n",
    "    print('Diferença estatística pequena.')\n",
    "elif hNonDir < .80:\n",
    "    print('Diferença estatística média.')\n",
    "else:\n",
    "    print('Diferença estatística grande.')    "
   ]
  },
  {
   "cell_type": "markdown",
   "metadata": {},
   "source": [
    "# TRT 3 - Análise das Turmas Recursais individualmente"
   ]
  },
  {
   "cell_type": "code",
   "execution_count": null,
   "metadata": {},
   "outputs": [],
   "source": [
    "_tribunal_TRT3 = df_quantidades_TRT3[\"TRIBUNAL\"] == \"TRT3\"\n",
    "_polaridade_def = df_quantidades_TRT3[\"deferimento_previsto\"] == \"DEFERIMENTO\"\n",
    "_polaridade_indef = df_quantidades_TRT3[\"deferimento_previsto\"] == \"INDEFERIMENTO\"\n",
    "\n",
    "X_def = df_quantidades_TRT3.loc[ _tribunal_TRT3 & _polaridade_def , \"QUANTIDADE\" ]\n",
    "Y_def_orgao = df_quantidades_TRT3.loc[ _tribunal_TRT3 & _polaridade_def , \"ORGAO\" ]\n",
    "Y_def_recorrente = df_quantidades_TRT3.loc[ _tribunal_TRT3 & _polaridade_def , \"tipo_requerente_previsto\" ]\n",
    "\n",
    "X_indef = df_quantidades_TRT3.loc[ _tribunal_TRT3 & _polaridade_indef , \"QUANTIDADE\" ]\n",
    "Y_indef_orgao = df_quantidades_TRT3.loc[ _tribunal_TRT3 & _polaridade_indef , \"ORGAO\" ]\n",
    "Y_indef_recorrente = df_quantidades_TRT3.loc[ _tribunal_TRT3 & _polaridade_indef , \"tipo_requerente_previsto\" ]"
   ]
  },
  {
   "cell_type": "code",
   "execution_count": null,
   "metadata": {},
   "outputs": [],
   "source": [
    "#deferido\n",
    "trace1 = go.Bar(x = X_def,\n",
    "                y = [ Y_def_orgao,\n",
    "                      Y_def_recorrente ],  \n",
    "                orientation=\"h\",\n",
    "                name=\"DEFERIMENTO\" )\n",
    "#indeferido\n",
    "trace2 = go.Bar(x = X_indef,\n",
    "                y = [ Y_indef_orgao,\n",
    "                      Y_indef_recorrente ],\n",
    "                orientation=\"h\",\n",
    "                name=\"INDEFERIMENTO\" )\n",
    "\n",
    "layout = go.Layout( \n",
    "    title=\"TRT da 3ª Região. Porcentagem de julgamentos favoráveis <br>para cada uma das partes em relação a cada Turma Recursal.\",\n",
    "    barmode=\"stack\",\n",
    "    barnorm=\"percent\",\n",
    "    margin=dict(l=400),\n",
    "    width=1000,\n",
    "    height=1000\n",
    "    )\n",
    "\n",
    "fig = go.Figure( data = [ trace1, trace2 ], layout=layout )"
   ]
  },
  {
   "cell_type": "code",
   "execution_count": null,
   "metadata": {},
   "outputs": [],
   "source": [
    "_tribunal_TRT3 = df_quantidades_percentuais_TRT3[\"TRIBUNAL\"] == \"TRT3\"\n",
    "orgaos = df_quantidades_percentuais_TRT3.loc[ _tribunal_TRT3, \"ORGAO\"].to_numpy()\n",
    "percentuais_deferimento = df_quantidades_percentuais_TRT3.loc[ _tribunal_TRT3, \"percentual_deferido\"].to_numpy()\n",
    "tipo_parte = df_quantidades_percentuais_TRT3.loc[ _tribunal_TRT3, \"tipo_requerente_previsto\"].to_numpy()"
   ]
  },
  {
   "cell_type": "code",
   "execution_count": null,
   "metadata": {},
   "outputs": [],
   "source": [
    "for i in range( len( orgaos ) ):\n",
    "    fig.add_annotation(\n",
    "            y= [ orgaos[i], tipo_parte[i] ],\n",
    "            x = ( percentuais_deferimento[i] ) - 10,\n",
    "            text=str( round( percentuais_deferimento[i], 2) )+\"%\",\n",
    "            showarrow=False,\n",
    "            font=dict(\n",
    "                    size=16,\n",
    "                    color=\"#ffffff\"\n",
    "                    ),\n",
    "            )\n",
    "\n",
    "fig.show()"
   ]
  },
  {
   "cell_type": "markdown",
   "metadata": {},
   "source": [
    "### Interpretação\n",
    "O gráfico anterior apresenta as porcentagens de deferimento em relação a cada Turma Recursal em relação a parte sendo empregado e empresa."
   ]
  },
  {
   "cell_type": "markdown",
   "metadata": {},
   "source": [
    "## Teste estatístico: Two proportion z-test e Teste de efeito estatístico: Cohen's H para cada Turma Recursal\n",
    "### Interpretação"
   ]
  },
  {
   "cell_type": "code",
   "execution_count": null,
   "metadata": {},
   "outputs": [],
   "source": [
    "df_relatorio_trt3 = testes_estatisticos_turmas( \"TRT3\", df_quantidades_TRT3 )"
   ]
  },
  {
   "cell_type": "code",
   "execution_count": null,
   "metadata": {},
   "outputs": [],
   "source": [
    "df_relatorio_trt3"
   ]
  },
  {
   "cell_type": "code",
   "execution_count": null,
   "metadata": {},
   "outputs": [],
   "source": [
    "df_relatorio_trt3.describe()"
   ]
  },
  {
   "cell_type": "code",
   "execution_count": null,
   "metadata": {},
   "outputs": [],
   "source": [
    "x_pvalue = df_relatorio_trt3[\"PVALUE INTERPRETACAO\"]\n",
    "x_power = df_relatorio_trt3[\"POWER INTERPRETAÇÃO\"]\n",
    "x_effect = df_relatorio_trt3[\"EFFECT INTERPRETACAO\"]\n",
    "\n",
    "trace1 = go.Histogram(\n",
    "    x=x_pvalue,\n",
    "    name=\"PVALUE INTERPRETACAO\",\n",
    ")\n",
    "\n",
    "trace2 = go.Histogram(\n",
    "    x=x_power,\n",
    "    name=\"POWER INTERPRETAÇÃO\",\n",
    ")\n",
    "\n",
    "trace3 = go.Histogram(\n",
    "    x=x_effect,\n",
    "    name=\"EFFEC INTERPRETACAO\",\n",
    ")\n",
    "\n",
    "layout = go.Layout( title=\"TRT da 3ª Região. Quantidade de Turmas Recursais em cada categoria de propriedade estatística.\",\n",
    "                   #width=1000,\n",
    "                   height=500\n",
    "                  )\n",
    "\n",
    "fig = go.Figure( data = [ trace1, trace2, trace3 ], layout=layout )\n",
    "fig.show()"
   ]
  },
  {
   "cell_type": "code",
   "execution_count": null,
   "metadata": {},
   "outputs": [],
   "source": [
    "df_quantidades_percentuais = df_quantidades_percentuais_TRT3\n",
    "\n",
    "_tipo_requerente_EMPREGADO = df_quantidades_percentuais[\"tipo_requerente_previsto\"] == \"EMPREGADO\"\n",
    "_tipo_requerente_EMPRESA = df_quantidades_percentuais[\"tipo_requerente_previsto\"] == \"EMPRESA\"\n",
    "_tribunal = df_quantidades_percentuais[\"TRIBUNAL\"] == \"TRT3\"\n",
    "\n",
    "layout = go.Layout(\n",
    "    title='Distribuição do percentual de DEFERIMENTOS de acórdãos pelas 11 TURMAS RECURSAIS do TRT da 3ª Região',\n",
    "    yaxis_title_text='Percentual de deferimento',\n",
    "    xaxis_title_text='Parte recorrente no TRT da 3ª Região',\n",
    "    width=1000,\n",
    "    height=700,\n",
    "    #boxgap=1\n",
    ")\n",
    "\n",
    "box_width = 0.15\n",
    "\n",
    "########## EMPREGADOS\n",
    "y_empregado = df_quantidades_percentuais.loc[ _tribunal & _tipo_requerente_EMPREGADO, \"percentual_deferido\"]\n",
    "\n",
    "trace1 = go.Box(\n",
    "    y=y_empregado,\n",
    "    name='EMPREGADOS',\n",
    "    boxmean='sd', # represent mean and standard deviation\n",
    "    boxpoints='all',\n",
    "    width=box_width\n",
    ")\n",
    "\n",
    "########## EMPRESAS\n",
    "y_empresa = df_quantidades_percentuais.loc[ _tribunal & _tipo_requerente_EMPRESA, \"percentual_deferido\"]\n",
    "\n",
    "trace2 = go.Box(\n",
    "    y=y_empresa,\n",
    "    name='EMPRESAS',\n",
    "    boxmean='sd', # represent mean and standard deviation\n",
    "    boxpoints='all',\n",
    "    width=box_width\n",
    ")\n",
    "\n",
    "fig = go.Figure( data = [ trace1, trace2 ], layout=layout )\n",
    "\n",
    "########## LEGENDAS EMPREGADOS\n",
    "for legenda in zip( [\"Mínimo\",\"Q1\",\"Mediana\",\"Q3\",\"Máximo\"], df_quantidades_percentuais.loc[ _tribunal & _tipo_requerente_EMPREGADO, \"percentual_deferido\"].quantile([0,0.25,0.5,0.75,1]) ):\n",
    "    if(legenda[0] != \"Mediana\"):\n",
    "        fig.add_annotation(\n",
    "            y=legenda[1],\n",
    "            x=0.45,\n",
    "            text=legenda[0] + \": \" + str(round(legenda[1], 2)) + \"%\",\n",
    "            showarrow=False\n",
    "            )\n",
    "\n",
    "media_empregado = np.mean(y_empregado)\n",
    "mediana_empregado = np.median(y_empregado)\n",
    "desvio_padrao_empregado = np.std(y_empregado)\n",
    "\n",
    "fig.add_annotation(\n",
    "        y=media_empregado,\n",
    "        x=0.45,\n",
    "        text=\"Média: \" + str(round(media_empregado, 2)) + \"%<br>Desvio padrão: \" + str(round(desvio_padrao_empregado, 2)) + \"%<br>Mediana: \" + str(round(mediana_empregado, 2)) + \"%<br>\",\n",
    "        showarrow=False\n",
    "        )\n",
    "\n",
    "########## LEGENDAS EMPRESAS\n",
    "for legenda in zip( [\"Mínimo\",\"Q1\",\"Mediana\",\"Q3\",\"Máximo\"], df_quantidades_percentuais.loc[ _tribunal & _tipo_requerente_EMPRESA, \"percentual_deferido\"].quantile([0,0.25,0.5,0.75,1]) ):\n",
    "    if(legenda[0] != \"Mediana\"):\n",
    "        fig.add_annotation(\n",
    "            y=legenda[1],\n",
    "            x=1.45,\n",
    "            text=legenda[0] + \": \" + str(round(legenda[1], 2)) + \"%\",\n",
    "            showarrow=False\n",
    "            )\n",
    "\n",
    "media_empresa = np.mean(y_empresa)\n",
    "mediana_empresa = np.median(y_empresa)\n",
    "desvio_padrao_empresa = np.std(y_empresa)\n",
    "fig.add_annotation(\n",
    "        y=media_empresa,\n",
    "        x=1.45,\n",
    "        text=\"Média: \" + str(round(media_empresa, 2)) + \"%<br>Desvio padrão: \" + str(round(desvio_padrao_empresa, 2)) + \"%<br>Mediana: \" + str(round(mediana_empresa, 2)) + \"%<br>\",\n",
    "        showarrow=False\n",
    "        )\n",
    "\n",
    "fig.show()"
   ]
  },
  {
   "cell_type": "code",
   "execution_count": null,
   "metadata": {},
   "outputs": [],
   "source": []
  },
  {
   "cell_type": "code",
   "execution_count": null,
   "metadata": {},
   "outputs": [],
   "source": []
  }
 ],
 "metadata": {
  "kernelspec": {
   "display_name": "Python 3",
   "language": "python",
   "name": "python3"
  },
  "language_info": {
   "codemirror_mode": {
    "name": "ipython",
    "version": 3
   },
   "file_extension": ".py",
   "mimetype": "text/x-python",
   "name": "python",
   "nbconvert_exporter": "python",
   "pygments_lexer": "ipython3",
   "version": "3.6.14"
  }
 },
 "nbformat": 4,
 "nbformat_minor": 4
}
