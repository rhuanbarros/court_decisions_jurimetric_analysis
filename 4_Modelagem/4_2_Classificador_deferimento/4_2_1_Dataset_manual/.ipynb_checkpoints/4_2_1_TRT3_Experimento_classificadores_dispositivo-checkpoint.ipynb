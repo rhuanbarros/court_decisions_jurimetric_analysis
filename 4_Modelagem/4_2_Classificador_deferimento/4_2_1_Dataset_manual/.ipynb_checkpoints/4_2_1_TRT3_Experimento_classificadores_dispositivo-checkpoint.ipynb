{
 "cells": [
  {
   "cell_type": "markdown",
   "metadata": {},
   "source": [
    "# Desenvolvimento de um classificador que identifica se o dispositivo defere ou indefere determinado recurso"
   ]
  },
  {
   "cell_type": "markdown",
   "metadata": {},
   "source": [
    "## Carregamento dos datasets"
   ]
  },
  {
   "cell_type": "code",
   "execution_count": 304,
   "metadata": {},
   "outputs": [
    {
     "name": "stdout",
     "output_type": "stream",
     "text": [
      "TRT 4\n",
      "<class 'pandas.core.frame.DataFrame'>\n",
      "RangeIndex: 29718 entries, 0 to 29717\n",
      "Data columns (total 2 columns):\n",
      "DISPOSITIVO    29709 non-null object\n",
      "LABEL          270 non-null float64\n",
      "dtypes: float64(1), object(1)\n",
      "memory usage: 464.5+ KB\n",
      "None\n"
     ]
    }
   ],
   "source": [
    "import pandas as pd\n",
    "\n",
    "arquivo_trt4 = \"E:\\\\OneDrive\\\\Documentos\\\\pesquisa_codigos_2020\\\\pesquisa_jurimetria_polaridade_final\\\\3_Preparacao_dos_dados\\\\3_2_Anotacao_documentos\\\\Datasets_anotados_manual\\\\df_TRT4_dispositivo_anotado_manual.xlsx\"\n",
    "df_trt4 = pd.read_excel( arquivo_trt4, encoding=\"utf-8\" )\n",
    "print( \"TRT 4\")\n",
    "print( df_trt4.info() )"
   ]
  },
  {
   "cell_type": "markdown",
   "metadata": {},
   "source": [
    "## Ajustes e limpeza"
   ]
  },
  {
   "cell_type": "code",
   "execution_count": 305,
   "metadata": {},
   "outputs": [
    {
     "name": "stdout",
     "output_type": "stream",
     "text": [
      "<class 'pandas.core.frame.DataFrame'>\n",
      "Int64Index: 270 entries, 0 to 29687\n",
      "Data columns (total 2 columns):\n",
      "DISPOSITIVO    270 non-null object\n",
      "LABEL          270 non-null float64\n",
      "dtypes: float64(1), object(1)\n",
      "memory usage: 6.3+ KB\n"
     ]
    }
   ],
   "source": [
    "df_trt4 = df_trt4.dropna()\n",
    "df_trt4.info()"
   ]
  },
  {
   "cell_type": "code",
   "execution_count": 306,
   "metadata": {},
   "outputs": [],
   "source": [
    "#limpeza de caracteres em branco\n",
    "df_trt4[\"DISPOSITIVO\"] = df_trt4[\"DISPOSITIVO\"].astype(str).map(str.strip)"
   ]
  },
  {
   "cell_type": "code",
   "execution_count": 307,
   "metadata": {},
   "outputs": [
    {
     "name": "stdout",
     "output_type": "stream",
     "text": [
      "<class 'pandas.core.frame.DataFrame'>\n",
      "Int64Index: 270 entries, 0 to 29687\n",
      "Data columns (total 2 columns):\n",
      "DISPOSITIVO    270 non-null object\n",
      "LABEL          270 non-null float64\n",
      "dtypes: float64(1), object(1)\n",
      "memory usage: 6.3+ KB\n"
     ]
    }
   ],
   "source": [
    "#apenas para facilitar o copia e cola entre experimentos\n",
    "df_tudo = pd.DataFrame()\n",
    "df_tudo = df_tudo.append( df_trt4 )\n",
    "df_tudo.info()"
   ]
  },
  {
   "cell_type": "markdown",
   "metadata": {},
   "source": [
    "## Revisão dos dados carregados\n"
   ]
  },
  {
   "cell_type": "code",
   "execution_count": 308,
   "metadata": {},
   "outputs": [
    {
     "data": {
      "text/html": [
       "<div>\n",
       "<style scoped>\n",
       "    .dataframe tbody tr th:only-of-type {\n",
       "        vertical-align: middle;\n",
       "    }\n",
       "\n",
       "    .dataframe tbody tr th {\n",
       "        vertical-align: top;\n",
       "    }\n",
       "\n",
       "    .dataframe thead th {\n",
       "        text-align: right;\n",
       "    }\n",
       "</style>\n",
       "<table border=\"1\" class=\"dataframe\">\n",
       "  <thead>\n",
       "    <tr style=\"text-align: right;\">\n",
       "      <th></th>\n",
       "      <th>DISPOSITIVO</th>\n",
       "      <th>LABEL</th>\n",
       "    </tr>\n",
       "  </thead>\n",
       "  <tbody>\n",
       "    <tr>\n",
       "      <td>0</td>\n",
       "      <td>ACORDAM os Magistrados integrantes da 8ª Turma...</td>\n",
       "      <td>1.0</td>\n",
       "    </tr>\n",
       "    <tr>\n",
       "      <td>1</td>\n",
       "      <td>ACORDAM os Magistrados integrantes da 1ª Turma...</td>\n",
       "      <td>2.0</td>\n",
       "    </tr>\n",
       "    <tr>\n",
       "      <td>2</td>\n",
       "      <td>ACORDAM os Magistrados integrantes da 8ª Turma...</td>\n",
       "      <td>2.0</td>\n",
       "    </tr>\n",
       "    <tr>\n",
       "      <td>3</td>\n",
       "      <td>ACORDAM os Magistrados integrantes da 5ª Turma...</td>\n",
       "      <td>2.0</td>\n",
       "    </tr>\n",
       "    <tr>\n",
       "      <td>4</td>\n",
       "      <td>ACORDAM os Magistrados integrantes da 8ª Turma...</td>\n",
       "      <td>2.0</td>\n",
       "    </tr>\n",
       "  </tbody>\n",
       "</table>\n",
       "</div>"
      ],
      "text/plain": [
       "                                         DISPOSITIVO  LABEL\n",
       "0  ACORDAM os Magistrados integrantes da 8ª Turma...    1.0\n",
       "1  ACORDAM os Magistrados integrantes da 1ª Turma...    2.0\n",
       "2  ACORDAM os Magistrados integrantes da 8ª Turma...    2.0\n",
       "3  ACORDAM os Magistrados integrantes da 5ª Turma...    2.0\n",
       "4  ACORDAM os Magistrados integrantes da 8ª Turma...    2.0"
      ]
     },
     "execution_count": 308,
     "metadata": {},
     "output_type": "execute_result"
    }
   ],
   "source": [
    "df_tudo.head()"
   ]
  },
  {
   "cell_type": "code",
   "execution_count": 309,
   "metadata": {},
   "outputs": [
    {
     "data": {
      "text/plain": [
       "array([1., 2.])"
      ]
     },
     "execution_count": 309,
     "metadata": {},
     "output_type": "execute_result"
    }
   ],
   "source": [
    "df_tudo[\"LABEL\"].unique()"
   ]
  },
  {
   "cell_type": "markdown",
   "metadata": {},
   "source": [
    "## Visualização da distribuição da classes\n",
    "1 = DEFERIDO\n",
    "<BR> 2 = INDEFERIDO"
   ]
  },
  {
   "cell_type": "code",
   "execution_count": 310,
   "metadata": {},
   "outputs": [
    {
     "data": {
      "text/plain": [
       "<matplotlib.axes._subplots.AxesSubplot at 0x2178b851c88>"
      ]
     },
     "execution_count": 310,
     "metadata": {},
     "output_type": "execute_result"
    },
    {
     "data": {
      "image/png": "[encoded data removed]",
      "image/svg+xml": [
       "<?xml version=\"1.0\" encoding=\"utf-8\" standalone=\"no\"?>\r\n",
       "<!DOCTYPE svg PUBLIC \"-//W3C//DTD SVG 1.1//EN\"\r\n",
       "  \"http://www.w3.org/Graphics/SVG/1.1/DTD/svg11.dtd\">\r\n",
       "<!-- Created with matplotlib (https://matplotlib.org/) -->\r\n",
       "<svg height=\"248.518125pt\" version=\"1.1\" viewBox=\"0 0 375.2875 248.518125\" width=\"375.2875pt\" xmlns=\"http://www.w3.org/2000/svg\" xmlns:xlink=\"http://www.w3.org/1999/xlink\">\r\n",
       " <defs>\r\n",
       "  <style type=\"text/css\">\r\n",
       "*{stroke-linecap:butt;stroke-linejoin:round;}\r\n",
       "  </style>\r\n",
       " </defs>\r\n",
       " <g id=\"figure_1\">\r\n",
       "  <g id=\"patch_1\">\r\n",
       "   <path d=\"M 0 248.518125 \r\n",
       "L 375.2875 248.518125 \r\n",
       "L 375.2875 0 \r\n",
       "L 0 0 \r\n",
       "z\r\n",
       "\" style=\"fill:none;\"/>\r\n",
       "  </g>\r\n",
       "  <g id=\"axes_1\">\r\n",
       "   <g id=\"patch_2\">\r\n",
       "    <path d=\"M 33.2875 224.64 \r\n",
       "L 368.0875 224.64 \r\n",
       "L 368.0875 7.2 \r\n",
       "L 33.2875 7.2 \r\n",
       "z\r\n",
       "\" style=\"fill:#ffffff;\"/>\r\n",
       "   </g>\r\n",
       "   <g id=\"patch_3\">\r\n",
       "    <path clip-path=\"url(#p911164ee31)\" d=\"M 48.505682 224.64 \r\n",
       "L 78.942045 224.64 \r\n",
       "L 78.942045 46.117833 \r\n",
       "L 48.505682 46.117833 \r\n",
       "z\r\n",
       "\" style=\"fill:#1f77b4;\"/>\r\n",
       "   </g>\r\n",
       "   <g id=\"patch_4\">\r\n",
       "    <path clip-path=\"url(#p911164ee31)\" d=\"M 78.942045 224.64 \r\n",
       "L 109.378409 224.64 \r\n",
       "L 109.378409 224.64 \r\n",
       "L 78.942045 224.64 \r\n",
       "z\r\n",
       "\" style=\"fill:#1f77b4;\"/>\r\n",
       "   </g>\r\n",
       "   <g id=\"patch_5\">\r\n",
       "    <path clip-path=\"url(#p911164ee31)\" d=\"M 109.378409 224.64 \r\n",
       "L 139.814773 224.64 \r\n",
       "L 139.814773 224.64 \r\n",
       "L 109.378409 224.64 \r\n",
       "z\r\n",
       "\" style=\"fill:#1f77b4;\"/>\r\n",
       "   </g>\r\n",
       "   <g id=\"patch_6\">\r\n",
       "    <path clip-path=\"url(#p911164ee31)\" d=\"M 139.814773 224.64 \r\n",
       "L 170.251136 224.64 \r\n",
       "L 170.251136 224.64 \r\n",
       "L 139.814773 224.64 \r\n",
       "z\r\n",
       "\" style=\"fill:#1f77b4;\"/>\r\n",
       "   </g>\r\n",
       "   <g id=\"patch_7\">\r\n",
       "    <path clip-path=\"url(#p911164ee31)\" d=\"M 170.251136 224.64 \r\n",
       "L 200.6875 224.64 \r\n",
       "L 200.6875 224.64 \r\n",
       "L 170.251136 224.64 \r\n",
       "z\r\n",
       "\" style=\"fill:#1f77b4;\"/>\r\n",
       "   </g>\r\n",
       "   <g id=\"patch_8\">\r\n",
       "    <path clip-path=\"url(#p911164ee31)\" d=\"M 200.6875 224.64 \r\n",
       "L 231.123864 224.64 \r\n",
       "L 231.123864 224.64 \r\n",
       "L 200.6875 224.64 \r\n",
       "z\r\n",
       "\" style=\"fill:#1f77b4;\"/>\r\n",
       "   </g>\r\n",
       "   <g id=\"patch_9\">\r\n",
       "    <path clip-path=\"url(#p911164ee31)\" d=\"M 231.123864 224.64 \r\n",
       "L 261.560227 224.64 \r\n",
       "L 261.560227 224.64 \r\n",
       "L 231.123864 224.64 \r\n",
       "z\r\n",
       "\" style=\"fill:#1f77b4;\"/>\r\n",
       "   </g>\r\n",
       "   <g id=\"patch_10\">\r\n",
       "    <path clip-path=\"url(#p911164ee31)\" d=\"M 261.560227 224.64 \r\n",
       "L 291.996591 224.64 \r\n",
       "L 291.996591 224.64 \r\n",
       "L 261.560227 224.64 \r\n",
       "z\r\n",
       "\" style=\"fill:#1f77b4;\"/>\r\n",
       "   </g>\r\n",
       "   <g id=\"patch_11\">\r\n",
       "    <path clip-path=\"url(#p911164ee31)\" d=\"M 291.996591 224.64 \r\n",
       "L 322.432955 224.64 \r\n",
       "L 322.432955 224.64 \r\n",
       "L 291.996591 224.64 \r\n",
       "z\r\n",
       "\" style=\"fill:#1f77b4;\"/>\r\n",
       "   </g>\r\n",
       "   <g id=\"patch_12\">\r\n",
       "    <path clip-path=\"url(#p911164ee31)\" d=\"M 322.432955 224.64 \r\n",
       "L 352.869318 224.64 \r\n",
       "L 352.869318 17.554286 \r\n",
       "L 322.432955 17.554286 \r\n",
       "z\r\n",
       "\" style=\"fill:#1f77b4;\"/>\r\n",
       "   </g>\r\n",
       "   <g id=\"matplotlib.axis_1\">\r\n",
       "    <g id=\"xtick_1\">\r\n",
       "     <g id=\"line2d_1\">\r\n",
       "      <path clip-path=\"url(#p911164ee31)\" d=\"M 48.505682 224.64 \r\n",
       "L 48.505682 7.2 \r\n",
       "\" style=\"fill:none;stroke:#b0b0b0;stroke-linecap:square;stroke-width:0.8;\"/>\r\n",
       "     </g>\r\n",
       "     <g id=\"line2d_2\">\r\n",
       "      <defs>\r\n",
       "       <path d=\"M 0 0 \r\n",
       "L 0 3.5 \r\n",
       "\" id=\"m7debd31ee1\" style=\"stroke:#000000;stroke-width:0.8;\"/>\r\n",
       "      </defs>\r\n",
       "      <g>\r\n",
       "       <use style=\"stroke:#000000;stroke-width:0.8;\" x=\"48.505682\" xlink:href=\"#m7debd31ee1\" y=\"224.64\"/>\r\n",
       "      </g>\r\n",
       "     </g>\r\n",
       "     <g id=\"text_1\">\r\n",
       "      <!-- 1.0 -->\r\n",
       "      <defs>\r\n",
       "       <path d=\"M 12.40625 8.296875 \r\n",
       "L 28.515625 8.296875 \r\n",
       "L 28.515625 63.921875 \r\n",
       "L 10.984375 60.40625 \r\n",
       "L 10.984375 69.390625 \r\n",
       "L 28.421875 72.90625 \r\n",
       "L 38.28125 72.90625 \r\n",
       "L 38.28125 8.296875 \r\n",
       "L 54.390625 8.296875 \r\n",
       "L 54.390625 0 \r\n",
       "L 12.40625 0 \r\n",
       "z\r\n",
       "\" id=\"DejaVuSans-49\"/>\r\n",
       "       <path d=\"M 10.6875 12.40625 \r\n",
       "L 21 12.40625 \r\n",
       "L 21 0 \r\n",
       "L 10.6875 0 \r\n",
       "z\r\n",
       "\" id=\"DejaVuSans-46\"/>\r\n",
       "       <path d=\"M 31.78125 66.40625 \r\n",
       "Q 24.171875 66.40625 20.328125 58.90625 \r\n",
       "Q 16.5 51.421875 16.5 36.375 \r\n",
       "Q 16.5 21.390625 20.328125 13.890625 \r\n",
       "Q 24.171875 6.390625 31.78125 6.390625 \r\n",
       "Q 39.453125 6.390625 43.28125 13.890625 \r\n",
       "Q 47.125 21.390625 47.125 36.375 \r\n",
       "Q 47.125 51.421875 43.28125 58.90625 \r\n",
       "Q 39.453125 66.40625 31.78125 66.40625 \r\n",
       "z\r\n",
       "M 31.78125 74.21875 \r\n",
       "Q 44.046875 74.21875 50.515625 64.515625 \r\n",
       "Q 56.984375 54.828125 56.984375 36.375 \r\n",
       "Q 56.984375 17.96875 50.515625 8.265625 \r\n",
       "Q 44.046875 -1.421875 31.78125 -1.421875 \r\n",
       "Q 19.53125 -1.421875 13.0625 8.265625 \r\n",
       "Q 6.59375 17.96875 6.59375 36.375 \r\n",
       "Q 6.59375 54.828125 13.0625 64.515625 \r\n",
       "Q 19.53125 74.21875 31.78125 74.21875 \r\n",
       "z\r\n",
       "\" id=\"DejaVuSans-48\"/>\r\n",
       "      </defs>\r\n",
       "      <g transform=\"translate(40.554119 239.238437)scale(0.1 -0.1)\">\r\n",
       "       <use xlink:href=\"#DejaVuSans-49\"/>\r\n",
       "       <use x=\"63.623047\" xlink:href=\"#DejaVuSans-46\"/>\r\n",
       "       <use x=\"95.410156\" xlink:href=\"#DejaVuSans-48\"/>\r\n",
       "      </g>\r\n",
       "     </g>\r\n",
       "    </g>\r\n",
       "    <g id=\"xtick_2\">\r\n",
       "     <g id=\"line2d_3\">\r\n",
       "      <path clip-path=\"url(#p911164ee31)\" d=\"M 109.378409 224.64 \r\n",
       "L 109.378409 7.2 \r\n",
       "\" style=\"fill:none;stroke:#b0b0b0;stroke-linecap:square;stroke-width:0.8;\"/>\r\n",
       "     </g>\r\n",
       "     <g id=\"line2d_4\">\r\n",
       "      <g>\r\n",
       "       <use style=\"stroke:#000000;stroke-width:0.8;\" x=\"109.378409\" xlink:href=\"#m7debd31ee1\" y=\"224.64\"/>\r\n",
       "      </g>\r\n",
       "     </g>\r\n",
       "     <g id=\"text_2\">\r\n",
       "      <!-- 1.2 -->\r\n",
       "      <defs>\r\n",
       "       <path d=\"M 19.1875 8.296875 \r\n",
       "L 53.609375 8.296875 \r\n",
       "L 53.609375 0 \r\n",
       "L 7.328125 0 \r\n",
       "L 7.328125 8.296875 \r\n",
       "Q 12.9375 14.109375 22.625 23.890625 \r\n",
       "Q 32.328125 33.6875 34.8125 36.53125 \r\n",
       "Q 39.546875 41.84375 41.421875 45.53125 \r\n",
       "Q 43.3125 49.21875 43.3125 52.78125 \r\n",
       "Q 43.3125 58.59375 39.234375 62.25 \r\n",
       "Q 35.15625 65.921875 28.609375 65.921875 \r\n",
       "Q 23.96875 65.921875 18.8125 64.3125 \r\n",
       "Q 13.671875 62.703125 7.8125 59.421875 \r\n",
       "L 7.8125 69.390625 \r\n",
       "Q 13.765625 71.78125 18.9375 73 \r\n",
       "Q 24.125 74.21875 28.421875 74.21875 \r\n",
       "Q 39.75 74.21875 46.484375 68.546875 \r\n",
       "Q 53.21875 62.890625 53.21875 53.421875 \r\n",
       "Q 53.21875 48.921875 51.53125 44.890625 \r\n",
       "Q 49.859375 40.875 45.40625 35.40625 \r\n",
       "Q 44.1875 33.984375 37.640625 27.21875 \r\n",
       "Q 31.109375 20.453125 19.1875 8.296875 \r\n",
       "z\r\n",
       "\" id=\"DejaVuSans-50\"/>\r\n",
       "      </defs>\r\n",
       "      <g transform=\"translate(101.426847 239.238437)scale(0.1 -0.1)\">\r\n",
       "       <use xlink:href=\"#DejaVuSans-49\"/>\r\n",
       "       <use x=\"63.623047\" xlink:href=\"#DejaVuSans-46\"/>\r\n",
       "       <use x=\"95.410156\" xlink:href=\"#DejaVuSans-50\"/>\r\n",
       "      </g>\r\n",
       "     </g>\r\n",
       "    </g>\r\n",
       "    <g id=\"xtick_3\">\r\n",
       "     <g id=\"line2d_5\">\r\n",
       "      <path clip-path=\"url(#p911164ee31)\" d=\"M 170.251136 224.64 \r\n",
       "L 170.251136 7.2 \r\n",
       "\" style=\"fill:none;stroke:#b0b0b0;stroke-linecap:square;stroke-width:0.8;\"/>\r\n",
       "     </g>\r\n",
       "     <g id=\"line2d_6\">\r\n",
       "      <g>\r\n",
       "       <use style=\"stroke:#000000;stroke-width:0.8;\" x=\"170.251136\" xlink:href=\"#m7debd31ee1\" y=\"224.64\"/>\r\n",
       "      </g>\r\n",
       "     </g>\r\n",
       "     <g id=\"text_3\">\r\n",
       "      <!-- 1.4 -->\r\n",
       "      <defs>\r\n",
       "       <path d=\"M 37.796875 64.3125 \r\n",
       "L 12.890625 25.390625 \r\n",
       "L 37.796875 25.390625 \r\n",
       "z\r\n",
       "M 35.203125 72.90625 \r\n",
       "L 47.609375 72.90625 \r\n",
       "L 47.609375 25.390625 \r\n",
       "L 58.015625 25.390625 \r\n",
       "L 58.015625 17.1875 \r\n",
       "L 47.609375 17.1875 \r\n",
       "L 47.609375 0 \r\n",
       "L 37.796875 0 \r\n",
       "L 37.796875 17.1875 \r\n",
       "L 4.890625 17.1875 \r\n",
       "L 4.890625 26.703125 \r\n",
       "z\r\n",
       "\" id=\"DejaVuSans-52\"/>\r\n",
       "      </defs>\r\n",
       "      <g transform=\"translate(162.299574 239.238437)scale(0.1 -0.1)\">\r\n",
       "       <use xlink:href=\"#DejaVuSans-49\"/>\r\n",
       "       <use x=\"63.623047\" xlink:href=\"#DejaVuSans-46\"/>\r\n",
       "       <use x=\"95.410156\" xlink:href=\"#DejaVuSans-52\"/>\r\n",
       "      </g>\r\n",
       "     </g>\r\n",
       "    </g>\r\n",
       "    <g id=\"xtick_4\">\r\n",
       "     <g id=\"line2d_7\">\r\n",
       "      <path clip-path=\"url(#p911164ee31)\" d=\"M 231.123864 224.64 \r\n",
       "L 231.123864 7.2 \r\n",
       "\" style=\"fill:none;stroke:#b0b0b0;stroke-linecap:square;stroke-width:0.8;\"/>\r\n",
       "     </g>\r\n",
       "     <g id=\"line2d_8\">\r\n",
       "      <g>\r\n",
       "       <use style=\"stroke:#000000;stroke-width:0.8;\" x=\"231.123864\" xlink:href=\"#m7debd31ee1\" y=\"224.64\"/>\r\n",
       "      </g>\r\n",
       "     </g>\r\n",
       "     <g id=\"text_4\">\r\n",
       "      <!-- 1.6 -->\r\n",
       "      <defs>\r\n",
       "       <path d=\"M 33.015625 40.375 \r\n",
       "Q 26.375 40.375 22.484375 35.828125 \r\n",
       "Q 18.609375 31.296875 18.609375 23.390625 \r\n",
       "Q 18.609375 15.53125 22.484375 10.953125 \r\n",
       "Q 26.375 6.390625 33.015625 6.390625 \r\n",
       "Q 39.65625 6.390625 43.53125 10.953125 \r\n",
       "Q 47.40625 15.53125 47.40625 23.390625 \r\n",
       "Q 47.40625 31.296875 43.53125 35.828125 \r\n",
       "Q 39.65625 40.375 33.015625 40.375 \r\n",
       "z\r\n",
       "M 52.59375 71.296875 \r\n",
       "L 52.59375 62.3125 \r\n",
       "Q 48.875 64.0625 45.09375 64.984375 \r\n",
       "Q 41.3125 65.921875 37.59375 65.921875 \r\n",
       "Q 27.828125 65.921875 22.671875 59.328125 \r\n",
       "Q 17.53125 52.734375 16.796875 39.40625 \r\n",
       "Q 19.671875 43.65625 24.015625 45.921875 \r\n",
       "Q 28.375 48.1875 33.59375 48.1875 \r\n",
       "Q 44.578125 48.1875 50.953125 41.515625 \r\n",
       "Q 57.328125 34.859375 57.328125 23.390625 \r\n",
       "Q 57.328125 12.15625 50.6875 5.359375 \r\n",
       "Q 44.046875 -1.421875 33.015625 -1.421875 \r\n",
       "Q 20.359375 -1.421875 13.671875 8.265625 \r\n",
       "Q 6.984375 17.96875 6.984375 36.375 \r\n",
       "Q 6.984375 53.65625 15.1875 63.9375 \r\n",
       "Q 23.390625 74.21875 37.203125 74.21875 \r\n",
       "Q 40.921875 74.21875 44.703125 73.484375 \r\n",
       "Q 48.484375 72.75 52.59375 71.296875 \r\n",
       "z\r\n",
       "\" id=\"DejaVuSans-54\"/>\r\n",
       "      </defs>\r\n",
       "      <g transform=\"translate(223.172301 239.238437)scale(0.1 -0.1)\">\r\n",
       "       <use xlink:href=\"#DejaVuSans-49\"/>\r\n",
       "       <use x=\"63.623047\" xlink:href=\"#DejaVuSans-46\"/>\r\n",
       "       <use x=\"95.410156\" xlink:href=\"#DejaVuSans-54\"/>\r\n",
       "      </g>\r\n",
       "     </g>\r\n",
       "    </g>\r\n",
       "    <g id=\"xtick_5\">\r\n",
       "     <g id=\"line2d_9\">\r\n",
       "      <path clip-path=\"url(#p911164ee31)\" d=\"M 291.996591 224.64 \r\n",
       "L 291.996591 7.2 \r\n",
       "\" style=\"fill:none;stroke:#b0b0b0;stroke-linecap:square;stroke-width:0.8;\"/>\r\n",
       "     </g>\r\n",
       "     <g id=\"line2d_10\">\r\n",
       "      <g>\r\n",
       "       <use style=\"stroke:#000000;stroke-width:0.8;\" x=\"291.996591\" xlink:href=\"#m7debd31ee1\" y=\"224.64\"/>\r\n",
       "      </g>\r\n",
       "     </g>\r\n",
       "     <g id=\"text_5\">\r\n",
       "      <!-- 1.8 -->\r\n",
       "      <defs>\r\n",
       "       <path d=\"M 31.78125 34.625 \r\n",
       "Q 24.75 34.625 20.71875 30.859375 \r\n",
       "Q 16.703125 27.09375 16.703125 20.515625 \r\n",
       "Q 16.703125 13.921875 20.71875 10.15625 \r\n",
       "Q 24.75 6.390625 31.78125 6.390625 \r\n",
       "Q 38.8125 6.390625 42.859375 10.171875 \r\n",
       "Q 46.921875 13.96875 46.921875 20.515625 \r\n",
       "Q 46.921875 27.09375 42.890625 30.859375 \r\n",
       "Q 38.875 34.625 31.78125 34.625 \r\n",
       "z\r\n",
       "M 21.921875 38.8125 \r\n",
       "Q 15.578125 40.375 12.03125 44.71875 \r\n",
       "Q 8.5 49.078125 8.5 55.328125 \r\n",
       "Q 8.5 64.0625 14.71875 69.140625 \r\n",
       "Q 20.953125 74.21875 31.78125 74.21875 \r\n",
       "Q 42.671875 74.21875 48.875 69.140625 \r\n",
       "Q 55.078125 64.0625 55.078125 55.328125 \r\n",
       "Q 55.078125 49.078125 51.53125 44.71875 \r\n",
       "Q 48 40.375 41.703125 38.8125 \r\n",
       "Q 48.828125 37.15625 52.796875 32.3125 \r\n",
       "Q 56.78125 27.484375 56.78125 20.515625 \r\n",
       "Q 56.78125 9.90625 50.3125 4.234375 \r\n",
       "Q 43.84375 -1.421875 31.78125 -1.421875 \r\n",
       "Q 19.734375 -1.421875 13.25 4.234375 \r\n",
       "Q 6.78125 9.90625 6.78125 20.515625 \r\n",
       "Q 6.78125 27.484375 10.78125 32.3125 \r\n",
       "Q 14.796875 37.15625 21.921875 38.8125 \r\n",
       "z\r\n",
       "M 18.3125 54.390625 \r\n",
       "Q 18.3125 48.734375 21.84375 45.5625 \r\n",
       "Q 25.390625 42.390625 31.78125 42.390625 \r\n",
       "Q 38.140625 42.390625 41.71875 45.5625 \r\n",
       "Q 45.3125 48.734375 45.3125 54.390625 \r\n",
       "Q 45.3125 60.0625 41.71875 63.234375 \r\n",
       "Q 38.140625 66.40625 31.78125 66.40625 \r\n",
       "Q 25.390625 66.40625 21.84375 63.234375 \r\n",
       "Q 18.3125 60.0625 18.3125 54.390625 \r\n",
       "z\r\n",
       "\" id=\"DejaVuSans-56\"/>\r\n",
       "      </defs>\r\n",
       "      <g transform=\"translate(284.045028 239.238437)scale(0.1 -0.1)\">\r\n",
       "       <use xlink:href=\"#DejaVuSans-49\"/>\r\n",
       "       <use x=\"63.623047\" xlink:href=\"#DejaVuSans-46\"/>\r\n",
       "       <use x=\"95.410156\" xlink:href=\"#DejaVuSans-56\"/>\r\n",
       "      </g>\r\n",
       "     </g>\r\n",
       "    </g>\r\n",
       "    <g id=\"xtick_6\">\r\n",
       "     <g id=\"line2d_11\">\r\n",
       "      <path clip-path=\"url(#p911164ee31)\" d=\"M 352.869318 224.64 \r\n",
       "L 352.869318 7.2 \r\n",
       "\" style=\"fill:none;stroke:#b0b0b0;stroke-linecap:square;stroke-width:0.8;\"/>\r\n",
       "     </g>\r\n",
       "     <g id=\"line2d_12\">\r\n",
       "      <g>\r\n",
       "       <use style=\"stroke:#000000;stroke-width:0.8;\" x=\"352.869318\" xlink:href=\"#m7debd31ee1\" y=\"224.64\"/>\r\n",
       "      </g>\r\n",
       "     </g>\r\n",
       "     <g id=\"text_6\">\r\n",
       "      <!-- 2.0 -->\r\n",
       "      <g transform=\"translate(344.917756 239.238437)scale(0.1 -0.1)\">\r\n",
       "       <use xlink:href=\"#DejaVuSans-50\"/>\r\n",
       "       <use x=\"63.623047\" xlink:href=\"#DejaVuSans-46\"/>\r\n",
       "       <use x=\"95.410156\" xlink:href=\"#DejaVuSans-48\"/>\r\n",
       "      </g>\r\n",
       "     </g>\r\n",
       "    </g>\r\n",
       "   </g>\r\n",
       "   <g id=\"matplotlib.axis_2\">\r\n",
       "    <g id=\"ytick_1\">\r\n",
       "     <g id=\"line2d_13\">\r\n",
       "      <path clip-path=\"url(#p911164ee31)\" d=\"M 33.2875 224.64 \r\n",
       "L 368.0875 224.64 \r\n",
       "\" style=\"fill:none;stroke:#b0b0b0;stroke-linecap:square;stroke-width:0.8;\"/>\r\n",
       "     </g>\r\n",
       "     <g id=\"line2d_14\">\r\n",
       "      <defs>\r\n",
       "       <path d=\"M 0 0 \r\n",
       "L -3.5 0 \r\n",
       "\" id=\"m0da3f6314c\" style=\"stroke:#000000;stroke-width:0.8;\"/>\r\n",
       "      </defs>\r\n",
       "      <g>\r\n",
       "       <use style=\"stroke:#000000;stroke-width:0.8;\" x=\"33.2875\" xlink:href=\"#m0da3f6314c\" y=\"224.64\"/>\r\n",
       "      </g>\r\n",
       "     </g>\r\n",
       "     <g id=\"text_7\">\r\n",
       "      <!-- 0 -->\r\n",
       "      <g transform=\"translate(19.925 228.439219)scale(0.1 -0.1)\">\r\n",
       "       <use xlink:href=\"#DejaVuSans-48\"/>\r\n",
       "      </g>\r\n",
       "     </g>\r\n",
       "    </g>\r\n",
       "    <g id=\"ytick_2\">\r\n",
       "     <g id=\"line2d_15\">\r\n",
       "      <path clip-path=\"url(#p911164ee31)\" d=\"M 33.2875 196.076453 \r\n",
       "L 368.0875 196.076453 \r\n",
       "\" style=\"fill:none;stroke:#b0b0b0;stroke-linecap:square;stroke-width:0.8;\"/>\r\n",
       "     </g>\r\n",
       "     <g id=\"line2d_16\">\r\n",
       "      <g>\r\n",
       "       <use style=\"stroke:#000000;stroke-width:0.8;\" x=\"33.2875\" xlink:href=\"#m0da3f6314c\" y=\"196.076453\"/>\r\n",
       "      </g>\r\n",
       "     </g>\r\n",
       "     <g id=\"text_8\">\r\n",
       "      <!-- 20 -->\r\n",
       "      <g transform=\"translate(13.5625 199.875672)scale(0.1 -0.1)\">\r\n",
       "       <use xlink:href=\"#DejaVuSans-50\"/>\r\n",
       "       <use x=\"63.623047\" xlink:href=\"#DejaVuSans-48\"/>\r\n",
       "      </g>\r\n",
       "     </g>\r\n",
       "    </g>\r\n",
       "    <g id=\"ytick_3\">\r\n",
       "     <g id=\"line2d_17\">\r\n",
       "      <path clip-path=\"url(#p911164ee31)\" d=\"M 33.2875 167.512906 \r\n",
       "L 368.0875 167.512906 \r\n",
       "\" style=\"fill:none;stroke:#b0b0b0;stroke-linecap:square;stroke-width:0.8;\"/>\r\n",
       "     </g>\r\n",
       "     <g id=\"line2d_18\">\r\n",
       "      <g>\r\n",
       "       <use style=\"stroke:#000000;stroke-width:0.8;\" x=\"33.2875\" xlink:href=\"#m0da3f6314c\" y=\"167.512906\"/>\r\n",
       "      </g>\r\n",
       "     </g>\r\n",
       "     <g id=\"text_9\">\r\n",
       "      <!-- 40 -->\r\n",
       "      <g transform=\"translate(13.5625 171.312125)scale(0.1 -0.1)\">\r\n",
       "       <use xlink:href=\"#DejaVuSans-52\"/>\r\n",
       "       <use x=\"63.623047\" xlink:href=\"#DejaVuSans-48\"/>\r\n",
       "      </g>\r\n",
       "     </g>\r\n",
       "    </g>\r\n",
       "    <g id=\"ytick_4\">\r\n",
       "     <g id=\"line2d_19\">\r\n",
       "      <path clip-path=\"url(#p911164ee31)\" d=\"M 33.2875 138.94936 \r\n",
       "L 368.0875 138.94936 \r\n",
       "\" style=\"fill:none;stroke:#b0b0b0;stroke-linecap:square;stroke-width:0.8;\"/>\r\n",
       "     </g>\r\n",
       "     <g id=\"line2d_20\">\r\n",
       "      <g>\r\n",
       "       <use style=\"stroke:#000000;stroke-width:0.8;\" x=\"33.2875\" xlink:href=\"#m0da3f6314c\" y=\"138.94936\"/>\r\n",
       "      </g>\r\n",
       "     </g>\r\n",
       "     <g id=\"text_10\">\r\n",
       "      <!-- 60 -->\r\n",
       "      <g transform=\"translate(13.5625 142.748578)scale(0.1 -0.1)\">\r\n",
       "       <use xlink:href=\"#DejaVuSans-54\"/>\r\n",
       "       <use x=\"63.623047\" xlink:href=\"#DejaVuSans-48\"/>\r\n",
       "      </g>\r\n",
       "     </g>\r\n",
       "    </g>\r\n",
       "    <g id=\"ytick_5\">\r\n",
       "     <g id=\"line2d_21\">\r\n",
       "      <path clip-path=\"url(#p911164ee31)\" d=\"M 33.2875 110.385813 \r\n",
       "L 368.0875 110.385813 \r\n",
       "\" style=\"fill:none;stroke:#b0b0b0;stroke-linecap:square;stroke-width:0.8;\"/>\r\n",
       "     </g>\r\n",
       "     <g id=\"line2d_22\">\r\n",
       "      <g>\r\n",
       "       <use style=\"stroke:#000000;stroke-width:0.8;\" x=\"33.2875\" xlink:href=\"#m0da3f6314c\" y=\"110.385813\"/>\r\n",
       "      </g>\r\n",
       "     </g>\r\n",
       "     <g id=\"text_11\">\r\n",
       "      <!-- 80 -->\r\n",
       "      <g transform=\"translate(13.5625 114.185032)scale(0.1 -0.1)\">\r\n",
       "       <use xlink:href=\"#DejaVuSans-56\"/>\r\n",
       "       <use x=\"63.623047\" xlink:href=\"#DejaVuSans-48\"/>\r\n",
       "      </g>\r\n",
       "     </g>\r\n",
       "    </g>\r\n",
       "    <g id=\"ytick_6\">\r\n",
       "     <g id=\"line2d_23\">\r\n",
       "      <path clip-path=\"url(#p911164ee31)\" d=\"M 33.2875 81.822266 \r\n",
       "L 368.0875 81.822266 \r\n",
       "\" style=\"fill:none;stroke:#b0b0b0;stroke-linecap:square;stroke-width:0.8;\"/>\r\n",
       "     </g>\r\n",
       "     <g id=\"line2d_24\">\r\n",
       "      <g>\r\n",
       "       <use style=\"stroke:#000000;stroke-width:0.8;\" x=\"33.2875\" xlink:href=\"#m0da3f6314c\" y=\"81.822266\"/>\r\n",
       "      </g>\r\n",
       "     </g>\r\n",
       "     <g id=\"text_12\">\r\n",
       "      <!-- 100 -->\r\n",
       "      <g transform=\"translate(7.2 85.621485)scale(0.1 -0.1)\">\r\n",
       "       <use xlink:href=\"#DejaVuSans-49\"/>\r\n",
       "       <use x=\"63.623047\" xlink:href=\"#DejaVuSans-48\"/>\r\n",
       "       <use x=\"127.246094\" xlink:href=\"#DejaVuSans-48\"/>\r\n",
       "      </g>\r\n",
       "     </g>\r\n",
       "    </g>\r\n",
       "    <g id=\"ytick_7\">\r\n",
       "     <g id=\"line2d_25\">\r\n",
       "      <path clip-path=\"url(#p911164ee31)\" d=\"M 33.2875 53.258719 \r\n",
       "L 368.0875 53.258719 \r\n",
       "\" style=\"fill:none;stroke:#b0b0b0;stroke-linecap:square;stroke-width:0.8;\"/>\r\n",
       "     </g>\r\n",
       "     <g id=\"line2d_26\">\r\n",
       "      <g>\r\n",
       "       <use style=\"stroke:#000000;stroke-width:0.8;\" x=\"33.2875\" xlink:href=\"#m0da3f6314c\" y=\"53.258719\"/>\r\n",
       "      </g>\r\n",
       "     </g>\r\n",
       "     <g id=\"text_13\">\r\n",
       "      <!-- 120 -->\r\n",
       "      <g transform=\"translate(7.2 57.057938)scale(0.1 -0.1)\">\r\n",
       "       <use xlink:href=\"#DejaVuSans-49\"/>\r\n",
       "       <use x=\"63.623047\" xlink:href=\"#DejaVuSans-50\"/>\r\n",
       "       <use x=\"127.246094\" xlink:href=\"#DejaVuSans-48\"/>\r\n",
       "      </g>\r\n",
       "     </g>\r\n",
       "    </g>\r\n",
       "    <g id=\"ytick_8\">\r\n",
       "     <g id=\"line2d_27\">\r\n",
       "      <path clip-path=\"url(#p911164ee31)\" d=\"M 33.2875 24.695172 \r\n",
       "L 368.0875 24.695172 \r\n",
       "\" style=\"fill:none;stroke:#b0b0b0;stroke-linecap:square;stroke-width:0.8;\"/>\r\n",
       "     </g>\r\n",
       "     <g id=\"line2d_28\">\r\n",
       "      <g>\r\n",
       "       <use style=\"stroke:#000000;stroke-width:0.8;\" x=\"33.2875\" xlink:href=\"#m0da3f6314c\" y=\"24.695172\"/>\r\n",
       "      </g>\r\n",
       "     </g>\r\n",
       "     <g id=\"text_14\">\r\n",
       "      <!-- 140 -->\r\n",
       "      <g transform=\"translate(7.2 28.494391)scale(0.1 -0.1)\">\r\n",
       "       <use xlink:href=\"#DejaVuSans-49\"/>\r\n",
       "       <use x=\"63.623047\" xlink:href=\"#DejaVuSans-52\"/>\r\n",
       "       <use x=\"127.246094\" xlink:href=\"#DejaVuSans-48\"/>\r\n",
       "      </g>\r\n",
       "     </g>\r\n",
       "    </g>\r\n",
       "   </g>\r\n",
       "   <g id=\"patch_13\">\r\n",
       "    <path d=\"M 33.2875 224.64 \r\n",
       "L 33.2875 7.2 \r\n",
       "\" style=\"fill:none;stroke:#000000;stroke-linecap:square;stroke-linejoin:miter;stroke-width:0.8;\"/>\r\n",
       "   </g>\r\n",
       "   <g id=\"patch_14\">\r\n",
       "    <path d=\"M 368.0875 224.64 \r\n",
       "L 368.0875 7.2 \r\n",
       "\" style=\"fill:none;stroke:#000000;stroke-linecap:square;stroke-linejoin:miter;stroke-width:0.8;\"/>\r\n",
       "   </g>\r\n",
       "   <g id=\"patch_15\">\r\n",
       "    <path d=\"M 33.2875 224.64 \r\n",
       "L 368.0875 224.64 \r\n",
       "\" style=\"fill:none;stroke:#000000;stroke-linecap:square;stroke-linejoin:miter;stroke-width:0.8;\"/>\r\n",
       "   </g>\r\n",
       "   <g id=\"patch_16\">\r\n",
       "    <path d=\"M 33.2875 7.2 \r\n",
       "L 368.0875 7.2 \r\n",
       "\" style=\"fill:none;stroke:#000000;stroke-linecap:square;stroke-linejoin:miter;stroke-width:0.8;\"/>\r\n",
       "   </g>\r\n",
       "  </g>\r\n",
       " </g>\r\n",
       " <defs>\r\n",
       "  <clipPath id=\"p911164ee31\">\r\n",
       "   <rect height=\"217.44\" width=\"334.8\" x=\"33.2875\" y=\"7.2\"/>\r\n",
       "  </clipPath>\r\n",
       " </defs>\r\n",
       "</svg>\r\n"
      ],
      "text/plain": [
       "<Figure size 432x288 with 1 Axes>"
      ]
     },
     "metadata": {
      "needs_background": "light"
     },
     "output_type": "display_data"
    }
   ],
   "source": [
    "df_tudo[\"LABEL\"].hist()"
   ]
  },
  {
   "cell_type": "markdown",
   "metadata": {},
   "source": [
    "## Extração de features "
   ]
  },
  {
   "cell_type": "code",
   "execution_count": 311,
   "metadata": {},
   "outputs": [],
   "source": [
    "X = df_tudo[\"DISPOSITIVO\"]\n",
    "Y = df_tudo[\"LABEL\"]"
   ]
  },
  {
   "cell_type": "markdown",
   "metadata": {},
   "source": [
    "## Importação de bibliotecas e definição de variáveis"
   ]
  },
  {
   "cell_type": "code",
   "execution_count": 312,
   "metadata": {},
   "outputs": [],
   "source": [
    "from sklearn.model_selection import cross_validate\n",
    "from sklearn.metrics import recall_score\n",
    "from sklearn.feature_extraction.text import TfidfTransformer\n",
    "from sklearn.feature_extraction.text import CountVectorizer\n",
    "from sklearn.pipeline import Pipeline\n",
    "\n",
    "medias = pd.DataFrame( )\n",
    "scoring = [\"accuracy\", \"f1\", \"recall\", \"precision\" ]"
   ]
  },
  {
   "cell_type": "markdown",
   "metadata": {},
   "source": [
    "# Modelos"
   ]
  },
  {
   "cell_type": "markdown",
   "metadata": {},
   "source": [
    "## Rocchio classifier"
   ]
  },
  {
   "cell_type": "code",
   "execution_count": 313,
   "metadata": {},
   "outputs": [],
   "source": [
    "from sklearn.neighbors.nearest_centroid import NearestCentroid\n",
    "text_clf = Pipeline([('vect', CountVectorizer()),\n",
    "                     ('tfidf', TfidfTransformer()),\n",
    "                     ('clf', NearestCentroid()),\n",
    "                     ])\n",
    "scores = cross_validate(text_clf, X, Y, scoring=scoring, cv=7, verbose=0, return_estimator=True)\n",
    "m=[]\n",
    "for k in scores.keys():\n",
    "    if not isinstance( scores[k], tuple):\n",
    "        m.append( scores[k].mean() )\n",
    "    else:\n",
    "        m.append( scores[k] )\n",
    "m.append( \"Rocchio classifier\")\n",
    "medias = medias.append( [m] )"
   ]
  },
  {
   "cell_type": "markdown",
   "metadata": {},
   "source": [
    "## Gradient Boosting Classifier"
   ]
  },
  {
   "cell_type": "code",
   "execution_count": 314,
   "metadata": {},
   "outputs": [],
   "source": [
    "from sklearn.ensemble import GradientBoostingClassifier\n",
    "text_clf = Pipeline([('vect', CountVectorizer()),\n",
    "                     ('tfidf', TfidfTransformer()),\n",
    "                     ('clf', GradientBoostingClassifier(n_estimators=100)),\n",
    "                     ])\n",
    "scores = cross_validate(text_clf, X, Y, scoring=scoring, cv=7, verbose=0, return_estimator=True)\n",
    "m=[]\n",
    "for k in scores.keys():\n",
    "    if not isinstance( scores[k], tuple):\n",
    "        m.append( scores[k].mean() )\n",
    "    else:\n",
    "        m.append( scores[k] )\n",
    "m.append( \"Gradient Boosting Classifier\")\n",
    "medias = medias.append( [m] )"
   ]
  },
  {
   "cell_type": "markdown",
   "metadata": {},
   "source": [
    "## Naive Bayes Classifier"
   ]
  },
  {
   "cell_type": "code",
   "execution_count": 315,
   "metadata": {},
   "outputs": [],
   "source": [
    "from sklearn.naive_bayes import MultinomialNB\n",
    "text_clf = Pipeline([('vect', CountVectorizer()),\n",
    "                     ('tfidf', TfidfTransformer()),\n",
    "                     ('clf', MultinomialNB()),\n",
    "                     ])\n",
    "scores = cross_validate(text_clf, X, Y, scoring=scoring, cv=7, verbose=0, return_estimator=True)\n",
    "m=[]\n",
    "for k in scores.keys():\n",
    "    if not isinstance( scores[k], tuple):\n",
    "        m.append( scores[k].mean() )\n",
    "    else:\n",
    "        m.append( scores[k] )\n",
    "m.append( \"Naive Bayes\")\n",
    "medias = medias.append( [m] )"
   ]
  },
  {
   "cell_type": "markdown",
   "metadata": {},
   "source": [
    "## K-nearest Neighbor"
   ]
  },
  {
   "cell_type": "code",
   "execution_count": 316,
   "metadata": {},
   "outputs": [],
   "source": [
    "from sklearn.neighbors import KNeighborsClassifier\n",
    "text_clf = Pipeline([('vect', CountVectorizer()),\n",
    "                     ('tfidf', TfidfTransformer()),\n",
    "                     ('clf', KNeighborsClassifier()),\n",
    "                     ])\n",
    "scores = cross_validate(text_clf, X, Y, scoring=scoring, cv=7, verbose=0, return_estimator=True)\n",
    "m=[]\n",
    "for k in scores.keys():\n",
    "    if not isinstance( scores[k], tuple):\n",
    "        m.append( scores[k].mean() )\n",
    "    else:\n",
    "        m.append( scores[k] )\n",
    "m.append( \"K-nearest Neighbor\" )\n",
    "medias = medias.append( [m] )"
   ]
  },
  {
   "cell_type": "markdown",
   "metadata": {},
   "source": [
    "## Support Vector Machine (SVM)"
   ]
  },
  {
   "cell_type": "code",
   "execution_count": 317,
   "metadata": {},
   "outputs": [],
   "source": [
    "from sklearn.svm import LinearSVC\n",
    "text_clf = Pipeline([('vect', CountVectorizer()),\n",
    "                     ('tfidf', TfidfTransformer()),\n",
    "                     ('clf', LinearSVC()),\n",
    "                     ])\n",
    "scores = cross_validate(text_clf, X, Y, scoring=scoring, cv=7, verbose=0, return_estimator=True)\n",
    "m=[]\n",
    "for k in scores.keys():\n",
    "    if not isinstance( scores[k], tuple):\n",
    "        m.append( scores[k].mean() )\n",
    "    else:\n",
    "        m.append( scores[k] )\n",
    "m.append( \"Support Vector Machine (SVM)\" )\n",
    "medias = medias.append( [m] )"
   ]
  },
  {
   "cell_type": "markdown",
   "metadata": {},
   "source": [
    "## Decision Tree"
   ]
  },
  {
   "cell_type": "code",
   "execution_count": 318,
   "metadata": {},
   "outputs": [],
   "source": [
    "from sklearn import tree\n",
    "text_clf = Pipeline([('vect', CountVectorizer()),\n",
    "                     ('tfidf', TfidfTransformer()),\n",
    "                     ('clf', tree.DecisionTreeClassifier()),\n",
    "                     ])\n",
    "scores = cross_validate(text_clf, X, Y, scoring=scoring, cv=7, verbose=0, return_estimator=True)\n",
    "m=[]\n",
    "for k in scores.keys():\n",
    "    if not isinstance( scores[k], tuple):\n",
    "        m.append( scores[k].mean() )\n",
    "    else:\n",
    "        m.append( scores[k] )\n",
    "m.append( \"Decision Tree\" )\n",
    "medias = medias.append( [m] )"
   ]
  },
  {
   "cell_type": "markdown",
   "metadata": {},
   "source": [
    "## Random Forest"
   ]
  },
  {
   "cell_type": "code",
   "execution_count": 319,
   "metadata": {},
   "outputs": [],
   "source": [
    "from sklearn.ensemble import RandomForestClassifier\n",
    "text_clf = Pipeline([('vect', CountVectorizer()),\n",
    "                     ('tfidf', TfidfTransformer()),\n",
    "                     ('clf', RandomForestClassifier(n_estimators=100)),\n",
    "                     ])\n",
    "scores = cross_validate(text_clf, X, Y, scoring=scoring, cv=7, verbose=0, return_estimator=True)\n",
    "m=[]\n",
    "for k in scores.keys():\n",
    "    if not isinstance( scores[k], tuple):\n",
    "        m.append( scores[k].mean() )\n",
    "    else:\n",
    "        m.append( scores[k] )\n",
    "m.append( \"Random Forest\" )\n",
    "medias = medias.append( [m] )"
   ]
  },
  {
   "cell_type": "markdown",
   "metadata": {},
   "source": [
    "## Neural Network"
   ]
  },
  {
   "cell_type": "code",
   "execution_count": 320,
   "metadata": {},
   "outputs": [],
   "source": [
    "df_tudo[\"LABEL\"] = df_tudo[\"LABEL\"].replace( 2, 0 )"
   ]
  },
  {
   "cell_type": "code",
   "execution_count": 321,
   "metadata": {},
   "outputs": [],
   "source": [
    "import numpy as np\n",
    "\n",
    "X = df_tudo[\"DISPOSITIVO\"]\n",
    "Y = np.array( df_tudo[\"LABEL\"] )\n",
    "\n",
    "vocab_size = 10000\n",
    "embedding_dim = 16\n",
    "max_length = 120\n",
    "trunc_type='post'\n",
    "oov_tok = \"<OOV>\"\n",
    "\n",
    "from tensorflow.keras.preprocessing.text import Tokenizer\n",
    "from tensorflow.keras.preprocessing.sequence import pad_sequences\n",
    "\n",
    "tokenizer = Tokenizer(num_words = vocab_size, oov_token=oov_tok)\n",
    "tokenizer.fit_on_texts(X)\n",
    "word_index = tokenizer.word_index\n",
    "sequences = tokenizer.texts_to_sequences(X)\n",
    "padded = pad_sequences(sequences,maxlen=max_length, truncating=trunc_type)\n",
    "\n",
    "testing_sequences = tokenizer.texts_to_sequences(X)\n",
    "testing_padded = pad_sequences(testing_sequences,maxlen=max_length)\n"
   ]
  },
  {
   "cell_type": "code",
   "execution_count": 322,
   "metadata": {},
   "outputs": [
    {
     "name": "stdout",
     "output_type": "stream",
     "text": [
      "? ? ? ? ? ? ? ? ? ? ? ? ? ? ? ? ? ? ? ? ? ? ? ? ? ? ? ? ? ? ? ? ? ? ? ? ? ? ? ? ? ? ? ? ? ? ? ? ? ? ? ? ? ? ? ? ? ? ? ? ? ? ? ? ? ? ? ? ? ? ? ? ? ? ? ? ? ? ? ? ? ? ? ? ? ? ? ? ? ? ? ? ? acordam os magistrados integrantes da 5ª turma do tribunal regional do trabalho da 4ª região à unanimidade de votos não acolher os embargos declaratórios opostos pela reclamante\n",
      "ACORDAM os Magistrados integrantes da 5ª Turma do Tribunal Regional do Trabalho da 4ª Região: à unanimidade de votos, não acolher os embargos declaratórios opostos pela reclamante.\n"
     ]
    }
   ],
   "source": [
    "reverse_word_index = dict([(value, key) for (key, value) in word_index.items()])\n",
    "\n",
    "def decode_review(text):\n",
    "    return ' '.join([reverse_word_index.get(i, '?') for i in text])\n",
    "\n",
    "print(decode_review(padded[3]))\n",
    "print(X[3])"
   ]
  },
  {
   "cell_type": "code",
   "execution_count": 323,
   "metadata": {},
   "outputs": [
    {
     "name": "stdout",
     "output_type": "stream",
     "text": [
      "Model: \"sequential_9\"\n",
      "_________________________________________________________________\n",
      "Layer (type)                 Output Shape              Param #   \n",
      "=================================================================\n",
      "embedding_9 (Embedding)      (None, 120, 16)           160000    \n",
      "_________________________________________________________________\n",
      "flatten_9 (Flatten)          (None, 1920)              0         \n",
      "_________________________________________________________________\n",
      "dense_18 (Dense)             (None, 6)                 11526     \n",
      "_________________________________________________________________\n",
      "dense_19 (Dense)             (None, 1)                 7         \n",
      "=================================================================\n",
      "Total params: 171,533\n",
      "Trainable params: 171,533\n",
      "Non-trainable params: 0\n",
      "_________________________________________________________________\n"
     ]
    }
   ],
   "source": [
    "import tensorflow as tf\n",
    "\n",
    "model = tf.keras.Sequential([\n",
    "    tf.keras.layers.Embedding(vocab_size, embedding_dim, input_length=max_length),\n",
    "    tf.keras.layers.Flatten(),\n",
    "    tf.keras.layers.Dense(6, activation='relu'),\n",
    "    tf.keras.layers.Dense(1, activation='sigmoid')\n",
    "])\n",
    "model.compile(loss='binary_crossentropy',optimizer='adam',metrics=['accuracy'])\n",
    "model.summary()\n",
    "\n"
   ]
  },
  {
   "cell_type": "code",
   "execution_count": 324,
   "metadata": {},
   "outputs": [
    {
     "name": "stdout",
     "output_type": "stream",
     "text": [
      "Train on 231 samples\n",
      "Epoch 1/20\n",
      "231/231 [==============================] - 1s 3ms/sample - loss: 0.6833 - accuracy: 0.6623\n",
      "Epoch 2/20\n",
      "231/231 [==============================] - 0s 121us/sample - loss: 0.6525 - accuracy: 0.7056\n",
      "Epoch 3/20\n",
      "231/231 [==============================] - 0s 138us/sample - loss: 0.6184 - accuracy: 0.7403\n",
      "Epoch 4/20\n",
      "231/231 [==============================] - 0s 125us/sample - loss: 0.5795 - accuracy: 0.8442\n",
      "Epoch 5/20\n",
      "231/231 [==============================] - 0s 121us/sample - loss: 0.5428 - accuracy: 0.8225\n",
      "Epoch 6/20\n",
      "231/231 [==============================] - 0s 112us/sample - loss: 0.5095 - accuracy: 0.8788\n",
      "Epoch 7/20\n",
      "231/231 [==============================] - 0s 142us/sample - loss: 0.4835 - accuracy: 0.8571\n",
      "Epoch 8/20\n",
      "231/231 [==============================] - 0s 117us/sample - loss: 0.4573 - accuracy: 0.8745\n",
      "Epoch 9/20\n",
      "231/231 [==============================] - 0s 138us/sample - loss: 0.4349 - accuracy: 0.9177\n",
      "Epoch 10/20\n",
      "231/231 [==============================] - 0s 138us/sample - loss: 0.4159 - accuracy: 0.9351\n",
      "Epoch 11/20\n",
      "231/231 [==============================] - 0s 104us/sample - loss: 0.4017 - accuracy: 0.9524\n",
      "Epoch 12/20\n",
      "231/231 [==============================] - 0s 125us/sample - loss: 0.3858 - accuracy: 0.9827\n",
      "Epoch 13/20\n",
      "231/231 [==============================] - 0s 117us/sample - loss: 0.3361 - accuracy: 0.9870\n",
      "Epoch 14/20\n",
      "231/231 [==============================] - 0s 164us/sample - loss: 0.2653 - accuracy: 0.9957\n",
      "Epoch 15/20\n",
      "231/231 [==============================] - 0s 112us/sample - loss: 0.1949 - accuracy: 0.9957\n",
      "Epoch 16/20\n",
      "231/231 [==============================] - 0s 138us/sample - loss: 0.1343 - accuracy: 1.0000\n",
      "Epoch 17/20\n",
      "231/231 [==============================] - 0s 134us/sample - loss: 0.0972 - accuracy: 0.9957\n",
      "Epoch 18/20\n",
      "231/231 [==============================] - 0s 117us/sample - loss: 0.0738 - accuracy: 0.9957\n",
      "Epoch 19/20\n",
      "231/231 [==============================] - 0s 134us/sample - loss: 0.0575 - accuracy: 1.0000\n",
      "Epoch 20/20\n",
      "231/231 [==============================] - 0s 121us/sample - loss: 0.0473 - accuracy: 1.0000\n",
      "39/39 [==============================] - 1s 16ms/sample - loss: 0.4188 - accuracy: 0.8205\n",
      "Model evaluation  [0.41876630294017303, 0.82051283]\n",
      "------------------------------------------------------------\n",
      "Train on 231 samples\n",
      "Epoch 1/20\n",
      "231/231 [==============================] - 0s 147us/sample - loss: 0.1020 - accuracy: 0.9697\n",
      "Epoch 2/20\n",
      "231/231 [==============================] - 0s 155us/sample - loss: 0.0841 - accuracy: 0.9697\n",
      "Epoch 3/20\n",
      "231/231 [==============================] - 0s 134us/sample - loss: 0.0618 - accuracy: 0.9784\n",
      "Epoch 4/20\n",
      "231/231 [==============================] - 0s 138us/sample - loss: 0.0495 - accuracy: 0.9870\n",
      "Epoch 5/20\n",
      "231/231 [==============================] - 0s 121us/sample - loss: 0.0381 - accuracy: 0.9957\n",
      "Epoch 6/20\n",
      "231/231 [==============================] - 0s 125us/sample - loss: 0.0306 - accuracy: 1.0000\n",
      "Epoch 7/20\n",
      "231/231 [==============================] - 0s 155us/sample - loss: 0.0257 - accuracy: 1.0000\n",
      "Epoch 8/20\n",
      "231/231 [==============================] - 0s 134us/sample - loss: 0.0219 - accuracy: 1.0000\n",
      "Epoch 9/20\n",
      "231/231 [==============================] - 0s 117us/sample - loss: 0.0190 - accuracy: 1.0000\n",
      "Epoch 10/20\n",
      "231/231 [==============================] - 0s 125us/sample - loss: 0.0169 - accuracy: 1.0000\n",
      "Epoch 11/20\n",
      "231/231 [==============================] - 0s 130us/sample - loss: 0.0150 - accuracy: 1.0000\n",
      "Epoch 12/20\n",
      "231/231 [==============================] - 0s 134us/sample - loss: 0.0137 - accuracy: 1.0000\n",
      "Epoch 13/20\n",
      "231/231 [==============================] - 0s 134us/sample - loss: 0.0122 - accuracy: 1.0000\n",
      "Epoch 14/20\n",
      "231/231 [==============================] - 0s 134us/sample - loss: 0.0112 - accuracy: 1.0000\n",
      "Epoch 15/20\n",
      "231/231 [==============================] - 0s 134us/sample - loss: 0.0100 - accuracy: 1.0000\n",
      "Epoch 16/20\n",
      "231/231 [==============================] - 0s 138us/sample - loss: 0.0093 - accuracy: 1.0000\n",
      "Epoch 17/20\n",
      "231/231 [==============================] - 0s 121us/sample - loss: 0.0085 - accuracy: 1.0000\n",
      "Epoch 18/20\n",
      "231/231 [==============================] - 0s 138us/sample - loss: 0.0079 - accuracy: 1.0000\n",
      "Epoch 19/20\n",
      "231/231 [==============================] - 0s 126us/sample - loss: 0.0074 - accuracy: 1.0000\n",
      "Epoch 20/20\n",
      "231/231 [==============================] - 0s 134us/sample - loss: 0.0069 - accuracy: 1.0000\n",
      "39/39 [==============================] - 0s 153us/sample - loss: 0.0237 - accuracy: 1.0000\n",
      "Model evaluation  [0.02371137345639559, 1.0]\n",
      "------------------------------------------------------------\n",
      "Train on 231 samples\n",
      "Epoch 1/20\n",
      "231/231 [==============================] - 0s 173us/sample - loss: 0.0093 - accuracy: 1.0000\n",
      "Epoch 2/20\n",
      "231/231 [==============================] - 0s 139us/sample - loss: 0.0087 - accuracy: 1.0000\n",
      "Epoch 3/20\n",
      "231/231 [==============================] - 0s 137us/sample - loss: 0.0079 - accuracy: 1.0000\n",
      "Epoch 4/20\n",
      "231/231 [==============================] - 0s 134us/sample - loss: 0.0072 - accuracy: 1.0000\n",
      "Epoch 5/20\n",
      "231/231 [==============================] - 0s 121us/sample - loss: 0.0067 - accuracy: 1.0000\n",
      "Epoch 6/20\n",
      "231/231 [==============================] - 0s 125us/sample - loss: 0.0062 - accuracy: 1.0000\n",
      "Epoch 7/20\n",
      "231/231 [==============================] - 0s 143us/sample - loss: 0.0057 - accuracy: 1.0000\n",
      "Epoch 8/20\n",
      "231/231 [==============================] - 0s 156us/sample - loss: 0.0053 - accuracy: 1.0000\n",
      "Epoch 9/20\n",
      "231/231 [==============================] - 0s 138us/sample - loss: 0.0050 - accuracy: 1.0000\n",
      "Epoch 10/20\n",
      "231/231 [==============================] - 0s 134us/sample - loss: 0.0047 - accuracy: 1.0000\n",
      "Epoch 11/20\n",
      "231/231 [==============================] - 0s 134us/sample - loss: 0.0045 - accuracy: 1.0000\n",
      "Epoch 12/20\n",
      "231/231 [==============================] - 0s 141us/sample - loss: 0.0042 - accuracy: 1.0000\n",
      "Epoch 13/20\n",
      "231/231 [==============================] - 0s 138us/sample - loss: 0.0040 - accuracy: 1.0000\n",
      "Epoch 14/20\n",
      "231/231 [==============================] - 0s 139us/sample - loss: 0.0037 - accuracy: 1.0000\n",
      "Epoch 15/20\n",
      "231/231 [==============================] - 0s 156us/sample - loss: 0.0036 - accuracy: 1.0000\n",
      "Epoch 16/20\n",
      "231/231 [==============================] - 0s 121us/sample - loss: 0.0034 - accuracy: 1.0000\n",
      "Epoch 17/20\n",
      "231/231 [==============================] - 0s 134us/sample - loss: 0.0032 - accuracy: 1.0000\n",
      "Epoch 18/20\n",
      "231/231 [==============================] - 0s 134us/sample - loss: 0.0031 - accuracy: 1.0000\n",
      "Epoch 19/20\n",
      "231/231 [==============================] - 0s 138us/sample - loss: 0.0029 - accuracy: 1.0000\n",
      "Epoch 20/20\n",
      "231/231 [==============================] - 0s 113us/sample - loss: 0.0028 - accuracy: 1.0000\n",
      "39/39 [==============================] - 0s 181us/sample - loss: 0.0035 - accuracy: 1.0000\n",
      "Model evaluation [0.0034962672238739636, 1.0]\n",
      "------------------------------------------------------------\n",
      "Train on 231 samples\n",
      "Epoch 1/20\n",
      "231/231 [==============================] - 0s 138us/sample - loss: 0.0030 - accuracy: 1.0000\n",
      "Epoch 2/20\n",
      "231/231 [==============================] - 0s 130us/sample - loss: 0.0028 - accuracy: 1.0000\n",
      "Epoch 3/20\n",
      "231/231 [==============================] - 0s 117us/sample - loss: 0.0027 - accuracy: 1.0000\n",
      "Epoch 4/20\n",
      "231/231 [==============================] - 0s 126us/sample - loss: 0.0026 - accuracy: 1.0000\n",
      "Epoch 5/20\n",
      "231/231 [==============================] - 0s 125us/sample - loss: 0.0025 - accuracy: 1.0000\n",
      "Epoch 6/20\n",
      "231/231 [==============================] - 0s 147us/sample - loss: 0.0024 - accuracy: 1.0000\n",
      "Epoch 7/20\n",
      "231/231 [==============================] - 0s 139us/sample - loss: 0.0023 - accuracy: 1.0000\n",
      "Epoch 8/20\n",
      "231/231 [==============================] - 0s 108us/sample - loss: 0.0022 - accuracy: 1.0000\n",
      "Epoch 9/20\n",
      "231/231 [==============================] - 0s 134us/sample - loss: 0.0021 - accuracy: 1.0000\n",
      "Epoch 10/20\n",
      "231/231 [==============================] - 0s 123us/sample - loss: 0.0020 - accuracy: 1.0000\n",
      "Epoch 11/20\n",
      "231/231 [==============================] - 0s 134us/sample - loss: 0.0019 - accuracy: 1.0000\n",
      "Epoch 12/20\n",
      "231/231 [==============================] - 0s 125us/sample - loss: 0.0019 - accuracy: 1.0000\n",
      "Epoch 13/20\n",
      "231/231 [==============================] - 0s 138us/sample - loss: 0.0018 - accuracy: 1.0000\n",
      "Epoch 14/20\n",
      "231/231 [==============================] - 0s 117us/sample - loss: 0.0017 - accuracy: 1.0000\n",
      "Epoch 15/20\n",
      "231/231 [==============================] - 0s 130us/sample - loss: 0.0016 - accuracy: 1.0000\n",
      "Epoch 16/20\n",
      "231/231 [==============================] - 0s 138us/sample - loss: 0.0016 - accuracy: 1.0000\n",
      "Epoch 17/20\n",
      "231/231 [==============================] - 0s 147us/sample - loss: 0.0015 - accuracy: 1.0000\n",
      "Epoch 18/20\n",
      "231/231 [==============================] - 0s 134us/sample - loss: 0.0015 - accuracy: 1.0000\n",
      "Epoch 19/20\n",
      "231/231 [==============================] - 0s 134us/sample - loss: 0.0014 - accuracy: 1.0000\n",
      "Epoch 20/20\n",
      "231/231 [==============================] - 0s 121us/sample - loss: 0.0014 - accuracy: 1.0000\n",
      "39/39 [==============================] - 0s 128us/sample - loss: 0.0011 - accuracy: 1.0000\n",
      "Model evaluation  [0.0011108573018692625, 1.0]\n",
      "------------------------------------------------------------\n",
      "Train on 232 samples\n",
      "Epoch 1/20\n",
      "232/232 [==============================] - 0s 155us/sample - loss: 0.0013 - accuracy: 1.0000\n",
      "Epoch 2/20\n",
      "232/232 [==============================] - 0s 129us/sample - loss: 0.0013 - accuracy: 1.0000\n",
      "Epoch 3/20\n",
      "232/232 [==============================] - 0s 138us/sample - loss: 0.0013 - accuracy: 1.0000\n",
      "Epoch 4/20\n",
      "232/232 [==============================] - 0s 129us/sample - loss: 0.0012 - accuracy: 1.0000\n",
      "Epoch 5/20\n",
      "232/232 [==============================] - 0s 134us/sample - loss: 0.0012 - accuracy: 1.0000\n",
      "Epoch 6/20\n",
      "232/232 [==============================] - 0s 129us/sample - loss: 0.0012 - accuracy: 1.0000\n",
      "Epoch 7/20\n",
      "232/232 [==============================] - 0s 134us/sample - loss: 0.0011 - accuracy: 1.0000\n",
      "Epoch 8/20\n",
      "232/232 [==============================] - 0s 140us/sample - loss: 0.0011 - accuracy: 1.0000\n",
      "Epoch 9/20\n",
      "232/232 [==============================] - 0s 134us/sample - loss: 0.0011 - accuracy: 1.0000\n",
      "Epoch 10/20\n",
      "232/232 [==============================] - 0s 134us/sample - loss: 0.0010 - accuracy: 1.0000\n",
      "Epoch 11/20\n",
      "232/232 [==============================] - 0s 129us/sample - loss: 0.0010 - accuracy: 1.0000\n",
      "Epoch 12/20\n",
      "232/232 [==============================] - 0s 237us/sample - loss: 9.7794e-04 - accuracy: 1.0000\n",
      "Epoch 13/20\n",
      "232/232 [==============================] - 0s 146us/sample - loss: 9.5014e-04 - accuracy: 1.0000\n",
      "Epoch 14/20\n",
      "232/232 [==============================] - 0s 129us/sample - loss: 9.2212e-04 - accuracy: 1.0000\n",
      "Epoch 15/20\n",
      "232/232 [==============================] - 0s 125us/sample - loss: 8.9684e-04 - accuracy: 1.0000\n",
      "Epoch 16/20\n",
      "232/232 [==============================] - 0s 138us/sample - loss: 8.7329e-04 - accuracy: 1.0000\n",
      "Epoch 17/20\n",
      "232/232 [==============================] - 0s 142us/sample - loss: 8.4987e-04 - accuracy: 1.0000\n",
      "Epoch 18/20\n",
      "232/232 [==============================] - 0s 125us/sample - loss: 8.2829e-04 - accuracy: 1.0000\n",
      "Epoch 19/20\n",
      "232/232 [==============================] - 0s 138us/sample - loss: 8.0619e-04 - accuracy: 1.0000\n",
      "Epoch 20/20\n",
      "232/232 [==============================] - 0s 138us/sample - loss: 7.8998e-04 - accuracy: 1.0000\n",
      "38/38 [==============================] - 0s 157us/sample - loss: 8.2644e-04 - accuracy: 1.0000\n",
      "Model evaluation  [0.000826439282575034, 1.0]\n",
      "------------------------------------------------------------\n",
      "Train on 232 samples\n",
      "Epoch 1/20\n",
      "232/232 [==============================] - 0s 164us/sample - loss: 8.6237e-04 - accuracy: 1.0000\n",
      "Epoch 2/20\n",
      "232/232 [==============================] - 0s 121us/sample - loss: 8.4580e-04 - accuracy: 1.0000\n",
      "Epoch 3/20\n",
      "232/232 [==============================] - 0s 138us/sample - loss: 8.2021e-04 - accuracy: 1.0000\n",
      "Epoch 4/20\n",
      "232/232 [==============================] - 0s 147us/sample - loss: 7.9751e-04 - accuracy: 1.0000\n",
      "Epoch 5/20\n",
      "232/232 [==============================] - 0s 149us/sample - loss: 7.7658e-04 - accuracy: 1.0000\n",
      "Epoch 6/20\n",
      "232/232 [==============================] - 0s 125us/sample - loss: 7.5714e-04 - accuracy: 1.0000\n",
      "Epoch 7/20\n",
      "232/232 [==============================] - 0s 125us/sample - loss: 7.3845e-04 - accuracy: 1.0000\n",
      "Epoch 8/20\n",
      "232/232 [==============================] - 0s 134us/sample - loss: 7.2039e-04 - accuracy: 1.0000\n",
      "Epoch 9/20\n",
      "232/232 [==============================] - 0s 129us/sample - loss: 7.0305e-04 - accuracy: 1.0000\n",
      "Epoch 10/20\n",
      "232/232 [==============================] - 0s 116us/sample - loss: 6.8245e-04 - accuracy: 1.0000\n",
      "Epoch 11/20\n",
      "232/232 [==============================] - 0s 129us/sample - loss: 6.6809e-04 - accuracy: 1.0000\n",
      "Epoch 12/20\n",
      "232/232 [==============================] - 0s 125us/sample - loss: 6.5241e-04 - accuracy: 1.0000\n",
      "Epoch 13/20\n",
      "232/232 [==============================] - 0s 246us/sample - loss: 6.3775e-04 - accuracy: 1.0000\n",
      "Epoch 14/20\n",
      "232/232 [==============================] - 0s 125us/sample - loss: 6.2342e-04 - accuracy: 1.0000\n",
      "Epoch 15/20\n",
      "232/232 [==============================] - 0s 181us/sample - loss: 6.0937e-04 - accuracy: 1.0000\n",
      "Epoch 16/20\n",
      "232/232 [==============================] - 0s 142us/sample - loss: 5.9701e-04 - accuracy: 1.0000\n",
      "Epoch 17/20\n",
      "232/232 [==============================] - 0s 121us/sample - loss: 5.8458e-04 - accuracy: 1.0000\n",
      "Epoch 18/20\n",
      "232/232 [==============================] - 0s 142us/sample - loss: 5.7303e-04 - accuracy: 1.0000\n",
      "Epoch 19/20\n",
      "232/232 [==============================] - 0s 136us/sample - loss: 5.6040e-04 - accuracy: 1.0000\n",
      "Epoch 20/20\n",
      "232/232 [==============================] - 0s 134us/sample - loss: 5.4958e-04 - accuracy: 1.0000\n",
      "38/38 [==============================] - 0s 132us/sample - loss: 1.9312e-04 - accuracy: 1.0000\n",
      "Model evaluation  [0.00019312373402307888, 1.0]\n",
      "------------------------------------------------------------\n",
      "Train on 232 samples\n",
      "Epoch 1/20\n",
      "232/232 [==============================] - 0s 151us/sample - loss: 5.0263e-04 - accuracy: 1.0000\n",
      "Epoch 2/20\n",
      "232/232 [==============================] - 0s 125us/sample - loss: 4.9212e-04 - accuracy: 1.0000\n",
      "Epoch 3/20\n",
      "232/232 [==============================] - 0s 116us/sample - loss: 4.8252e-04 - accuracy: 1.0000\n",
      "Epoch 4/20\n",
      "232/232 [==============================] - 0s 125us/sample - loss: 4.7357e-04 - accuracy: 1.0000\n",
      "Epoch 5/20\n",
      "232/232 [==============================] - 0s 134us/sample - loss: 4.6539e-04 - accuracy: 1.0000\n",
      "Epoch 6/20\n",
      "232/232 [==============================] - 0s 121us/sample - loss: 4.5683e-04 - accuracy: 1.0000\n",
      "Epoch 7/20\n",
      "232/232 [==============================] - 0s 134us/sample - loss: 4.4835e-04 - accuracy: 1.0000\n",
      "Epoch 8/20\n",
      "232/232 [==============================] - 0s 134us/sample - loss: 4.4003e-04 - accuracy: 1.0000\n",
      "Epoch 9/20\n",
      "232/232 [==============================] - 0s 138us/sample - loss: 4.3116e-04 - accuracy: 1.0000\n",
      "Epoch 10/20\n",
      "232/232 [==============================] - 0s 134us/sample - loss: 4.2311e-04 - accuracy: 1.0000\n",
      "Epoch 11/20\n",
      "232/232 [==============================] - 0s 125us/sample - loss: 4.1624e-04 - accuracy: 1.0000\n",
      "Epoch 12/20\n",
      "232/232 [==============================] - 0s 134us/sample - loss: 4.0833e-04 - accuracy: 1.0000\n",
      "Epoch 13/20\n",
      "232/232 [==============================] - 0s 125us/sample - loss: 4.0189e-04 - accuracy: 1.0000\n",
      "Epoch 14/20\n",
      "232/232 [==============================] - 0s 121us/sample - loss: 3.9429e-04 - accuracy: 1.0000\n",
      "Epoch 15/20\n",
      "232/232 [==============================] - 0s 116us/sample - loss: 3.8730e-04 - accuracy: 1.0000\n",
      "Epoch 16/20\n",
      "232/232 [==============================] - 0s 134us/sample - loss: 3.8083e-04 - accuracy: 1.0000\n",
      "Epoch 17/20\n",
      "232/232 [==============================] - 0s 129us/sample - loss: 3.7467e-04 - accuracy: 1.0000\n",
      "Epoch 18/20\n",
      "232/232 [==============================] - 0s 155us/sample - loss: 3.6807e-04 - accuracy: 1.0000\n",
      "Epoch 19/20\n",
      "232/232 [==============================] - 0s 116us/sample - loss: 3.6214e-04 - accuracy: 1.0000\n",
      "Epoch 20/20\n",
      "232/232 [==============================] - 0s 125us/sample - loss: 3.5642e-04 - accuracy: 1.0000\n",
      "38/38 [==============================] - 0s 157us/sample - loss: 3.2182e-04 - accuracy: 1.0000\n",
      "Model evaluation  [0.0003218183823934707, 1.0]\n",
      "------------------------------------------------------------\n"
     ]
    }
   ],
   "source": [
    "from sklearn.model_selection import KFold\n",
    "\n",
    "X_padded = padded\n",
    "Y = Y\n",
    "\n",
    "n_split=7\n",
    "\n",
    "for train_index,test_index in KFold(n_split, shuffle=True, random_state=1 ).split( X_padded ):\n",
    "  x_train, x_test = X_padded[ train_index ], X_padded[ test_index ]\n",
    "  y_train, y_test = Y[ train_index ], Y[ test_index ]\n",
    "\n",
    "  model.fit(x_train, y_train,epochs=20)\n",
    "  print('Model evaluation ',model.evaluate(x_test,y_test))\n",
    "  print( \"------------------------------------------------------------\" )\n"
   ]
  },
  {
   "cell_type": "code",
   "execution_count": 325,
   "metadata": {},
   "outputs": [],
   "source": [
    "from sklearn.metrics import accuracy_score\n",
    "from sklearn.metrics import precision_score\n",
    "from sklearn.metrics import recall_score\n",
    "from sklearn.metrics import f1_score\n",
    "\n",
    "\n",
    "# predict crisp classes for test set\n",
    "yhat_classes = model.predict_classes(X_padded, verbose=0)\n",
    "# reduce to 1d array\n",
    "yhat_classes = yhat_classes[:, 0]\n",
    " \n",
    "accuracy = accuracy_score(Y, yhat_classes)\n",
    "f1 = f1_score(Y, yhat_classes)\n",
    "recall = recall_score(Y, yhat_classes)\n",
    "precision = precision_score(Y, yhat_classes)"
   ]
  },
  {
   "cell_type": "code",
   "execution_count": 326,
   "metadata": {},
   "outputs": [],
   "source": [
    "\n",
    "m=[]\n",
    "m.append( np.nan )\n",
    "m.append( np.nan )\n",
    "m.append( np.nan )\n",
    "m.append( accuracy )\n",
    "m.append( f1 )\n",
    "m.append( recall )\n",
    "m.append( precision )\n",
    "m.append( \"Neural network\" )\n",
    "\n",
    "medias = medias.append( [m] )"
   ]
  },
  {
   "cell_type": "markdown",
   "metadata": {},
   "source": [
    "## Análise dos resultados"
   ]
  },
  {
   "cell_type": "code",
   "execution_count": 327,
   "metadata": {},
   "outputs": [
    {
     "data": {
      "text/html": [
       "<div>\n",
       "<style scoped>\n",
       "    .dataframe tbody tr th:only-of-type {\n",
       "        vertical-align: middle;\n",
       "    }\n",
       "\n",
       "    .dataframe tbody tr th {\n",
       "        vertical-align: top;\n",
       "    }\n",
       "\n",
       "    .dataframe thead th {\n",
       "        text-align: right;\n",
       "    }\n",
       "</style>\n",
       "<table border=\"1\" class=\"dataframe\">\n",
       "  <thead>\n",
       "    <tr style=\"text-align: right;\">\n",
       "      <th></th>\n",
       "      <th>test_accuracy</th>\n",
       "      <th>test_f1</th>\n",
       "      <th>test_recall</th>\n",
       "      <th>test_precision</th>\n",
       "      <th>Estimator Name</th>\n",
       "    </tr>\n",
       "  </thead>\n",
       "  <tbody>\n",
       "    <tr>\n",
       "      <td>0</td>\n",
       "      <td>0.911210</td>\n",
       "      <td>0.907036</td>\n",
       "      <td>0.927638</td>\n",
       "      <td>0.896764</td>\n",
       "      <td>Rocchio classifier</td>\n",
       "    </tr>\n",
       "    <tr>\n",
       "      <td>0</td>\n",
       "      <td>0.970600</td>\n",
       "      <td>0.969722</td>\n",
       "      <td>1.000000</td>\n",
       "      <td>0.942105</td>\n",
       "      <td>Gradient Boosting Classifier</td>\n",
       "    </tr>\n",
       "    <tr>\n",
       "      <td>0</td>\n",
       "      <td>0.858349</td>\n",
       "      <td>0.814844</td>\n",
       "      <td>0.725957</td>\n",
       "      <td>0.960299</td>\n",
       "      <td>Naive Bayes</td>\n",
       "    </tr>\n",
       "    <tr>\n",
       "      <td>0</td>\n",
       "      <td>0.843403</td>\n",
       "      <td>0.789807</td>\n",
       "      <td>0.685808</td>\n",
       "      <td>0.970404</td>\n",
       "      <td>K-nearest Neighbor</td>\n",
       "    </tr>\n",
       "    <tr>\n",
       "      <td>0</td>\n",
       "      <td>0.952087</td>\n",
       "      <td>0.949310</td>\n",
       "      <td>0.959851</td>\n",
       "      <td>0.940560</td>\n",
       "      <td>Support Vector Machine (SVM)</td>\n",
       "    </tr>\n",
       "    <tr>\n",
       "      <td>0</td>\n",
       "      <td>0.948226</td>\n",
       "      <td>0.944299</td>\n",
       "      <td>0.951447</td>\n",
       "      <td>0.939348</td>\n",
       "      <td>Decision Tree</td>\n",
       "    </tr>\n",
       "    <tr>\n",
       "      <td>0</td>\n",
       "      <td>0.947835</td>\n",
       "      <td>0.942361</td>\n",
       "      <td>0.935107</td>\n",
       "      <td>0.954003</td>\n",
       "      <td>Random Forest</td>\n",
       "    </tr>\n",
       "    <tr>\n",
       "      <td>0</td>\n",
       "      <td>1.000000</td>\n",
       "      <td>1.000000</td>\n",
       "      <td>1.000000</td>\n",
       "      <td>1.000000</td>\n",
       "      <td>Neural network</td>\n",
       "    </tr>\n",
       "  </tbody>\n",
       "</table>\n",
       "</div>"
      ],
      "text/plain": [
       "   test_accuracy   test_f1  test_recall  test_precision  \\\n",
       "0       0.911210  0.907036     0.927638        0.896764   \n",
       "0       0.970600  0.969722     1.000000        0.942105   \n",
       "0       0.858349  0.814844     0.725957        0.960299   \n",
       "0       0.843403  0.789807     0.685808        0.970404   \n",
       "0       0.952087  0.949310     0.959851        0.940560   \n",
       "0       0.948226  0.944299     0.951447        0.939348   \n",
       "0       0.947835  0.942361     0.935107        0.954003   \n",
       "0       1.000000  1.000000     1.000000        1.000000   \n",
       "\n",
       "                 Estimator Name  \n",
       "0            Rocchio classifier  \n",
       "0  Gradient Boosting Classifier  \n",
       "0                   Naive Bayes  \n",
       "0            K-nearest Neighbor  \n",
       "0  Support Vector Machine (SVM)  \n",
       "0                 Decision Tree  \n",
       "0                 Random Forest  \n",
       "0                Neural network  "
      ]
     },
     "execution_count": 327,
     "metadata": {},
     "output_type": "execute_result"
    }
   ],
   "source": [
    "colunas = [ \"fit_time\", \"score_time\", \"estimator\", \"test_accuracy\", \"test_f1\", \"test_recall\", \"test_precision\", \"Estimator Name\" ]\n",
    "medias.columns = colunas\n",
    "medias=medias.drop('fit_time',1)\n",
    "medias=medias.drop('score_time',1)\n",
    "estimators=medias[\"estimator\"].tolist()\n",
    "estimators_nomes=medias[\"Estimator Name\"].tolist()\n",
    "medias=medias.drop('estimator',1)\n",
    "medias"
   ]
  },
  {
   "cell_type": "code",
   "execution_count": 328,
   "metadata": {},
   "outputs": [],
   "source": [
    "import plotly.graph_objects as go\n",
    "from plotly.offline import iplot"
   ]
  },
  {
   "cell_type": "code",
   "execution_count": 341,
   "metadata": {},
   "outputs": [
    {
     "data": {
      "application/vnd.plotly.v1+json": {
       "config": {
        "linkText": "Export to plot.ly",
        "plotlyServerURL": "https://plot.ly",
        "showLink": false
       },
       "data": [
        {
         "name": "Rocchio classifier",
         "type": "scatter",
         "x": [
          "test_accuracy",
          "test_f1",
          "test_recall",
          "test_precision",
          "Estimator Name"
         ],
         "y": [
          0.9112099375257269,
          0.9070361305988485,
          0.9276377217553688,
          0.8967636482510625
         ]
        },
        {
         "name": "Gradient Boosting Classifier",
         "type": "scatter",
         "x": [
          "test_accuracy",
          "test_f1",
          "test_recall",
          "test_precision",
          "Estimator Name"
         ],
         "y": [
          0.9705995758627337,
          0.9697216013005486,
          1,
          0.9421052631578947
         ]
        },
        {
         "name": "Naive Bayes",
         "type": "scatter",
         "x": [
          "test_accuracy",
          "test_f1",
          "test_recall",
          "test_precision",
          "Estimator Name"
         ],
         "y": [
          0.8583490951912005,
          0.8148441901187015,
          0.7259570494864612,
          0.9602990993968438
         ]
        },
        {
         "name": "K-nearest Neighbor",
         "type": "scatter",
         "x": [
          "test_accuracy",
          "test_f1",
          "test_recall",
          "test_precision",
          "Estimator Name"
         ],
         "y": [
          0.8434026855079487,
          0.7898067959108003,
          0.6858076563958918,
          0.9704035460337981
         ]
        },
        {
         "name": "Support Vector Machine (SVM)",
         "type": "scatter",
         "x": [
          "test_accuracy",
          "test_f1",
          "test_recall",
          "test_precision",
          "Estimator Name"
         ],
         "y": [
          0.9520865573497153,
          0.9493102417914449,
          0.9598506069094305,
          0.9405597326649958
         ]
        },
        {
         "name": "Decision Tree",
         "type": "scatter",
         "x": [
          "test_accuracy",
          "test_f1",
          "test_recall",
          "test_precision",
          "Estimator Name"
         ],
         "y": [
          0.9482255534887114,
          0.9442990923254081,
          0.9514472455648926,
          0.9393483709273183
         ]
        },
        {
         "name": "Random Forest",
         "type": "scatter",
         "x": [
          "test_accuracy",
          "test_f1",
          "test_recall",
          "test_precision",
          "Estimator Name"
         ],
         "y": [
          0.9478347636242374,
          0.9423608327376287,
          0.935107376283847,
          0.9540026536930561
         ]
        },
        {
         "name": "Neural network",
         "type": "scatter",
         "x": [
          "test_accuracy",
          "test_f1",
          "test_recall",
          "test_precision",
          "Estimator Name"
         ],
         "y": [
          1,
          1,
          1,
          1
         ]
        }
       ],
       "layout": {
        "template": {
         "data": {
          "bar": [
           {
            "error_x": {
             "color": "#2a3f5f"
            },
            "error_y": {
             "color": "#2a3f5f"
            },
            "marker": {
             "line": {
              "color": "#E5ECF6",
              "width": 0.5
             }
            },
            "type": "bar"
           }
          ],
          "barpolar": [
           {
            "marker": {
             "line": {
              "color": "#E5ECF6",
              "width": 0.5
             }
            },
            "type": "barpolar"
           }
          ],
          "carpet": [
           {
            "aaxis": {
             "endlinecolor": "#2a3f5f",
             "gridcolor": "white",
             "linecolor": "white",
             "minorgridcolor": "white",
             "startlinecolor": "#2a3f5f"
            },
            "baxis": {
             "endlinecolor": "#2a3f5f",
             "gridcolor": "white",
             "linecolor": "white",
             "minorgridcolor": "white",
             "startlinecolor": "#2a3f5f"
            },
            "type": "carpet"
           }
          ],
          "choropleth": [
           {
            "colorbar": {
             "outlinewidth": 0,
             "ticks": ""
            },
            "type": "choropleth"
           }
          ],
          "contour": [
           {
            "colorbar": {
             "outlinewidth": 0,
             "ticks": ""
            },
            "colorscale": [
             [
              0,
              "#0d0887"
             ],
             [
              0.1111111111111111,
              "#46039f"
             ],
             [
              0.2222222222222222,
              "#7201a8"
             ],
             [
              0.3333333333333333,
              "#9c179e"
             ],
             [
              0.4444444444444444,
              "#bd3786"
             ],
             [
              0.5555555555555556,
              "#d8576b"
             ],
             [
              0.6666666666666666,
              "#ed7953"
             ],
             [
              0.7777777777777778,
              "#fb9f3a"
             ],
             [
              0.8888888888888888,
              "#fdca26"
             ],
             [
              1,
              "#f0f921"
             ]
            ],
            "type": "contour"
           }
          ],
          "contourcarpet": [
           {
            "colorbar": {
             "outlinewidth": 0,
             "ticks": ""
            },
            "type": "contourcarpet"
           }
          ],
          "heatmap": [
           {
            "colorbar": {
             "outlinewidth": 0,
             "ticks": ""
            },
            "colorscale": [
             [
              0,
              "#0d0887"
             ],
             [
              0.1111111111111111,
              "#46039f"
             ],
             [
              0.2222222222222222,
              "#7201a8"
             ],
             [
              0.3333333333333333,
              "#9c179e"
             ],
             [
              0.4444444444444444,
              "#bd3786"
             ],
             [
              0.5555555555555556,
              "#d8576b"
             ],
             [
              0.6666666666666666,
              "#ed7953"
             ],
             [
              0.7777777777777778,
              "#fb9f3a"
             ],
             [
              0.8888888888888888,
              "#fdca26"
             ],
             [
              1,
              "#f0f921"
             ]
            ],
            "type": "heatmap"
           }
          ],
          "heatmapgl": [
           {
            "colorbar": {
             "outlinewidth": 0,
             "ticks": ""
            },
            "colorscale": [
             [
              0,
              "#0d0887"
             ],
             [
              0.1111111111111111,
              "#46039f"
             ],
             [
              0.2222222222222222,
              "#7201a8"
             ],
             [
              0.3333333333333333,
              "#9c179e"
             ],
             [
              0.4444444444444444,
              "#bd3786"
             ],
             [
              0.5555555555555556,
              "#d8576b"
             ],
             [
              0.6666666666666666,
              "#ed7953"
             ],
             [
              0.7777777777777778,
              "#fb9f3a"
             ],
             [
              0.8888888888888888,
              "#fdca26"
             ],
             [
              1,
              "#f0f921"
             ]
            ],
            "type": "heatmapgl"
           }
          ],
          "histogram": [
           {
            "marker": {
             "colorbar": {
              "outlinewidth": 0,
              "ticks": ""
             }
            },
            "type": "histogram"
           }
          ],
          "histogram2d": [
           {
            "colorbar": {
             "outlinewidth": 0,
             "ticks": ""
            },
            "colorscale": [
             [
              0,
              "#0d0887"
             ],
             [
              0.1111111111111111,
              "#46039f"
             ],
             [
              0.2222222222222222,
              "#7201a8"
             ],
             [
              0.3333333333333333,
              "#9c179e"
             ],
             [
              0.4444444444444444,
              "#bd3786"
             ],
             [
              0.5555555555555556,
              "#d8576b"
             ],
             [
              0.6666666666666666,
              "#ed7953"
             ],
             [
              0.7777777777777778,
              "#fb9f3a"
             ],
             [
              0.8888888888888888,
              "#fdca26"
             ],
             [
              1,
              "#f0f921"
             ]
            ],
            "type": "histogram2d"
           }
          ],
          "histogram2dcontour": [
           {
            "colorbar": {
             "outlinewidth": 0,
             "ticks": ""
            },
            "colorscale": [
             [
              0,
              "#0d0887"
             ],
             [
              0.1111111111111111,
              "#46039f"
             ],
             [
              0.2222222222222222,
              "#7201a8"
             ],
             [
              0.3333333333333333,
              "#9c179e"
             ],
             [
              0.4444444444444444,
              "#bd3786"
             ],
             [
              0.5555555555555556,
              "#d8576b"
             ],
             [
              0.6666666666666666,
              "#ed7953"
             ],
             [
              0.7777777777777778,
              "#fb9f3a"
             ],
             [
              0.8888888888888888,
              "#fdca26"
             ],
             [
              1,
              "#f0f921"
             ]
            ],
            "type": "histogram2dcontour"
           }
          ],
          "mesh3d": [
           {
            "colorbar": {
             "outlinewidth": 0,
             "ticks": ""
            },
            "type": "mesh3d"
           }
          ],
          "parcoords": [
           {
            "line": {
             "colorbar": {
              "outlinewidth": 0,
              "ticks": ""
             }
            },
            "type": "parcoords"
           }
          ],
          "pie": [
           {
            "automargin": true,
            "type": "pie"
           }
          ],
          "scatter": [
           {
            "marker": {
             "colorbar": {
              "outlinewidth": 0,
              "ticks": ""
             }
            },
            "type": "scatter"
           }
          ],
          "scatter3d": [
           {
            "line": {
             "colorbar": {
              "outlinewidth": 0,
              "ticks": ""
             }
            },
            "marker": {
             "colorbar": {
              "outlinewidth": 0,
              "ticks": ""
             }
            },
            "type": "scatter3d"
           }
          ],
          "scattercarpet": [
           {
            "marker": {
             "colorbar": {
              "outlinewidth": 0,
              "ticks": ""
             }
            },
            "type": "scattercarpet"
           }
          ],
          "scattergeo": [
           {
            "marker": {
             "colorbar": {
              "outlinewidth": 0,
              "ticks": ""
             }
            },
            "type": "scattergeo"
           }
          ],
          "scattergl": [
           {
            "marker": {
             "colorbar": {
              "outlinewidth": 0,
              "ticks": ""
             }
            },
            "type": "scattergl"
           }
          ],
          "scattermapbox": [
           {
            "marker": {
             "colorbar": {
              "outlinewidth": 0,
              "ticks": ""
             }
            },
            "type": "scattermapbox"
           }
          ],
          "scatterpolar": [
           {
            "marker": {
             "colorbar": {
              "outlinewidth": 0,
              "ticks": ""
             }
            },
            "type": "scatterpolar"
           }
          ],
          "scatterpolargl": [
           {
            "marker": {
             "colorbar": {
              "outlinewidth": 0,
              "ticks": ""
             }
            },
            "type": "scatterpolargl"
           }
          ],
          "scatterternary": [
           {
            "marker": {
             "colorbar": {
              "outlinewidth": 0,
              "ticks": ""
             }
            },
            "type": "scatterternary"
           }
          ],
          "surface": [
           {
            "colorbar": {
             "outlinewidth": 0,
             "ticks": ""
            },
            "colorscale": [
             [
              0,
              "#0d0887"
             ],
             [
              0.1111111111111111,
              "#46039f"
             ],
             [
              0.2222222222222222,
              "#7201a8"
             ],
             [
              0.3333333333333333,
              "#9c179e"
             ],
             [
              0.4444444444444444,
              "#bd3786"
             ],
             [
              0.5555555555555556,
              "#d8576b"
             ],
             [
              0.6666666666666666,
              "#ed7953"
             ],
             [
              0.7777777777777778,
              "#fb9f3a"
             ],
             [
              0.8888888888888888,
              "#fdca26"
             ],
             [
              1,
              "#f0f921"
             ]
            ],
            "type": "surface"
           }
          ],
          "table": [
           {
            "cells": {
             "fill": {
              "color": "#EBF0F8"
             },
             "line": {
              "color": "white"
             }
            },
            "header": {
             "fill": {
              "color": "#C8D4E3"
             },
             "line": {
              "color": "white"
             }
            },
            "type": "table"
           }
          ]
         },
         "layout": {
          "annotationdefaults": {
           "arrowcolor": "#2a3f5f",
           "arrowhead": 0,
           "arrowwidth": 1
          },
          "coloraxis": {
           "colorbar": {
            "outlinewidth": 0,
            "ticks": ""
           }
          },
          "colorscale": {
           "diverging": [
            [
             0,
             "#8e0152"
            ],
            [
             0.1,
             "#c51b7d"
            ],
            [
             0.2,
             "#de77ae"
            ],
            [
             0.3,
             "#f1b6da"
            ],
            [
             0.4,
             "#fde0ef"
            ],
            [
             0.5,
             "#f7f7f7"
            ],
            [
             0.6,
             "#e6f5d0"
            ],
            [
             0.7,
             "#b8e186"
            ],
            [
             0.8,
             "#7fbc41"
            ],
            [
             0.9,
             "#4d9221"
            ],
            [
             1,
             "#276419"
            ]
           ],
           "sequential": [
            [
             0,
             "#0d0887"
            ],
            [
             0.1111111111111111,
             "#46039f"
            ],
            [
             0.2222222222222222,
             "#7201a8"
            ],
            [
             0.3333333333333333,
             "#9c179e"
            ],
            [
             0.4444444444444444,
             "#bd3786"
            ],
            [
             0.5555555555555556,
             "#d8576b"
            ],
            [
             0.6666666666666666,
             "#ed7953"
            ],
            [
             0.7777777777777778,
             "#fb9f3a"
            ],
            [
             0.8888888888888888,
             "#fdca26"
            ],
            [
             1,
             "#f0f921"
            ]
           ],
           "sequentialminus": [
            [
             0,
             "#0d0887"
            ],
            [
             0.1111111111111111,
             "#46039f"
            ],
            [
             0.2222222222222222,
             "#7201a8"
            ],
            [
             0.3333333333333333,
             "#9c179e"
            ],
            [
             0.4444444444444444,
             "#bd3786"
            ],
            [
             0.5555555555555556,
             "#d8576b"
            ],
            [
             0.6666666666666666,
             "#ed7953"
            ],
            [
             0.7777777777777778,
             "#fb9f3a"
            ],
            [
             0.8888888888888888,
             "#fdca26"
            ],
            [
             1,
             "#f0f921"
            ]
           ]
          },
          "colorway": [
           "#636efa",
           "#EF553B",
           "#00cc96",
           "#ab63fa",
           "#FFA15A",
           "#19d3f3",
           "#FF6692",
           "#B6E880",
           "#FF97FF",
           "#FECB52"
          ],
          "font": {
           "color": "#2a3f5f"
          },
          "geo": {
           "bgcolor": "white",
           "lakecolor": "white",
           "landcolor": "#E5ECF6",
           "showlakes": true,
           "showland": true,
           "subunitcolor": "white"
          },
          "hoverlabel": {
           "align": "left"
          },
          "hovermode": "closest",
          "mapbox": {
           "style": "light"
          },
          "paper_bgcolor": "white",
          "plot_bgcolor": "#E5ECF6",
          "polar": {
           "angularaxis": {
            "gridcolor": "white",
            "linecolor": "white",
            "ticks": ""
           },
           "bgcolor": "#E5ECF6",
           "radialaxis": {
            "gridcolor": "white",
            "linecolor": "white",
            "ticks": ""
           }
          },
          "scene": {
           "xaxis": {
            "backgroundcolor": "#E5ECF6",
            "gridcolor": "white",
            "gridwidth": 2,
            "linecolor": "white",
            "showbackground": true,
            "ticks": "",
            "zerolinecolor": "white"
           },
           "yaxis": {
            "backgroundcolor": "#E5ECF6",
            "gridcolor": "white",
            "gridwidth": 2,
            "linecolor": "white",
            "showbackground": true,
            "ticks": "",
            "zerolinecolor": "white"
           },
           "zaxis": {
            "backgroundcolor": "#E5ECF6",
            "gridcolor": "white",
            "gridwidth": 2,
            "linecolor": "white",
            "showbackground": true,
            "ticks": "",
            "zerolinecolor": "white"
           }
          },
          "shapedefaults": {
           "line": {
            "color": "#2a3f5f"
           }
          },
          "ternary": {
           "aaxis": {
            "gridcolor": "white",
            "linecolor": "white",
            "ticks": ""
           },
           "baxis": {
            "gridcolor": "white",
            "linecolor": "white",
            "ticks": ""
           },
           "bgcolor": "#E5ECF6",
           "caxis": {
            "gridcolor": "white",
            "linecolor": "white",
            "ticks": ""
           }
          },
          "title": {
           "x": 0.05
          },
          "xaxis": {
           "automargin": true,
           "gridcolor": "white",
           "linecolor": "white",
           "ticks": "",
           "title": {
            "standoff": 15
           },
           "zerolinecolor": "white",
           "zerolinewidth": 2
          },
          "yaxis": {
           "automargin": true,
           "gridcolor": "white",
           "linecolor": "white",
           "ticks": "",
           "title": {
            "standoff": 15
           },
           "zerolinecolor": "white",
           "zerolinewidth": 2
          }
         }
        }
       }
      }
     },
     "metadata": {},
     "output_type": "display_data"
    }
   ],
   "source": [
    "iplot( { \"data\": [ go.Scatter(x=colunas[3:], y=medias.iloc[i,:-1], name=medias.iloc[i,-1] ) for i in range( len( medias ) ) ] } )"
   ]
  },
  {
   "cell_type": "markdown",
   "metadata": {},
   "source": [
    "# Validação do modelo treinado com o dataset do TRT4 no dataset do TRT3\n",
    "\n",
    "### Carregamento do dataset"
   ]
  },
  {
   "cell_type": "code",
   "execution_count": 330,
   "metadata": {},
   "outputs": [
    {
     "name": "stdout",
     "output_type": "stream",
     "text": [
      "TRT 3\n",
      "<class 'pandas.core.frame.DataFrame'>\n",
      "RangeIndex: 4874 entries, 0 to 4873\n",
      "Data columns (total 2 columns):\n",
      "DISPOSITIVO    4868 non-null object\n",
      "LABEL          108 non-null float64\n",
      "dtypes: float64(1), object(1)\n",
      "memory usage: 76.3+ KB\n",
      "None\n"
     ]
    }
   ],
   "source": [
    "arquivo_trt3 = \"E:\\\\OneDrive\\\\Documentos\\\\pesquisa_codigos_2020\\\\pesquisa_jurimetria_polaridade_final\\\\3_Preparacao_dos_dados\\\\3_2_Anotacao_documentos\\\\Datasets_anotados_manual\\\\df_TRT3_dispositivo_anotado_manual.xlsx\"\n",
    "df_trt3 = pd.read_excel( arquivo_trt3, encoding=\"utf-8\" )\n",
    "print( \"TRT 3\")\n",
    "print( df_trt3.info() )\n"
   ]
  },
  {
   "cell_type": "markdown",
   "metadata": {},
   "source": [
    "### Limpeza"
   ]
  },
  {
   "cell_type": "code",
   "execution_count": 331,
   "metadata": {},
   "outputs": [
    {
     "name": "stdout",
     "output_type": "stream",
     "text": [
      "<class 'pandas.core.frame.DataFrame'>\n",
      "Int64Index: 108 entries, 0 to 113\n",
      "Data columns (total 2 columns):\n",
      "DISPOSITIVO    108 non-null object\n",
      "LABEL          108 non-null float64\n",
      "dtypes: float64(1), object(1)\n",
      "memory usage: 2.5+ KB\n"
     ]
    }
   ],
   "source": [
    "df_trt3 = df_trt3.dropna()\n",
    "df_trt3.info()\n",
    "#limpeza de caracteres em branco\n",
    "df_trt3[\"DISPOSITIVO\"] = df_trt3[\"DISPOSITIVO\"].astype(str).map(str.strip)"
   ]
  },
  {
   "cell_type": "markdown",
   "metadata": {},
   "source": [
    "### Visualização"
   ]
  },
  {
   "cell_type": "code",
   "execution_count": 332,
   "metadata": {},
   "outputs": [
    {
     "data": {
      "text/html": [
       "<div>\n",
       "<style scoped>\n",
       "    .dataframe tbody tr th:only-of-type {\n",
       "        vertical-align: middle;\n",
       "    }\n",
       "\n",
       "    .dataframe tbody tr th {\n",
       "        vertical-align: top;\n",
       "    }\n",
       "\n",
       "    .dataframe thead th {\n",
       "        text-align: right;\n",
       "    }\n",
       "</style>\n",
       "<table border=\"1\" class=\"dataframe\">\n",
       "  <thead>\n",
       "    <tr style=\"text-align: right;\">\n",
       "      <th></th>\n",
       "      <th>DISPOSITIVO</th>\n",
       "      <th>LABEL</th>\n",
       "    </tr>\n",
       "  </thead>\n",
       "  <tbody>\n",
       "    <tr>\n",
       "      <td>0</td>\n",
       "      <td>Cabeçalho do acórdão Acórdão Fundamentos pelos...</td>\n",
       "      <td>2.0</td>\n",
       "    </tr>\n",
       "    <tr>\n",
       "      <td>1</td>\n",
       "      <td>Cabeçalho do acórdão Acórdão Fundamentos pelos...</td>\n",
       "      <td>1.0</td>\n",
       "    </tr>\n",
       "    <tr>\n",
       "      <td>2</td>\n",
       "      <td>Cabeçalho do acórdão Acórdão Fundamentos pelos...</td>\n",
       "      <td>2.0</td>\n",
       "    </tr>\n",
       "    <tr>\n",
       "      <td>3</td>\n",
       "      <td>Cabeçalho do acórdão Acórdão O Tribunal Region...</td>\n",
       "      <td>2.0</td>\n",
       "    </tr>\n",
       "    <tr>\n",
       "      <td>4</td>\n",
       "      <td>Cabeçalho do acórdão ACÓRDÃO FUNDAMENTOS PELOS...</td>\n",
       "      <td>2.0</td>\n",
       "    </tr>\n",
       "  </tbody>\n",
       "</table>\n",
       "</div>"
      ],
      "text/plain": [
       "                                         DISPOSITIVO  LABEL\n",
       "0  Cabeçalho do acórdão Acórdão Fundamentos pelos...    2.0\n",
       "1  Cabeçalho do acórdão Acórdão Fundamentos pelos...    1.0\n",
       "2  Cabeçalho do acórdão Acórdão Fundamentos pelos...    2.0\n",
       "3  Cabeçalho do acórdão Acórdão O Tribunal Region...    2.0\n",
       "4  Cabeçalho do acórdão ACÓRDÃO FUNDAMENTOS PELOS...    2.0"
      ]
     },
     "execution_count": 332,
     "metadata": {},
     "output_type": "execute_result"
    }
   ],
   "source": [
    "df_trt3.head()"
   ]
  },
  {
   "cell_type": "code",
   "execution_count": 333,
   "metadata": {},
   "outputs": [
    {
     "data": {
      "text/plain": [
       "array([2., 1.])"
      ]
     },
     "execution_count": 333,
     "metadata": {},
     "output_type": "execute_result"
    }
   ],
   "source": [
    "df_trt3[\"LABEL\"].unique()"
   ]
  },
  {
   "cell_type": "markdown",
   "metadata": {},
   "source": [
    "## Extração de features "
   ]
  },
  {
   "cell_type": "code",
   "execution_count": 334,
   "metadata": {},
   "outputs": [],
   "source": [
    "X_trt3 = df_trt3[\"DISPOSITIVO\"]\n",
    "Y_trt3 = df_trt3[\"LABEL\"]"
   ]
  },
  {
   "cell_type": "markdown",
   "metadata": {},
   "source": [
    "## Análise dos resultados"
   ]
  },
  {
   "cell_type": "code",
   "execution_count": 335,
   "metadata": {
    "tags": [
     "outputPrepend"
    ]
   },
   "outputs": [],
   "source": [
    "preds = []\n",
    "for i in range( len( estimators )-1 ): #-1 para nao tentar dar predict no modelo da rede neural\n",
    "    pred = estimators[0][i].predict( X_trt3 )\n",
    "    preds.append( pred )"
   ]
  },
  {
   "cell_type": "code",
   "execution_count": 336,
   "metadata": {},
   "outputs": [],
   "source": [
    "sequences = tokenizer.texts_to_sequences(X_trt3)\n",
    "padded = pad_sequences(sequences,maxlen=max_length, truncating=trunc_type)\n",
    "\n",
    "yhat_classes = model.predict_classes(padded, verbose=0)\n",
    "yhat_classes = yhat_classes[:, 0] # reduce to 1d array\n",
    "preds.append( yhat_classes )\n",
    "preds[-1] = np.where(preds[-1]==0, 2, preds[-1])"
   ]
  },
  {
   "cell_type": "code",
   "execution_count": 337,
   "metadata": {},
   "outputs": [
    {
     "data": {
      "text/html": [
       "<div>\n",
       "<style scoped>\n",
       "    .dataframe tbody tr th:only-of-type {\n",
       "        vertical-align: middle;\n",
       "    }\n",
       "\n",
       "    .dataframe tbody tr th {\n",
       "        vertical-align: top;\n",
       "    }\n",
       "\n",
       "    .dataframe thead th {\n",
       "        text-align: right;\n",
       "    }\n",
       "</style>\n",
       "<table border=\"1\" class=\"dataframe\">\n",
       "  <thead>\n",
       "    <tr style=\"text-align: right;\">\n",
       "      <th></th>\n",
       "      <th>test_accuracy</th>\n",
       "      <th>test_f1</th>\n",
       "      <th>test_recall</th>\n",
       "      <th>test_precision</th>\n",
       "      <th>Estimator Name</th>\n",
       "    </tr>\n",
       "  </thead>\n",
       "  <tbody>\n",
       "    <tr>\n",
       "      <td>0</td>\n",
       "      <td>0.361111</td>\n",
       "      <td>0.530612</td>\n",
       "      <td>0.361111</td>\n",
       "      <td>0.130401</td>\n",
       "      <td>Rocchio classifier</td>\n",
       "    </tr>\n",
       "    <tr>\n",
       "      <td>0</td>\n",
       "      <td>0.361111</td>\n",
       "      <td>0.530612</td>\n",
       "      <td>0.361111</td>\n",
       "      <td>0.130401</td>\n",
       "      <td>Gradient Boosting Classifier</td>\n",
       "    </tr>\n",
       "    <tr>\n",
       "      <td>0</td>\n",
       "      <td>0.361111</td>\n",
       "      <td>0.530612</td>\n",
       "      <td>0.361111</td>\n",
       "      <td>0.130401</td>\n",
       "      <td>Naive Bayes</td>\n",
       "    </tr>\n",
       "    <tr>\n",
       "      <td>0</td>\n",
       "      <td>0.361111</td>\n",
       "      <td>0.530612</td>\n",
       "      <td>0.361111</td>\n",
       "      <td>0.130401</td>\n",
       "      <td>K-nearest Neighbor</td>\n",
       "    </tr>\n",
       "    <tr>\n",
       "      <td>0</td>\n",
       "      <td>0.370370</td>\n",
       "      <td>0.534247</td>\n",
       "      <td>0.370370</td>\n",
       "      <td>0.770509</td>\n",
       "      <td>Support Vector Machine (SVM)</td>\n",
       "    </tr>\n",
       "    <tr>\n",
       "      <td>0</td>\n",
       "      <td>0.370370</td>\n",
       "      <td>0.534247</td>\n",
       "      <td>0.370370</td>\n",
       "      <td>0.770509</td>\n",
       "      <td>Decision Tree</td>\n",
       "    </tr>\n",
       "    <tr>\n",
       "      <td>0</td>\n",
       "      <td>0.361111</td>\n",
       "      <td>0.530612</td>\n",
       "      <td>0.361111</td>\n",
       "      <td>0.130401</td>\n",
       "      <td>Random Forest</td>\n",
       "    </tr>\n",
       "    <tr>\n",
       "      <td>0</td>\n",
       "      <td>0.518519</td>\n",
       "      <td>0.593750</td>\n",
       "      <td>0.518519</td>\n",
       "      <td>0.759445</td>\n",
       "      <td>Neural network</td>\n",
       "    </tr>\n",
       "  </tbody>\n",
       "</table>\n",
       "</div>"
      ],
      "text/plain": [
       "   test_accuracy   test_f1  test_recall  test_precision  \\\n",
       "0       0.361111  0.530612     0.361111        0.130401   \n",
       "0       0.361111  0.530612     0.361111        0.130401   \n",
       "0       0.361111  0.530612     0.361111        0.130401   \n",
       "0       0.361111  0.530612     0.361111        0.130401   \n",
       "0       0.370370  0.534247     0.370370        0.770509   \n",
       "0       0.370370  0.534247     0.370370        0.770509   \n",
       "0       0.361111  0.530612     0.361111        0.130401   \n",
       "0       0.518519  0.593750     0.518519        0.759445   \n",
       "\n",
       "                 Estimator Name  \n",
       "0            Rocchio classifier  \n",
       "0  Gradient Boosting Classifier  \n",
       "0                   Naive Bayes  \n",
       "0            K-nearest Neighbor  \n",
       "0  Support Vector Machine (SVM)  \n",
       "0                 Decision Tree  \n",
       "0                 Random Forest  \n",
       "0                Neural network  "
      ]
     },
     "execution_count": 337,
     "metadata": {},
     "output_type": "execute_result"
    }
   ],
   "source": [
    "from sklearn import metrics\n",
    "medias_trt3 = pd.DataFrame( )\n",
    "\n",
    "for i in range( len( preds ) ):\n",
    "    m=[]\n",
    "    m.append( metrics.accuracy_score( Y_trt3, preds[i] ) )\n",
    "    m.append( metrics.f1_score( Y_trt3, preds[i] ) )\n",
    "    m.append( metrics.recall_score(Y_trt3, preds[i], average=\"weighted\") )\n",
    "    m.append( metrics.precision_score(Y_trt3, preds[i], average=\"weighted\") )\n",
    "    m.append( estimators_nomes[i] )\n",
    "    medias_trt3 = medias_trt3.append( [m] )\n",
    "medias_trt3.columns = colunas[3:]\n",
    "medias_trt3"
   ]
  },
  {
   "cell_type": "code",
   "execution_count": 340,
   "metadata": {},
   "outputs": [
    {
     "data": {
      "application/vnd.plotly.v1+json": {
       "config": {
        "linkText": "Export to plot.ly",
        "plotlyServerURL": "https://plot.ly",
        "showLink": false
       },
       "data": [
        {
         "name": "Rocchio classifier",
         "type": "scatter",
         "x": [
          "test_accuracy",
          "test_f1",
          "test_recall",
          "test_precision",
          "Estimator Name"
         ],
         "y": [
          0.3611111111111111,
          0.5306122448979591,
          0.3611111111111111,
          0.13040123456790123
         ]
        },
        {
         "name": "Gradient Boosting Classifier",
         "type": "scatter",
         "x": [
          "test_accuracy",
          "test_f1",
          "test_recall",
          "test_precision",
          "Estimator Name"
         ],
         "y": [
          0.3611111111111111,
          0.5306122448979591,
          0.3611111111111111,
          0.13040123456790123
         ]
        },
        {
         "name": "Naive Bayes",
         "type": "scatter",
         "x": [
          "test_accuracy",
          "test_f1",
          "test_recall",
          "test_precision",
          "Estimator Name"
         ],
         "y": [
          0.3611111111111111,
          0.5306122448979591,
          0.3611111111111111,
          0.13040123456790123
         ]
        },
        {
         "name": "K-nearest Neighbor",
         "type": "scatter",
         "x": [
          "test_accuracy",
          "test_f1",
          "test_recall",
          "test_precision",
          "Estimator Name"
         ],
         "y": [
          0.3611111111111111,
          0.5306122448979591,
          0.3611111111111111,
          0.13040123456790123
         ]
        },
        {
         "name": "Support Vector Machine (SVM)",
         "type": "scatter",
         "x": [
          "test_accuracy",
          "test_f1",
          "test_recall",
          "test_precision",
          "Estimator Name"
         ],
         "y": [
          0.37037037037037035,
          0.5342465753424658,
          0.37037037037037035,
          0.770508826583593
         ]
        },
        {
         "name": "Decision Tree",
         "type": "scatter",
         "x": [
          "test_accuracy",
          "test_f1",
          "test_recall",
          "test_precision",
          "Estimator Name"
         ],
         "y": [
          0.37037037037037035,
          0.5342465753424658,
          0.37037037037037035,
          0.770508826583593
         ]
        },
        {
         "name": "Random Forest",
         "type": "scatter",
         "x": [
          "test_accuracy",
          "test_f1",
          "test_recall",
          "test_precision",
          "Estimator Name"
         ],
         "y": [
          0.3611111111111111,
          0.5306122448979591,
          0.3611111111111111,
          0.13040123456790123
         ]
        },
        {
         "name": "Neural network",
         "type": "scatter",
         "x": [
          "test_accuracy",
          "test_f1",
          "test_recall",
          "test_precision",
          "Estimator Name"
         ],
         "y": [
          0.5185185185185185,
          0.59375,
          0.5185185185185185,
          0.7594454300545371
         ]
        }
       ],
       "layout": {
        "template": {
         "data": {
          "bar": [
           {
            "error_x": {
             "color": "#2a3f5f"
            },
            "error_y": {
             "color": "#2a3f5f"
            },
            "marker": {
             "line": {
              "color": "#E5ECF6",
              "width": 0.5
             }
            },
            "type": "bar"
           }
          ],
          "barpolar": [
           {
            "marker": {
             "line": {
              "color": "#E5ECF6",
              "width": 0.5
             }
            },
            "type": "barpolar"
           }
          ],
          "carpet": [
           {
            "aaxis": {
             "endlinecolor": "#2a3f5f",
             "gridcolor": "white",
             "linecolor": "white",
             "minorgridcolor": "white",
             "startlinecolor": "#2a3f5f"
            },
            "baxis": {
             "endlinecolor": "#2a3f5f",
             "gridcolor": "white",
             "linecolor": "white",
             "minorgridcolor": "white",
             "startlinecolor": "#2a3f5f"
            },
            "type": "carpet"
           }
          ],
          "choropleth": [
           {
            "colorbar": {
             "outlinewidth": 0,
             "ticks": ""
            },
            "type": "choropleth"
           }
          ],
          "contour": [
           {
            "colorbar": {
             "outlinewidth": 0,
             "ticks": ""
            },
            "colorscale": [
             [
              0,
              "#0d0887"
             ],
             [
              0.1111111111111111,
              "#46039f"
             ],
             [
              0.2222222222222222,
              "#7201a8"
             ],
             [
              0.3333333333333333,
              "#9c179e"
             ],
             [
              0.4444444444444444,
              "#bd3786"
             ],
             [
              0.5555555555555556,
              "#d8576b"
             ],
             [
              0.6666666666666666,
              "#ed7953"
             ],
             [
              0.7777777777777778,
              "#fb9f3a"
             ],
             [
              0.8888888888888888,
              "#fdca26"
             ],
             [
              1,
              "#f0f921"
             ]
            ],
            "type": "contour"
           }
          ],
          "contourcarpet": [
           {
            "colorbar": {
             "outlinewidth": 0,
             "ticks": ""
            },
            "type": "contourcarpet"
           }
          ],
          "heatmap": [
           {
            "colorbar": {
             "outlinewidth": 0,
             "ticks": ""
            },
            "colorscale": [
             [
              0,
              "#0d0887"
             ],
             [
              0.1111111111111111,
              "#46039f"
             ],
             [
              0.2222222222222222,
              "#7201a8"
             ],
             [
              0.3333333333333333,
              "#9c179e"
             ],
             [
              0.4444444444444444,
              "#bd3786"
             ],
             [
              0.5555555555555556,
              "#d8576b"
             ],
             [
              0.6666666666666666,
              "#ed7953"
             ],
             [
              0.7777777777777778,
              "#fb9f3a"
             ],
             [
              0.8888888888888888,
              "#fdca26"
             ],
             [
              1,
              "#f0f921"
             ]
            ],
            "type": "heatmap"
           }
          ],
          "heatmapgl": [
           {
            "colorbar": {
             "outlinewidth": 0,
             "ticks": ""
            },
            "colorscale": [
             [
              0,
              "#0d0887"
             ],
             [
              0.1111111111111111,
              "#46039f"
             ],
             [
              0.2222222222222222,
              "#7201a8"
             ],
             [
              0.3333333333333333,
              "#9c179e"
             ],
             [
              0.4444444444444444,
              "#bd3786"
             ],
             [
              0.5555555555555556,
              "#d8576b"
             ],
             [
              0.6666666666666666,
              "#ed7953"
             ],
             [
              0.7777777777777778,
              "#fb9f3a"
             ],
             [
              0.8888888888888888,
              "#fdca26"
             ],
             [
              1,
              "#f0f921"
             ]
            ],
            "type": "heatmapgl"
           }
          ],
          "histogram": [
           {
            "marker": {
             "colorbar": {
              "outlinewidth": 0,
              "ticks": ""
             }
            },
            "type": "histogram"
           }
          ],
          "histogram2d": [
           {
            "colorbar": {
             "outlinewidth": 0,
             "ticks": ""
            },
            "colorscale": [
             [
              0,
              "#0d0887"
             ],
             [
              0.1111111111111111,
              "#46039f"
             ],
             [
              0.2222222222222222,
              "#7201a8"
             ],
             [
              0.3333333333333333,
              "#9c179e"
             ],
             [
              0.4444444444444444,
              "#bd3786"
             ],
             [
              0.5555555555555556,
              "#d8576b"
             ],
             [
              0.6666666666666666,
              "#ed7953"
             ],
             [
              0.7777777777777778,
              "#fb9f3a"
             ],
             [
              0.8888888888888888,
              "#fdca26"
             ],
             [
              1,
              "#f0f921"
             ]
            ],
            "type": "histogram2d"
           }
          ],
          "histogram2dcontour": [
           {
            "colorbar": {
             "outlinewidth": 0,
             "ticks": ""
            },
            "colorscale": [
             [
              0,
              "#0d0887"
             ],
             [
              0.1111111111111111,
              "#46039f"
             ],
             [
              0.2222222222222222,
              "#7201a8"
             ],
             [
              0.3333333333333333,
              "#9c179e"
             ],
             [
              0.4444444444444444,
              "#bd3786"
             ],
             [
              0.5555555555555556,
              "#d8576b"
             ],
             [
              0.6666666666666666,
              "#ed7953"
             ],
             [
              0.7777777777777778,
              "#fb9f3a"
             ],
             [
              0.8888888888888888,
              "#fdca26"
             ],
             [
              1,
              "#f0f921"
             ]
            ],
            "type": "histogram2dcontour"
           }
          ],
          "mesh3d": [
           {
            "colorbar": {
             "outlinewidth": 0,
             "ticks": ""
            },
            "type": "mesh3d"
           }
          ],
          "parcoords": [
           {
            "line": {
             "colorbar": {
              "outlinewidth": 0,
              "ticks": ""
             }
            },
            "type": "parcoords"
           }
          ],
          "pie": [
           {
            "automargin": true,
            "type": "pie"
           }
          ],
          "scatter": [
           {
            "marker": {
             "colorbar": {
              "outlinewidth": 0,
              "ticks": ""
             }
            },
            "type": "scatter"
           }
          ],
          "scatter3d": [
           {
            "line": {
             "colorbar": {
              "outlinewidth": 0,
              "ticks": ""
             }
            },
            "marker": {
             "colorbar": {
              "outlinewidth": 0,
              "ticks": ""
             }
            },
            "type": "scatter3d"
           }
          ],
          "scattercarpet": [
           {
            "marker": {
             "colorbar": {
              "outlinewidth": 0,
              "ticks": ""
             }
            },
            "type": "scattercarpet"
           }
          ],
          "scattergeo": [
           {
            "marker": {
             "colorbar": {
              "outlinewidth": 0,
              "ticks": ""
             }
            },
            "type": "scattergeo"
           }
          ],
          "scattergl": [
           {
            "marker": {
             "colorbar": {
              "outlinewidth": 0,
              "ticks": ""
             }
            },
            "type": "scattergl"
           }
          ],
          "scattermapbox": [
           {
            "marker": {
             "colorbar": {
              "outlinewidth": 0,
              "ticks": ""
             }
            },
            "type": "scattermapbox"
           }
          ],
          "scatterpolar": [
           {
            "marker": {
             "colorbar": {
              "outlinewidth": 0,
              "ticks": ""
             }
            },
            "type": "scatterpolar"
           }
          ],
          "scatterpolargl": [
           {
            "marker": {
             "colorbar": {
              "outlinewidth": 0,
              "ticks": ""
             }
            },
            "type": "scatterpolargl"
           }
          ],
          "scatterternary": [
           {
            "marker": {
             "colorbar": {
              "outlinewidth": 0,
              "ticks": ""
             }
            },
            "type": "scatterternary"
           }
          ],
          "surface": [
           {
            "colorbar": {
             "outlinewidth": 0,
             "ticks": ""
            },
            "colorscale": [
             [
              0,
              "#0d0887"
             ],
             [
              0.1111111111111111,
              "#46039f"
             ],
             [
              0.2222222222222222,
              "#7201a8"
             ],
             [
              0.3333333333333333,
              "#9c179e"
             ],
             [
              0.4444444444444444,
              "#bd3786"
             ],
             [
              0.5555555555555556,
              "#d8576b"
             ],
             [
              0.6666666666666666,
              "#ed7953"
             ],
             [
              0.7777777777777778,
              "#fb9f3a"
             ],
             [
              0.8888888888888888,
              "#fdca26"
             ],
             [
              1,
              "#f0f921"
             ]
            ],
            "type": "surface"
           }
          ],
          "table": [
           {
            "cells": {
             "fill": {
              "color": "#EBF0F8"
             },
             "line": {
              "color": "white"
             }
            },
            "header": {
             "fill": {
              "color": "#C8D4E3"
             },
             "line": {
              "color": "white"
             }
            },
            "type": "table"
           }
          ]
         },
         "layout": {
          "annotationdefaults": {
           "arrowcolor": "#2a3f5f",
           "arrowhead": 0,
           "arrowwidth": 1
          },
          "coloraxis": {
           "colorbar": {
            "outlinewidth": 0,
            "ticks": ""
           }
          },
          "colorscale": {
           "diverging": [
            [
             0,
             "#8e0152"
            ],
            [
             0.1,
             "#c51b7d"
            ],
            [
             0.2,
             "#de77ae"
            ],
            [
             0.3,
             "#f1b6da"
            ],
            [
             0.4,
             "#fde0ef"
            ],
            [
             0.5,
             "#f7f7f7"
            ],
            [
             0.6,
             "#e6f5d0"
            ],
            [
             0.7,
             "#b8e186"
            ],
            [
             0.8,
             "#7fbc41"
            ],
            [
             0.9,
             "#4d9221"
            ],
            [
             1,
             "#276419"
            ]
           ],
           "sequential": [
            [
             0,
             "#0d0887"
            ],
            [
             0.1111111111111111,
             "#46039f"
            ],
            [
             0.2222222222222222,
             "#7201a8"
            ],
            [
             0.3333333333333333,
             "#9c179e"
            ],
            [
             0.4444444444444444,
             "#bd3786"
            ],
            [
             0.5555555555555556,
             "#d8576b"
            ],
            [
             0.6666666666666666,
             "#ed7953"
            ],
            [
             0.7777777777777778,
             "#fb9f3a"
            ],
            [
             0.8888888888888888,
             "#fdca26"
            ],
            [
             1,
             "#f0f921"
            ]
           ],
           "sequentialminus": [
            [
             0,
             "#0d0887"
            ],
            [
             0.1111111111111111,
             "#46039f"
            ],
            [
             0.2222222222222222,
             "#7201a8"
            ],
            [
             0.3333333333333333,
             "#9c179e"
            ],
            [
             0.4444444444444444,
             "#bd3786"
            ],
            [
             0.5555555555555556,
             "#d8576b"
            ],
            [
             0.6666666666666666,
             "#ed7953"
            ],
            [
             0.7777777777777778,
             "#fb9f3a"
            ],
            [
             0.8888888888888888,
             "#fdca26"
            ],
            [
             1,
             "#f0f921"
            ]
           ]
          },
          "colorway": [
           "#636efa",
           "#EF553B",
           "#00cc96",
           "#ab63fa",
           "#FFA15A",
           "#19d3f3",
           "#FF6692",
           "#B6E880",
           "#FF97FF",
           "#FECB52"
          ],
          "font": {
           "color": "#2a3f5f"
          },
          "geo": {
           "bgcolor": "white",
           "lakecolor": "white",
           "landcolor": "#E5ECF6",
           "showlakes": true,
           "showland": true,
           "subunitcolor": "white"
          },
          "hoverlabel": {
           "align": "left"
          },
          "hovermode": "closest",
          "mapbox": {
           "style": "light"
          },
          "paper_bgcolor": "white",
          "plot_bgcolor": "#E5ECF6",
          "polar": {
           "angularaxis": {
            "gridcolor": "white",
            "linecolor": "white",
            "ticks": ""
           },
           "bgcolor": "#E5ECF6",
           "radialaxis": {
            "gridcolor": "white",
            "linecolor": "white",
            "ticks": ""
           }
          },
          "scene": {
           "xaxis": {
            "backgroundcolor": "#E5ECF6",
            "gridcolor": "white",
            "gridwidth": 2,
            "linecolor": "white",
            "showbackground": true,
            "ticks": "",
            "zerolinecolor": "white"
           },
           "yaxis": {
            "backgroundcolor": "#E5ECF6",
            "gridcolor": "white",
            "gridwidth": 2,
            "linecolor": "white",
            "showbackground": true,
            "ticks": "",
            "zerolinecolor": "white"
           },
           "zaxis": {
            "backgroundcolor": "#E5ECF6",
            "gridcolor": "white",
            "gridwidth": 2,
            "linecolor": "white",
            "showbackground": true,
            "ticks": "",
            "zerolinecolor": "white"
           }
          },
          "shapedefaults": {
           "line": {
            "color": "#2a3f5f"
           }
          },
          "ternary": {
           "aaxis": {
            "gridcolor": "white",
            "linecolor": "white",
            "ticks": ""
           },
           "baxis": {
            "gridcolor": "white",
            "linecolor": "white",
            "ticks": ""
           },
           "bgcolor": "#E5ECF6",
           "caxis": {
            "gridcolor": "white",
            "linecolor": "white",
            "ticks": ""
           }
          },
          "title": {
           "x": 0.05
          },
          "xaxis": {
           "automargin": true,
           "gridcolor": "white",
           "linecolor": "white",
           "ticks": "",
           "title": {
            "standoff": 15
           },
           "zerolinecolor": "white",
           "zerolinewidth": 2
          },
          "yaxis": {
           "automargin": true,
           "gridcolor": "white",
           "linecolor": "white",
           "ticks": "",
           "title": {
            "standoff": 15
           },
           "zerolinecolor": "white",
           "zerolinewidth": 2
          }
         }
        }
       }
      }
     },
     "metadata": {},
     "output_type": "display_data"
    }
   ],
   "source": [
    "iplot( { \"data\": [ go.Scatter(x=colunas[3:], y=medias_trt3.iloc[i,:-1], name=medias_trt3.iloc[i,-1] ) for i in range( len( medias_trt3 ) ) ] } )"
   ]
  },
  {
   "cell_type": "code",
   "execution_count": null,
   "metadata": {},
   "outputs": [],
   "source": []
  }
 ],
 "metadata": {
  "kernelspec": {
   "display_name": "Python 3",
   "language": "python",
   "name": "python3"
  },
  "language_info": {
   "codemirror_mode": {
    "name": "ipython",
    "version": 3
   },
   "file_extension": ".py",
   "mimetype": "text/x-python",
   "name": "python",
   "nbconvert_exporter": "python",
   "pygments_lexer": "ipython3",
   "version": "3.7.4"
  }
 },
 "nbformat": 4,
 "nbformat_minor": 2
}
