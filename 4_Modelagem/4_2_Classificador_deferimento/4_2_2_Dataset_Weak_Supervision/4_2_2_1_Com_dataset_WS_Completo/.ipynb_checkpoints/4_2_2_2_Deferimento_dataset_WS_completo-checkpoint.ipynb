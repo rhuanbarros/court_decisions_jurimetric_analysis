{
 "cells": [
  {
   "cell_type": "code",
   "execution_count": 2,
   "metadata": {},
   "outputs": [
    {
     "name": "stdin",
     "output_type": "stream",
     "text": [
      "Once deleted, variables cannot be recovered. Proceed (y/[n])?  y\n"
     ]
    }
   ],
   "source": [
    "%reset"
   ]
  },
  {
   "cell_type": "markdown",
   "metadata": {},
   "source": [
    "# Desenvolvimento de um classificador que identifica se o dispositivo defere ou indefere determinado recurso"
   ]
  },
  {
   "cell_type": "markdown",
   "metadata": {},
   "source": [
    "Base de dados construida programaticamente por meio de técnica de Weak Supervision com Snorkel Framework"
   ]
  },
  {
   "cell_type": "markdown",
   "metadata": {},
   "source": [
    "# Algorítmos clássicos"
   ]
  },
  {
   "cell_type": "markdown",
   "metadata": {},
   "source": [
    "## Carregamento dos datasets"
   ]
  },
  {
   "cell_type": "code",
   "execution_count": 3,
   "metadata": {},
   "outputs": [
    {
     "name": "stdout",
     "output_type": "stream",
     "text": [
      "<class 'pandas.core.frame.DataFrame'>\n",
      "RangeIndex: 22471 entries, 0 to 22470\n",
      "Data columns (total 11 columns):\n",
      " #   Column           Non-Null Count  Dtype  \n",
      "---  ------           --------------  -----  \n",
      " 0   INDEX            22471 non-null  int64  \n",
      " 1   LINK             11731 non-null  object \n",
      " 2   INTEIRO_TEOR     22471 non-null  object \n",
      " 3   DATA             22471 non-null  object \n",
      " 4   RELATOR          22471 non-null  object \n",
      " 5   ORGAO            22471 non-null  object \n",
      " 6   RECORRENTE       22471 non-null  object \n",
      " 7   DISPOSITIVO      22471 non-null  object \n",
      " 8   QTD_RECORRENTES  22471 non-null  float64\n",
      " 9   TRIBUNAL         22471 non-null  object \n",
      " 10  LABEL_WEAK       22471 non-null  int64  \n",
      "dtypes: float64(1), int64(2), object(8)\n",
      "memory usage: 1.9+ MB\n"
     ]
    }
   ],
   "source": [
    "import pandas as pd\n",
    "\n",
    "arquivo = \"..//..//..//3_Preparacao_dos_dados//3_4_Anotacao_automatica//df_weak_supervision.csv\"\n",
    "df_tudo = pd.read_csv( arquivo, encoding='utf-8' )\n",
    "df_tudo.info()"
   ]
  },
  {
   "cell_type": "markdown",
   "metadata": {},
   "source": [
    "## Ajustes, limpeza e transformação dos rótulos para inteiros"
   ]
  },
  {
   "cell_type": "markdown",
   "metadata": {},
   "source": [
    "Fiz isso para evitar problemas, pois já tive problemas, e cfm mencionado no link abaixo, parece q há classes do Sklearn que funcionam com texto e outras não, além do problema q eu passei com os pacotes instalados com o Conda que parece que funcionam diferente do que instalados pelo Pip.\n",
    "https://stackoverflow.com/questions/50201315/is-numerical-encoding-necessary-for-the-target-variable-in-classification"
   ]
  },
  {
   "cell_type": "code",
   "execution_count": 4,
   "metadata": {},
   "outputs": [],
   "source": [
    "INDEFERIMENTO = 0\n",
    "DEFERIMENTO = 1\n",
    "SEM_ANALISE_MERITO = 2"
   ]
  },
  {
   "cell_type": "code",
   "execution_count": 5,
   "metadata": {},
   "outputs": [
    {
     "data": {
      "text/plain": [
       "array([1, 0, 2])"
      ]
     },
     "execution_count": 5,
     "metadata": {},
     "output_type": "execute_result"
    }
   ],
   "source": [
    "#limpeza de caracteres em branco\n",
    "df_tudo[\"DISPOSITIVO\"] = df_tudo[\"DISPOSITIVO\"].astype(str).map(str.strip)\n",
    "df_tudo[\"LABEL_WEAK\"].unique()"
   ]
  },
  {
   "cell_type": "code",
   "execution_count": 6,
   "metadata": {},
   "outputs": [
    {
     "data": {
      "text/plain": [
       "0    12000\n",
       "1     9923\n",
       "2      548\n",
       "Name: LABEL_WEAK, dtype: int64"
      ]
     },
     "execution_count": 6,
     "metadata": {},
     "output_type": "execute_result"
    }
   ],
   "source": [
    "df_tudo[\"LABEL_WEAK\"].value_counts()"
   ]
  },
  {
   "cell_type": "code",
   "execution_count": 7,
   "metadata": {},
   "outputs": [
    {
     "data": {
      "text/plain": [
       "<AxesSubplot:>"
      ]
     },
     "execution_count": 7,
     "metadata": {},
     "output_type": "execute_result"
    },
    {
     "data": {
      "image/png": "[encoded data removed]",
      "text/plain": [
       "<Figure size 432x288 with 1 Axes>"
      ]
     },
     "metadata": {
      "needs_background": "light"
     },
     "output_type": "display_data"
    }
   ],
   "source": [
    "df_tudo[\"LABEL_WEAK\"].hist()"
   ]
  },
  {
   "cell_type": "markdown",
   "metadata": {},
   "source": [
    "### Tokenizador de palavras da lingua portuguesa"
   ]
  },
  {
   "cell_type": "code",
   "execution_count": 18,
   "metadata": {},
   "outputs": [],
   "source": [
    "#python -m spacy download pt_core_news_sm\n",
    "import spacy\n",
    "from spacy.tokens import Doc\n",
    "nlp = spacy.load(\"pt_core_news_sm\")\n",
    "\n",
    "from nltk.tokenize import RegexpTokenizer\n",
    "def tokenize(text):\n",
    "    \"\"\"\n",
    "    Tokenize the given sentence in Portuguese.\n",
    "    :param text: text to be tokenized, as a string\n",
    "    \"\"\"\n",
    "    tokenizer_regexp = r'''(?ux)\n",
    "    # the order of the patterns is important!!\n",
    "    # more structured patterns come first\n",
    "    [a-zA-Z0-9_.+-]+@[a-zA-Z0-9-]+(?:\\.[a-zA-Z0-9-]+)+|    # emails\n",
    "    (?:https?://)?\\w{2,}(?:\\.\\w{2,})+(?:/\\w+)*|                  # URLs\n",
    "    (?:[\\#@]\\w+)|                     # Hashtags and twitter user names\n",
    "    (?:[^\\W\\d_]\\.)+|                  # one letter abbreviations, e.g. E.U.A.\n",
    "    (?:[DSds][Rr][Aa]?)\\.|            # common abbreviations such as dr., sr., sra., dra.\n",
    "    (?:\\B-)?\\d+(?:[:.,]\\d+)*(?:-?\\w)*|\n",
    "        # numbers in format 999.999.999,999, possibly followed by hyphen and alphanumerics\n",
    "        # \\B- avoids picks as F-14 as a negative number\n",
    "    \\.{3,}|                           # ellipsis or sequences of dots\n",
    "    \\w+|                              # alphanumerics\n",
    "    -+|                               # any sequence of dashes\n",
    "    \\S                                # any non-space character\n",
    "    '''\n",
    "    tokenizer = RegexpTokenizer(tokenizer_regexp)\n",
    "\n",
    "    return tokenizer.tokenize(text)\n",
    "\n",
    "class PortugueseTokenizer(object):\n",
    "    def __init__(self, vocab):\n",
    "        self.vocab = vocab\n",
    "\n",
    "    def __call__(self, text):\n",
    "        words = tokenize( text )\n",
    "        # All tokens 'own' a subsequent space character in this tokenizer\n",
    "        spaces = [True] * len(words)\n",
    "        return Doc(self.vocab, words=words, spaces=spaces)\n",
    "\n",
    "nlp.tokenizer = PortugueseTokenizer(nlp.vocab)"
   ]
  },
  {
   "cell_type": "code",
   "execution_count": 19,
   "metadata": {
    "scrolled": true
   },
   "outputs": [
    {
     "name": "stderr",
     "output_type": "stream",
     "text": [
      "[nltk_data] Downloading package stopwords to /root/nltk_data...\n",
      "[nltk_data]   Package stopwords is already up-to-date!\n"
     ]
    }
   ],
   "source": [
    "import nltk\n",
    "nltk.download('stopwords')\n",
    "stopwords = nltk.corpus.stopwords.words('portuguese')"
   ]
  },
  {
   "cell_type": "code",
   "execution_count": 20,
   "metadata": {},
   "outputs": [],
   "source": [
    "nlp.Defaults.stop_words = stopwords[:100]"
   ]
  },
  {
   "cell_type": "code",
   "execution_count": 21,
   "metadata": {
    "scrolled": true
   },
   "outputs": [
    {
     "data": {
      "text/plain": [
       "['de',\n",
       " 'a',\n",
       " 'o',\n",
       " 'que',\n",
       " 'e',\n",
       " 'é',\n",
       " 'do',\n",
       " 'da',\n",
       " 'em',\n",
       " 'um',\n",
       " 'para',\n",
       " 'com',\n",
       " 'uma',\n",
       " 'os',\n",
       " 'no',\n",
       " 'se',\n",
       " 'na',\n",
       " 'por',\n",
       " 'mais',\n",
       " 'as',\n",
       " 'dos',\n",
       " 'como',\n",
       " 'mas',\n",
       " 'ao',\n",
       " 'ele',\n",
       " 'das',\n",
       " 'à',\n",
       " 'seu',\n",
       " 'sua',\n",
       " 'ou',\n",
       " 'quando',\n",
       " 'muito',\n",
       " 'nos',\n",
       " 'já',\n",
       " 'eu',\n",
       " 'também',\n",
       " 'só',\n",
       " 'pelo',\n",
       " 'pela',\n",
       " 'até',\n",
       " 'isso',\n",
       " 'ela',\n",
       " 'entre',\n",
       " 'depois',\n",
       " 'sem',\n",
       " 'mesmo',\n",
       " 'aos',\n",
       " 'seus',\n",
       " 'quem',\n",
       " 'nas',\n",
       " 'me',\n",
       " 'esse',\n",
       " 'eles',\n",
       " 'você',\n",
       " 'essa',\n",
       " 'num',\n",
       " 'nem',\n",
       " 'suas',\n",
       " 'meu',\n",
       " 'às',\n",
       " 'minha',\n",
       " 'numa',\n",
       " 'pelos',\n",
       " 'elas',\n",
       " 'qual',\n",
       " 'nós',\n",
       " 'lhe',\n",
       " 'deles',\n",
       " 'essas',\n",
       " 'esses',\n",
       " 'pelas',\n",
       " 'este',\n",
       " 'dele',\n",
       " 'tu',\n",
       " 'te',\n",
       " 'vocês',\n",
       " 'vos',\n",
       " 'lhes',\n",
       " 'meus',\n",
       " 'minhas',\n",
       " 'teu',\n",
       " 'tua',\n",
       " 'teus',\n",
       " 'tuas',\n",
       " 'nosso',\n",
       " 'nossa',\n",
       " 'nossos',\n",
       " 'nossas',\n",
       " 'dela',\n",
       " 'delas',\n",
       " 'esta',\n",
       " 'estes',\n",
       " 'estas',\n",
       " 'aquele',\n",
       " 'aquela',\n",
       " 'aqueles',\n",
       " 'aquelas',\n",
       " 'isto',\n",
       " 'aquilo']"
      ]
     },
     "execution_count": 21,
     "metadata": {},
     "output_type": "execute_result"
    }
   ],
   "source": [
    "#codigo para tirar o \"não\" das stop words pq eu preciso dele nas funções de rotulação\n",
    "if \"não\" in nlp.Defaults.stop_words:\n",
    "    nlp.Defaults.stop_words.remove(\"não\")\n",
    "if \"dar\" in nlp.Defaults.stop_words:\n",
    "    nlp.Defaults.stop_words.remove(\"dar\")\n",
    "nlp.Defaults.stop_words"
   ]
  },
  {
   "cell_type": "code",
   "execution_count": 22,
   "metadata": {},
   "outputs": [],
   "source": [
    "#alterada esss funcao para tbm remover as stop words\n",
    "def get_lemma_form( frase ):\n",
    "    juntado = \"\"\n",
    "    for t in nlp( str( frase ) ):\n",
    "        if not t.is_stop: #remove stop words tbm\n",
    "            juntado += t.lemma_ +\" \"\n",
    "    return juntado.strip()"
   ]
  },
  {
   "cell_type": "code",
   "execution_count": 23,
   "metadata": {},
   "outputs": [],
   "source": [
    "#esse assert da erro, por isso eu criei a funcao limpa() abaixo.\n",
    "#assert \"dar parcial provimento\" in get_lemma_form( \"deu-se parcial provimento\")"
   ]
  },
  {
   "cell_type": "code",
   "execution_count": 24,
   "metadata": {},
   "outputs": [],
   "source": [
    "#ajuda a remover traços do texto\n",
    "def limpa( frase ):\n",
    "    import re\n",
    "    cleanString = re.sub('\\W+',' ', frase )\n",
    "    novo = \"\"\n",
    "    for w in cleanString.split( \" \" ):\n",
    "        pronomes_obliquos = [ \"me\", \"te\", \"se\", \"lhe\", \"lhes\", \"nos\", \"vos\" ]\n",
    "        if w not in pronomes_obliquos:\n",
    "            novo += \" \"+w\n",
    "    return novo.strip()"
   ]
  },
  {
   "cell_type": "code",
   "execution_count": 25,
   "metadata": {},
   "outputs": [],
   "source": [
    "def limpa_tudo(frase):\n",
    "    return limpa( get_lemma_form( frase ) )"
   ]
  },
  {
   "cell_type": "code",
   "execution_count": 26,
   "metadata": {},
   "outputs": [],
   "source": [
    "def tokenizer( texto ):\n",
    "    # Lemmatizing each token and converting each token into lowercase\n",
    "    texto = nlp( str( texto ) )\n",
    "    return [ limpa_tudo( word.lemma_.lower().strip() ) if word.lemma_ != \"-PRON-\" else word.lower_ for word in texto ]"
   ]
  },
  {
   "cell_type": "markdown",
   "metadata": {},
   "source": [
    "### Testes das funções de limpeza de texto"
   ]
  },
  {
   "cell_type": "code",
   "execution_count": 27,
   "metadata": {},
   "outputs": [],
   "source": [
    "assert 'dar provimento' in limpa_tudo( \"dar provimento\" )"
   ]
  },
  {
   "cell_type": "code",
   "execution_count": 28,
   "metadata": {},
   "outputs": [],
   "source": [
    "assert 'dar parcial provimento' in limpa_tudo(\"dar parcial provimento\")"
   ]
  },
  {
   "cell_type": "markdown",
   "metadata": {},
   "source": [
    "### Processamento com tokenizador e vetorização"
   ]
  },
  {
   "cell_type": "code",
   "execution_count": 30,
   "metadata": {},
   "outputs": [
    {
     "name": "stdout",
     "output_type": "stream",
     "text": [
      "CPU times: user 122 µs, sys: 22 µs, total: 144 µs\n",
      "Wall time: 150 µs\n"
     ]
    }
   ],
   "source": [
    "%%time\n",
    "\n",
    "from sklearn.pipeline import Pipeline\n",
    "from sklearn.feature_extraction.text import CountVectorizer\n",
    "from sklearn.feature_extraction.text import TfidfTransformer\n",
    "\n",
    "text_transform_pipeline = Pipeline([\n",
    "    ('vect', CountVectorizer(analyzer=tokenizer)), \n",
    "    ('tfidf', TfidfTransformer()), \n",
    "])"
   ]
  },
  {
   "cell_type": "markdown",
   "metadata": {},
   "source": [
    "#### Executar quando quiser criar a estrutura de dados"
   ]
  },
  {
   "cell_type": "code",
   "execution_count": null,
   "metadata": {},
   "outputs": [],
   "source": [
    "%%time\n",
    "\n",
    "data_tranformed_ws = text_transform_pipeline.fit_transform(df_tudo[\"DISPOSITIVO\"].values )\n",
    "data_tranformed_ws"
   ]
  },
  {
   "cell_type": "code",
   "execution_count": null,
   "metadata": {},
   "outputs": [],
   "source": [
    "from joblib import dump\n",
    "dump(text_transform_pipeline, 'ml_text_transform_pipeline_ws_tudo.joblib')"
   ]
  },
  {
   "cell_type": "markdown",
   "metadata": {},
   "source": [
    "#### Executar quando quiser carregar da memoria a estrutura de dados ja criada"
   ]
  },
  {
   "cell_type": "code",
   "execution_count": 32,
   "metadata": {},
   "outputs": [],
   "source": [
    "from joblib import load\n",
    "text_transform_pipeline = load('ml_text_transform_pipeline_ws_tudo.joblib') "
   ]
  },
  {
   "cell_type": "code",
   "execution_count": null,
   "metadata": {},
   "outputs": [],
   "source": [
    "%%time\n",
    "\n",
    "data_tranformed_ws = text_transform_pipeline.transform(df_tudo[\"DISPOSITIVO\"].values )\n",
    "data_tranformed_ws"
   ]
  },
  {
   "cell_type": "markdown",
   "metadata": {},
   "source": [
    "## Separação da base para testes finais"
   ]
  },
  {
   "cell_type": "markdown",
   "metadata": {},
   "source": [
    "30% para testes finais. 70% para treinamento por meio de Cross Validation em 7 camadas."
   ]
  },
  {
   "cell_type": "code",
   "execution_count": null,
   "metadata": {},
   "outputs": [],
   "source": [
    "from sklearn.model_selection import train_test_split\n",
    "\n",
    "X_train, X_test, y_train, y_test = train_test_split(data_tranformed_ws, df_tudo[\"LABEL_WEAK\"].values, test_size=0.3, random_state=0)"
   ]
  },
  {
   "cell_type": "code",
   "execution_count": null,
   "metadata": {},
   "outputs": [],
   "source": [
    "X_train"
   ]
  },
  {
   "cell_type": "code",
   "execution_count": null,
   "metadata": {},
   "outputs": [],
   "source": [
    "X_test"
   ]
  },
  {
   "cell_type": "code",
   "execution_count": null,
   "metadata": {},
   "outputs": [],
   "source": [
    "print(\"y_train: \"+str(len(y_train)))\n",
    "print(\"y_test: \"+str(len(y_test)))"
   ]
  },
  {
   "cell_type": "markdown",
   "metadata": {},
   "source": [
    "## Importação de bibliotecas e definição de variáveis"
   ]
  },
  {
   "cell_type": "code",
   "execution_count": null,
   "metadata": {},
   "outputs": [],
   "source": [
    "from sklearn.model_selection import cross_validate\n",
    "from sklearn.metrics import recall_score\n",
    "from sklearn.feature_extraction.text import TfidfTransformer\n",
    "from sklearn.feature_extraction.text import CountVectorizer\n",
    "from sklearn.pipeline import Pipeline\n",
    "from sklearn.model_selection import KFold\n",
    "from sklearn.metrics import confusion_matrix\n",
    "import numpy as np\n",
    "from sklearn.metrics import accuracy_score\n",
    "from sklearn.metrics import f1_score\n",
    "from sklearn.metrics import precision_score\n",
    "from sklearn.metrics import recall_score\n",
    "from sklearn.metrics import multilabel_confusion_matrix\n",
    "import plotly.figure_factory as ff\n",
    "import plotly.graph_objects as go\n",
    "from plotly.offline import iplot\n",
    "\n",
    "#https://scikit-learn.org/stable/modules/model_evaluation.html#precision-recall-f-measure-metrics\n",
    "#https://datascience.stackexchange.com/questions/15989/micro-average-vs-macro-average-performance-in-a-multiclass-classification-settin\n",
    "#https://towardsdatascience.com/confusion-matrix-for-your-multi-class-machine-learning-model-ff9aa3bf7826\n",
    "#https://datascience.stackexchange.com/questions/15989/micro-average-vs-macro-average-performance-in-a-multiclass-classification-settin"
   ]
  },
  {
   "cell_type": "code",
   "execution_count": null,
   "metadata": {
    "scrolled": true
   },
   "outputs": [],
   "source": [
    "medias_cv = pd.DataFrame( )\n",
    "\n",
    "def treinar_cv(model, nome_classificador):\n",
    "    conf_matrix_list_of_arrays = []\n",
    "    metricas_modelo = []\n",
    "    cv = 7\n",
    "    kf = KFold(n_splits=cv, random_state=0, shuffle=True)\n",
    "    for train_index, test_index in kf.split(X_train):\n",
    "\n",
    "        X_train_cv = X_train[train_index]\n",
    "        X_test_cv = X_train[test_index]\n",
    "        y_train_cv = y_train[train_index]\n",
    "        y_test_cv = y_train[test_index]\n",
    "\n",
    "        model.fit(X_train_cv, y_train_cv)\n",
    "        y_predicted = model.predict(X_test_cv)\n",
    "\n",
    "        #METRICAS\n",
    "        accuracy = accuracy_score(y_test_cv, y_predicted)\n",
    "        f1_macro = f1_score(y_test_cv, y_predicted, average='macro')\n",
    "        f1_micro = f1_score(y_test_cv, y_predicted, average='micro')\n",
    "        precision_macro = precision_score(y_test_cv, y_predicted, average='macro')\n",
    "        precision_micro = precision_score(y_test_cv, y_predicted, average='micro')\n",
    "        recall_macro = recall_score(y_test_cv, y_predicted, average='macro')\n",
    "        recall_micro = recall_score(y_test_cv, y_predicted, average='micro')\n",
    "\n",
    "        metricas_cv = [accuracy, f1_macro, precision_macro, recall_macro, f1_micro, precision_micro, recall_micro]\n",
    "        metricas_modelo.append( metricas_cv ) \n",
    "\n",
    "        #confusion matrix\n",
    "        conf_matrix = confusion_matrix(y_test_cv, y_predicted, labels=[INDEFERIMENTO, DEFERIMENTO, SEM_ANALISE_MERITO])\n",
    "        conf_matrix_list_of_arrays.append(conf_matrix)\n",
    "        \n",
    "    #calcula media da Confusion matrix\n",
    "    mean_of_conf_matrix_arrays = np.mean(conf_matrix_list_of_arrays, axis=0)\n",
    "    cm = mean_of_conf_matrix_arrays\n",
    "    \n",
    "    #grafico\n",
    "    x = [\"INDEFERIMENTO\", \"DEFERIMENTO\", \"SEM_ANALISE_MERITO\"]\n",
    "    y = [\"INDEFERIMENTO\", \"DEFERIMENTO\", \"SEM_ANALISE_MERITO\"]\n",
    "\n",
    "    fig = ff.create_annotated_heatmap(cm.round(4), x=x, y=y, annotation_text=cm.round(4), colorscale='Blues')\n",
    "    fig['layout']['yaxis']['autorange'] = \"reversed\"\n",
    "    iplot(fig)\n",
    "    \n",
    "    #tira a media de todas as camadas do cv\n",
    "    metricas_modelo_media = np.mean(metricas_modelo, axis=0).tolist()\n",
    "    metricas_modelo_media.insert(0, nome_classificador)\n",
    "    print(\"\")\n",
    "    print(metricas_modelo_media)\n",
    "    \n",
    "    return metricas_modelo_media"
   ]
  },
  {
   "cell_type": "markdown",
   "metadata": {},
   "source": [
    "# Modelos"
   ]
  },
  {
   "cell_type": "markdown",
   "metadata": {},
   "source": [
    "## Rocchio classifier"
   ]
  },
  {
   "cell_type": "code",
   "execution_count": null,
   "metadata": {},
   "outputs": [],
   "source": [
    "from sklearn.neighbors import NearestCentroid\n",
    "\n",
    "metricas = treinar_cv(NearestCentroid(), \"Rocchio classifier\")\n",
    "medias_cv = medias_cv.append( [metricas] )"
   ]
  },
  {
   "cell_type": "markdown",
   "metadata": {},
   "source": [
    "## Gradient Boosting Classifier"
   ]
  },
  {
   "cell_type": "code",
   "execution_count": null,
   "metadata": {},
   "outputs": [],
   "source": [
    "from sklearn.ensemble import GradientBoostingClassifier\n",
    "\n",
    "metricas = treinar_cv(GradientBoostingClassifier(n_estimators=100), \"Gradient Boosting Classifier\")\n",
    "medias_cv = medias_cv.append( [metricas] )"
   ]
  },
  {
   "cell_type": "markdown",
   "metadata": {},
   "source": [
    "## Naive Bayes Classifier"
   ]
  },
  {
   "cell_type": "code",
   "execution_count": null,
   "metadata": {},
   "outputs": [],
   "source": [
    "from sklearn.naive_bayes import MultinomialNB\n",
    "\n",
    "metricas = treinar_cv(MultinomialNB(), \"Naive Bayes\")\n",
    "medias_cv = medias_cv.append( [metricas] )"
   ]
  },
  {
   "cell_type": "markdown",
   "metadata": {},
   "source": [
    "## K-nearest Neighbor"
   ]
  },
  {
   "cell_type": "code",
   "execution_count": null,
   "metadata": {},
   "outputs": [],
   "source": [
    "from sklearn.neighbors import KNeighborsClassifier\n",
    "\n",
    "metricas = treinar_cv(KNeighborsClassifier(), \"K-nearest Neighbor\")\n",
    "medias_cv = medias_cv.append( [metricas] )"
   ]
  },
  {
   "cell_type": "markdown",
   "metadata": {},
   "source": [
    "## Support Vector Machine (SVM)"
   ]
  },
  {
   "cell_type": "code",
   "execution_count": null,
   "metadata": {},
   "outputs": [],
   "source": [
    "from sklearn.svm import LinearSVC\n",
    "\n",
    "metricas = treinar_cv(LinearSVC(), \"Support Vector Machine (SVM)\")\n",
    "medias_cv = medias_cv.append( [metricas] )"
   ]
  },
  {
   "cell_type": "markdown",
   "metadata": {},
   "source": [
    "## Decision Tree"
   ]
  },
  {
   "cell_type": "code",
   "execution_count": null,
   "metadata": {
    "scrolled": true
   },
   "outputs": [],
   "source": [
    "from sklearn import tree\n",
    "\n",
    "metricas = treinar_cv(tree.DecisionTreeClassifier(), \"Decision Tree\")\n",
    "medias_cv = medias_cv.append( [metricas] )"
   ]
  },
  {
   "cell_type": "markdown",
   "metadata": {},
   "source": [
    "## Random Forest"
   ]
  },
  {
   "cell_type": "code",
   "execution_count": null,
   "metadata": {},
   "outputs": [],
   "source": [
    "from sklearn.ensemble import RandomForestClassifier\n",
    "\n",
    "metricas = treinar_cv(RandomForestClassifier(n_estimators=100), \"Random Forest\")\n",
    "medias_cv = medias_cv.append( [metricas] )"
   ]
  },
  {
   "cell_type": "markdown",
   "metadata": {},
   "source": [
    "## Análise dos resultados"
   ]
  },
  {
   "cell_type": "code",
   "execution_count": null,
   "metadata": {},
   "outputs": [],
   "source": [
    "colunas = [\"Classificador\", \"Acurácia\", \"F1 macro\", \"Precisão macro\", \"Revocação macro\", \"F1 micro\", \"Precisão micro\", \"Revocação micro\"]\n",
    "medias_cv.columns = colunas\n",
    "medias_cv = medias_cv.set_index(\"Classificador\")\n",
    "medias_cv = medias_cv.round(4)\n",
    "medias_cv"
   ]
  },
  {
   "cell_type": "code",
   "execution_count": null,
   "metadata": {
    "scrolled": true
   },
   "outputs": [],
   "source": [
    "iplot( { \"data\": [ go.Scatter(x=colunas[1:], y=medias_cv.iloc[i,:], name=medias_cv.index[i] ) for i in range( len( medias_cv ) ) ] } )"
   ]
  },
  {
   "cell_type": "markdown",
   "metadata": {},
   "source": [
    "## Teste final com base de 30%"
   ]
  },
  {
   "cell_type": "code",
   "execution_count": null,
   "metadata": {},
   "outputs": [],
   "source": [
    "medias_teste_final = pd.DataFrame( )\n",
    "\n",
    "def treinar_teste_final(model, nome_classificador):\n",
    "    model.fit(X_train, y_train)\n",
    "    \n",
    "    y_predicted = model.predict(X_test)\n",
    "\n",
    "    ####################\n",
    "    #metricas\n",
    "    ####################    \n",
    "    accuracy = accuracy_score(y_test, y_predicted)\n",
    "    f1_macro = f1_score(y_test, y_predicted, average='macro')\n",
    "    f1_micro = f1_score(y_test, y_predicted, average='micro')\n",
    "    precision_macro = precision_score(y_test, y_predicted, average='macro')\n",
    "    precision_micro = precision_score(y_test, y_predicted, average='micro')\n",
    "    recall_macro = recall_score(y_test, y_predicted, average='macro')\n",
    "    recall_micro = recall_score(y_test, y_predicted, average='micro')\n",
    "\n",
    "    \n",
    "    metricas_modelo = [accuracy, f1_macro, precision_macro, recall_macro, f1_micro, precision_micro, recall_micro]\n",
    "    metricas_modelo.insert(0, nome_classificador)\n",
    "    print(metricas_modelo)\n",
    "\n",
    "    ####################\n",
    "    #confusion matrix\n",
    "    ####################    \n",
    "    conf_matrix = confusion_matrix(y_test, y_predicted, labels=[INDEFERIMENTO, DEFERIMENTO, SEM_ANALISE_MERITO])\n",
    "    cm = conf_matrix\n",
    "    \n",
    "    #grafico\n",
    "    x = [\"INDEFERIMENTO\", \"DEFERIMENTO\", \"SEM_ANALISE_MERITO\"]\n",
    "    y = [\"INDEFERIMENTO\", \"DEFERIMENTO\", \"SEM_ANALISE_MERITO\"]\n",
    "\n",
    "    fig = ff.create_annotated_heatmap(cm.round(4), x=x, y=y, annotation_text=cm.round(4), colorscale='Blues')\n",
    "    fig['layout']['yaxis']['autorange'] = \"reversed\"\n",
    "    iplot(fig)\n",
    "\n",
    "    return metricas_modelo"
   ]
  },
  {
   "cell_type": "markdown",
   "metadata": {},
   "source": [
    "# Modelos"
   ]
  },
  {
   "cell_type": "markdown",
   "metadata": {},
   "source": [
    "## Rocchio classifier"
   ]
  },
  {
   "cell_type": "code",
   "execution_count": null,
   "metadata": {},
   "outputs": [],
   "source": [
    "from sklearn.neighbors import NearestCentroid\n",
    "\n",
    "metricas = treinar_teste_final(NearestCentroid(), \"Rocchio classifier\")\n",
    "medias_teste_final = medias_teste_final.append( [metricas] )"
   ]
  },
  {
   "cell_type": "markdown",
   "metadata": {},
   "source": [
    "## Gradient Boosting Classifier"
   ]
  },
  {
   "cell_type": "code",
   "execution_count": null,
   "metadata": {},
   "outputs": [],
   "source": [
    "from sklearn.ensemble import GradientBoostingClassifier\n",
    "\n",
    "metricas = treinar_teste_final(GradientBoostingClassifier(n_estimators=100), \"Gradient Boosting Classifier\")\n",
    "medias_teste_final = medias_teste_final.append( [metricas] )"
   ]
  },
  {
   "cell_type": "markdown",
   "metadata": {},
   "source": [
    "## Naive Bayes Classifier"
   ]
  },
  {
   "cell_type": "code",
   "execution_count": null,
   "metadata": {},
   "outputs": [],
   "source": [
    "from sklearn.naive_bayes import MultinomialNB\n",
    "\n",
    "metricas = treinar_teste_final(MultinomialNB(), \"Naive Bayes\")\n",
    "medias_teste_final = medias_teste_final.append( [metricas] )"
   ]
  },
  {
   "cell_type": "markdown",
   "metadata": {},
   "source": [
    "## K-nearest Neighbor"
   ]
  },
  {
   "cell_type": "code",
   "execution_count": null,
   "metadata": {},
   "outputs": [],
   "source": [
    "from sklearn.neighbors import KNeighborsClassifier\n",
    "\n",
    "metricas = treinar_teste_final(KNeighborsClassifier(), \"K-nearest Neighbor\")\n",
    "medias_teste_final = medias_teste_final.append( [metricas] )"
   ]
  },
  {
   "cell_type": "markdown",
   "metadata": {},
   "source": [
    "## Support Vector Machine (SVM)"
   ]
  },
  {
   "cell_type": "code",
   "execution_count": null,
   "metadata": {},
   "outputs": [],
   "source": [
    "from sklearn.svm import LinearSVC\n",
    "\n",
    "metricas = treinar_teste_final(LinearSVC(), \"Support Vector Machine (SVM)\")\n",
    "medias_teste_final = medias_teste_final.append( [metricas] )"
   ]
  },
  {
   "cell_type": "markdown",
   "metadata": {},
   "source": [
    "## Decision Tree"
   ]
  },
  {
   "cell_type": "code",
   "execution_count": null,
   "metadata": {},
   "outputs": [],
   "source": [
    "from sklearn import tree\n",
    "\n",
    "metricas = treinar_teste_final(tree.DecisionTreeClassifier(), \"Decision Tree\")\n",
    "medias_teste_final = medias_teste_final.append( [metricas] )"
   ]
  },
  {
   "cell_type": "markdown",
   "metadata": {},
   "source": [
    "## Random Forest"
   ]
  },
  {
   "cell_type": "code",
   "execution_count": null,
   "metadata": {},
   "outputs": [],
   "source": [
    "from sklearn.ensemble import RandomForestClassifier\n",
    "\n",
    "metricas = treinar_teste_final(RandomForestClassifier(n_estimators=100), \"Random Forest\")\n",
    "medias_teste_final = medias_teste_final.append( [metricas] )"
   ]
  },
  {
   "cell_type": "markdown",
   "metadata": {},
   "source": [
    "## Análise dos resultados"
   ]
  },
  {
   "cell_type": "code",
   "execution_count": null,
   "metadata": {},
   "outputs": [],
   "source": [
    "colunas = [\"Classificador\", \"Acurácia\", \"F1 macro\", \"Precisão macro\", \"Revocação macro\", \"F1 micro\", \"Precisão micro\", \"Revocação micro\"]\n",
    "medias_teste_final.columns = colunas\n",
    "medias_teste_final = medias_teste_final.set_index(\"Classificador\")\n",
    "medias_teste_final = medias_teste_final.round(4)\n",
    "medias_teste_final"
   ]
  },
  {
   "cell_type": "code",
   "execution_count": null,
   "metadata": {},
   "outputs": [],
   "source": [
    "medias_teste_final.to_excel(\"medias_teste_final_contra_30_ws_todo.xls\")"
   ]
  },
  {
   "cell_type": "code",
   "execution_count": null,
   "metadata": {},
   "outputs": [],
   "source": [
    "iplot( { \"data\": [ go.Scatter(x=colunas[1:], y=medias_teste_final.iloc[i,:], name=medias_teste_final.index[i] ) for i in range( len( medias_teste_final ) ) ] } )"
   ]
  },
  {
   "cell_type": "markdown",
   "metadata": {},
   "source": [
    "# Teste com a base padrão-ouro"
   ]
  },
  {
   "cell_type": "code",
   "execution_count": null,
   "metadata": {},
   "outputs": [],
   "source": [
    "arquivo = \"..//..//..//3_Preparacao_dos_dados//3_2_Anotacao_manual//Datasets_anotados_manual_final//Decisões anotação manual - ADJUDICADO.csv\"\n",
    "df_padrao_ouro = pd.read_csv( arquivo, encoding='utf-8' )\n",
    "df_padrao_ouro.info()"
   ]
  },
  {
   "cell_type": "markdown",
   "metadata": {},
   "source": [
    "#### Ajustes, limpeza e transformação dos rótulos para inteiros"
   ]
  },
  {
   "cell_type": "code",
   "execution_count": null,
   "metadata": {},
   "outputs": [],
   "source": [
    "#limpeza de caracteres em branco\n",
    "df_padrao_ouro[\"DISPOSITIVO\"] = df_padrao_ouro[\"DISPOSITIVO\"].astype(str).map(str.strip)\n",
    "df_padrao_ouro[\"ROTULO\"].unique()"
   ]
  },
  {
   "cell_type": "code",
   "execution_count": null,
   "metadata": {},
   "outputs": [],
   "source": [
    "df_padrao_ouro[\"ROTULO\"].value_counts()"
   ]
  },
  {
   "cell_type": "code",
   "execution_count": null,
   "metadata": {},
   "outputs": [],
   "source": [
    "#primeiro tem q substituir INDEFERIMENTO pq se nao fizer DEFERIMENTO antes ele acaba subtituindo no meio da palavra.\n",
    "df_padrao_ouro['ROTULO'] = df_padrao_ouro['ROTULO'].replace('INDEFERIMENTO', INDEFERIMENTO)\n",
    "df_padrao_ouro['ROTULO'] = df_padrao_ouro['ROTULO'].replace('DEFERIMENTO', DEFERIMENTO)\n",
    "df_padrao_ouro['ROTULO'] = df_padrao_ouro['ROTULO'].replace('SEM_ANALISE_MERITO', SEM_ANALISE_MERITO)\n",
    "df_padrao_ouro[\"ROTULO\"].unique()"
   ]
  },
  {
   "cell_type": "code",
   "execution_count": null,
   "metadata": {},
   "outputs": [],
   "source": [
    "df_padrao_ouro[\"ROTULO\"].value_counts()"
   ]
  },
  {
   "cell_type": "code",
   "execution_count": null,
   "metadata": {},
   "outputs": [],
   "source": [
    "df_padrao_ouro[\"ROTULO\"].hist()"
   ]
  },
  {
   "cell_type": "code",
   "execution_count": null,
   "metadata": {},
   "outputs": [],
   "source": [
    "data_tranformed_padrao_ouro = text_transform_pipeline.transform(df_padrao_ouro[\"DISPOSITIVO\"].values )\n",
    "data_tranformed_padrao_ouro"
   ]
  },
  {
   "cell_type": "code",
   "execution_count": null,
   "metadata": {},
   "outputs": [],
   "source": [
    "len(df_padrao_ouro[\"ROTULO\"].values)"
   ]
  },
  {
   "cell_type": "markdown",
   "metadata": {},
   "source": [
    "### Retreinamento com toda a base de dados criada programaticamente para buscar alcançar o melhor modelo possível"
   ]
  },
  {
   "cell_type": "code",
   "execution_count": null,
   "metadata": {},
   "outputs": [],
   "source": [
    "medias_teste_padrao_ouro = pd.DataFrame( )\n",
    "\n",
    "X_test = data_tranformed_padrao_ouro\n",
    "y_test = df_padrao_ouro[\"ROTULO\"].values\n",
    "\n",
    "def treinar_teste_padrao_ouro(model, nome_classificador):\n",
    "    model.fit(data_tranformed_ws, df_tudo[\"LABEL_WEAK\"].values)\n",
    "    y_predicted = model.predict(X_test)\n",
    "\n",
    "    ####################\n",
    "    #metricas\n",
    "    ####################    \n",
    "    accuracy = accuracy_score(y_test, y_predicted)\n",
    "    f1_macro = f1_score(y_test, y_predicted, average='macro')\n",
    "    f1_micro = f1_score(y_test, y_predicted, average='micro')\n",
    "    precision_macro = precision_score(y_test, y_predicted, average='macro')\n",
    "    precision_micro = precision_score(y_test, y_predicted, average='micro')\n",
    "    recall_macro = recall_score(y_test, y_predicted, average='macro')\n",
    "    recall_micro = recall_score(y_test, y_predicted, average='micro')\n",
    "\n",
    "    \n",
    "    metricas_modelo = [accuracy, f1_macro, precision_macro, recall_macro, f1_micro, precision_micro, recall_micro]\n",
    "    metricas_modelo.insert(0, nome_classificador)\n",
    "    print(metricas_modelo)\n",
    "\n",
    "    ####################\n",
    "    #confusion matrix\n",
    "    ####################    \n",
    "    conf_matrix = confusion_matrix(y_test, y_predicted, labels=[INDEFERIMENTO, DEFERIMENTO, SEM_ANALISE_MERITO])\n",
    "    cm = conf_matrix\n",
    "    \n",
    "    #grafico\n",
    "    x = [\"INDEFERIMENTO\", \"DEFERIMENTO\", \"SEM_ANALISE_MERITO\"]\n",
    "    y = [\"INDEFERIMENTO\", \"DEFERIMENTO\", \"SEM_ANALISE_MERITO\"]\n",
    "\n",
    "    fig = ff.create_annotated_heatmap(cm.round(4), x=x, y=y, annotation_text=cm.round(4), colorscale='Blues')\n",
    "    fig['layout']['yaxis']['autorange'] = \"reversed\"\n",
    "    iplot(fig)\n",
    "\n",
    "    return metricas_modelo"
   ]
  },
  {
   "cell_type": "markdown",
   "metadata": {},
   "source": [
    "## Modelos"
   ]
  },
  {
   "cell_type": "markdown",
   "metadata": {},
   "source": [
    "### Rocchio classifier"
   ]
  },
  {
   "cell_type": "code",
   "execution_count": null,
   "metadata": {},
   "outputs": [],
   "source": [
    "from sklearn.neighbors import NearestCentroid\n",
    "\n",
    "metricas = treinar_teste_padrao_ouro(NearestCentroid(), \"Rocchio classifier\")\n",
    "medias_teste_padrao_ouro = medias_teste_padrao_ouro.append( [metricas] )"
   ]
  },
  {
   "cell_type": "markdown",
   "metadata": {},
   "source": [
    "### Gradient Boosting Classifier"
   ]
  },
  {
   "cell_type": "code",
   "execution_count": null,
   "metadata": {},
   "outputs": [],
   "source": [
    "from sklearn.ensemble import GradientBoostingClassifier\n",
    "\n",
    "metricas = treinar_teste_padrao_ouro(GradientBoostingClassifier(n_estimators=100), \"Gradient Boosting Classifier\")\n",
    "medias_teste_padrao_ouro = medias_teste_padrao_ouro.append( [metricas] )"
   ]
  },
  {
   "cell_type": "markdown",
   "metadata": {},
   "source": [
    "### Naive Bayes Classifier"
   ]
  },
  {
   "cell_type": "code",
   "execution_count": null,
   "metadata": {},
   "outputs": [],
   "source": [
    "from sklearn.naive_bayes import MultinomialNB\n",
    "\n",
    "metricas = treinar_teste_padrao_ouro(MultinomialNB(), \"Naive Bayes\")\n",
    "medias_teste_padrao_ouro = medias_teste_padrao_ouro.append( [metricas] )"
   ]
  },
  {
   "cell_type": "markdown",
   "metadata": {},
   "source": [
    "### K-nearest Neighbor"
   ]
  },
  {
   "cell_type": "code",
   "execution_count": null,
   "metadata": {},
   "outputs": [],
   "source": [
    "from sklearn.neighbors import KNeighborsClassifier\n",
    "\n",
    "metricas = treinar_teste_padrao_ouro(KNeighborsClassifier(), \"K-nearest Neighbor\")\n",
    "medias_teste_padrao_ouro = medias_teste_padrao_ouro.append( [metricas] )"
   ]
  },
  {
   "cell_type": "markdown",
   "metadata": {},
   "source": [
    "### Support Vector Machine (SVM)"
   ]
  },
  {
   "cell_type": "code",
   "execution_count": null,
   "metadata": {},
   "outputs": [],
   "source": [
    "from sklearn.svm import LinearSVC\n",
    "\n",
    "metricas = treinar_teste_padrao_ouro(LinearSVC(), \"Support Vector Machine (SVM)\")\n",
    "medias_teste_padrao_ouro = medias_teste_padrao_ouro.append( [metricas] )"
   ]
  },
  {
   "cell_type": "markdown",
   "metadata": {},
   "source": [
    "### Decision Tree"
   ]
  },
  {
   "cell_type": "code",
   "execution_count": null,
   "metadata": {},
   "outputs": [],
   "source": [
    "from sklearn import tree\n",
    "\n",
    "metricas = treinar_teste_padrao_ouro(tree.DecisionTreeClassifier(), \"Decision Tree\")\n",
    "medias_teste_padrao_ouro = medias_teste_padrao_ouro.append( [metricas] )"
   ]
  },
  {
   "cell_type": "markdown",
   "metadata": {},
   "source": [
    "### Random Forest"
   ]
  },
  {
   "cell_type": "code",
   "execution_count": null,
   "metadata": {},
   "outputs": [],
   "source": [
    "from sklearn.ensemble import RandomForestClassifier\n",
    "\n",
    "metricas = treinar_teste_padrao_ouro(RandomForestClassifier(n_estimators=100), \"Random Forest\")\n",
    "medias_teste_padrao_ouro = medias_teste_padrao_ouro.append( [metricas] )"
   ]
  },
  {
   "cell_type": "markdown",
   "metadata": {},
   "source": [
    "## Análise dos resultados"
   ]
  },
  {
   "cell_type": "code",
   "execution_count": null,
   "metadata": {},
   "outputs": [],
   "source": [
    "colunas = [\"Classificador\", \"Acurácia\", \"F1 macro\", \"Precisão macro\", \"Revocação macro\", \"F1 micro\", \"Precisão micro\", \"Revocação micro\"]\n",
    "medias_teste_padrao_ouro.columns = colunas\n",
    "medias_teste_padrao_ouro = medias_teste_padrao_ouro.set_index(\"Classificador\")\n",
    "medias_teste_padrao_ouro = medias_teste_padrao_ouro.round(4)\n",
    "medias_teste_padrao_ouro"
   ]
  },
  {
   "cell_type": "code",
   "execution_count": null,
   "metadata": {},
   "outputs": [],
   "source": [
    "medias_teste_padrao_ouro.to_excel(\"medias_teste_final_contra_padrao_ouro_ws_todo.xls\")"
   ]
  },
  {
   "cell_type": "code",
   "execution_count": null,
   "metadata": {},
   "outputs": [],
   "source": [
    "iplot( { \"data\": [ go.Scatter(x=colunas[1:], y=medias_teste_padrao_ouro.iloc[i,:], name=medias_teste_padrao_ouro.index[i] ) for i in range( len( medias_teste_padrao_ouro ) ) ] } )"
   ]
  },
  {
   "cell_type": "markdown",
   "metadata": {},
   "source": [
    "## Retreinamento do classificador que teve a melhor métrica de F1 com a base de dados padrão-ouro"
   ]
  },
  {
   "cell_type": "markdown",
   "metadata": {},
   "source": [
    "O algoritmo Decision Tree e Gradient Boosting Classifier tiveram a mesma média de F1, então foi escolhido o Decision Tree devido a sua melhor interpretabilidade."
   ]
  },
  {
   "cell_type": "markdown",
   "metadata": {},
   "source": [
    "## Decision Tree"
   ]
  },
  {
   "cell_type": "code",
   "execution_count": null,
   "metadata": {},
   "outputs": [],
   "source": [
    "text_clf = RandomForestClassifier(n_estimators=100).fit(data_tranformed_ws, df_tudo[\"LABEL_WEAK\"].values)"
   ]
  },
  {
   "cell_type": "markdown",
   "metadata": {},
   "source": [
    "### Salvamento do modelo para utilização posterior"
   ]
  },
  {
   "cell_type": "code",
   "execution_count": null,
   "metadata": {},
   "outputs": [],
   "source": [
    "from joblib import dump\n",
    "dump(text_clf, 'ml_model_dispositivo_Random_Forest_ws_tudo.joblib')"
   ]
  },
  {
   "cell_type": "code",
   "execution_count": null,
   "metadata": {},
   "outputs": [],
   "source": []
  }
 ],
 "metadata": {
  "kernelspec": {
   "display_name": "Python 3",
   "language": "python",
   "name": "python3"
  },
  "language_info": {
   "codemirror_mode": {
    "name": "ipython",
    "version": 3
   },
   "file_extension": ".py",
   "mimetype": "text/x-python",
   "name": "python",
   "nbconvert_exporter": "python",
   "pygments_lexer": "ipython3",
   "version": "3.6.13"
  }
 },
 "nbformat": 4,
 "nbformat_minor": 4
}
